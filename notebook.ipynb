{
 "cells": [
  {
   "cell_type": "markdown",
   "id": "06bc190b",
   "metadata": {},
   "source": [
    "##### Optimize the data management of a store\n",
    "\n",
    "![Logo BottleNeck](img/bottleneck_logo.png)\\\n",
    "Beginning of a mission as a freelance data analyst at BottleNeck, a very prestigious wine merchant. Our manager on this mission asks us to clean, structure a database and then to make an analysis in order to give him a feedback on the different products during a future meeting.\n",
    "\n",
    "Our missions will be : \n",
    "\n",
    "- [ ] Reconcile the different databases, in order to have a unique database\n",
    "- [ ] Sales by product + total sales made online\n",
    "- [ ] Inspecting data entry errors in certain product prices. \n",
    "\n",
    "# Contents\n",
    "- <font size = \"4\">[**Part 1: Data**](#chapter1)</font>\n",
    "    - [Data import](#section1.1)\n",
    "    - [Data cleaning](#section1.2)\n",
    "        - [Dataframe - df_liaison](#section1.2.1)\n",
    "        - [Dataframe - df_web](#section1.2.2)\n",
    "        - [Dataframe - df_erp](#section1.2.3)\n",
    "        \n",
    "    \n",
    "- <font size = \"4\">[**Part 2 : Data merge**](#chapter2)</font>\n",
    "    - [Merge : df_erp & df_liaison](#section2.1)\n",
    "    - [Merge : df_liaison & df_web_product](#section2.2)\n",
    "    - [Merge : erp_liaison & df_web_product](#section2.3)\n",
    "    \n",
    "    \n",
    "- <font size = \"4\">[**Part 3: Univariate Data Analysis**](#chapter3)</font>\n",
    "    - [Sales by product & total sales](#section3.1)\n",
    "        - [Analysis of the turnover according to the status of the stocks](#section3.1.1)\n",
    "        - [Analysis of the number of sales by product](#section3.1.2)\n",
    "    - [Analysis of the \"price\" variable](#section3.2)\n",
    "        -  [Outlier detection](#section3.2.1)\n",
    "        -  [Z-score method](#section3.2.2)\n",
    "        -  [Quartile method](#section3.2.3)\n",
    "        -  [Difference between the 2 methods](#section3.2.4)\n",
    "    - [Bonus](#section3.3)\n",
    "        -  [Number of products by price range](#section3.3.1)\n",
    "        -  [Relationship between price and number of sales](#section3.3.2)\n",
    "        -  [Segmentation of the turnover : Top 10, 20, 30, 40](#section3.3.3)\n",
    "___\n",
    "# Part 1: Data <a class=\"anchor\" id=\"chapter1\"></a>\n",
    "---\n",
    "In this part, we will see everything that concerns the import and the cleaning of data. \n",
    "Concerning data cleaning we will see the different types of errors in a database: \n",
    "- Type errors,\n",
    "- Missing values,\n",
    "- Duplicates,\n",
    "- Outliers (depending on the variables),\n",
    "- Structure\n",
    "\n",
    "# <font color = #9f343e>1.1 | Data Import</font> <a class=\"anchor\" id=\"section1.1\"></a>\n",
    "The data is provided to us by our manager by email. A file from the ERP (erp.xlsx), one from the product table of the online sales platform (web.xlsx).\n",
    "In a second email, he sends us another file that lists the *product_id* of the ERP with their reference on the web side (link.xlsx). "
   ]
  },
  {
   "cell_type": "code",
   "execution_count": 201,
   "id": "d6768dd0",
   "metadata": {},
   "outputs": [],
   "source": [
    "# Import of libraries\n",
    "import numpy as np\n",
    "import pandas as pd\n",
    "import matplotlib.pyplot as plt\n",
    "import numbers\n",
    "import random\n",
    "import plotly.express as px\n",
    "import plotly.io as pio\n",
    "import seaborn as sns\n",
    "\n",
    "# Parameter graph\n",
    "pio.templates.default = \"plotly_white\""
   ]
  },
  {
   "cell_type": "code",
   "execution_count": 202,
   "id": "609bd792",
   "metadata": {},
   "outputs": [
    {
     "name": "stderr",
     "output_type": "stream",
     "text": [
      "/Users/corentincasali/opt/anaconda3/lib/python3.8/site-packages/openpyxl/worksheet/_reader.py:312: UserWarning:\n",
      "\n",
      "Unknown extension is not supported and will be removed\n",
      "\n"
     ]
    }
   ],
   "source": [
    "# Import of dataframe\n",
    "df_liaison = pd.read_excel('data/liaison.xlsx',0, header=0)\n",
    "df_web = pd.read_excel('data/web.xlsx',0,header=0)\n",
    "df_erp = pd.read_excel('data/erp.xlsx',0,header=0)"
   ]
  },
  {
   "cell_type": "markdown",
   "id": "06f5068f",
   "metadata": {},
   "source": [
    "***Code facilitating the visonnage of the dataframes (columns in HTML not reducing)...***"
   ]
  },
  {
   "cell_type": "code",
   "execution_count": 203,
   "id": "2fb40d96",
   "metadata": {},
   "outputs": [
    {
     "data": {
      "text/html": [
       "<style>\n",
       ".dataframe td {\n",
       "    white-space: nowrap;\n",
       "    overflow: hidden;\n",
       "    text-overflow: ellipsis;\n",
       "    column-width: 30em;\n",
       "}\n",
       "</style>\n"
      ],
      "text/plain": [
       "<IPython.core.display.HTML object>"
      ]
     },
     "metadata": {},
     "output_type": "display_data"
    }
   ],
   "source": [
    "%%html\n",
    "<style>\n",
    ".dataframe td {\n",
    "    white-space: nowrap;\n",
    "    overflow: hidden;\n",
    "    text-overflow: ellipsis;\n",
    "    column-width: 30em;\n",
    "}\n",
    "</style>"
   ]
  },
  {
   "cell_type": "markdown",
   "id": "a1e89bb0",
   "metadata": {},
   "source": [
    "# <font color = #9f343e>1.2 | Data Cleaning</font> <a class=\"anchor\" id=\"section1.2\"></a>"
   ]
  },
  {
   "cell_type": "code",
   "execution_count": 204,
   "id": "e2c04f88",
   "metadata": {},
   "outputs": [
    {
     "name": "stdout",
     "output_type": "stream",
     "text": [
      "<class 'pandas.core.frame.DataFrame'>\n",
      "RangeIndex: 825 entries, 0 to 824\n",
      "Data columns (total 2 columns):\n",
      " #   Column      Non-Null Count  Dtype \n",
      "---  ------      --------------  ----- \n",
      " 0   product_id  825 non-null    int64 \n",
      " 1   id_web      734 non-null    object\n",
      "dtypes: int64(1), object(1)\n",
      "memory usage: 13.0+ KB\n",
      "None\n",
      "\n",
      "<class 'pandas.core.frame.DataFrame'>\n",
      "RangeIndex: 1513 entries, 0 to 1512\n",
      "Data columns (total 28 columns):\n",
      " #   Column                 Non-Null Count  Dtype         \n",
      "---  ------                 --------------  -----         \n",
      " 0   sku                    1428 non-null   object        \n",
      " 1   virtual                1513 non-null   int64         \n",
      " 2   downloadable           1513 non-null   int64         \n",
      " 3   rating_count           1513 non-null   int64         \n",
      " 4   average_rating         1430 non-null   float64       \n",
      " 5   total_sales            1430 non-null   float64       \n",
      " 6   tax_status             716 non-null    object        \n",
      " 7   tax_class              0 non-null      float64       \n",
      " 8   post_author            1430 non-null   float64       \n",
      " 9   post_date              1430 non-null   datetime64[ns]\n",
      " 10  post_date_gmt          1430 non-null   datetime64[ns]\n",
      " 11  post_content           0 non-null      float64       \n",
      " 12  post_title             1430 non-null   object        \n",
      " 13  post_excerpt           716 non-null    object        \n",
      " 14  post_status            1430 non-null   object        \n",
      " 15  comment_status         1430 non-null   object        \n",
      " 16  ping_status            1430 non-null   object        \n",
      " 17  post_password          0 non-null      float64       \n",
      " 18  post_name              1430 non-null   object        \n",
      " 19  post_modified          1430 non-null   datetime64[ns]\n",
      " 20  post_modified_gmt      1430 non-null   datetime64[ns]\n",
      " 21  post_content_filtered  0 non-null      float64       \n",
      " 22  post_parent            1430 non-null   float64       \n",
      " 23  guid                   1430 non-null   object        \n",
      " 24  menu_order             1430 non-null   float64       \n",
      " 25  post_type              1430 non-null   object        \n",
      " 26  post_mime_type         714 non-null    object        \n",
      " 27  comment_count          1430 non-null   float64       \n",
      "dtypes: datetime64[ns](4), float64(10), int64(3), object(11)\n",
      "memory usage: 331.1+ KB\n",
      "None\n",
      "\n",
      "<class 'pandas.core.frame.DataFrame'>\n",
      "RangeIndex: 825 entries, 0 to 824\n",
      "Data columns (total 5 columns):\n",
      " #   Column          Non-Null Count  Dtype  \n",
      "---  ------          --------------  -----  \n",
      " 0   product_id      825 non-null    int64  \n",
      " 1   onsale_web      825 non-null    int64  \n",
      " 2   price           825 non-null    float64\n",
      " 3   stock_quantity  825 non-null    int64  \n",
      " 4   stock_status    825 non-null    object \n",
      "dtypes: float64(1), int64(3), object(1)\n",
      "memory usage: 32.4+ KB\n",
      "None\n"
     ]
    }
   ],
   "source": [
    "# Checking of the 3 dataframe\n",
    "print(df_liaison.info())\n",
    "print()\n",
    "print(df_web.info())\n",
    "print()\n",
    "print(df_erp.info())"
   ]
  },
  {
   "cell_type": "markdown",
   "id": "8adffedd",
   "metadata": {},
   "source": [
    "## <font color = #34749f>1.2.1 | Dataframe - df_liaison </font><a class=\"anchor\" id=\"section1.2.1\"></a>\n",
    "\n",
    "df_liaison corresponds to an Excel table that allows **to establish the link** between the **product reference in the ERP (product_id)** and the **product reference of the same product in the online store database (SKU)**, created by their former intern\n",
    "### Checking for errors in df_liaison :"
   ]
  },
  {
   "cell_type": "code",
   "execution_count": 205,
   "id": "7459336f",
   "metadata": {},
   "outputs": [
    {
     "data": {
      "text/html": [
       "<div><div id=b4cff988-b550-423d-96eb-9647d8a72ffa style=\"display:none; background-color:#9D6CFF; color:white; width:200px; height:30px; padding-left:5px; border-radius:4px; flex-direction:row; justify-content:space-around; align-items:center;\" onmouseover=\"this.style.backgroundColor='#BA9BF8'\" onmouseout=\"this.style.backgroundColor='#9D6CFF'\" onclick=\"window.commands?.execute('create-mitosheet-from-dataframe-output');\">See Full Dataframe in Mito</div> <script> if (window.commands.hasCommand('create-mitosheet-from-dataframe-output')) document.getElementById('b4cff988-b550-423d-96eb-9647d8a72ffa').style.display = 'flex' </script> <table border=\"1\" class=\"dataframe\">\n",
       "  <thead>\n",
       "    <tr style=\"text-align: right;\">\n",
       "      <th></th>\n",
       "      <th>product_id</th>\n",
       "      <th>id_web</th>\n",
       "    </tr>\n",
       "  </thead>\n",
       "  <tbody>\n",
       "    <tr>\n",
       "      <th>0</th>\n",
       "      <td>3847</td>\n",
       "      <td>15298</td>\n",
       "    </tr>\n",
       "    <tr>\n",
       "      <th>1</th>\n",
       "      <td>3849</td>\n",
       "      <td>15296</td>\n",
       "    </tr>\n",
       "    <tr>\n",
       "      <th>2</th>\n",
       "      <td>3850</td>\n",
       "      <td>15300</td>\n",
       "    </tr>\n",
       "    <tr>\n",
       "      <th>3</th>\n",
       "      <td>4032</td>\n",
       "      <td>19814</td>\n",
       "    </tr>\n",
       "    <tr>\n",
       "      <th>4</th>\n",
       "      <td>4039</td>\n",
       "      <td>19815</td>\n",
       "    </tr>\n",
       "  </tbody>\n",
       "</table></div>"
      ],
      "text/plain": [
       "   product_id id_web\n",
       "0        3847  15298\n",
       "1        3849  15296\n",
       "2        3850  15300\n",
       "3        4032  19814\n",
       "4        4039  19815"
      ]
     },
     "execution_count": 205,
     "metadata": {},
     "output_type": "execute_result"
    }
   ],
   "source": [
    "df_liaison.head()"
   ]
  },
  {
   "cell_type": "code",
   "execution_count": 206,
   "id": "dc30d830",
   "metadata": {},
   "outputs": [
    {
     "data": {
      "text/plain": [
       "(825, 2)"
      ]
     },
     "execution_count": 206,
     "metadata": {},
     "output_type": "execute_result"
    }
   ],
   "source": [
    "df_liaison.shape"
   ]
  },
  {
   "cell_type": "markdown",
   "id": "b397e7f3",
   "metadata": {},
   "source": [
    "As we can see, we have 825 values, filled in on 2 different variables. We have : \n",
    "- product_id : corresponds to the product identifier on **df_erp**.\n",
    "- id_web : corresponds to the product id on **df_web**"
   ]
  },
  {
   "cell_type": "code",
   "execution_count": 207,
   "id": "cdf99a8a",
   "metadata": {},
   "outputs": [
    {
     "data": {
      "text/plain": [
       "product_id     int64\n",
       "id_web        object\n",
       "dtype: object"
      ]
     },
     "execution_count": 207,
     "metadata": {},
     "output_type": "execute_result"
    }
   ],
   "source": [
    "df_liaison.dtypes"
   ]
  },
  {
   "cell_type": "markdown",
   "id": "9805d6b3",
   "metadata": {},
   "source": [
    "**INFORMATION**: We notice that the variables do not have the same data type, whereas with .head() we would expect to have identical data types on both sides. \\\n",
    "Let's check why the **id_web** variable is in object."
   ]
  },
  {
   "cell_type": "code",
   "execution_count": 208,
   "id": "c7b351eb",
   "metadata": {},
   "outputs": [
    {
     "data": {
      "text/html": [
       "<div><div id=5ff93096-de93-4673-b675-7cdfc3fd84b3 style=\"display:none; background-color:#9D6CFF; color:white; width:200px; height:30px; padding-left:5px; border-radius:4px; flex-direction:row; justify-content:space-around; align-items:center;\" onmouseover=\"this.style.backgroundColor='#BA9BF8'\" onmouseout=\"this.style.backgroundColor='#9D6CFF'\" onclick=\"window.commands?.execute('create-mitosheet-from-dataframe-output');\">See Full Dataframe in Mito</div> <script> if (window.commands.hasCommand('create-mitosheet-from-dataframe-output')) document.getElementById('5ff93096-de93-4673-b675-7cdfc3fd84b3').style.display = 'flex' </script> <table border=\"1\" class=\"dataframe\">\n",
       "  <thead>\n",
       "    <tr style=\"text-align: right;\">\n",
       "      <th></th>\n",
       "      <th>product_id</th>\n",
       "      <th>id_web</th>\n",
       "    </tr>\n",
       "  </thead>\n",
       "  <tbody>\n",
       "    <tr>\n",
       "      <th>443</th>\n",
       "      <td>4954</td>\n",
       "      <td>bon-cadeau-25-euros</td>\n",
       "    </tr>\n",
       "    <tr>\n",
       "      <th>822</th>\n",
       "      <td>7247</td>\n",
       "      <td>13127-1</td>\n",
       "    </tr>\n",
       "    <tr>\n",
       "      <th>823</th>\n",
       "      <td>7329</td>\n",
       "      <td>14680-1</td>\n",
       "    </tr>\n",
       "  </tbody>\n",
       "</table></div>"
      ],
      "text/plain": [
       "     product_id               id_web\n",
       "443        4954  bon-cadeau-25-euros\n",
       "822        7247              13127-1\n",
       "823        7329              14680-1"
      ]
     },
     "execution_count": 208,
     "metadata": {},
     "output_type": "execute_result"
    }
   ],
   "source": [
    "df_liaison.loc[df_liaison['id_web'].str.isnumeric()==False]"
   ]
  },
  {
   "cell_type": "markdown",
   "id": "694801a3",
   "metadata": {},
   "source": [
    "We have 3 data in **id_web** which are strings. Several solutions are available to us:\n",
    "- Do not change anything, but take it into account for the rest of the processing\n",
    "- Make the change on all the tables.\n",
    "\n",
    "In our case, we won't change anything but just take it into account for the rest of the process.\n",
    "\n",
    "### Checking the missing values of the df_liaison:"
   ]
  },
  {
   "cell_type": "code",
   "execution_count": 209,
   "id": "cea54e2f",
   "metadata": {},
   "outputs": [
    {
     "name": "stdout",
     "output_type": "stream",
     "text": [
      "product_id     0\n",
      "id_web        91\n",
      "dtype: int64\n",
      "\n",
      "product_id    0.000000\n",
      "id_web        0.110303\n",
      "dtype: float64\n",
      "------------------------------\n",
      "We currently have 91 missing values for the variable 'id_web', which represents 11.03% of the total data for the variable.\n"
     ]
    }
   ],
   "source": [
    "print(df_liaison.isnull().sum())\n",
    "print()\n",
    "print(df_liaison.isnull().mean())\n",
    "print(\"-\"*30)\n",
    "print(\"We currently have\",df_liaison.isnull().sum()[1],\n",
    "      \"missing values for the variable 'id_web', which represents\",'{:,.2%}'.format(df_liaison.isnull().mean()[1]),\n",
    "      \"of the total data for the variable.\")\n",
    "\n"
   ]
  },
  {
   "cell_type": "markdown",
   "id": "5dfe658a",
   "metadata": {},
   "source": [
    "It is important to note the missing values for the rest of the process. No changes will be made for the moment until we see the data from the other dataframes. The missing values only concern df_liaison for the moment.\n",
    "\n",
    "### Checking for duplicates in df_liaison :\n",
    "\n",
    "**Creation of a function to detect duplicates in the dataframe**."
   ]
  },
  {
   "cell_type": "code",
   "execution_count": 210,
   "id": "18f162a5",
   "metadata": {},
   "outputs": [],
   "source": [
    "def doublons(df): \n",
    "    # Def Function\n",
    "    '''\n",
    "    This function just allows us to check if there are duplicates in the dataframe by comparing\n",
    "    the length of the initial dataframe and the length of the dataframe when we remove the duplicates.\n",
    "    '''\n",
    "    results = len(df) - len(df.drop_duplicates())\n",
    "    \n",
    "    # Results\n",
    "    print(results,'duplicate(s) in this dataframe')"
   ]
  },
  {
   "cell_type": "code",
   "execution_count": 211,
   "id": "751377c2",
   "metadata": {
    "scrolled": true
   },
   "outputs": [
    {
     "name": "stdout",
     "output_type": "stream",
     "text": [
      "0 duplicate(s) in this dataframe\n"
     ]
    }
   ],
   "source": [
    "doublons(df_liaison)"
   ]
  },
  {
   "cell_type": "markdown",
   "id": "437a58e8",
   "metadata": {},
   "source": [
    "### <font color = #9f343e>**Summary :** </font>\n",
    "We have just finished inspecting df_liaison\\\n",
    "To remember: \n",
    "- There are missing values in the 'id_web' variable."
   ]
  },
  {
   "cell_type": "markdown",
   "id": "ac96f607",
   "metadata": {},
   "source": [
    "## <font color = #34749f>1.2.2 | Dataframe - df_web </font><a class=\"anchor\" id=\"section1.2.2\"></a>\n",
    "df_web contains the **information of the products sold online** (name, description, number of sales...). \n",
    "### Checking for df_web type errors:"
   ]
  },
  {
   "cell_type": "code",
   "execution_count": 212,
   "id": "109ec8ca",
   "metadata": {},
   "outputs": [
    {
     "data": {
      "text/html": [
       "<div><div id=a8a0a6bc-176a-45ca-904d-21622ed79f73 style=\"display:none; background-color:#9D6CFF; color:white; width:200px; height:30px; padding-left:5px; border-radius:4px; flex-direction:row; justify-content:space-around; align-items:center;\" onmouseover=\"this.style.backgroundColor='#BA9BF8'\" onmouseout=\"this.style.backgroundColor='#9D6CFF'\" onclick=\"window.commands?.execute('create-mitosheet-from-dataframe-output');\">See Full Dataframe in Mito</div> <script> if (window.commands.hasCommand('create-mitosheet-from-dataframe-output')) document.getElementById('a8a0a6bc-176a-45ca-904d-21622ed79f73').style.display = 'flex' </script> <table border=\"1\" class=\"dataframe\">\n",
       "  <thead>\n",
       "    <tr style=\"text-align: right;\">\n",
       "      <th></th>\n",
       "      <th>sku</th>\n",
       "      <th>virtual</th>\n",
       "      <th>downloadable</th>\n",
       "      <th>rating_count</th>\n",
       "      <th>average_rating</th>\n",
       "      <th>total_sales</th>\n",
       "      <th>tax_status</th>\n",
       "      <th>tax_class</th>\n",
       "      <th>post_author</th>\n",
       "      <th>post_date</th>\n",
       "      <th>...</th>\n",
       "      <th>post_name</th>\n",
       "      <th>post_modified</th>\n",
       "      <th>post_modified_gmt</th>\n",
       "      <th>post_content_filtered</th>\n",
       "      <th>post_parent</th>\n",
       "      <th>guid</th>\n",
       "      <th>menu_order</th>\n",
       "      <th>post_type</th>\n",
       "      <th>post_mime_type</th>\n",
       "      <th>comment_count</th>\n",
       "    </tr>\n",
       "  </thead>\n",
       "  <tbody>\n",
       "    <tr>\n",
       "      <th>0</th>\n",
       "      <td>bon-cadeau-25-euros</td>\n",
       "      <td>0</td>\n",
       "      <td>0</td>\n",
       "      <td>0</td>\n",
       "      <td>0.0</td>\n",
       "      <td>10.0</td>\n",
       "      <td>taxable</td>\n",
       "      <td>NaN</td>\n",
       "      <td>1.0</td>\n",
       "      <td>2018-06-01 13:53:46</td>\n",
       "      <td>...</td>\n",
       "      <td>bon-cadeau-de-25-euros</td>\n",
       "      <td>2018-06-01 14:13:57</td>\n",
       "      <td>2018-06-01 12:13:57</td>\n",
       "      <td>NaN</td>\n",
       "      <td>0.0</td>\n",
       "      <td>https://www.bottle-neck.fr/?post_type=product&amp;#038;p=4954</td>\n",
       "      <td>0.0</td>\n",
       "      <td>product</td>\n",
       "      <td>NaN</td>\n",
       "      <td>0.0</td>\n",
       "    </tr>\n",
       "    <tr>\n",
       "      <th>1</th>\n",
       "      <td>15298</td>\n",
       "      <td>0</td>\n",
       "      <td>0</td>\n",
       "      <td>0</td>\n",
       "      <td>0.0</td>\n",
       "      <td>6.0</td>\n",
       "      <td>taxable</td>\n",
       "      <td>NaN</td>\n",
       "      <td>2.0</td>\n",
       "      <td>2018-02-08 12:58:52</td>\n",
       "      <td>...</td>\n",
       "      <td>pierre-jean-villa-saint-joseph-preface-2018</td>\n",
       "      <td>2019-12-30 09:30:29</td>\n",
       "      <td>2019-12-30 08:30:29</td>\n",
       "      <td>NaN</td>\n",
       "      <td>0.0</td>\n",
       "      <td>https://www.bottle-neck.fr/?post_type=product&amp;#038;p=3847</td>\n",
       "      <td>0.0</td>\n",
       "      <td>product</td>\n",
       "      <td>NaN</td>\n",
       "      <td>0.0</td>\n",
       "    </tr>\n",
       "    <tr>\n",
       "      <th>2</th>\n",
       "      <td>15296</td>\n",
       "      <td>0</td>\n",
       "      <td>0</td>\n",
       "      <td>0</td>\n",
       "      <td>0.0</td>\n",
       "      <td>0.0</td>\n",
       "      <td>taxable</td>\n",
       "      <td>NaN</td>\n",
       "      <td>2.0</td>\n",
       "      <td>2018-02-08 13:49:41</td>\n",
       "      <td>...</td>\n",
       "      <td>pierre-jean-villa-saint-joseph-tilde-2017</td>\n",
       "      <td>2019-12-21 09:00:17</td>\n",
       "      <td>2019-12-21 08:00:17</td>\n",
       "      <td>NaN</td>\n",
       "      <td>0.0</td>\n",
       "      <td>https://www.bottle-neck.fr/?post_type=product&amp;#038;p=3849</td>\n",
       "      <td>0.0</td>\n",
       "      <td>product</td>\n",
       "      <td>NaN</td>\n",
       "      <td>0.0</td>\n",
       "    </tr>\n",
       "    <tr>\n",
       "      <th>3</th>\n",
       "      <td>15300</td>\n",
       "      <td>0</td>\n",
       "      <td>0</td>\n",
       "      <td>0</td>\n",
       "      <td>0.0</td>\n",
       "      <td>0.0</td>\n",
       "      <td>taxable</td>\n",
       "      <td>NaN</td>\n",
       "      <td>2.0</td>\n",
       "      <td>2018-02-08 14:08:36</td>\n",
       "      <td>...</td>\n",
       "      <td>pierre-jean-villa-croze-hermitage-accroche-coeur-2018</td>\n",
       "      <td>2020-06-26 18:15:03</td>\n",
       "      <td>2020-06-26 16:15:03</td>\n",
       "      <td>NaN</td>\n",
       "      <td>0.0</td>\n",
       "      <td>https://www.bottle-neck.fr/?post_type=product&amp;#038;p=3850</td>\n",
       "      <td>0.0</td>\n",
       "      <td>product</td>\n",
       "      <td>NaN</td>\n",
       "      <td>0.0</td>\n",
       "    </tr>\n",
       "    <tr>\n",
       "      <th>4</th>\n",
       "      <td>19814</td>\n",
       "      <td>0</td>\n",
       "      <td>0</td>\n",
       "      <td>0</td>\n",
       "      <td>0.0</td>\n",
       "      <td>3.0</td>\n",
       "      <td>taxable</td>\n",
       "      <td>NaN</td>\n",
       "      <td>2.0</td>\n",
       "      <td>2018-02-09 14:01:05</td>\n",
       "      <td>...</td>\n",
       "      <td>pierre-jean-villa-igp-gamine-2018</td>\n",
       "      <td>2020-01-04 16:36:01</td>\n",
       "      <td>2020-01-04 15:36:01</td>\n",
       "      <td>NaN</td>\n",
       "      <td>0.0</td>\n",
       "      <td>https://www.bottle-neck.fr/?post_type=product&amp;#038;p=4032</td>\n",
       "      <td>0.0</td>\n",
       "      <td>product</td>\n",
       "      <td>NaN</td>\n",
       "      <td>0.0</td>\n",
       "    </tr>\n",
       "  </tbody>\n",
       "</table></div>"
      ],
      "text/plain": [
       "                   sku  virtual  downloadable  rating_count  average_rating  \\\n",
       "0  bon-cadeau-25-euros        0             0             0             0.0   \n",
       "1                15298        0             0             0             0.0   \n",
       "2                15296        0             0             0             0.0   \n",
       "3                15300        0             0             0             0.0   \n",
       "4                19814        0             0             0             0.0   \n",
       "\n",
       "   total_sales tax_status  tax_class  post_author           post_date  ...  \\\n",
       "0         10.0    taxable        NaN          1.0 2018-06-01 13:53:46  ...   \n",
       "1          6.0    taxable        NaN          2.0 2018-02-08 12:58:52  ...   \n",
       "2          0.0    taxable        NaN          2.0 2018-02-08 13:49:41  ...   \n",
       "3          0.0    taxable        NaN          2.0 2018-02-08 14:08:36  ...   \n",
       "4          3.0    taxable        NaN          2.0 2018-02-09 14:01:05  ...   \n",
       "\n",
       "                                           post_name       post_modified  \\\n",
       "0                             bon-cadeau-de-25-euros 2018-06-01 14:13:57   \n",
       "1        pierre-jean-villa-saint-joseph-preface-2018 2019-12-30 09:30:29   \n",
       "2          pierre-jean-villa-saint-joseph-tilde-2017 2019-12-21 09:00:17   \n",
       "3  pierre-jean-villa-croze-hermitage-accroche-coe... 2020-06-26 18:15:03   \n",
       "4                  pierre-jean-villa-igp-gamine-2018 2020-01-04 16:36:01   \n",
       "\n",
       "    post_modified_gmt post_content_filtered post_parent  \\\n",
       "0 2018-06-01 12:13:57                   NaN         0.0   \n",
       "1 2019-12-30 08:30:29                   NaN         0.0   \n",
       "2 2019-12-21 08:00:17                   NaN         0.0   \n",
       "3 2020-06-26 16:15:03                   NaN         0.0   \n",
       "4 2020-01-04 15:36:01                   NaN         0.0   \n",
       "\n",
       "                                                guid menu_order  post_type  \\\n",
       "0  https://www.bottle-neck.fr/?post_type=product&...        0.0    product   \n",
       "1  https://www.bottle-neck.fr/?post_type=product&...        0.0    product   \n",
       "2  https://www.bottle-neck.fr/?post_type=product&...        0.0    product   \n",
       "3  https://www.bottle-neck.fr/?post_type=product&...        0.0    product   \n",
       "4  https://www.bottle-neck.fr/?post_type=product&...        0.0    product   \n",
       "\n",
       "  post_mime_type comment_count  \n",
       "0            NaN           0.0  \n",
       "1            NaN           0.0  \n",
       "2            NaN           0.0  \n",
       "3            NaN           0.0  \n",
       "4            NaN           0.0  \n",
       "\n",
       "[5 rows x 28 columns]"
      ]
     },
     "execution_count": 212,
     "metadata": {},
     "output_type": "execute_result"
    }
   ],
   "source": [
    "df_web.head()"
   ]
  },
  {
   "cell_type": "code",
   "execution_count": 213,
   "id": "8416883f",
   "metadata": {},
   "outputs": [
    {
     "data": {
      "text/plain": [
       "(1513, 28)"
      ]
     },
     "execution_count": 213,
     "metadata": {},
     "output_type": "execute_result"
    }
   ],
   "source": [
    "df_web.shape"
   ]
  },
  {
   "cell_type": "markdown",
   "id": "6ec50cd8",
   "metadata": {},
   "source": [
    "As we can see above, we have 1513 rows for 28 different variables. We have in particular :\n",
    "- sku: corresponds to id_web (df_liaison)\n",
    "- total_sales : number of sales\n",
    "- post_date : date of the product online\n",
    "- post_modified : date of the update of the product file\n",
    "- post_name : product name\n",
    "- post_type : product type"
   ]
  },
  {
   "cell_type": "code",
   "execution_count": 214,
   "id": "919b85fe",
   "metadata": {},
   "outputs": [
    {
     "data": {
      "text/plain": [
       "sku                              object\n",
       "virtual                           int64\n",
       "downloadable                      int64\n",
       "rating_count                      int64\n",
       "average_rating                  float64\n",
       "total_sales                     float64\n",
       "tax_status                       object\n",
       "tax_class                       float64\n",
       "post_author                     float64\n",
       "post_date                datetime64[ns]\n",
       "post_date_gmt            datetime64[ns]\n",
       "post_content                    float64\n",
       "post_title                       object\n",
       "post_excerpt                     object\n",
       "post_status                      object\n",
       "comment_status                   object\n",
       "ping_status                      object\n",
       "post_password                   float64\n",
       "post_name                        object\n",
       "post_modified            datetime64[ns]\n",
       "post_modified_gmt        datetime64[ns]\n",
       "post_content_filtered           float64\n",
       "post_parent                     float64\n",
       "guid                             object\n",
       "menu_order                      float64\n",
       "post_type                        object\n",
       "post_mime_type                   object\n",
       "comment_count                   float64\n",
       "dtype: object"
      ]
     },
     "execution_count": 214,
     "metadata": {},
     "output_type": "execute_result"
    }
   ],
   "source": [
    "df_web.dtypes"
   ]
  },
  {
   "cell_type": "markdown",
   "id": "d7d0129a",
   "metadata": {},
   "source": [
    "At first sight, no problem of types for the different variables of the dataframe.\n",
    "### Checking the structure of df_web: \n",
    "First thing to do is to rename the variable **sku** -> **id_web** to be able to mmerge  with the dataframe df_liaison in order to have a match for future merges."
   ]
  },
  {
   "cell_type": "code",
   "execution_count": 215,
   "id": "ee688086",
   "metadata": {},
   "outputs": [],
   "source": [
    "df_web = df_web.rename(columns={'sku':'id_web'})"
   ]
  },
  {
   "cell_type": "code",
   "execution_count": 216,
   "id": "0f8426b1",
   "metadata": {
    "scrolled": false
   },
   "outputs": [
    {
     "name": "stdout",
     "output_type": "stream",
     "text": [
      "<class 'pandas.core.frame.DataFrame'>\n",
      "RangeIndex: 1513 entries, 0 to 1512\n",
      "Data columns (total 28 columns):\n",
      " #   Column                 Non-Null Count  Dtype         \n",
      "---  ------                 --------------  -----         \n",
      " 0   id_web                 1428 non-null   object        \n",
      " 1   virtual                1513 non-null   int64         \n",
      " 2   downloadable           1513 non-null   int64         \n",
      " 3   rating_count           1513 non-null   int64         \n",
      " 4   average_rating         1430 non-null   float64       \n",
      " 5   total_sales            1430 non-null   float64       \n",
      " 6   tax_status             716 non-null    object        \n",
      " 7   tax_class              0 non-null      float64       \n",
      " 8   post_author            1430 non-null   float64       \n",
      " 9   post_date              1430 non-null   datetime64[ns]\n",
      " 10  post_date_gmt          1430 non-null   datetime64[ns]\n",
      " 11  post_content           0 non-null      float64       \n",
      " 12  post_title             1430 non-null   object        \n",
      " 13  post_excerpt           716 non-null    object        \n",
      " 14  post_status            1430 non-null   object        \n",
      " 15  comment_status         1430 non-null   object        \n",
      " 16  ping_status            1430 non-null   object        \n",
      " 17  post_password          0 non-null      float64       \n",
      " 18  post_name              1430 non-null   object        \n",
      " 19  post_modified          1430 non-null   datetime64[ns]\n",
      " 20  post_modified_gmt      1430 non-null   datetime64[ns]\n",
      " 21  post_content_filtered  0 non-null      float64       \n",
      " 22  post_parent            1430 non-null   float64       \n",
      " 23  guid                   1430 non-null   object        \n",
      " 24  menu_order             1430 non-null   float64       \n",
      " 25  post_type              1430 non-null   object        \n",
      " 26  post_mime_type         714 non-null    object        \n",
      " 27  comment_count          1430 non-null   float64       \n",
      "dtypes: datetime64[ns](4), float64(10), int64(3), object(11)\n",
      "memory usage: 331.1+ KB\n"
     ]
    }
   ],
   "source": [
    "df_web.info()"
   ]
  },
  {
   "cell_type": "code",
   "execution_count": 217,
   "id": "c835bae7",
   "metadata": {},
   "outputs": [
    {
     "data": {
      "text/html": [
       "<div><div id=c435144f-fc92-4114-a1d9-7e7b5b9d2cf3 style=\"display:none; background-color:#9D6CFF; color:white; width:200px; height:30px; padding-left:5px; border-radius:4px; flex-direction:row; justify-content:space-around; align-items:center;\" onmouseover=\"this.style.backgroundColor='#BA9BF8'\" onmouseout=\"this.style.backgroundColor='#9D6CFF'\" onclick=\"window.commands?.execute('create-mitosheet-from-dataframe-output');\">See Full Dataframe in Mito</div> <script> if (window.commands.hasCommand('create-mitosheet-from-dataframe-output')) document.getElementById('c435144f-fc92-4114-a1d9-7e7b5b9d2cf3').style.display = 'flex' </script> <table border=\"1\" class=\"dataframe\">\n",
       "  <thead>\n",
       "    <tr style=\"text-align: right;\">\n",
       "      <th></th>\n",
       "      <th>tax_class</th>\n",
       "      <th>post_content</th>\n",
       "      <th>post_password</th>\n",
       "      <th>post_content_filtered</th>\n",
       "    </tr>\n",
       "  </thead>\n",
       "  <tbody>\n",
       "    <tr>\n",
       "      <th>0</th>\n",
       "      <td>NaN</td>\n",
       "      <td>NaN</td>\n",
       "      <td>NaN</td>\n",
       "      <td>NaN</td>\n",
       "    </tr>\n",
       "    <tr>\n",
       "      <th>1</th>\n",
       "      <td>NaN</td>\n",
       "      <td>NaN</td>\n",
       "      <td>NaN</td>\n",
       "      <td>NaN</td>\n",
       "    </tr>\n",
       "    <tr>\n",
       "      <th>2</th>\n",
       "      <td>NaN</td>\n",
       "      <td>NaN</td>\n",
       "      <td>NaN</td>\n",
       "      <td>NaN</td>\n",
       "    </tr>\n",
       "    <tr>\n",
       "      <th>3</th>\n",
       "      <td>NaN</td>\n",
       "      <td>NaN</td>\n",
       "      <td>NaN</td>\n",
       "      <td>NaN</td>\n",
       "    </tr>\n",
       "    <tr>\n",
       "      <th>4</th>\n",
       "      <td>NaN</td>\n",
       "      <td>NaN</td>\n",
       "      <td>NaN</td>\n",
       "      <td>NaN</td>\n",
       "    </tr>\n",
       "    <tr>\n",
       "      <th>...</th>\n",
       "      <td>...</td>\n",
       "      <td>...</td>\n",
       "      <td>...</td>\n",
       "      <td>...</td>\n",
       "    </tr>\n",
       "    <tr>\n",
       "      <th>1508</th>\n",
       "      <td>NaN</td>\n",
       "      <td>NaN</td>\n",
       "      <td>NaN</td>\n",
       "      <td>NaN</td>\n",
       "    </tr>\n",
       "    <tr>\n",
       "      <th>1509</th>\n",
       "      <td>NaN</td>\n",
       "      <td>NaN</td>\n",
       "      <td>NaN</td>\n",
       "      <td>NaN</td>\n",
       "    </tr>\n",
       "    <tr>\n",
       "      <th>1510</th>\n",
       "      <td>NaN</td>\n",
       "      <td>NaN</td>\n",
       "      <td>NaN</td>\n",
       "      <td>NaN</td>\n",
       "    </tr>\n",
       "    <tr>\n",
       "      <th>1511</th>\n",
       "      <td>NaN</td>\n",
       "      <td>NaN</td>\n",
       "      <td>NaN</td>\n",
       "      <td>NaN</td>\n",
       "    </tr>\n",
       "    <tr>\n",
       "      <th>1512</th>\n",
       "      <td>NaN</td>\n",
       "      <td>NaN</td>\n",
       "      <td>NaN</td>\n",
       "      <td>NaN</td>\n",
       "    </tr>\n",
       "  </tbody>\n",
       "</table></div>"
      ],
      "text/plain": [
       "      tax_class  post_content  post_password  post_content_filtered\n",
       "0           NaN           NaN            NaN                    NaN\n",
       "1           NaN           NaN            NaN                    NaN\n",
       "2           NaN           NaN            NaN                    NaN\n",
       "3           NaN           NaN            NaN                    NaN\n",
       "4           NaN           NaN            NaN                    NaN\n",
       "...         ...           ...            ...                    ...\n",
       "1508        NaN           NaN            NaN                    NaN\n",
       "1509        NaN           NaN            NaN                    NaN\n",
       "1510        NaN           NaN            NaN                    NaN\n",
       "1511        NaN           NaN            NaN                    NaN\n",
       "1512        NaN           NaN            NaN                    NaN\n",
       "\n",
       "[1513 rows x 4 columns]"
      ]
     },
     "execution_count": 217,
     "metadata": {},
     "output_type": "execute_result"
    }
   ],
   "source": [
    "# Column with count of values equal to 0\n",
    "df_web.loc[:,df_web.count()==0]"
   ]
  },
  {
   "cell_type": "markdown",
   "id": "7327ef59",
   "metadata": {},
   "source": [
    "When we look at the .info of the **df_web** dataframe, we see several variables that have no value. We will therefore delete them to lighten our dataframe.\n",
    "\n",
    "**Note**: We can delete these variables because they will not be used in the analysis. This is not a modification of the database.\n",
    "\n",
    "**Creation of a function to clean up empty columns"
   ]
  },
  {
   "cell_type": "code",
   "execution_count": 218,
   "id": "86377ee1",
   "metadata": {},
   "outputs": [],
   "source": [
    "def del_countcolumns(df):\n",
    "    # Def Function\n",
    "    '''\n",
    "    This function just allows us to remove the variables from the dataframe that have no value inside, \n",
    "    allowing us to lighten our dataframe\n",
    "    '''\n",
    "    columns_del = list(df.loc[:,df.count()==0].columns)\n",
    "    df.drop(columns_del, axis=1, inplace=True)\n",
    "    \n",
    "    # Results\n",
    "    return(print('Name of the variables deleted because no value inside:',columns_del))"
   ]
  },
  {
   "cell_type": "code",
   "execution_count": 219,
   "id": "5a426e69",
   "metadata": {},
   "outputs": [
    {
     "name": "stdout",
     "output_type": "stream",
     "text": [
      "Name of the variables deleted because no value inside: ['tax_class', 'post_content', 'post_password', 'post_content_filtered']\n"
     ]
    }
   ],
   "source": [
    "del_countcolumns(df_web)"
   ]
  },
  {
   "cell_type": "markdown",
   "id": "524323bc",
   "metadata": {},
   "source": [
    "### Checking for missing values in df_web : "
   ]
  },
  {
   "cell_type": "code",
   "execution_count": 220,
   "id": "2bc9616b",
   "metadata": {},
   "outputs": [
    {
     "data": {
      "text/plain": [
       "id_web                85\n",
       "virtual                0\n",
       "downloadable           0\n",
       "rating_count           0\n",
       "average_rating        83\n",
       "total_sales           83\n",
       "tax_status           797\n",
       "post_author           83\n",
       "post_date             83\n",
       "post_date_gmt         83\n",
       "post_title            83\n",
       "post_excerpt         797\n",
       "post_status           83\n",
       "comment_status        83\n",
       "ping_status           83\n",
       "post_name             83\n",
       "post_modified         83\n",
       "post_modified_gmt     83\n",
       "post_parent           83\n",
       "guid                  83\n",
       "menu_order            83\n",
       "post_type             83\n",
       "post_mime_type       799\n",
       "comment_count         83\n",
       "dtype: int64"
      ]
     },
     "execution_count": 220,
     "metadata": {},
     "output_type": "execute_result"
    }
   ],
   "source": [
    "df_web.isnull().sum()"
   ]
  },
  {
   "cell_type": "markdown",
   "id": "9aa38901",
   "metadata": {},
   "source": [
    "We notice that we have 85 missing values for the variable **id_web**."
   ]
  },
  {
   "cell_type": "code",
   "execution_count": 221,
   "id": "3789deec",
   "metadata": {},
   "outputs": [
    {
     "data": {
      "text/html": [
       "<div><div id=8964d8dc-fc1a-4f4b-95ec-8fec1a575aae style=\"display:none; background-color:#9D6CFF; color:white; width:200px; height:30px; padding-left:5px; border-radius:4px; flex-direction:row; justify-content:space-around; align-items:center;\" onmouseover=\"this.style.backgroundColor='#BA9BF8'\" onmouseout=\"this.style.backgroundColor='#9D6CFF'\" onclick=\"window.commands?.execute('create-mitosheet-from-dataframe-output');\">See Full Dataframe in Mito</div> <script> if (window.commands.hasCommand('create-mitosheet-from-dataframe-output')) document.getElementById('8964d8dc-fc1a-4f4b-95ec-8fec1a575aae').style.display = 'flex' </script> <table border=\"1\" class=\"dataframe\">\n",
       "  <thead>\n",
       "    <tr style=\"text-align: right;\">\n",
       "      <th></th>\n",
       "      <th>id_web</th>\n",
       "      <th>virtual</th>\n",
       "      <th>downloadable</th>\n",
       "      <th>rating_count</th>\n",
       "      <th>average_rating</th>\n",
       "      <th>total_sales</th>\n",
       "      <th>tax_status</th>\n",
       "      <th>post_author</th>\n",
       "      <th>post_date</th>\n",
       "      <th>post_date_gmt</th>\n",
       "      <th>...</th>\n",
       "      <th>ping_status</th>\n",
       "      <th>post_name</th>\n",
       "      <th>post_modified</th>\n",
       "      <th>post_modified_gmt</th>\n",
       "      <th>post_parent</th>\n",
       "      <th>guid</th>\n",
       "      <th>menu_order</th>\n",
       "      <th>post_type</th>\n",
       "      <th>post_mime_type</th>\n",
       "      <th>comment_count</th>\n",
       "    </tr>\n",
       "  </thead>\n",
       "  <tbody>\n",
       "    <tr>\n",
       "      <th>178</th>\n",
       "      <td>NaN</td>\n",
       "      <td>0</td>\n",
       "      <td>0</td>\n",
       "      <td>0</td>\n",
       "      <td>NaN</td>\n",
       "      <td>NaN</td>\n",
       "      <td>NaN</td>\n",
       "      <td>NaN</td>\n",
       "      <td>NaT</td>\n",
       "      <td>NaT</td>\n",
       "      <td>...</td>\n",
       "      <td>NaN</td>\n",
       "      <td>NaN</td>\n",
       "      <td>NaT</td>\n",
       "      <td>NaT</td>\n",
       "      <td>NaN</td>\n",
       "      <td>NaN</td>\n",
       "      <td>NaN</td>\n",
       "      <td>NaN</td>\n",
       "      <td>NaN</td>\n",
       "      <td>NaN</td>\n",
       "    </tr>\n",
       "    <tr>\n",
       "      <th>179</th>\n",
       "      <td>NaN</td>\n",
       "      <td>0</td>\n",
       "      <td>0</td>\n",
       "      <td>0</td>\n",
       "      <td>NaN</td>\n",
       "      <td>NaN</td>\n",
       "      <td>NaN</td>\n",
       "      <td>NaN</td>\n",
       "      <td>NaT</td>\n",
       "      <td>NaT</td>\n",
       "      <td>...</td>\n",
       "      <td>NaN</td>\n",
       "      <td>NaN</td>\n",
       "      <td>NaT</td>\n",
       "      <td>NaT</td>\n",
       "      <td>NaN</td>\n",
       "      <td>NaN</td>\n",
       "      <td>NaN</td>\n",
       "      <td>NaN</td>\n",
       "      <td>NaN</td>\n",
       "      <td>NaN</td>\n",
       "    </tr>\n",
       "    <tr>\n",
       "      <th>227</th>\n",
       "      <td>NaN</td>\n",
       "      <td>0</td>\n",
       "      <td>0</td>\n",
       "      <td>0</td>\n",
       "      <td>NaN</td>\n",
       "      <td>NaN</td>\n",
       "      <td>NaN</td>\n",
       "      <td>NaN</td>\n",
       "      <td>NaT</td>\n",
       "      <td>NaT</td>\n",
       "      <td>...</td>\n",
       "      <td>NaN</td>\n",
       "      <td>NaN</td>\n",
       "      <td>NaT</td>\n",
       "      <td>NaT</td>\n",
       "      <td>NaN</td>\n",
       "      <td>NaN</td>\n",
       "      <td>NaN</td>\n",
       "      <td>NaN</td>\n",
       "      <td>NaN</td>\n",
       "      <td>NaN</td>\n",
       "    </tr>\n",
       "    <tr>\n",
       "      <th>230</th>\n",
       "      <td>NaN</td>\n",
       "      <td>0</td>\n",
       "      <td>0</td>\n",
       "      <td>0</td>\n",
       "      <td>NaN</td>\n",
       "      <td>NaN</td>\n",
       "      <td>NaN</td>\n",
       "      <td>NaN</td>\n",
       "      <td>NaT</td>\n",
       "      <td>NaT</td>\n",
       "      <td>...</td>\n",
       "      <td>NaN</td>\n",
       "      <td>NaN</td>\n",
       "      <td>NaT</td>\n",
       "      <td>NaT</td>\n",
       "      <td>NaN</td>\n",
       "      <td>NaN</td>\n",
       "      <td>NaN</td>\n",
       "      <td>NaN</td>\n",
       "      <td>NaN</td>\n",
       "      <td>NaN</td>\n",
       "    </tr>\n",
       "    <tr>\n",
       "      <th>231</th>\n",
       "      <td>NaN</td>\n",
       "      <td>0</td>\n",
       "      <td>0</td>\n",
       "      <td>0</td>\n",
       "      <td>NaN</td>\n",
       "      <td>NaN</td>\n",
       "      <td>NaN</td>\n",
       "      <td>NaN</td>\n",
       "      <td>NaT</td>\n",
       "      <td>NaT</td>\n",
       "      <td>...</td>\n",
       "      <td>NaN</td>\n",
       "      <td>NaN</td>\n",
       "      <td>NaT</td>\n",
       "      <td>NaT</td>\n",
       "      <td>NaN</td>\n",
       "      <td>NaN</td>\n",
       "      <td>NaN</td>\n",
       "      <td>NaN</td>\n",
       "      <td>NaN</td>\n",
       "      <td>NaN</td>\n",
       "    </tr>\n",
       "    <tr>\n",
       "      <th>...</th>\n",
       "      <td>...</td>\n",
       "      <td>...</td>\n",
       "      <td>...</td>\n",
       "      <td>...</td>\n",
       "      <td>...</td>\n",
       "      <td>...</td>\n",
       "      <td>...</td>\n",
       "      <td>...</td>\n",
       "      <td>...</td>\n",
       "      <td>...</td>\n",
       "      <td>...</td>\n",
       "      <td>...</td>\n",
       "      <td>...</td>\n",
       "      <td>...</td>\n",
       "      <td>...</td>\n",
       "      <td>...</td>\n",
       "      <td>...</td>\n",
       "      <td>...</td>\n",
       "      <td>...</td>\n",
       "      <td>...</td>\n",
       "      <td>...</td>\n",
       "    </tr>\n",
       "    <tr>\n",
       "      <th>792</th>\n",
       "      <td>NaN</td>\n",
       "      <td>0</td>\n",
       "      <td>0</td>\n",
       "      <td>0</td>\n",
       "      <td>NaN</td>\n",
       "      <td>NaN</td>\n",
       "      <td>NaN</td>\n",
       "      <td>NaN</td>\n",
       "      <td>NaT</td>\n",
       "      <td>NaT</td>\n",
       "      <td>...</td>\n",
       "      <td>NaN</td>\n",
       "      <td>NaN</td>\n",
       "      <td>NaT</td>\n",
       "      <td>NaT</td>\n",
       "      <td>NaN</td>\n",
       "      <td>NaN</td>\n",
       "      <td>NaN</td>\n",
       "      <td>NaN</td>\n",
       "      <td>NaN</td>\n",
       "      <td>NaN</td>\n",
       "    </tr>\n",
       "    <tr>\n",
       "      <th>793</th>\n",
       "      <td>NaN</td>\n",
       "      <td>0</td>\n",
       "      <td>0</td>\n",
       "      <td>0</td>\n",
       "      <td>NaN</td>\n",
       "      <td>NaN</td>\n",
       "      <td>NaN</td>\n",
       "      <td>NaN</td>\n",
       "      <td>NaT</td>\n",
       "      <td>NaT</td>\n",
       "      <td>...</td>\n",
       "      <td>NaN</td>\n",
       "      <td>NaN</td>\n",
       "      <td>NaT</td>\n",
       "      <td>NaT</td>\n",
       "      <td>NaN</td>\n",
       "      <td>NaN</td>\n",
       "      <td>NaN</td>\n",
       "      <td>NaN</td>\n",
       "      <td>NaN</td>\n",
       "      <td>NaN</td>\n",
       "    </tr>\n",
       "    <tr>\n",
       "      <th>794</th>\n",
       "      <td>NaN</td>\n",
       "      <td>0</td>\n",
       "      <td>0</td>\n",
       "      <td>0</td>\n",
       "      <td>NaN</td>\n",
       "      <td>NaN</td>\n",
       "      <td>NaN</td>\n",
       "      <td>NaN</td>\n",
       "      <td>NaT</td>\n",
       "      <td>NaT</td>\n",
       "      <td>...</td>\n",
       "      <td>NaN</td>\n",
       "      <td>NaN</td>\n",
       "      <td>NaT</td>\n",
       "      <td>NaT</td>\n",
       "      <td>NaN</td>\n",
       "      <td>NaN</td>\n",
       "      <td>NaN</td>\n",
       "      <td>NaN</td>\n",
       "      <td>NaN</td>\n",
       "      <td>NaN</td>\n",
       "    </tr>\n",
       "    <tr>\n",
       "      <th>795</th>\n",
       "      <td>NaN</td>\n",
       "      <td>0</td>\n",
       "      <td>0</td>\n",
       "      <td>0</td>\n",
       "      <td>NaN</td>\n",
       "      <td>NaN</td>\n",
       "      <td>NaN</td>\n",
       "      <td>NaN</td>\n",
       "      <td>NaT</td>\n",
       "      <td>NaT</td>\n",
       "      <td>...</td>\n",
       "      <td>NaN</td>\n",
       "      <td>NaN</td>\n",
       "      <td>NaT</td>\n",
       "      <td>NaT</td>\n",
       "      <td>NaN</td>\n",
       "      <td>NaN</td>\n",
       "      <td>NaN</td>\n",
       "      <td>NaN</td>\n",
       "      <td>NaN</td>\n",
       "      <td>NaN</td>\n",
       "    </tr>\n",
       "    <tr>\n",
       "      <th>796</th>\n",
       "      <td>NaN</td>\n",
       "      <td>0</td>\n",
       "      <td>0</td>\n",
       "      <td>0</td>\n",
       "      <td>NaN</td>\n",
       "      <td>NaN</td>\n",
       "      <td>NaN</td>\n",
       "      <td>NaN</td>\n",
       "      <td>NaT</td>\n",
       "      <td>NaT</td>\n",
       "      <td>...</td>\n",
       "      <td>NaN</td>\n",
       "      <td>NaN</td>\n",
       "      <td>NaT</td>\n",
       "      <td>NaT</td>\n",
       "      <td>NaN</td>\n",
       "      <td>NaN</td>\n",
       "      <td>NaN</td>\n",
       "      <td>NaN</td>\n",
       "      <td>NaN</td>\n",
       "      <td>NaN</td>\n",
       "    </tr>\n",
       "  </tbody>\n",
       "</table></div>"
      ],
      "text/plain": [
       "    id_web  virtual  downloadable  rating_count  average_rating  total_sales  \\\n",
       "178    NaN        0             0             0             NaN          NaN   \n",
       "179    NaN        0             0             0             NaN          NaN   \n",
       "227    NaN        0             0             0             NaN          NaN   \n",
       "230    NaN        0             0             0             NaN          NaN   \n",
       "231    NaN        0             0             0             NaN          NaN   \n",
       "..     ...      ...           ...           ...             ...          ...   \n",
       "792    NaN        0             0             0             NaN          NaN   \n",
       "793    NaN        0             0             0             NaN          NaN   \n",
       "794    NaN        0             0             0             NaN          NaN   \n",
       "795    NaN        0             0             0             NaN          NaN   \n",
       "796    NaN        0             0             0             NaN          NaN   \n",
       "\n",
       "    tax_status  post_author post_date post_date_gmt  ... ping_status  \\\n",
       "178        NaN          NaN       NaT           NaT  ...         NaN   \n",
       "179        NaN          NaN       NaT           NaT  ...         NaN   \n",
       "227        NaN          NaN       NaT           NaT  ...         NaN   \n",
       "230        NaN          NaN       NaT           NaT  ...         NaN   \n",
       "231        NaN          NaN       NaT           NaT  ...         NaN   \n",
       "..         ...          ...       ...           ...  ...         ...   \n",
       "792        NaN          NaN       NaT           NaT  ...         NaN   \n",
       "793        NaN          NaN       NaT           NaT  ...         NaN   \n",
       "794        NaN          NaN       NaT           NaT  ...         NaN   \n",
       "795        NaN          NaN       NaT           NaT  ...         NaN   \n",
       "796        NaN          NaN       NaT           NaT  ...         NaN   \n",
       "\n",
       "    post_name post_modified post_modified_gmt post_parent guid menu_order  \\\n",
       "178       NaN           NaT               NaT         NaN  NaN        NaN   \n",
       "179       NaN           NaT               NaT         NaN  NaN        NaN   \n",
       "227       NaN           NaT               NaT         NaN  NaN        NaN   \n",
       "230       NaN           NaT               NaT         NaN  NaN        NaN   \n",
       "231       NaN           NaT               NaT         NaN  NaN        NaN   \n",
       "..        ...           ...               ...         ...  ...        ...   \n",
       "792       NaN           NaT               NaT         NaN  NaN        NaN   \n",
       "793       NaN           NaT               NaT         NaN  NaN        NaN   \n",
       "794       NaN           NaT               NaT         NaN  NaN        NaN   \n",
       "795       NaN           NaT               NaT         NaN  NaN        NaN   \n",
       "796       NaN           NaT               NaT         NaN  NaN        NaN   \n",
       "\n",
       "    post_type  post_mime_type comment_count  \n",
       "178       NaN             NaN           NaN  \n",
       "179       NaN             NaN           NaN  \n",
       "227       NaN             NaN           NaN  \n",
       "230       NaN             NaN           NaN  \n",
       "231       NaN             NaN           NaN  \n",
       "..        ...             ...           ...  \n",
       "792       NaN             NaN           NaN  \n",
       "793       NaN             NaN           NaN  \n",
       "794       NaN             NaN           NaN  \n",
       "795       NaN             NaN           NaN  \n",
       "796       NaN             NaN           NaN  \n",
       "\n",
       "[85 rows x 24 columns]"
      ]
     },
     "execution_count": 221,
     "metadata": {},
     "output_type": "execute_result"
    }
   ],
   "source": [
    "# We only take into account the 'id_web' which are null\n",
    "df_web.loc[df_web['id_web'].isnull(),:]"
   ]
  },
  {
   "cell_type": "markdown",
   "id": "0f313046",
   "metadata": {},
   "source": [
    "There is missing data in the **id_web** variable . Since it is an **identifier**, there should not be any missing data (or null data)\n",
    "\n",
    "Looking at the previous cell, we can assume that all rows are empty. <font color=\"#9f343e\"> **Nevertheless, we will check if they really are.**</font>"
   ]
  },
  {
   "cell_type": "code",
   "execution_count": 222,
   "id": "7a992612",
   "metadata": {},
   "outputs": [
    {
     "data": {
      "text/plain": [
       "id_web                0\n",
       "virtual              85\n",
       "downloadable         85\n",
       "rating_count         85\n",
       "average_rating        2\n",
       "total_sales           2\n",
       "tax_status            2\n",
       "post_author           2\n",
       "post_date             2\n",
       "post_date_gmt         2\n",
       "post_title            2\n",
       "post_excerpt          2\n",
       "post_status           2\n",
       "comment_status        2\n",
       "ping_status           2\n",
       "post_name             2\n",
       "post_modified         2\n",
       "post_modified_gmt     2\n",
       "post_parent           2\n",
       "guid                  2\n",
       "menu_order            2\n",
       "post_type             2\n",
       "post_mime_type        0\n",
       "comment_count         2\n",
       "dtype: int64"
      ]
     },
     "execution_count": 222,
     "metadata": {},
     "output_type": "execute_result"
    }
   ],
   "source": [
    "# Taking into account only the 'id_web' which are null, we look if there are notnull variables\n",
    "df_web.loc[df_web['id_web'].isnull(),:].notnull().sum()"
   ]
  },
  {
   "cell_type": "markdown",
   "id": "052c679d",
   "metadata": {},
   "source": [
    "We notice that several variables are not **null** while on the contrary the **id_web** is **null**. We will see in details why:"
   ]
  },
  {
   "cell_type": "code",
   "execution_count": 223,
   "id": "2bfd407f",
   "metadata": {},
   "outputs": [
    {
     "data": {
      "text/html": [
       "<div><div id=d3586189-986e-4a5f-961d-42f0108e4d54 style=\"display:none; background-color:#9D6CFF; color:white; width:200px; height:30px; padding-left:5px; border-radius:4px; flex-direction:row; justify-content:space-around; align-items:center;\" onmouseover=\"this.style.backgroundColor='#BA9BF8'\" onmouseout=\"this.style.backgroundColor='#9D6CFF'\" onclick=\"window.commands?.execute('create-mitosheet-from-dataframe-output');\">See Full Dataframe in Mito</div> <script> if (window.commands.hasCommand('create-mitosheet-from-dataframe-output')) document.getElementById('d3586189-986e-4a5f-961d-42f0108e4d54').style.display = 'flex' </script> <table border=\"1\" class=\"dataframe\">\n",
       "  <thead>\n",
       "    <tr style=\"text-align: right;\">\n",
       "      <th></th>\n",
       "      <th>id_web</th>\n",
       "      <th>virtual</th>\n",
       "      <th>downloadable</th>\n",
       "      <th>rating_count</th>\n",
       "      <th>average_rating</th>\n",
       "      <th>total_sales</th>\n",
       "      <th>tax_status</th>\n",
       "      <th>post_author</th>\n",
       "      <th>post_date</th>\n",
       "      <th>post_date_gmt</th>\n",
       "      <th>...</th>\n",
       "      <th>ping_status</th>\n",
       "      <th>post_name</th>\n",
       "      <th>post_modified</th>\n",
       "      <th>post_modified_gmt</th>\n",
       "      <th>post_parent</th>\n",
       "      <th>guid</th>\n",
       "      <th>menu_order</th>\n",
       "      <th>post_type</th>\n",
       "      <th>post_mime_type</th>\n",
       "      <th>comment_count</th>\n",
       "    </tr>\n",
       "  </thead>\n",
       "  <tbody>\n",
       "    <tr>\n",
       "      <th>470</th>\n",
       "      <td>NaN</td>\n",
       "      <td>0</td>\n",
       "      <td>0</td>\n",
       "      <td>0</td>\n",
       "      <td>0.0</td>\n",
       "      <td>0.0</td>\n",
       "      <td>taxable</td>\n",
       "      <td>2.0</td>\n",
       "      <td>2018-07-31 12:07:23</td>\n",
       "      <td>2018-07-31 10:07:23</td>\n",
       "      <td>...</td>\n",
       "      <td>closed</td>\n",
       "      <td>pierre-jean-villa-cote-rotie-fongeant-2017</td>\n",
       "      <td>2019-11-02 13:24:15</td>\n",
       "      <td>2019-11-02 12:24:15</td>\n",
       "      <td>0.0</td>\n",
       "      <td>https://www.bottle-neck.fr/?post_type=product&amp;#038;p=5070</td>\n",
       "      <td>0.0</td>\n",
       "      <td>product</td>\n",
       "      <td>NaN</td>\n",
       "      <td>0.0</td>\n",
       "    </tr>\n",
       "    <tr>\n",
       "      <th>471</th>\n",
       "      <td>NaN</td>\n",
       "      <td>0</td>\n",
       "      <td>0</td>\n",
       "      <td>0</td>\n",
       "      <td>0.0</td>\n",
       "      <td>0.0</td>\n",
       "      <td>taxable</td>\n",
       "      <td>2.0</td>\n",
       "      <td>2018-08-08 11:23:43</td>\n",
       "      <td>2018-08-08 09:23:43</td>\n",
       "      <td>...</td>\n",
       "      <td>closed</td>\n",
       "      <td>pierre-jean-villa-condrieu-suspendu-2018</td>\n",
       "      <td>2019-11-02 13:24:01</td>\n",
       "      <td>2019-11-02 12:24:01</td>\n",
       "      <td>0.0</td>\n",
       "      <td>https://www.bottle-neck.fr/?post_type=product&amp;#038;p=5075</td>\n",
       "      <td>0.0</td>\n",
       "      <td>product</td>\n",
       "      <td>NaN</td>\n",
       "      <td>0.0</td>\n",
       "    </tr>\n",
       "  </tbody>\n",
       "</table></div>"
      ],
      "text/plain": [
       "    id_web  virtual  downloadable  rating_count  average_rating  total_sales  \\\n",
       "470    NaN        0             0             0             0.0          0.0   \n",
       "471    NaN        0             0             0             0.0          0.0   \n",
       "\n",
       "    tax_status  post_author           post_date       post_date_gmt  ...  \\\n",
       "470    taxable          2.0 2018-07-31 12:07:23 2018-07-31 10:07:23  ...   \n",
       "471    taxable          2.0 2018-08-08 11:23:43 2018-08-08 09:23:43  ...   \n",
       "\n",
       "    ping_status                                   post_name  \\\n",
       "470      closed  pierre-jean-villa-cote-rotie-fongeant-2017   \n",
       "471      closed    pierre-jean-villa-condrieu-suspendu-2018   \n",
       "\n",
       "          post_modified   post_modified_gmt post_parent  \\\n",
       "470 2019-11-02 13:24:15 2019-11-02 12:24:15         0.0   \n",
       "471 2019-11-02 13:24:01 2019-11-02 12:24:01         0.0   \n",
       "\n",
       "                                                  guid menu_order post_type  \\\n",
       "470  https://www.bottle-neck.fr/?post_type=product&...        0.0   product   \n",
       "471  https://www.bottle-neck.fr/?post_type=product&...        0.0   product   \n",
       "\n",
       "     post_mime_type comment_count  \n",
       "470             NaN           0.0  \n",
       "471             NaN           0.0  \n",
       "\n",
       "[2 rows x 24 columns]"
      ]
     },
     "execution_count": 223,
     "metadata": {},
     "output_type": "execute_result"
    }
   ],
   "source": [
    "df_web[df_web['id_web'].isnull() & df_web[\"post_name\"].notnull()]"
   ]
  },
  {
   "cell_type": "markdown",
   "id": "540396aa",
   "metadata": {},
   "source": [
    "We have just seen that **id_web** that are NaNs have a product match.\n",
    "\n",
    "\n",
    "So we will delete the rows that only have NaNs in **id_web** but do not have a product match. "
   ]
  },
  {
   "cell_type": "code",
   "execution_count": 224,
   "id": "96fa96fc",
   "metadata": {},
   "outputs": [
    {
     "data": {
      "text/plain": [
       "83"
      ]
     },
     "execution_count": 224,
     "metadata": {},
     "output_type": "execute_result"
    }
   ],
   "source": [
    "# Index recovery (NaN) pour id_web\n",
    "id_web_nan_out = df_web.loc[df_web['id_web'].isnull(),:].index\n",
    "\n",
    "# Indexes recovery (NaN) for id_web but which have a product match\n",
    "id_web_nan_in = df_web[df_web['id_web'].isnull() & df_web[\"post_name\"].notnull()].index\n",
    "\n",
    "# We make the difference between the two lists, to delete only the NaN 'index' without product match\n",
    "diff_id_web_nan = list(set(id_web_nan_out).difference(id_web_nan_in))\n",
    "len(diff_id_web_nan)"
   ]
  },
  {
   "cell_type": "code",
   "execution_count": 225,
   "id": "d2ee0428",
   "metadata": {},
   "outputs": [
    {
     "name": "stdout",
     "output_type": "stream",
     "text": [
      "Number of rows deleted: 83\n"
     ]
    }
   ],
   "source": [
    "# Removal of indexes that are only NaN : \n",
    "df_web.drop(diff_id_web_nan,inplace=True)\n",
    "df_web.reset_index(drop=True,inplace=True)\n",
    "print(\"Number of rows deleted:\",len(diff_id_web_nan))"
   ]
  },
  {
   "cell_type": "code",
   "execution_count": 226,
   "id": "8f675a94",
   "metadata": {},
   "outputs": [
    {
     "data": {
      "text/plain": [
       "id_web                 2\n",
       "virtual                0\n",
       "downloadable           0\n",
       "rating_count           0\n",
       "average_rating         0\n",
       "total_sales            0\n",
       "tax_status           714\n",
       "post_author            0\n",
       "post_date              0\n",
       "post_date_gmt          0\n",
       "post_title             0\n",
       "post_excerpt         714\n",
       "post_status            0\n",
       "comment_status         0\n",
       "ping_status            0\n",
       "post_name              0\n",
       "post_modified          0\n",
       "post_modified_gmt      0\n",
       "post_parent            0\n",
       "guid                   0\n",
       "menu_order             0\n",
       "post_type              0\n",
       "post_mime_type       716\n",
       "comment_count          0\n",
       "dtype: int64"
      ]
     },
     "execution_count": 226,
     "metadata": {},
     "output_type": "execute_result"
    }
   ],
   "source": [
    "# Check #2\n",
    "df_web.isnull().sum()"
   ]
  },
  {
   "cell_type": "markdown",
   "id": "ee833902",
   "metadata": {},
   "source": [
    "**Notes:** id_web = 2 (for .isnull().sum()) which is correct because we have kept the 2 IDs that have a correspondence with a product."
   ]
  },
  {
   "cell_type": "code",
   "execution_count": 227,
   "id": "f88c738c",
   "metadata": {},
   "outputs": [
    {
     "data": {
      "text/plain": [
       "['id_web', 'tax_status', 'post_excerpt', 'post_mime_type']"
      ]
     },
     "execution_count": 227,
     "metadata": {},
     "output_type": "execute_result"
    }
   ],
   "source": [
    "# Creation of a list containing the variables that still have missing data\n",
    "list_null_web = list(df_web.columns[df_web.isnull().sum()>0])\n",
    "list_null_web"
   ]
  },
  {
   "cell_type": "code",
   "execution_count": 228,
   "id": "180379d9",
   "metadata": {},
   "outputs": [
    {
     "data": {
      "text/html": [
       "<div><div id=71040c5a-c5c7-4ee0-bf7e-40666aae1b50 style=\"display:none; background-color:#9D6CFF; color:white; width:200px; height:30px; padding-left:5px; border-radius:4px; flex-direction:row; justify-content:space-around; align-items:center;\" onmouseover=\"this.style.backgroundColor='#BA9BF8'\" onmouseout=\"this.style.backgroundColor='#9D6CFF'\" onclick=\"window.commands?.execute('create-mitosheet-from-dataframe-output');\">See Full Dataframe in Mito</div> <script> if (window.commands.hasCommand('create-mitosheet-from-dataframe-output')) document.getElementById('71040c5a-c5c7-4ee0-bf7e-40666aae1b50').style.display = 'flex' </script> <table border=\"1\" class=\"dataframe\">\n",
       "  <thead>\n",
       "    <tr style=\"text-align: right;\">\n",
       "      <th></th>\n",
       "      <th>id_web</th>\n",
       "      <th>tax_status</th>\n",
       "      <th>post_excerpt</th>\n",
       "      <th>post_mime_type</th>\n",
       "    </tr>\n",
       "  </thead>\n",
       "  <tbody>\n",
       "    <tr>\n",
       "      <th>0</th>\n",
       "      <td>bon-cadeau-25-euros</td>\n",
       "      <td>taxable</td>\n",
       "      <td>&lt;span style=\"color: #a85253;\"&gt;&lt;strong&gt;Parlons peu, parlons vin.&lt;/strong&gt;\\n&lt;strong&gt;Parlons cadeau !&lt;/strong&gt;&lt;/span&gt;\\n\\nUn bon cadeau à offrir à vos proches... sans modération !</td>\n",
       "      <td>NaN</td>\n",
       "    </tr>\n",
       "    <tr>\n",
       "      <th>1</th>\n",
       "      <td>15298</td>\n",
       "      <td>taxable</td>\n",
       "      <td>Il exhale un nez subtil, racé avec du poivre fin et de la tourbe. La bouche est une caresse grâce à des tanins élégants. De la haute couture.</td>\n",
       "      <td>NaN</td>\n",
       "    </tr>\n",
       "    <tr>\n",
       "      <th>2</th>\n",
       "      <td>15296</td>\n",
       "      <td>taxable</td>\n",
       "      <td>Les vieilles vignes lui apportent une rare profondeur. L’attaque affiche de l’élégance. La bouche est portée par un minéral saisissant et des tanins de belle qualité. Grande bouteille !</td>\n",
       "      <td>NaN</td>\n",
       "    </tr>\n",
       "    <tr>\n",
       "      <th>3</th>\n",
       "      <td>15300</td>\n",
       "      <td>taxable</td>\n",
       "      <td>Dentelle de fruit de jeunes syrah, aux tanins légers et épicés. Hyper digeste. Un délice.</td>\n",
       "      <td>NaN</td>\n",
       "    </tr>\n",
       "    <tr>\n",
       "      <th>4</th>\n",
       "      <td>19814</td>\n",
       "      <td>taxable</td>\n",
       "      <td>Gamine représente tout le fruité et la gourmandise de la syrah. Une touche épicée et des tanins fondus lui apportent une belle complexité.</td>\n",
       "      <td>NaN</td>\n",
       "    </tr>\n",
       "    <tr>\n",
       "      <th>...</th>\n",
       "      <td>...</td>\n",
       "      <td>...</td>\n",
       "      <td>...</td>\n",
       "      <td>...</td>\n",
       "    </tr>\n",
       "    <tr>\n",
       "      <th>1425</th>\n",
       "      <td>16135</td>\n",
       "      <td>NaN</td>\n",
       "      <td>NaN</td>\n",
       "      <td>image/jpeg</td>\n",
       "    </tr>\n",
       "    <tr>\n",
       "      <th>1426</th>\n",
       "      <td>15891</td>\n",
       "      <td>NaN</td>\n",
       "      <td>NaN</td>\n",
       "      <td>image/jpeg</td>\n",
       "    </tr>\n",
       "    <tr>\n",
       "      <th>1427</th>\n",
       "      <td>15887</td>\n",
       "      <td>NaN</td>\n",
       "      <td>NaN</td>\n",
       "      <td>image/jpeg</td>\n",
       "    </tr>\n",
       "    <tr>\n",
       "      <th>1428</th>\n",
       "      <td>13127-1</td>\n",
       "      <td>NaN</td>\n",
       "      <td>NaN</td>\n",
       "      <td>image/jpeg</td>\n",
       "    </tr>\n",
       "    <tr>\n",
       "      <th>1429</th>\n",
       "      <td>16230</td>\n",
       "      <td>NaN</td>\n",
       "      <td>NaN</td>\n",
       "      <td>image/jpeg</td>\n",
       "    </tr>\n",
       "  </tbody>\n",
       "</table></div>"
      ],
      "text/plain": [
       "                   id_web tax_status  \\\n",
       "0     bon-cadeau-25-euros    taxable   \n",
       "1                   15298    taxable   \n",
       "2                   15296    taxable   \n",
       "3                   15300    taxable   \n",
       "4                   19814    taxable   \n",
       "...                   ...        ...   \n",
       "1425                16135        NaN   \n",
       "1426                15891        NaN   \n",
       "1427                15887        NaN   \n",
       "1428              13127-1        NaN   \n",
       "1429                16230        NaN   \n",
       "\n",
       "                                           post_excerpt post_mime_type  \n",
       "0     <span style=\"color: #a85253;\"><strong>Parlons ...            NaN  \n",
       "1     Il exhale un nez subtil, racé avec du poivre f...            NaN  \n",
       "2     Les vieilles vignes lui apportent une rare pro...            NaN  \n",
       "3     Dentelle de fruit de jeunes syrah, aux tanins ...            NaN  \n",
       "4     Gamine représente tout le fruité et la gourman...            NaN  \n",
       "...                                                 ...            ...  \n",
       "1425                                                NaN     image/jpeg  \n",
       "1426                                                NaN     image/jpeg  \n",
       "1427                                                NaN     image/jpeg  \n",
       "1428                                                NaN     image/jpeg  \n",
       "1429                                                NaN     image/jpeg  \n",
       "\n",
       "[1430 rows x 4 columns]"
      ]
     },
     "execution_count": 228,
     "metadata": {},
     "output_type": "execute_result"
    }
   ],
   "source": [
    "# Inspection of the dataframe with variables that have missing data\n",
    "df_web[list_null_web]"
   ]
  },
  {
   "cell_type": "markdown",
   "id": "8cac4ead",
   "metadata": {},
   "source": [
    "The variables that have **NaN** are product descriptions, tax status, and post_mime.type.\\\n",
    "Further analysis of the table needs to be done to determine where the NaNs may have come from. \n",
    "\n",
    "### Duplicate df_web check: \n",
    "Since each ID should be unique, we should not have any duplicate web_id. "
   ]
  },
  {
   "cell_type": "code",
   "execution_count": 229,
   "id": "fd802dd5",
   "metadata": {},
   "outputs": [
    {
     "name": "stdout",
     "output_type": "stream",
     "text": [
      "714 duplicate(s) in this dataframe\n"
     ]
    }
   ],
   "source": [
    "# Duplicate detection\n",
    "doublons(df_web[['id_web','post_name']]) "
   ]
  },
  {
   "cell_type": "markdown",
   "id": "38798990",
   "metadata": {},
   "source": [
    "**Notes:** We specify 'id_web', 'post_name' because we have IDs that are NaN. They would be considered as duplicates in the analysis whereas they are not really (not having the same name). \\\n",
    "Therefore, adding the product name allows us to avoid this problem. \n",
    "\n",
    "So we have duplicates in this dataframe. We will see in detail why the IDs are duplicated. \n",
    "\n",
    "**Creation of a function to randomly take IDs for data visualization**"
   ]
  },
  {
   "cell_type": "code",
   "execution_count": 230,
   "id": "c78942bf",
   "metadata": {},
   "outputs": [],
   "source": [
    "def verification_id(df,column_name):\n",
    "    # Def\n",
    "    '''\n",
    "    Function that allows to take random values from a column to make a duplicate analysis\n",
    "    '''\n",
    "    random_id = random.sample(list(df[column_name]),3)\n",
    "    \n",
    "    # Result\n",
    "    display(df.loc[(df[column_name]==random_id[0])|(df[column_name]==random_id[1])|(df[column_name]==random_id[2])].sort_values(column_name))"
   ]
  },
  {
   "cell_type": "code",
   "execution_count": 231,
   "id": "10dc2b70",
   "metadata": {},
   "outputs": [
    {
     "data": {
      "text/html": [
       "<div><div id=1ba09277-8dbd-4698-a4d9-46293a7a2219 style=\"display:none; background-color:#9D6CFF; color:white; width:200px; height:30px; padding-left:5px; border-radius:4px; flex-direction:row; justify-content:space-around; align-items:center;\" onmouseover=\"this.style.backgroundColor='#BA9BF8'\" onmouseout=\"this.style.backgroundColor='#9D6CFF'\" onclick=\"window.commands?.execute('create-mitosheet-from-dataframe-output');\">See Full Dataframe in Mito</div> <script> if (window.commands.hasCommand('create-mitosheet-from-dataframe-output')) document.getElementById('1ba09277-8dbd-4698-a4d9-46293a7a2219').style.display = 'flex' </script> <table border=\"1\" class=\"dataframe\">\n",
       "  <thead>\n",
       "    <tr style=\"text-align: right;\">\n",
       "      <th></th>\n",
       "      <th>id_web</th>\n",
       "      <th>virtual</th>\n",
       "      <th>downloadable</th>\n",
       "      <th>rating_count</th>\n",
       "      <th>average_rating</th>\n",
       "      <th>total_sales</th>\n",
       "      <th>tax_status</th>\n",
       "      <th>post_author</th>\n",
       "      <th>post_date</th>\n",
       "      <th>post_date_gmt</th>\n",
       "      <th>...</th>\n",
       "      <th>ping_status</th>\n",
       "      <th>post_name</th>\n",
       "      <th>post_modified</th>\n",
       "      <th>post_modified_gmt</th>\n",
       "      <th>post_parent</th>\n",
       "      <th>guid</th>\n",
       "      <th>menu_order</th>\n",
       "      <th>post_type</th>\n",
       "      <th>post_mime_type</th>\n",
       "      <th>comment_count</th>\n",
       "    </tr>\n",
       "  </thead>\n",
       "  <tbody>\n",
       "    <tr>\n",
       "      <th>600</th>\n",
       "      <td>12882</td>\n",
       "      <td>0</td>\n",
       "      <td>0</td>\n",
       "      <td>0</td>\n",
       "      <td>0.0</td>\n",
       "      <td>0.0</td>\n",
       "      <td>taxable</td>\n",
       "      <td>2.0</td>\n",
       "      <td>2019-03-28 17:08:38</td>\n",
       "      <td>2019-03-28 16:08:38</td>\n",
       "      <td>...</td>\n",
       "      <td>closed</td>\n",
       "      <td>domaine-de-montbourgeau-vin-de-paille-2013</td>\n",
       "      <td>2020-04-29 15:45:02</td>\n",
       "      <td>2020-04-29 13:45:02</td>\n",
       "      <td>0.0</td>\n",
       "      <td>https://www.bottle-neck.fr/?post_type=product&amp;#038;p=5907</td>\n",
       "      <td>0.0</td>\n",
       "      <td>product</td>\n",
       "      <td>NaN</td>\n",
       "      <td>0.0</td>\n",
       "    </tr>\n",
       "    <tr>\n",
       "      <th>1314</th>\n",
       "      <td>12882</td>\n",
       "      <td>0</td>\n",
       "      <td>0</td>\n",
       "      <td>0</td>\n",
       "      <td>0.0</td>\n",
       "      <td>0.0</td>\n",
       "      <td>NaN</td>\n",
       "      <td>2.0</td>\n",
       "      <td>2019-03-28 17:08:38</td>\n",
       "      <td>2019-03-28 16:08:38</td>\n",
       "      <td>...</td>\n",
       "      <td>closed</td>\n",
       "      <td>domaine-de-montbourgeau-vin-de-paille-2013</td>\n",
       "      <td>2020-04-29 15:45:02</td>\n",
       "      <td>2020-04-29 13:45:02</td>\n",
       "      <td>0.0</td>\n",
       "      <td>https://www.bottle-neck.fr/wp-content/uploads/2020/03/domaine-de-montbourgeau-vin-de-paille-2013.jpg</td>\n",
       "      <td>0.0</td>\n",
       "      <td>attachment</td>\n",
       "      <td>image/jpeg</td>\n",
       "      <td>0.0</td>\n",
       "    </tr>\n",
       "    <tr>\n",
       "      <th>530</th>\n",
       "      <td>14736</td>\n",
       "      <td>0</td>\n",
       "      <td>0</td>\n",
       "      <td>0</td>\n",
       "      <td>0.0</td>\n",
       "      <td>1.0</td>\n",
       "      <td>taxable</td>\n",
       "      <td>2.0</td>\n",
       "      <td>2019-01-31 11:58:26</td>\n",
       "      <td>2019-01-31 10:58:26</td>\n",
       "      <td>...</td>\n",
       "      <td>closed</td>\n",
       "      <td>gilles-robin-crozes-hermitage-rouge-1920-2016-copie</td>\n",
       "      <td>2020-04-21 10:45:03</td>\n",
       "      <td>2020-04-21 08:45:03</td>\n",
       "      <td>0.0</td>\n",
       "      <td>https://www.bottle-neck.fr/?post_type=product&amp;#038;p=5700</td>\n",
       "      <td>0.0</td>\n",
       "      <td>product</td>\n",
       "      <td>NaN</td>\n",
       "      <td>0.0</td>\n",
       "    </tr>\n",
       "    <tr>\n",
       "      <th>1244</th>\n",
       "      <td>14736</td>\n",
       "      <td>0</td>\n",
       "      <td>0</td>\n",
       "      <td>0</td>\n",
       "      <td>0.0</td>\n",
       "      <td>1.0</td>\n",
       "      <td>NaN</td>\n",
       "      <td>2.0</td>\n",
       "      <td>2019-01-31 11:58:26</td>\n",
       "      <td>2019-01-31 10:58:26</td>\n",
       "      <td>...</td>\n",
       "      <td>closed</td>\n",
       "      <td>gilles-robin-crozes-hermitage-rouge-1920-2016-copie</td>\n",
       "      <td>2020-04-21 10:45:03</td>\n",
       "      <td>2020-04-21 08:45:03</td>\n",
       "      <td>0.0</td>\n",
       "      <td>https://www.bottle-neck.fr/wp-content/uploads/2020/03/gilles-robin-crozes-hermitage-rouge-1920-2016-copie.jpg</td>\n",
       "      <td>0.0</td>\n",
       "      <td>attachment</td>\n",
       "      <td>image/jpeg</td>\n",
       "      <td>0.0</td>\n",
       "    </tr>\n",
       "    <tr>\n",
       "      <th>328</th>\n",
       "      <td>15576</td>\n",
       "      <td>0</td>\n",
       "      <td>0</td>\n",
       "      <td>0</td>\n",
       "      <td>0.0</td>\n",
       "      <td>0.0</td>\n",
       "      <td>taxable</td>\n",
       "      <td>2.0</td>\n",
       "      <td>2018-04-18 20:37:25</td>\n",
       "      <td>2018-04-18 18:37:25</td>\n",
       "      <td>...</td>\n",
       "      <td>closed</td>\n",
       "      <td>camin-larredya-jurancon-sec-la-part-davant-2018</td>\n",
       "      <td>2020-07-16 10:45:02</td>\n",
       "      <td>2020-07-16 08:45:02</td>\n",
       "      <td>0.0</td>\n",
       "      <td>https://www.bottle-neck.fr/?post_type=product&amp;#038;p=4733</td>\n",
       "      <td>0.0</td>\n",
       "      <td>product</td>\n",
       "      <td>NaN</td>\n",
       "      <td>0.0</td>\n",
       "    </tr>\n",
       "    <tr>\n",
       "      <th>1043</th>\n",
       "      <td>15576</td>\n",
       "      <td>0</td>\n",
       "      <td>0</td>\n",
       "      <td>0</td>\n",
       "      <td>0.0</td>\n",
       "      <td>0.0</td>\n",
       "      <td>NaN</td>\n",
       "      <td>2.0</td>\n",
       "      <td>2018-04-18 20:37:25</td>\n",
       "      <td>2018-04-18 18:37:25</td>\n",
       "      <td>...</td>\n",
       "      <td>closed</td>\n",
       "      <td>camin-larredya-jurancon-sec-la-part-davant-2018</td>\n",
       "      <td>2020-07-16 10:45:02</td>\n",
       "      <td>2020-07-16 08:45:02</td>\n",
       "      <td>0.0</td>\n",
       "      <td>https://www.bottle-neck.fr/wp-content/uploads/2020/03/camin-larredya-jurancon-sec-la-part-davant-2018.jpg</td>\n",
       "      <td>0.0</td>\n",
       "      <td>attachment</td>\n",
       "      <td>image/jpeg</td>\n",
       "      <td>0.0</td>\n",
       "    </tr>\n",
       "  </tbody>\n",
       "</table></div>"
      ],
      "text/plain": [
       "     id_web  virtual  downloadable  rating_count  average_rating  total_sales  \\\n",
       "600   12882        0             0             0             0.0          0.0   \n",
       "1314  12882        0             0             0             0.0          0.0   \n",
       "530   14736        0             0             0             0.0          1.0   \n",
       "1244  14736        0             0             0             0.0          1.0   \n",
       "328   15576        0             0             0             0.0          0.0   \n",
       "1043  15576        0             0             0             0.0          0.0   \n",
       "\n",
       "     tax_status  post_author           post_date       post_date_gmt  ...  \\\n",
       "600     taxable          2.0 2019-03-28 17:08:38 2019-03-28 16:08:38  ...   \n",
       "1314        NaN          2.0 2019-03-28 17:08:38 2019-03-28 16:08:38  ...   \n",
       "530     taxable          2.0 2019-01-31 11:58:26 2019-01-31 10:58:26  ...   \n",
       "1244        NaN          2.0 2019-01-31 11:58:26 2019-01-31 10:58:26  ...   \n",
       "328     taxable          2.0 2018-04-18 20:37:25 2018-04-18 18:37:25  ...   \n",
       "1043        NaN          2.0 2018-04-18 20:37:25 2018-04-18 18:37:25  ...   \n",
       "\n",
       "     ping_status                                          post_name  \\\n",
       "600       closed         domaine-de-montbourgeau-vin-de-paille-2013   \n",
       "1314      closed         domaine-de-montbourgeau-vin-de-paille-2013   \n",
       "530       closed  gilles-robin-crozes-hermitage-rouge-1920-2016-...   \n",
       "1244      closed  gilles-robin-crozes-hermitage-rouge-1920-2016-...   \n",
       "328       closed    camin-larredya-jurancon-sec-la-part-davant-2018   \n",
       "1043      closed    camin-larredya-jurancon-sec-la-part-davant-2018   \n",
       "\n",
       "           post_modified   post_modified_gmt post_parent  \\\n",
       "600  2020-04-29 15:45:02 2020-04-29 13:45:02         0.0   \n",
       "1314 2020-04-29 15:45:02 2020-04-29 13:45:02         0.0   \n",
       "530  2020-04-21 10:45:03 2020-04-21 08:45:03         0.0   \n",
       "1244 2020-04-21 10:45:03 2020-04-21 08:45:03         0.0   \n",
       "328  2020-07-16 10:45:02 2020-07-16 08:45:02         0.0   \n",
       "1043 2020-07-16 10:45:02 2020-07-16 08:45:02         0.0   \n",
       "\n",
       "                                                   guid menu_order  \\\n",
       "600   https://www.bottle-neck.fr/?post_type=product&...        0.0   \n",
       "1314  https://www.bottle-neck.fr/wp-content/uploads/...        0.0   \n",
       "530   https://www.bottle-neck.fr/?post_type=product&...        0.0   \n",
       "1244  https://www.bottle-neck.fr/wp-content/uploads/...        0.0   \n",
       "328   https://www.bottle-neck.fr/?post_type=product&...        0.0   \n",
       "1043  https://www.bottle-neck.fr/wp-content/uploads/...        0.0   \n",
       "\n",
       "       post_type  post_mime_type comment_count  \n",
       "600      product             NaN           0.0  \n",
       "1314  attachment      image/jpeg           0.0  \n",
       "530      product             NaN           0.0  \n",
       "1244  attachment      image/jpeg           0.0  \n",
       "328      product             NaN           0.0  \n",
       "1043  attachment      image/jpeg           0.0  \n",
       "\n",
       "[6 rows x 24 columns]"
      ]
     },
     "metadata": {},
     "output_type": "display_data"
    }
   ],
   "source": [
    "verification_id(df_web,'id_web')"
   ]
  },
  {
   "cell_type": "code",
   "execution_count": 232,
   "id": "e4e76d40",
   "metadata": {},
   "outputs": [
    {
     "data": {
      "text/plain": [
       "array(['product', 'attachment'], dtype=object)"
      ]
     },
     "execution_count": 232,
     "metadata": {},
     "output_type": "execute_result"
    }
   ],
   "source": [
    "df_web['post_type'].unique()"
   ]
  },
  {
   "cell_type": "markdown",
   "id": "6bea1c3d",
   "metadata": {},
   "source": [
    "After checking, we see that the IDs are duplicated. \n",
    "\n",
    "For each ID (*except the NaN*), we have 2 different rows. Looking at the **(post_type)** variable for example, we see that one describes the product (**'product'**) while the other corresponds to an image (**'attachment'**). \n",
    "\n",
    "We will therefore create sub-dataframes from the basic dataframe to separate the IDs:\n",
    "- One sub-dataframe taking into account only **product**,\n",
    "- Another sub-dataframe taking into account only the **attachment**."
   ]
  },
  {
   "cell_type": "code",
   "execution_count": 233,
   "id": "a043ea47",
   "metadata": {},
   "outputs": [],
   "source": [
    "df_web_product = df_web.loc[df_web['post_type']=='product'] \n",
    "df_web_attachment = df_web.loc[df_web['post_type']=='attachment']"
   ]
  },
  {
   "cell_type": "markdown",
   "id": "33b475e9",
   "metadata": {},
   "source": [
    "We keep the dataframe with **post_type** = **attachment** as a precaution. You never know, it may be useful later. \n",
    "\n",
    "### Bonus: removal of the columns that have only zeros (0) in the web dataframe\n",
    "By inspecting the dataframe, we notice that some columns have a lot of 0s inside. \\\n",
    "The goal here is to see in detail, if the columns have only 0's, allowing us to clean the dataframe or not."
   ]
  },
  {
   "cell_type": "code",
   "execution_count": 234,
   "id": "d2f85b4d",
   "metadata": {},
   "outputs": [
    {
     "data": {
      "text/plain": [
       "id_web               False\n",
       "virtual               True\n",
       "downloadable          True\n",
       "rating_count          True\n",
       "average_rating        True\n",
       "total_sales          False\n",
       "tax_status           False\n",
       "post_author          False\n",
       "post_date            False\n",
       "post_date_gmt        False\n",
       "post_title           False\n",
       "post_excerpt         False\n",
       "post_status          False\n",
       "comment_status       False\n",
       "ping_status          False\n",
       "post_name            False\n",
       "post_modified        False\n",
       "post_modified_gmt    False\n",
       "post_parent           True\n",
       "guid                 False\n",
       "menu_order            True\n",
       "post_type            False\n",
       "post_mime_type       False\n",
       "comment_count         True\n",
       "dtype: bool"
      ]
     },
     "execution_count": 234,
     "metadata": {},
     "output_type": "execute_result"
    }
   ],
   "source": [
    "# Check if the variables have only zeros :\n",
    "(df_web_product == 0).all()"
   ]
  },
  {
   "cell_type": "code",
   "execution_count": 235,
   "id": "6545e95b",
   "metadata": {},
   "outputs": [
    {
     "data": {
      "text/plain": [
       "['virtual',\n",
       " 'downloadable',\n",
       " 'rating_count',\n",
       " 'average_rating',\n",
       " 'post_parent',\n",
       " 'menu_order',\n",
       " 'comment_count']"
      ]
     },
     "execution_count": 235,
     "metadata": {},
     "output_type": "execute_result"
    }
   ],
   "source": [
    "# We get the indexes of the columns that have True in the previous check and we make a list\n",
    "index_web_zero = list((df_web_product == 0).all().index[(df_web_product == 0).all()==True])\n",
    "index_web_zero"
   ]
  },
  {
   "cell_type": "code",
   "execution_count": 236,
   "id": "2495d45d",
   "metadata": {},
   "outputs": [
    {
     "name": "stderr",
     "output_type": "stream",
     "text": [
      "/Users/corentincasali/opt/anaconda3/lib/python3.8/site-packages/pandas/core/frame.py:4906: SettingWithCopyWarning:\n",
      "\n",
      "\n",
      "A value is trying to be set on a copy of a slice from a DataFrame\n",
      "\n",
      "See the caveats in the documentation: https://pandas.pydata.org/pandas-docs/stable/user_guide/indexing.html#returning-a-view-versus-a-copy\n",
      "\n"
     ]
    }
   ],
   "source": [
    "# We delete the useless columns\n",
    "df_web_product.drop(columns=index_web_zero,inplace=True)"
   ]
  },
  {
   "cell_type": "markdown",
   "id": "d810a877",
   "metadata": {},
   "source": [
    "### Additional analysis: size difference in the web_product dataframe and the link dataframe\n",
    "The **web_product** dataframe corresponds to all the products present on the website.\n",
    "The **liaison** dataframe corresponds to the correspondence between the web_id and the product_id.\n",
    "\n",
    "Therefore, it would normally be logical to have the same number of rows. Unless the link table has additional **web_id** not present in the website."
   ]
  },
  {
   "cell_type": "code",
   "execution_count": 237,
   "id": "e8547400",
   "metadata": {},
   "outputs": [
    {
     "name": "stdout",
     "output_type": "stream",
     "text": [
      "(825, 2)\n",
      "(716, 17)\n",
      "The number of different rows is : 109\n"
     ]
    }
   ],
   "source": [
    "# Shape analysis of the two dataframes: \n",
    "print(df_liaison.shape)\n",
    "print(df_web_product.shape)\n",
    "print(\"The number of different rows is :\",df_liaison.shape[0]-df_web_product.shape[0])"
   ]
  },
  {
   "cell_type": "markdown",
   "id": "772e3428",
   "metadata": {},
   "source": [
    "we notice that the size of the two dataframes is different, why? (*109 lines of difference*)\n",
    "\n",
    "**Reminder:** The variable in common between the two dataframes is **id_web**, that's why we will analyze only this variable in the following."
   ]
  },
  {
   "cell_type": "code",
   "execution_count": 238,
   "id": "04e56f87",
   "metadata": {},
   "outputs": [
    {
     "data": {
      "text/plain": [
       "product_id     0\n",
       "id_web        91\n",
       "dtype: int64"
      ]
     },
     "metadata": {},
     "output_type": "display_data"
    },
    {
     "data": {
      "text/plain": [
       "id_web                 2\n",
       "total_sales            0\n",
       "tax_status             0\n",
       "post_author            0\n",
       "post_date              0\n",
       "post_date_gmt          0\n",
       "post_title             0\n",
       "post_excerpt           0\n",
       "post_status            0\n",
       "comment_status         0\n",
       "ping_status            0\n",
       "post_name              0\n",
       "post_modified          0\n",
       "post_modified_gmt      0\n",
       "guid                   0\n",
       "post_type              0\n",
       "post_mime_type       716\n",
       "dtype: int64"
      ]
     },
     "metadata": {},
     "output_type": "display_data"
    },
    {
     "name": "stdout",
     "output_type": "stream",
     "text": [
      "The difference between the two dataframes concerning the NaN of id_web is 89\n",
      "This leaves us with 20 difference values !\n"
     ]
    }
   ],
   "source": [
    "# Reminder of the NaN present in the two dataframes \n",
    "\n",
    "display(df_liaison.isnull().sum())\n",
    "display(df_web_product.isnull().sum())\n",
    "\n",
    "print(\"The difference between the two dataframes concerning the NaN of id_web is\",df_liaison.isnull().sum()[1]-df_web_product.isnull().sum()[0])\n",
    "print(\"This leaves us with\",(df_liaison.shape[0]-df_web_product.shape[0])-(df_liaison.isnull().sum()[1]-df_web_product.isnull().sum()[0]),\"difference values !\")"
   ]
  },
  {
   "cell_type": "markdown",
   "id": "8486d9bd",
   "metadata": {},
   "source": [
    "We have eliminated 89 values of differences between the two dataframes just with NaN. But we still have some values to find. \n",
    "\n",
    "Where is this difference? "
   ]
  },
  {
   "cell_type": "code",
   "execution_count": 239,
   "id": "2af0bc71",
   "metadata": {},
   "outputs": [
    {
     "name": "stdout",
     "output_type": "stream",
     "text": [
      "734\n",
      "714\n",
      "The number of different unique web_id between the two dataframes is 20\n"
     ]
    }
   ],
   "source": [
    "# How many unique 'id_web' values are there? :\n",
    "print(df_liaison[\"id_web\"].nunique())\n",
    "print(df_web_product[\"id_web\"].nunique())\n",
    "print(\"The number of different unique web_id between the two dataframes is\",df_liaison[\"id_web\"].nunique()-df_web_product[\"id_web\"].nunique())"
   ]
  },
  {
   "cell_type": "markdown",
   "id": "8a9f5c62",
   "metadata": {},
   "source": [
    "### <font color = #9f343e>**Conclusion :** </font>\n",
    "We have just finished inspecting of df_web.\\\n",
    "Things to remember: \n",
    "- Changed the variable name sku -> id_web,\n",
    "- We saw that there were 2 null id_web that had a product match,\n",
    "- Duplicated IDs in the dataframe -> creation of 2 sub-dataframes\n",
    "- The difference in size between the two dataframes (web | link) comes from the number of id_web present between the two dataframes. There are more web_id's in the **link** dataframe than in the **web_product** dataframe, hence the difference in size between the 2 dataframes."
   ]
  },
  {
   "cell_type": "markdown",
   "id": "a97445ca",
   "metadata": {},
   "source": [
    "## <font color = #34749f>1.2.3 | Dataframe - df_erp </font><a class=\"anchor\" id=\"section1.2.3\"></a>\n",
    "\n",
    "df_erp contains the **product references, their sales price and their stock status**.\n",
    "### Checking the ERP dataframe for type errors:"
   ]
  },
  {
   "cell_type": "code",
   "execution_count": 240,
   "id": "70184726",
   "metadata": {},
   "outputs": [
    {
     "data": {
      "text/html": [
       "<div><div id=9de50594-a282-4f08-8d8e-65e523a54677 style=\"display:none; background-color:#9D6CFF; color:white; width:200px; height:30px; padding-left:5px; border-radius:4px; flex-direction:row; justify-content:space-around; align-items:center;\" onmouseover=\"this.style.backgroundColor='#BA9BF8'\" onmouseout=\"this.style.backgroundColor='#9D6CFF'\" onclick=\"window.commands?.execute('create-mitosheet-from-dataframe-output');\">See Full Dataframe in Mito</div> <script> if (window.commands.hasCommand('create-mitosheet-from-dataframe-output')) document.getElementById('9de50594-a282-4f08-8d8e-65e523a54677').style.display = 'flex' </script> <table border=\"1\" class=\"dataframe\">\n",
       "  <thead>\n",
       "    <tr style=\"text-align: right;\">\n",
       "      <th></th>\n",
       "      <th>product_id</th>\n",
       "      <th>onsale_web</th>\n",
       "      <th>price</th>\n",
       "      <th>stock_quantity</th>\n",
       "      <th>stock_status</th>\n",
       "    </tr>\n",
       "  </thead>\n",
       "  <tbody>\n",
       "    <tr>\n",
       "      <th>0</th>\n",
       "      <td>3847</td>\n",
       "      <td>1</td>\n",
       "      <td>24.2</td>\n",
       "      <td>0</td>\n",
       "      <td>outofstock</td>\n",
       "    </tr>\n",
       "    <tr>\n",
       "      <th>1</th>\n",
       "      <td>3849</td>\n",
       "      <td>1</td>\n",
       "      <td>34.3</td>\n",
       "      <td>0</td>\n",
       "      <td>outofstock</td>\n",
       "    </tr>\n",
       "    <tr>\n",
       "      <th>2</th>\n",
       "      <td>3850</td>\n",
       "      <td>1</td>\n",
       "      <td>20.8</td>\n",
       "      <td>0</td>\n",
       "      <td>outofstock</td>\n",
       "    </tr>\n",
       "    <tr>\n",
       "      <th>3</th>\n",
       "      <td>4032</td>\n",
       "      <td>1</td>\n",
       "      <td>14.1</td>\n",
       "      <td>0</td>\n",
       "      <td>outofstock</td>\n",
       "    </tr>\n",
       "    <tr>\n",
       "      <th>4</th>\n",
       "      <td>4039</td>\n",
       "      <td>1</td>\n",
       "      <td>46.0</td>\n",
       "      <td>0</td>\n",
       "      <td>outofstock</td>\n",
       "    </tr>\n",
       "  </tbody>\n",
       "</table></div>"
      ],
      "text/plain": [
       "   product_id  onsale_web  price  stock_quantity stock_status\n",
       "0        3847           1   24.2               0   outofstock\n",
       "1        3849           1   34.3               0   outofstock\n",
       "2        3850           1   20.8               0   outofstock\n",
       "3        4032           1   14.1               0   outofstock\n",
       "4        4039           1   46.0               0   outofstock"
      ]
     },
     "execution_count": 240,
     "metadata": {},
     "output_type": "execute_result"
    }
   ],
   "source": [
    "df_erp.head()"
   ]
  },
  {
   "cell_type": "code",
   "execution_count": 241,
   "id": "500445c9",
   "metadata": {},
   "outputs": [
    {
     "data": {
      "text/plain": [
       "(825, 5)"
      ]
     },
     "execution_count": 241,
     "metadata": {},
     "output_type": "execute_result"
    }
   ],
   "source": [
    "df_erp.shape"
   ]
  },
  {
   "cell_type": "markdown",
   "id": "e3e62280",
   "metadata": {},
   "source": [
    "As we can see above, we have 825 rows, filled in on 5 variables. We have : \n",
    "- product_id : product identifier (df_liaison)\n",
    "- onsale_web : allows to know if the product is sold online or not\n",
    "- price : price of the product\n",
    "- stock_quantity : available stock of the product in reserve\n",
    "- stock_status : information about the availability or not of the product"
   ]
  },
  {
   "cell_type": "code",
   "execution_count": 242,
   "id": "093fae50",
   "metadata": {},
   "outputs": [
    {
     "data": {
      "text/plain": [
       "product_id          int64\n",
       "onsale_web          int64\n",
       "price             float64\n",
       "stock_quantity      int64\n",
       "stock_status       object\n",
       "dtype: object"
      ]
     },
     "execution_count": 242,
     "metadata": {},
     "output_type": "execute_result"
    }
   ],
   "source": [
    "df_erp.dtypes"
   ]
  },
  {
   "cell_type": "markdown",
   "id": "e2dad052",
   "metadata": {},
   "source": [
    "The data types are correct."
   ]
  },
  {
   "cell_type": "markdown",
   "id": "5e38702f",
   "metadata": {},
   "source": [
    "### Checking for missing values in the ERP dataframe :"
   ]
  },
  {
   "cell_type": "code",
   "execution_count": 243,
   "id": "ad035234",
   "metadata": {},
   "outputs": [
    {
     "data": {
      "text/plain": [
       "product_id        0\n",
       "onsale_web        0\n",
       "price             0\n",
       "stock_quantity    0\n",
       "stock_status      0\n",
       "dtype: int64"
      ]
     },
     "execution_count": 243,
     "metadata": {},
     "output_type": "execute_result"
    }
   ],
   "source": [
    "df_erp.isnull().sum()"
   ]
  },
  {
   "cell_type": "markdown",
   "id": "be6743bd",
   "metadata": {},
   "source": [
    "No missing values"
   ]
  },
  {
   "cell_type": "markdown",
   "id": "d950a585",
   "metadata": {},
   "source": [
    "### ERP dataframe duplicate check:"
   ]
  },
  {
   "cell_type": "code",
   "execution_count": 244,
   "id": "8f6b6be8",
   "metadata": {},
   "outputs": [
    {
     "name": "stdout",
     "output_type": "stream",
     "text": [
      "0 duplicate(s) in this dataframe\n"
     ]
    }
   ],
   "source": [
    "doublons(df_erp)"
   ]
  },
  {
   "cell_type": "markdown",
   "id": "ef6f7280",
   "metadata": {},
   "source": [
    "### ERP dataframe outliers check:"
   ]
  },
  {
   "cell_type": "code",
   "execution_count": 245,
   "id": "f8d01264",
   "metadata": {},
   "outputs": [
    {
     "data": {
      "text/html": [
       "<div><div id=96d077cb-8cf3-4518-9bfe-b9a172a796ea style=\"display:none; background-color:#9D6CFF; color:white; width:200px; height:30px; padding-left:5px; border-radius:4px; flex-direction:row; justify-content:space-around; align-items:center;\" onmouseover=\"this.style.backgroundColor='#BA9BF8'\" onmouseout=\"this.style.backgroundColor='#9D6CFF'\" onclick=\"window.commands?.execute('create-mitosheet-from-dataframe-output');\">See Full Dataframe in Mito</div> <script> if (window.commands.hasCommand('create-mitosheet-from-dataframe-output')) document.getElementById('96d077cb-8cf3-4518-9bfe-b9a172a796ea').style.display = 'flex' </script> <table border=\"1\" class=\"dataframe\">\n",
       "  <thead>\n",
       "    <tr style=\"text-align: right;\">\n",
       "      <th></th>\n",
       "      <th>product_id</th>\n",
       "      <th>onsale_web</th>\n",
       "      <th>price</th>\n",
       "      <th>stock_quantity</th>\n",
       "    </tr>\n",
       "  </thead>\n",
       "  <tbody>\n",
       "    <tr>\n",
       "      <th>count</th>\n",
       "      <td>825.000000</td>\n",
       "      <td>825.000000</td>\n",
       "      <td>825.000000</td>\n",
       "      <td>825.000000</td>\n",
       "    </tr>\n",
       "    <tr>\n",
       "      <th>mean</th>\n",
       "      <td>5162.597576</td>\n",
       "      <td>0.869091</td>\n",
       "      <td>32.415636</td>\n",
       "      <td>26.496970</td>\n",
       "    </tr>\n",
       "    <tr>\n",
       "      <th>std</th>\n",
       "      <td>902.644635</td>\n",
       "      <td>0.337506</td>\n",
       "      <td>26.795849</td>\n",
       "      <td>45.892422</td>\n",
       "    </tr>\n",
       "    <tr>\n",
       "      <th>min</th>\n",
       "      <td>3847.000000</td>\n",
       "      <td>0.000000</td>\n",
       "      <td>5.200000</td>\n",
       "      <td>0.000000</td>\n",
       "    </tr>\n",
       "    <tr>\n",
       "      <th>25%</th>\n",
       "      <td>4348.000000</td>\n",
       "      <td>1.000000</td>\n",
       "      <td>14.600000</td>\n",
       "      <td>1.000000</td>\n",
       "    </tr>\n",
       "    <tr>\n",
       "      <th>50%</th>\n",
       "      <td>4907.000000</td>\n",
       "      <td>1.000000</td>\n",
       "      <td>24.400000</td>\n",
       "      <td>11.000000</td>\n",
       "    </tr>\n",
       "    <tr>\n",
       "      <th>75%</th>\n",
       "      <td>5805.000000</td>\n",
       "      <td>1.000000</td>\n",
       "      <td>42.000000</td>\n",
       "      <td>34.000000</td>\n",
       "    </tr>\n",
       "    <tr>\n",
       "      <th>max</th>\n",
       "      <td>7338.000000</td>\n",
       "      <td>1.000000</td>\n",
       "      <td>225.000000</td>\n",
       "      <td>578.000000</td>\n",
       "    </tr>\n",
       "  </tbody>\n",
       "</table></div>"
      ],
      "text/plain": [
       "        product_id  onsale_web       price  stock_quantity\n",
       "count   825.000000  825.000000  825.000000      825.000000\n",
       "mean   5162.597576    0.869091   32.415636       26.496970\n",
       "std     902.644635    0.337506   26.795849       45.892422\n",
       "min    3847.000000    0.000000    5.200000        0.000000\n",
       "25%    4348.000000    1.000000   14.600000        1.000000\n",
       "50%    4907.000000    1.000000   24.400000       11.000000\n",
       "75%    5805.000000    1.000000   42.000000       34.000000\n",
       "max    7338.000000    1.000000  225.000000      578.000000"
      ]
     },
     "execution_count": 245,
     "metadata": {},
     "output_type": "execute_result"
    }
   ],
   "source": [
    "df_erp.describe()"
   ]
  },
  {
   "cell_type": "markdown",
   "id": "9910b91b",
   "metadata": {},
   "source": [
    "For the moment, no worries in the outliers. Numerical variables have possible values. Pas de prix ou de quantité en négatif. No price or quantity in negative.\n",
    "\n",
    "### <font color = #9f343e>**Conclusion :** </font>\n",
    "We have just completed the inspection of the ERP.\\ dataframe\n",
    "To remember: \n",
    "- No remarks on the ERP dataframe,\n",
    "- However, further analysis of the variables could detect **outliers**.\n",
    "\n",
    "<font color = #9f343e>**We have just finished \"Part 1: Data\", we will move on to the second part concerning the merge** </font>"
   ]
  },
  {
   "cell_type": "markdown",
   "id": "d0cd652d",
   "metadata": {},
   "source": [
    "---\n",
    "# Partie 2 : Data merge <a class=\"anchor\" id=\"chapter2\"></a>\n",
    "\n",
    "---"
   ]
  },
  {
   "cell_type": "markdown",
   "id": "c338c693",
   "metadata": {},
   "source": [
    "To be able to analyze the different dataframes, we will perform merges between the different dataframes.\n",
    "\n",
    "# <font color = #9f343e>2.1 | Merge : df_erp & df_liaison </font> <a class=\"anchor\" id=\"section2.1\"></a>\n",
    "We will first perform a first merge between the **ERP** dataframe and the **link** dataframe."
   ]
  },
  {
   "cell_type": "code",
   "execution_count": 246,
   "id": "77dbdd05",
   "metadata": {},
   "outputs": [
    {
     "data": {
      "text/html": [
       "<div><div id=d9f23268-b036-4c5c-99b6-327b0b62df58 style=\"display:none; background-color:#9D6CFF; color:white; width:200px; height:30px; padding-left:5px; border-radius:4px; flex-direction:row; justify-content:space-around; align-items:center;\" onmouseover=\"this.style.backgroundColor='#BA9BF8'\" onmouseout=\"this.style.backgroundColor='#9D6CFF'\" onclick=\"window.commands?.execute('create-mitosheet-from-dataframe-output');\">See Full Dataframe in Mito</div> <script> if (window.commands.hasCommand('create-mitosheet-from-dataframe-output')) document.getElementById('d9f23268-b036-4c5c-99b6-327b0b62df58').style.display = 'flex' </script> <table border=\"1\" class=\"dataframe\">\n",
       "  <thead>\n",
       "    <tr style=\"text-align: right;\">\n",
       "      <th></th>\n",
       "      <th>product_id</th>\n",
       "      <th>onsale_web</th>\n",
       "      <th>price</th>\n",
       "      <th>stock_quantity</th>\n",
       "      <th>stock_status</th>\n",
       "      <th>id_web</th>\n",
       "    </tr>\n",
       "  </thead>\n",
       "  <tbody>\n",
       "    <tr>\n",
       "      <th>0</th>\n",
       "      <td>3847</td>\n",
       "      <td>1</td>\n",
       "      <td>24.2</td>\n",
       "      <td>0</td>\n",
       "      <td>outofstock</td>\n",
       "      <td>15298</td>\n",
       "    </tr>\n",
       "    <tr>\n",
       "      <th>1</th>\n",
       "      <td>3849</td>\n",
       "      <td>1</td>\n",
       "      <td>34.3</td>\n",
       "      <td>0</td>\n",
       "      <td>outofstock</td>\n",
       "      <td>15296</td>\n",
       "    </tr>\n",
       "    <tr>\n",
       "      <th>2</th>\n",
       "      <td>3850</td>\n",
       "      <td>1</td>\n",
       "      <td>20.8</td>\n",
       "      <td>0</td>\n",
       "      <td>outofstock</td>\n",
       "      <td>15300</td>\n",
       "    </tr>\n",
       "    <tr>\n",
       "      <th>3</th>\n",
       "      <td>4032</td>\n",
       "      <td>1</td>\n",
       "      <td>14.1</td>\n",
       "      <td>0</td>\n",
       "      <td>outofstock</td>\n",
       "      <td>19814</td>\n",
       "    </tr>\n",
       "    <tr>\n",
       "      <th>4</th>\n",
       "      <td>4039</td>\n",
       "      <td>1</td>\n",
       "      <td>46.0</td>\n",
       "      <td>0</td>\n",
       "      <td>outofstock</td>\n",
       "      <td>19815</td>\n",
       "    </tr>\n",
       "    <tr>\n",
       "      <th>...</th>\n",
       "      <td>...</td>\n",
       "      <td>...</td>\n",
       "      <td>...</td>\n",
       "      <td>...</td>\n",
       "      <td>...</td>\n",
       "      <td>...</td>\n",
       "    </tr>\n",
       "    <tr>\n",
       "      <th>820</th>\n",
       "      <td>7203</td>\n",
       "      <td>0</td>\n",
       "      <td>45.0</td>\n",
       "      <td>30</td>\n",
       "      <td>instock</td>\n",
       "      <td>NaN</td>\n",
       "    </tr>\n",
       "    <tr>\n",
       "      <th>821</th>\n",
       "      <td>7204</td>\n",
       "      <td>0</td>\n",
       "      <td>45.0</td>\n",
       "      <td>9</td>\n",
       "      <td>instock</td>\n",
       "      <td>NaN</td>\n",
       "    </tr>\n",
       "    <tr>\n",
       "      <th>822</th>\n",
       "      <td>7247</td>\n",
       "      <td>1</td>\n",
       "      <td>54.8</td>\n",
       "      <td>23</td>\n",
       "      <td>instock</td>\n",
       "      <td>13127-1</td>\n",
       "    </tr>\n",
       "    <tr>\n",
       "      <th>823</th>\n",
       "      <td>7329</td>\n",
       "      <td>0</td>\n",
       "      <td>26.5</td>\n",
       "      <td>14</td>\n",
       "      <td>instock</td>\n",
       "      <td>14680-1</td>\n",
       "    </tr>\n",
       "    <tr>\n",
       "      <th>824</th>\n",
       "      <td>7338</td>\n",
       "      <td>1</td>\n",
       "      <td>16.3</td>\n",
       "      <td>45</td>\n",
       "      <td>instock</td>\n",
       "      <td>16230</td>\n",
       "    </tr>\n",
       "  </tbody>\n",
       "</table></div>"
      ],
      "text/plain": [
       "     product_id  onsale_web  price  stock_quantity stock_status   id_web\n",
       "0          3847           1   24.2               0   outofstock    15298\n",
       "1          3849           1   34.3               0   outofstock    15296\n",
       "2          3850           1   20.8               0   outofstock    15300\n",
       "3          4032           1   14.1               0   outofstock    19814\n",
       "4          4039           1   46.0               0   outofstock    19815\n",
       "..          ...         ...    ...             ...          ...      ...\n",
       "820        7203           0   45.0              30      instock      NaN\n",
       "821        7204           0   45.0               9      instock      NaN\n",
       "822        7247           1   54.8              23      instock  13127-1\n",
       "823        7329           0   26.5              14      instock  14680-1\n",
       "824        7338           1   16.3              45      instock    16230\n",
       "\n",
       "[825 rows x 6 columns]"
      ]
     },
     "execution_count": 246,
     "metadata": {},
     "output_type": "execute_result"
    }
   ],
   "source": [
    "# Merge ERP | Liaison\n",
    "j_erp_liaison = pd.merge(df_erp,df_liaison,on='product_id',how='left')\n",
    "j_erp_liaison"
   ]
  },
  {
   "cell_type": "code",
   "execution_count": 247,
   "id": "b587c1b3",
   "metadata": {},
   "outputs": [
    {
     "name": "stdout",
     "output_type": "stream",
     "text": [
      "(825, 5)\n",
      "(825, 2)\n"
     ]
    },
    {
     "data": {
      "text/plain": [
       "(825, 6)"
      ]
     },
     "execution_count": 247,
     "metadata": {},
     "output_type": "execute_result"
    }
   ],
   "source": [
    "print(df_erp.shape)\n",
    "print(df_liaison.shape)\n",
    "j_erp_liaison.shape"
   ]
  },
  {
   "cell_type": "markdown",
   "id": "05cc9ca5",
   "metadata": {},
   "source": [
    "We perform a join from the left to keep all the values of the **df_erp** dataframe and to have a match with the **df_liaison** dataframe even if it is null.\n",
    "Moreover, we notice that we have exactly the same number of rows after the join, confirming our good join\n",
    "### Checking for missing values in the ERP-Liaison join:"
   ]
  },
  {
   "cell_type": "code",
   "execution_count": 248,
   "id": "8e36e8d6",
   "metadata": {},
   "outputs": [
    {
     "data": {
      "text/plain": [
       "product_id         0\n",
       "onsale_web         0\n",
       "price              0\n",
       "stock_quantity     0\n",
       "stock_status       0\n",
       "id_web            91\n",
       "dtype: int64"
      ]
     },
     "execution_count": 248,
     "metadata": {},
     "output_type": "execute_result"
    }
   ],
   "source": [
    "j_erp_liaison.isnull().sum()"
   ]
  },
  {
   "cell_type": "code",
   "execution_count": 249,
   "id": "01f0dbfc",
   "metadata": {},
   "outputs": [
    {
     "name": "stdout",
     "output_type": "stream",
     "text": [
      "df_liaison : We have 91 missing values for the variable 'id_web'.\n",
      "\n",
      "j_erp_liaison : We have 91 missing values for the variable 'id_web'.\n"
     ]
    }
   ],
   "source": [
    "# # To recall the df_link dataframe:\n",
    "print(\"df_liaison : We have\",df_liaison.isnull().sum()[1],\n",
    "      \"missing values for the variable 'id_web'.\")\n",
    "print()\n",
    "print(\"j_erp_liaison : We have\",j_erp_liaison.isnull().sum()[-1],\n",
    "      \"missing values for the variable 'id_web'.\")"
   ]
  },
  {
   "cell_type": "markdown",
   "id": "ce9d9221",
   "metadata": {},
   "source": [
    "### <font color = #9f343e>**Conclusion :** </font>\n",
    "We do have the **same missing values** for the **web_id**, which is logical with the join we made. We will have to take this into account in the analysis."
   ]
  },
  {
   "cell_type": "markdown",
   "id": "35add4ef",
   "metadata": {},
   "source": [
    "# <font color = #9f343e> 2.2 | Merge : df_liaison & df_web_product </font><a class=\"anchor\" id=\"section2.2\"></a>\n",
    "We perform a second merge between the **liaison** and **web_product** dataframes.\n",
    "\n",
    "**Reminder**: web_product is the sub-dataframe created from the web dataframe (taking into account only the products)"
   ]
  },
  {
   "cell_type": "code",
   "execution_count": 250,
   "id": "1a514b32",
   "metadata": {},
   "outputs": [
    {
     "name": "stdout",
     "output_type": "stream",
     "text": [
      "(896, 18)\n",
      "(716, 17)\n"
     ]
    }
   ],
   "source": [
    "## Merge liaison | web_product\n",
    "web_liaison = pd.merge(df_web_product,df_liaison,on=\"id_web\",how=\"left\")\n",
    "print(web_liaison.shape)\n",
    "print(df_web_product.shape)"
   ]
  },
  {
   "cell_type": "markdown",
   "id": "f048678f",
   "metadata": {},
   "source": [
    "We get way too many rows!\n",
    "\n",
    "This is due to the fact that our web_product dataframe contains 2 NaN in id_web and the dataframe link 91. \n",
    "**The join is therefore incorrect.**"
   ]
  },
  {
   "cell_type": "code",
   "execution_count": 251,
   "id": "a82ee93f",
   "metadata": {},
   "outputs": [
    {
     "data": {
      "text/html": [
       "<div><div id=d257123b-86d4-4576-85b3-88ff68d44d2d style=\"display:none; background-color:#9D6CFF; color:white; width:200px; height:30px; padding-left:5px; border-radius:4px; flex-direction:row; justify-content:space-around; align-items:center;\" onmouseover=\"this.style.backgroundColor='#BA9BF8'\" onmouseout=\"this.style.backgroundColor='#9D6CFF'\" onclick=\"window.commands?.execute('create-mitosheet-from-dataframe-output');\">See Full Dataframe in Mito</div> <script> if (window.commands.hasCommand('create-mitosheet-from-dataframe-output')) document.getElementById('d257123b-86d4-4576-85b3-88ff68d44d2d').style.display = 'flex' </script> <table border=\"1\" class=\"dataframe\">\n",
       "  <thead>\n",
       "    <tr style=\"text-align: right;\">\n",
       "      <th></th>\n",
       "      <th>id_web</th>\n",
       "      <th>total_sales</th>\n",
       "      <th>tax_status</th>\n",
       "      <th>post_author</th>\n",
       "      <th>post_date</th>\n",
       "      <th>post_date_gmt</th>\n",
       "      <th>post_title</th>\n",
       "      <th>post_excerpt</th>\n",
       "      <th>post_status</th>\n",
       "      <th>comment_status</th>\n",
       "      <th>ping_status</th>\n",
       "      <th>post_name</th>\n",
       "      <th>post_modified</th>\n",
       "      <th>post_modified_gmt</th>\n",
       "      <th>guid</th>\n",
       "      <th>post_type</th>\n",
       "      <th>post_mime_type</th>\n",
       "      <th>product_id</th>\n",
       "    </tr>\n",
       "  </thead>\n",
       "  <tbody>\n",
       "    <tr>\n",
       "      <th>0</th>\n",
       "      <td>bon-cadeau-25-euros</td>\n",
       "      <td>10.0</td>\n",
       "      <td>taxable</td>\n",
       "      <td>1.0</td>\n",
       "      <td>2018-06-01 13:53:46</td>\n",
       "      <td>2018-06-01 11:53:46</td>\n",
       "      <td>Bon cadeau de 25€</td>\n",
       "      <td>&lt;span style=\"color: #a85253;\"&gt;&lt;strong&gt;Parlons peu, parlons vin.&lt;/strong&gt;\\n&lt;strong&gt;Parlons cadeau !&lt;/strong&gt;&lt;/span&gt;\\n\\nUn bon cadeau à offrir à vos proches... sans modération !</td>\n",
       "      <td>publish</td>\n",
       "      <td>closed</td>\n",
       "      <td>closed</td>\n",
       "      <td>bon-cadeau-de-25-euros</td>\n",
       "      <td>2018-06-01 14:13:57</td>\n",
       "      <td>2018-06-01 12:13:57</td>\n",
       "      <td>https://www.bottle-neck.fr/?post_type=product&amp;#038;p=4954</td>\n",
       "      <td>product</td>\n",
       "      <td>NaN</td>\n",
       "      <td>4954</td>\n",
       "    </tr>\n",
       "    <tr>\n",
       "      <th>1</th>\n",
       "      <td>15298</td>\n",
       "      <td>6.0</td>\n",
       "      <td>taxable</td>\n",
       "      <td>2.0</td>\n",
       "      <td>2018-02-08 12:58:52</td>\n",
       "      <td>2018-02-08 11:58:52</td>\n",
       "      <td>Pierre Jean Villa Saint-Joseph Préface 2018</td>\n",
       "      <td>Il exhale un nez subtil, racé avec du poivre fin et de la tourbe. La bouche est une caresse grâce à des tanins élégants. De la haute couture.</td>\n",
       "      <td>publish</td>\n",
       "      <td>closed</td>\n",
       "      <td>closed</td>\n",
       "      <td>pierre-jean-villa-saint-joseph-preface-2018</td>\n",
       "      <td>2019-12-30 09:30:29</td>\n",
       "      <td>2019-12-30 08:30:29</td>\n",
       "      <td>https://www.bottle-neck.fr/?post_type=product&amp;#038;p=3847</td>\n",
       "      <td>product</td>\n",
       "      <td>NaN</td>\n",
       "      <td>3847</td>\n",
       "    </tr>\n",
       "    <tr>\n",
       "      <th>2</th>\n",
       "      <td>15296</td>\n",
       "      <td>0.0</td>\n",
       "      <td>taxable</td>\n",
       "      <td>2.0</td>\n",
       "      <td>2018-02-08 13:49:41</td>\n",
       "      <td>2018-02-08 12:49:41</td>\n",
       "      <td>Pierre Jean Villa Saint-Joseph Rouge Tildé 2017</td>\n",
       "      <td>Les vieilles vignes lui apportent une rare profondeur. L’attaque affiche de l’élégance. La bouche est portée par un minéral saisissant et des tanins de belle qualité. Grande bouteille !</td>\n",
       "      <td>publish</td>\n",
       "      <td>closed</td>\n",
       "      <td>closed</td>\n",
       "      <td>pierre-jean-villa-saint-joseph-tilde-2017</td>\n",
       "      <td>2019-12-21 09:00:17</td>\n",
       "      <td>2019-12-21 08:00:17</td>\n",
       "      <td>https://www.bottle-neck.fr/?post_type=product&amp;#038;p=3849</td>\n",
       "      <td>product</td>\n",
       "      <td>NaN</td>\n",
       "      <td>3849</td>\n",
       "    </tr>\n",
       "    <tr>\n",
       "      <th>3</th>\n",
       "      <td>15300</td>\n",
       "      <td>0.0</td>\n",
       "      <td>taxable</td>\n",
       "      <td>2.0</td>\n",
       "      <td>2018-02-08 14:08:36</td>\n",
       "      <td>2018-02-08 13:08:36</td>\n",
       "      <td>Pierre Jean Villa Crozes-Hermitage Accroche Coeur 2018</td>\n",
       "      <td>Dentelle de fruit de jeunes syrah, aux tanins légers et épicés. Hyper digeste. Un délice.</td>\n",
       "      <td>publish</td>\n",
       "      <td>closed</td>\n",
       "      <td>closed</td>\n",
       "      <td>pierre-jean-villa-croze-hermitage-accroche-coeur-2018</td>\n",
       "      <td>2020-06-26 18:15:03</td>\n",
       "      <td>2020-06-26 16:15:03</td>\n",
       "      <td>https://www.bottle-neck.fr/?post_type=product&amp;#038;p=3850</td>\n",
       "      <td>product</td>\n",
       "      <td>NaN</td>\n",
       "      <td>3850</td>\n",
       "    </tr>\n",
       "    <tr>\n",
       "      <th>4</th>\n",
       "      <td>19814</td>\n",
       "      <td>3.0</td>\n",
       "      <td>taxable</td>\n",
       "      <td>2.0</td>\n",
       "      <td>2018-02-09 14:01:05</td>\n",
       "      <td>2018-02-09 13:01:05</td>\n",
       "      <td>Pierre Jean Villa IGP Collines Rhodaniennes Gamine 2018</td>\n",
       "      <td>Gamine représente tout le fruité et la gourmandise de la syrah. Une touche épicée et des tanins fondus lui apportent une belle complexité.</td>\n",
       "      <td>publish</td>\n",
       "      <td>closed</td>\n",
       "      <td>closed</td>\n",
       "      <td>pierre-jean-villa-igp-gamine-2018</td>\n",
       "      <td>2020-01-04 16:36:01</td>\n",
       "      <td>2020-01-04 15:36:01</td>\n",
       "      <td>https://www.bottle-neck.fr/?post_type=product&amp;#038;p=4032</td>\n",
       "      <td>product</td>\n",
       "      <td>NaN</td>\n",
       "      <td>4032</td>\n",
       "    </tr>\n",
       "  </tbody>\n",
       "</table></div>"
      ],
      "text/plain": [
       "                id_web  total_sales tax_status  post_author  \\\n",
       "0  bon-cadeau-25-euros         10.0    taxable          1.0   \n",
       "1                15298          6.0    taxable          2.0   \n",
       "2                15296          0.0    taxable          2.0   \n",
       "3                15300          0.0    taxable          2.0   \n",
       "4                19814          3.0    taxable          2.0   \n",
       "\n",
       "            post_date       post_date_gmt  \\\n",
       "0 2018-06-01 13:53:46 2018-06-01 11:53:46   \n",
       "1 2018-02-08 12:58:52 2018-02-08 11:58:52   \n",
       "2 2018-02-08 13:49:41 2018-02-08 12:49:41   \n",
       "3 2018-02-08 14:08:36 2018-02-08 13:08:36   \n",
       "4 2018-02-09 14:01:05 2018-02-09 13:01:05   \n",
       "\n",
       "                                          post_title  \\\n",
       "0                                  Bon cadeau de 25€   \n",
       "1        Pierre Jean Villa Saint-Joseph Préface 2018   \n",
       "2    Pierre Jean Villa Saint-Joseph Rouge Tildé 2017   \n",
       "3  Pierre Jean Villa Crozes-Hermitage Accroche Co...   \n",
       "4  Pierre Jean Villa IGP Collines Rhodaniennes Ga...   \n",
       "\n",
       "                                        post_excerpt post_status  \\\n",
       "0  <span style=\"color: #a85253;\"><strong>Parlons ...     publish   \n",
       "1  Il exhale un nez subtil, racé avec du poivre f...     publish   \n",
       "2  Les vieilles vignes lui apportent une rare pro...     publish   \n",
       "3  Dentelle de fruit de jeunes syrah, aux tanins ...     publish   \n",
       "4  Gamine représente tout le fruité et la gourman...     publish   \n",
       "\n",
       "  comment_status ping_status  \\\n",
       "0         closed      closed   \n",
       "1         closed      closed   \n",
       "2         closed      closed   \n",
       "3         closed      closed   \n",
       "4         closed      closed   \n",
       "\n",
       "                                           post_name       post_modified  \\\n",
       "0                             bon-cadeau-de-25-euros 2018-06-01 14:13:57   \n",
       "1        pierre-jean-villa-saint-joseph-preface-2018 2019-12-30 09:30:29   \n",
       "2          pierre-jean-villa-saint-joseph-tilde-2017 2019-12-21 09:00:17   \n",
       "3  pierre-jean-villa-croze-hermitage-accroche-coe... 2020-06-26 18:15:03   \n",
       "4                  pierre-jean-villa-igp-gamine-2018 2020-01-04 16:36:01   \n",
       "\n",
       "    post_modified_gmt                                               guid  \\\n",
       "0 2018-06-01 12:13:57  https://www.bottle-neck.fr/?post_type=product&...   \n",
       "1 2019-12-30 08:30:29  https://www.bottle-neck.fr/?post_type=product&...   \n",
       "2 2019-12-21 08:00:17  https://www.bottle-neck.fr/?post_type=product&...   \n",
       "3 2020-06-26 16:15:03  https://www.bottle-neck.fr/?post_type=product&...   \n",
       "4 2020-01-04 15:36:01  https://www.bottle-neck.fr/?post_type=product&...   \n",
       "\n",
       "  post_type post_mime_type  product_id  \n",
       "0   product            NaN        4954  \n",
       "1   product            NaN        3847  \n",
       "2   product            NaN        3849  \n",
       "3   product            NaN        3850  \n",
       "4   product            NaN        4032  "
      ]
     },
     "execution_count": 251,
     "metadata": {},
     "output_type": "execute_result"
    }
   ],
   "source": [
    "web_liaison.head()"
   ]
  },
  {
   "cell_type": "code",
   "execution_count": 252,
   "id": "95984f82",
   "metadata": {},
   "outputs": [
    {
     "data": {
      "text/html": [
       "<div><div id=8fc5255d-b304-4bc4-a04d-51784f78b565 style=\"display:none; background-color:#9D6CFF; color:white; width:200px; height:30px; padding-left:5px; border-radius:4px; flex-direction:row; justify-content:space-around; align-items:center;\" onmouseover=\"this.style.backgroundColor='#BA9BF8'\" onmouseout=\"this.style.backgroundColor='#9D6CFF'\" onclick=\"window.commands?.execute('create-mitosheet-from-dataframe-output');\">See Full Dataframe in Mito</div> <script> if (window.commands.hasCommand('create-mitosheet-from-dataframe-output')) document.getElementById('8fc5255d-b304-4bc4-a04d-51784f78b565').style.display = 'flex' </script> <table border=\"1\" class=\"dataframe\">\n",
       "  <thead>\n",
       "    <tr style=\"text-align: right;\">\n",
       "      <th></th>\n",
       "      <th>id_web</th>\n",
       "      <th>guid</th>\n",
       "      <th>product_id</th>\n",
       "    </tr>\n",
       "  </thead>\n",
       "  <tbody>\n",
       "    <tr>\n",
       "      <th>0</th>\n",
       "      <td>bon-cadeau-25-euros</td>\n",
       "      <td>https://www.bottle-neck.fr/?post_type=product&amp;#038;p=4954</td>\n",
       "      <td>4954</td>\n",
       "    </tr>\n",
       "    <tr>\n",
       "      <th>1</th>\n",
       "      <td>15298</td>\n",
       "      <td>https://www.bottle-neck.fr/?post_type=product&amp;#038;p=3847</td>\n",
       "      <td>3847</td>\n",
       "    </tr>\n",
       "    <tr>\n",
       "      <th>2</th>\n",
       "      <td>15296</td>\n",
       "      <td>https://www.bottle-neck.fr/?post_type=product&amp;#038;p=3849</td>\n",
       "      <td>3849</td>\n",
       "    </tr>\n",
       "    <tr>\n",
       "      <th>3</th>\n",
       "      <td>15300</td>\n",
       "      <td>https://www.bottle-neck.fr/?post_type=product&amp;#038;p=3850</td>\n",
       "      <td>3850</td>\n",
       "    </tr>\n",
       "    <tr>\n",
       "      <th>4</th>\n",
       "      <td>19814</td>\n",
       "      <td>https://www.bottle-neck.fr/?post_type=product&amp;#038;p=4032</td>\n",
       "      <td>4032</td>\n",
       "    </tr>\n",
       "    <tr>\n",
       "      <th>...</th>\n",
       "      <td>...</td>\n",
       "      <td>...</td>\n",
       "      <td>...</td>\n",
       "    </tr>\n",
       "    <tr>\n",
       "      <th>891</th>\n",
       "      <td>16135</td>\n",
       "      <td>https://www.bottle-neck.fr/?post_type=product&amp;#038;p=6930</td>\n",
       "      <td>6930</td>\n",
       "    </tr>\n",
       "    <tr>\n",
       "      <th>892</th>\n",
       "      <td>15891</td>\n",
       "      <td>https://www.bottle-neck.fr/?post_type=product&amp;#038;p=7023</td>\n",
       "      <td>7023</td>\n",
       "    </tr>\n",
       "    <tr>\n",
       "      <th>893</th>\n",
       "      <td>15887</td>\n",
       "      <td>https://www.bottle-neck.fr/?post_type=product&amp;#038;p=7025</td>\n",
       "      <td>7025</td>\n",
       "    </tr>\n",
       "    <tr>\n",
       "      <th>894</th>\n",
       "      <td>13127-1</td>\n",
       "      <td>https://www.bottle-neck.fr/?post_type=product&amp;#038;p=7247</td>\n",
       "      <td>7247</td>\n",
       "    </tr>\n",
       "    <tr>\n",
       "      <th>895</th>\n",
       "      <td>16230</td>\n",
       "      <td>https://www.bottle-neck.fr/?post_type=product&amp;#038;p=7338</td>\n",
       "      <td>7338</td>\n",
       "    </tr>\n",
       "  </tbody>\n",
       "</table></div>"
      ],
      "text/plain": [
       "                  id_web  \\\n",
       "0    bon-cadeau-25-euros   \n",
       "1                  15298   \n",
       "2                  15296   \n",
       "3                  15300   \n",
       "4                  19814   \n",
       "..                   ...   \n",
       "891                16135   \n",
       "892                15891   \n",
       "893                15887   \n",
       "894              13127-1   \n",
       "895                16230   \n",
       "\n",
       "                                                          guid  product_id  \n",
       "0    https://www.bottle-neck.fr/?post_type=product&#038;p=4954        4954  \n",
       "1    https://www.bottle-neck.fr/?post_type=product&#038;p=3847        3847  \n",
       "2    https://www.bottle-neck.fr/?post_type=product&#038;p=3849        3849  \n",
       "3    https://www.bottle-neck.fr/?post_type=product&#038;p=3850        3850  \n",
       "4    https://www.bottle-neck.fr/?post_type=product&#038;p=4032        4032  \n",
       "..                                                         ...         ...  \n",
       "891  https://www.bottle-neck.fr/?post_type=product&#038;p=6930        6930  \n",
       "892  https://www.bottle-neck.fr/?post_type=product&#038;p=7023        7023  \n",
       "893  https://www.bottle-neck.fr/?post_type=product&#038;p=7025        7025  \n",
       "894  https://www.bottle-neck.fr/?post_type=product&#038;p=7247        7247  \n",
       "895  https://www.bottle-neck.fr/?post_type=product&#038;p=7338        7338  \n",
       "\n",
       "[896 rows x 3 columns]"
      ]
     },
     "metadata": {},
     "output_type": "display_data"
    }
   ],
   "source": [
    "# Display of 3 variables ([\"id_web\", \"guid\", \"product_id\"])\n",
    "pd.set_option(\"display.max_colwidth\",None)\n",
    "display(web_liaison[[\"id_web\",\"guid\",\"product_id\"]])\n",
    "pd.reset_option(\"max_colwidth\") # reset colwidth"
   ]
  },
  {
   "cell_type": "markdown",
   "id": "4d5d95b4",
   "metadata": {},
   "source": [
    "### Find the variable 'product_id' in the dataframe web_product :\n",
    "\n",
    "Looking at some variables, we notice that the last 4 digits of the **'guid'** variable can match **'product_id'**. We will check if the match is correct or not. \n",
    "\n",
    "To start with, we'll just delete the 'id_web' == NaN, they can cause us problems in the matching analysis since **df_liaison** has 91 missing values for (id_web). "
   ]
  },
  {
   "cell_type": "code",
   "execution_count": 253,
   "id": "375df143",
   "metadata": {},
   "outputs": [],
   "source": [
    "# Deleting web_id == NaN\n",
    "web_liaison_ana = web_liaison.copy()\n",
    "web_liaison_ana.drop(web_liaison_ana.loc[web_liaison_ana[\"id_web\"].isnull(),:].index, inplace=True)"
   ]
  },
  {
   "cell_type": "code",
   "execution_count": 254,
   "id": "01b1b617",
   "metadata": {},
   "outputs": [
    {
     "data": {
      "text/html": [
       "<div><div id=c4d4a3bd-e0f9-40dc-a2a8-52c80aa2fc95 style=\"display:none; background-color:#9D6CFF; color:white; width:200px; height:30px; padding-left:5px; border-radius:4px; flex-direction:row; justify-content:space-around; align-items:center;\" onmouseover=\"this.style.backgroundColor='#BA9BF8'\" onmouseout=\"this.style.backgroundColor='#9D6CFF'\" onclick=\"window.commands?.execute('create-mitosheet-from-dataframe-output');\">See Full Dataframe in Mito</div> <script> if (window.commands.hasCommand('create-mitosheet-from-dataframe-output')) document.getElementById('c4d4a3bd-e0f9-40dc-a2a8-52c80aa2fc95').style.display = 'flex' </script> <table border=\"1\" class=\"dataframe\">\n",
       "  <thead>\n",
       "    <tr style=\"text-align: right;\">\n",
       "      <th></th>\n",
       "      <th>id_web</th>\n",
       "      <th>guid</th>\n",
       "      <th>product_id</th>\n",
       "      <th>guid_4lastDigit</th>\n",
       "    </tr>\n",
       "  </thead>\n",
       "  <tbody>\n",
       "    <tr>\n",
       "      <th>0</th>\n",
       "      <td>bon-cadeau-25-euros</td>\n",
       "      <td>https://www.bottle-neck.fr/?post_type=product&amp;#038;p=4954</td>\n",
       "      <td>4954</td>\n",
       "      <td>4954</td>\n",
       "    </tr>\n",
       "    <tr>\n",
       "      <th>1</th>\n",
       "      <td>15298</td>\n",
       "      <td>https://www.bottle-neck.fr/?post_type=product&amp;#038;p=3847</td>\n",
       "      <td>3847</td>\n",
       "      <td>3847</td>\n",
       "    </tr>\n",
       "    <tr>\n",
       "      <th>2</th>\n",
       "      <td>15296</td>\n",
       "      <td>https://www.bottle-neck.fr/?post_type=product&amp;#038;p=3849</td>\n",
       "      <td>3849</td>\n",
       "      <td>3849</td>\n",
       "    </tr>\n",
       "    <tr>\n",
       "      <th>3</th>\n",
       "      <td>15300</td>\n",
       "      <td>https://www.bottle-neck.fr/?post_type=product&amp;#038;p=3850</td>\n",
       "      <td>3850</td>\n",
       "      <td>3850</td>\n",
       "    </tr>\n",
       "    <tr>\n",
       "      <th>4</th>\n",
       "      <td>19814</td>\n",
       "      <td>https://www.bottle-neck.fr/?post_type=product&amp;#038;p=4032</td>\n",
       "      <td>4032</td>\n",
       "      <td>4032</td>\n",
       "    </tr>\n",
       "    <tr>\n",
       "      <th>...</th>\n",
       "      <td>...</td>\n",
       "      <td>...</td>\n",
       "      <td>...</td>\n",
       "      <td>...</td>\n",
       "    </tr>\n",
       "    <tr>\n",
       "      <th>891</th>\n",
       "      <td>16135</td>\n",
       "      <td>https://www.bottle-neck.fr/?post_type=product&amp;#038;p=6930</td>\n",
       "      <td>6930</td>\n",
       "      <td>6930</td>\n",
       "    </tr>\n",
       "    <tr>\n",
       "      <th>892</th>\n",
       "      <td>15891</td>\n",
       "      <td>https://www.bottle-neck.fr/?post_type=product&amp;#038;p=7023</td>\n",
       "      <td>7023</td>\n",
       "      <td>7023</td>\n",
       "    </tr>\n",
       "    <tr>\n",
       "      <th>893</th>\n",
       "      <td>15887</td>\n",
       "      <td>https://www.bottle-neck.fr/?post_type=product&amp;#038;p=7025</td>\n",
       "      <td>7025</td>\n",
       "      <td>7025</td>\n",
       "    </tr>\n",
       "    <tr>\n",
       "      <th>894</th>\n",
       "      <td>13127-1</td>\n",
       "      <td>https://www.bottle-neck.fr/?post_type=product&amp;#038;p=7247</td>\n",
       "      <td>7247</td>\n",
       "      <td>7247</td>\n",
       "    </tr>\n",
       "    <tr>\n",
       "      <th>895</th>\n",
       "      <td>16230</td>\n",
       "      <td>https://www.bottle-neck.fr/?post_type=product&amp;#038;p=7338</td>\n",
       "      <td>7338</td>\n",
       "      <td>7338</td>\n",
       "    </tr>\n",
       "  </tbody>\n",
       "</table></div>"
      ],
      "text/plain": [
       "                  id_web                                               guid  \\\n",
       "0    bon-cadeau-25-euros  https://www.bottle-neck.fr/?post_type=product&...   \n",
       "1                  15298  https://www.bottle-neck.fr/?post_type=product&...   \n",
       "2                  15296  https://www.bottle-neck.fr/?post_type=product&...   \n",
       "3                  15300  https://www.bottle-neck.fr/?post_type=product&...   \n",
       "4                  19814  https://www.bottle-neck.fr/?post_type=product&...   \n",
       "..                   ...                                                ...   \n",
       "891                16135  https://www.bottle-neck.fr/?post_type=product&...   \n",
       "892                15891  https://www.bottle-neck.fr/?post_type=product&...   \n",
       "893                15887  https://www.bottle-neck.fr/?post_type=product&...   \n",
       "894              13127-1  https://www.bottle-neck.fr/?post_type=product&...   \n",
       "895                16230  https://www.bottle-neck.fr/?post_type=product&...   \n",
       "\n",
       "     product_id  guid_4lastDigit  \n",
       "0          4954             4954  \n",
       "1          3847             3847  \n",
       "2          3849             3849  \n",
       "3          3850             3850  \n",
       "4          4032             4032  \n",
       "..          ...              ...  \n",
       "891        6930             6930  \n",
       "892        7023             7023  \n",
       "893        7025             7025  \n",
       "894        7247             7247  \n",
       "895        7338             7338  \n",
       "\n",
       "[714 rows x 4 columns]"
      ]
     },
     "metadata": {},
     "output_type": "display_data"
    }
   ],
   "source": [
    "# Creation of a column to get the last 4 digits of the \"guid\" variable: \n",
    "web_liaison_ana[\"guid_4lastDigit\"] = web_liaison_ana[\"guid\"].str.strip().str[-4:] \n",
    "web_liaison_ana[\"guid_4lastDigit\"] = pd.to_numeric(web_liaison_ana[\"guid_4lastDigit\"]) # transformation to int for comparison\n",
    "display(web_liaison_ana[[\"id_web\",\"guid\",\"product_id\",\"guid_4lastDigit\"]])\n"
   ]
  },
  {
   "cell_type": "code",
   "execution_count": 255,
   "id": "6029158f",
   "metadata": {},
   "outputs": [
    {
     "data": {
      "text/plain": [
       "True"
      ]
     },
     "execution_count": 255,
     "metadata": {},
     "output_type": "execute_result"
    }
   ],
   "source": [
    "# We check if 'product_id' is equal to 'guid_4lastDigit' , our new variable\n",
    "web_liaison_ana[\"product_id\"].equals(web_liaison_ana[\"guid_4lastDigit\"])"
   ]
  },
  {
   "cell_type": "markdown",
   "id": "9a836e15",
   "metadata": {},
   "source": [
    "We found that the last 4 digits of the variable **'guid \"** corresponded to **'product_id'** !\n",
    "\n",
    "Therefore, we will make the modification in the dataframe **web_product**, then make the join with the table j_erp_liaison."
   ]
  },
  {
   "cell_type": "code",
   "execution_count": 256,
   "id": "ecc6cefd",
   "metadata": {},
   "outputs": [
    {
     "data": {
      "text/html": [
       "<div><div id=8a033edd-bd08-46a8-82b5-77ba591c1a17 style=\"display:none; background-color:#9D6CFF; color:white; width:200px; height:30px; padding-left:5px; border-radius:4px; flex-direction:row; justify-content:space-around; align-items:center;\" onmouseover=\"this.style.backgroundColor='#BA9BF8'\" onmouseout=\"this.style.backgroundColor='#9D6CFF'\" onclick=\"window.commands?.execute('create-mitosheet-from-dataframe-output');\">See Full Dataframe in Mito</div> <script> if (window.commands.hasCommand('create-mitosheet-from-dataframe-output')) document.getElementById('8a033edd-bd08-46a8-82b5-77ba591c1a17').style.display = 'flex' </script> <table border=\"1\" class=\"dataframe\">\n",
       "  <thead>\n",
       "    <tr style=\"text-align: right;\">\n",
       "      <th></th>\n",
       "      <th>id_web</th>\n",
       "      <th>total_sales</th>\n",
       "      <th>tax_status</th>\n",
       "      <th>post_author</th>\n",
       "      <th>post_date</th>\n",
       "      <th>post_date_gmt</th>\n",
       "      <th>post_title</th>\n",
       "      <th>post_excerpt</th>\n",
       "      <th>post_status</th>\n",
       "      <th>comment_status</th>\n",
       "      <th>ping_status</th>\n",
       "      <th>post_name</th>\n",
       "      <th>post_modified</th>\n",
       "      <th>post_modified_gmt</th>\n",
       "      <th>guid</th>\n",
       "      <th>post_type</th>\n",
       "      <th>post_mime_type</th>\n",
       "    </tr>\n",
       "  </thead>\n",
       "  <tbody>\n",
       "    <tr>\n",
       "      <th>0</th>\n",
       "      <td>bon-cadeau-25-euros</td>\n",
       "      <td>10.0</td>\n",
       "      <td>taxable</td>\n",
       "      <td>1.0</td>\n",
       "      <td>2018-06-01 13:53:46</td>\n",
       "      <td>2018-06-01 11:53:46</td>\n",
       "      <td>Bon cadeau de 25€</td>\n",
       "      <td>&lt;span style=\"color: #a85253;\"&gt;&lt;strong&gt;Parlons peu, parlons vin.&lt;/strong&gt;\\n&lt;strong&gt;Parlons cadeau !&lt;/strong&gt;&lt;/span&gt;\\n\\nUn bon cadeau à offrir à vos proches... sans modération !</td>\n",
       "      <td>publish</td>\n",
       "      <td>closed</td>\n",
       "      <td>closed</td>\n",
       "      <td>bon-cadeau-de-25-euros</td>\n",
       "      <td>2018-06-01 14:13:57</td>\n",
       "      <td>2018-06-01 12:13:57</td>\n",
       "      <td>https://www.bottle-neck.fr/?post_type=product&amp;#038;p=4954</td>\n",
       "      <td>product</td>\n",
       "      <td>NaN</td>\n",
       "    </tr>\n",
       "    <tr>\n",
       "      <th>1</th>\n",
       "      <td>15298</td>\n",
       "      <td>6.0</td>\n",
       "      <td>taxable</td>\n",
       "      <td>2.0</td>\n",
       "      <td>2018-02-08 12:58:52</td>\n",
       "      <td>2018-02-08 11:58:52</td>\n",
       "      <td>Pierre Jean Villa Saint-Joseph Préface 2018</td>\n",
       "      <td>Il exhale un nez subtil, racé avec du poivre fin et de la tourbe. La bouche est une caresse grâce à des tanins élégants. De la haute couture.</td>\n",
       "      <td>publish</td>\n",
       "      <td>closed</td>\n",
       "      <td>closed</td>\n",
       "      <td>pierre-jean-villa-saint-joseph-preface-2018</td>\n",
       "      <td>2019-12-30 09:30:29</td>\n",
       "      <td>2019-12-30 08:30:29</td>\n",
       "      <td>https://www.bottle-neck.fr/?post_type=product&amp;#038;p=3847</td>\n",
       "      <td>product</td>\n",
       "      <td>NaN</td>\n",
       "    </tr>\n",
       "    <tr>\n",
       "      <th>2</th>\n",
       "      <td>15296</td>\n",
       "      <td>0.0</td>\n",
       "      <td>taxable</td>\n",
       "      <td>2.0</td>\n",
       "      <td>2018-02-08 13:49:41</td>\n",
       "      <td>2018-02-08 12:49:41</td>\n",
       "      <td>Pierre Jean Villa Saint-Joseph Rouge Tildé 2017</td>\n",
       "      <td>Les vieilles vignes lui apportent une rare profondeur. L’attaque affiche de l’élégance. La bouche est portée par un minéral saisissant et des tanins de belle qualité. Grande bouteille !</td>\n",
       "      <td>publish</td>\n",
       "      <td>closed</td>\n",
       "      <td>closed</td>\n",
       "      <td>pierre-jean-villa-saint-joseph-tilde-2017</td>\n",
       "      <td>2019-12-21 09:00:17</td>\n",
       "      <td>2019-12-21 08:00:17</td>\n",
       "      <td>https://www.bottle-neck.fr/?post_type=product&amp;#038;p=3849</td>\n",
       "      <td>product</td>\n",
       "      <td>NaN</td>\n",
       "    </tr>\n",
       "    <tr>\n",
       "      <th>3</th>\n",
       "      <td>15300</td>\n",
       "      <td>0.0</td>\n",
       "      <td>taxable</td>\n",
       "      <td>2.0</td>\n",
       "      <td>2018-02-08 14:08:36</td>\n",
       "      <td>2018-02-08 13:08:36</td>\n",
       "      <td>Pierre Jean Villa Crozes-Hermitage Accroche Coeur 2018</td>\n",
       "      <td>Dentelle de fruit de jeunes syrah, aux tanins légers et épicés. Hyper digeste. Un délice.</td>\n",
       "      <td>publish</td>\n",
       "      <td>closed</td>\n",
       "      <td>closed</td>\n",
       "      <td>pierre-jean-villa-croze-hermitage-accroche-coeur-2018</td>\n",
       "      <td>2020-06-26 18:15:03</td>\n",
       "      <td>2020-06-26 16:15:03</td>\n",
       "      <td>https://www.bottle-neck.fr/?post_type=product&amp;#038;p=3850</td>\n",
       "      <td>product</td>\n",
       "      <td>NaN</td>\n",
       "    </tr>\n",
       "    <tr>\n",
       "      <th>4</th>\n",
       "      <td>19814</td>\n",
       "      <td>3.0</td>\n",
       "      <td>taxable</td>\n",
       "      <td>2.0</td>\n",
       "      <td>2018-02-09 14:01:05</td>\n",
       "      <td>2018-02-09 13:01:05</td>\n",
       "      <td>Pierre Jean Villa IGP Collines Rhodaniennes Gamine 2018</td>\n",
       "      <td>Gamine représente tout le fruité et la gourmandise de la syrah. Une touche épicée et des tanins fondus lui apportent une belle complexité.</td>\n",
       "      <td>publish</td>\n",
       "      <td>closed</td>\n",
       "      <td>closed</td>\n",
       "      <td>pierre-jean-villa-igp-gamine-2018</td>\n",
       "      <td>2020-01-04 16:36:01</td>\n",
       "      <td>2020-01-04 15:36:01</td>\n",
       "      <td>https://www.bottle-neck.fr/?post_type=product&amp;#038;p=4032</td>\n",
       "      <td>product</td>\n",
       "      <td>NaN</td>\n",
       "    </tr>\n",
       "  </tbody>\n",
       "</table></div>"
      ],
      "text/plain": [
       "                id_web  total_sales tax_status  post_author  \\\n",
       "0  bon-cadeau-25-euros         10.0    taxable          1.0   \n",
       "1                15298          6.0    taxable          2.0   \n",
       "2                15296          0.0    taxable          2.0   \n",
       "3                15300          0.0    taxable          2.0   \n",
       "4                19814          3.0    taxable          2.0   \n",
       "\n",
       "            post_date       post_date_gmt  \\\n",
       "0 2018-06-01 13:53:46 2018-06-01 11:53:46   \n",
       "1 2018-02-08 12:58:52 2018-02-08 11:58:52   \n",
       "2 2018-02-08 13:49:41 2018-02-08 12:49:41   \n",
       "3 2018-02-08 14:08:36 2018-02-08 13:08:36   \n",
       "4 2018-02-09 14:01:05 2018-02-09 13:01:05   \n",
       "\n",
       "                                          post_title  \\\n",
       "0                                  Bon cadeau de 25€   \n",
       "1        Pierre Jean Villa Saint-Joseph Préface 2018   \n",
       "2    Pierre Jean Villa Saint-Joseph Rouge Tildé 2017   \n",
       "3  Pierre Jean Villa Crozes-Hermitage Accroche Co...   \n",
       "4  Pierre Jean Villa IGP Collines Rhodaniennes Ga...   \n",
       "\n",
       "                                        post_excerpt post_status  \\\n",
       "0  <span style=\"color: #a85253;\"><strong>Parlons ...     publish   \n",
       "1  Il exhale un nez subtil, racé avec du poivre f...     publish   \n",
       "2  Les vieilles vignes lui apportent une rare pro...     publish   \n",
       "3  Dentelle de fruit de jeunes syrah, aux tanins ...     publish   \n",
       "4  Gamine représente tout le fruité et la gourman...     publish   \n",
       "\n",
       "  comment_status ping_status  \\\n",
       "0         closed      closed   \n",
       "1         closed      closed   \n",
       "2         closed      closed   \n",
       "3         closed      closed   \n",
       "4         closed      closed   \n",
       "\n",
       "                                           post_name       post_modified  \\\n",
       "0                             bon-cadeau-de-25-euros 2018-06-01 14:13:57   \n",
       "1        pierre-jean-villa-saint-joseph-preface-2018 2019-12-30 09:30:29   \n",
       "2          pierre-jean-villa-saint-joseph-tilde-2017 2019-12-21 09:00:17   \n",
       "3  pierre-jean-villa-croze-hermitage-accroche-coe... 2020-06-26 18:15:03   \n",
       "4                  pierre-jean-villa-igp-gamine-2018 2020-01-04 16:36:01   \n",
       "\n",
       "    post_modified_gmt                                               guid  \\\n",
       "0 2018-06-01 12:13:57  https://www.bottle-neck.fr/?post_type=product&...   \n",
       "1 2019-12-30 08:30:29  https://www.bottle-neck.fr/?post_type=product&...   \n",
       "2 2019-12-21 08:00:17  https://www.bottle-neck.fr/?post_type=product&...   \n",
       "3 2020-06-26 16:15:03  https://www.bottle-neck.fr/?post_type=product&...   \n",
       "4 2020-01-04 15:36:01  https://www.bottle-neck.fr/?post_type=product&...   \n",
       "\n",
       "  post_type post_mime_type  \n",
       "0   product            NaN  \n",
       "1   product            NaN  \n",
       "2   product            NaN  \n",
       "3   product            NaN  \n",
       "4   product            NaN  "
      ]
     },
     "execution_count": 256,
     "metadata": {},
     "output_type": "execute_result"
    }
   ],
   "source": [
    "df_web_product.head()"
   ]
  },
  {
   "cell_type": "code",
   "execution_count": 257,
   "id": "80bddc15",
   "metadata": {},
   "outputs": [],
   "source": [
    "# Creation of the new variable directly in web_product : \n",
    "df_web_product = df_web_product.assign(product_id = df_web_product[\"guid\"].str.strip().str[-4:] )\n",
    "df_web_product[\"product_id\"] = pd.to_numeric(df_web_product[\"product_id\"])"
   ]
  },
  {
   "cell_type": "code",
   "execution_count": 258,
   "id": "aca5ffc8",
   "metadata": {},
   "outputs": [
    {
     "data": {
      "text/html": [
       "<div><div id=918eb9a2-1108-46df-9c79-fd68bcd32674 style=\"display:none; background-color:#9D6CFF; color:white; width:200px; height:30px; padding-left:5px; border-radius:4px; flex-direction:row; justify-content:space-around; align-items:center;\" onmouseover=\"this.style.backgroundColor='#BA9BF8'\" onmouseout=\"this.style.backgroundColor='#9D6CFF'\" onclick=\"window.commands?.execute('create-mitosheet-from-dataframe-output');\">See Full Dataframe in Mito</div> <script> if (window.commands.hasCommand('create-mitosheet-from-dataframe-output')) document.getElementById('918eb9a2-1108-46df-9c79-fd68bcd32674').style.display = 'flex' </script> <table border=\"1\" class=\"dataframe\">\n",
       "  <thead>\n",
       "    <tr style=\"text-align: right;\">\n",
       "      <th></th>\n",
       "      <th>id_web</th>\n",
       "      <th>total_sales</th>\n",
       "      <th>tax_status</th>\n",
       "      <th>post_author</th>\n",
       "      <th>post_date</th>\n",
       "      <th>post_date_gmt</th>\n",
       "      <th>post_title</th>\n",
       "      <th>post_excerpt</th>\n",
       "      <th>post_status</th>\n",
       "      <th>comment_status</th>\n",
       "      <th>ping_status</th>\n",
       "      <th>post_name</th>\n",
       "      <th>post_modified</th>\n",
       "      <th>post_modified_gmt</th>\n",
       "      <th>guid</th>\n",
       "      <th>post_type</th>\n",
       "      <th>post_mime_type</th>\n",
       "      <th>product_id</th>\n",
       "    </tr>\n",
       "  </thead>\n",
       "  <tbody>\n",
       "    <tr>\n",
       "      <th>448</th>\n",
       "      <td>NaN</td>\n",
       "      <td>0.0</td>\n",
       "      <td>taxable</td>\n",
       "      <td>2.0</td>\n",
       "      <td>2018-07-31 12:07:23</td>\n",
       "      <td>2018-07-31 10:07:23</td>\n",
       "      <td>Pierre Jean Villa Côte Rôtie Fongeant 2017</td>\n",
       "      <td>Fongeant 2017 explose sur un fruit brillant, préserve par un élevage fin. C'est la démonstration qu'une cuvée bâtie pour la garde peut exprimer de la finesse dès sa jeunesse.</td>\n",
       "      <td>publish</td>\n",
       "      <td>closed</td>\n",
       "      <td>closed</td>\n",
       "      <td>pierre-jean-villa-cote-rotie-fongeant-2017</td>\n",
       "      <td>2019-11-02 13:24:15</td>\n",
       "      <td>2019-11-02 12:24:15</td>\n",
       "      <td>https://www.bottle-neck.fr/?post_type=product&amp;#038;p=5070</td>\n",
       "      <td>product</td>\n",
       "      <td>NaN</td>\n",
       "      <td>5070</td>\n",
       "    </tr>\n",
       "    <tr>\n",
       "      <th>449</th>\n",
       "      <td>NaN</td>\n",
       "      <td>0.0</td>\n",
       "      <td>taxable</td>\n",
       "      <td>2.0</td>\n",
       "      <td>2018-08-08 11:23:43</td>\n",
       "      <td>2018-08-08 09:23:43</td>\n",
       "      <td>Pierre Jean Villa Condrieu Jardin Suspendu 2018</td>\n",
       "      <td>&lt;span id=\"u1194-83\"&gt;Le nez séduit par ses parfums de fruit blancs pochés et de verveine. Délicate, juste et maîtrisée, sa longueur est saisissant&lt;/span&gt;&lt;span id=\"u1194-84\"&gt;e&lt;/span&gt;.</td>\n",
       "      <td>publish</td>\n",
       "      <td>closed</td>\n",
       "      <td>closed</td>\n",
       "      <td>pierre-jean-villa-condrieu-suspendu-2018</td>\n",
       "      <td>2019-11-02 13:24:01</td>\n",
       "      <td>2019-11-02 12:24:01</td>\n",
       "      <td>https://www.bottle-neck.fr/?post_type=product&amp;#038;p=5075</td>\n",
       "      <td>product</td>\n",
       "      <td>NaN</td>\n",
       "      <td>5075</td>\n",
       "    </tr>\n",
       "  </tbody>\n",
       "</table></div>"
      ],
      "text/plain": [
       "    id_web  total_sales tax_status  post_author           post_date  \\\n",
       "448    NaN          0.0    taxable          2.0 2018-07-31 12:07:23   \n",
       "449    NaN          0.0    taxable          2.0 2018-08-08 11:23:43   \n",
       "\n",
       "          post_date_gmt                                       post_title  \\\n",
       "448 2018-07-31 10:07:23       Pierre Jean Villa Côte Rôtie Fongeant 2017   \n",
       "449 2018-08-08 09:23:43  Pierre Jean Villa Condrieu Jardin Suspendu 2018   \n",
       "\n",
       "                                          post_excerpt post_status  \\\n",
       "448  Fongeant 2017 explose sur un fruit brillant, p...     publish   \n",
       "449  <span id=\"u1194-83\">Le nez séduit par ses parf...     publish   \n",
       "\n",
       "    comment_status ping_status                                   post_name  \\\n",
       "448         closed      closed  pierre-jean-villa-cote-rotie-fongeant-2017   \n",
       "449         closed      closed    pierre-jean-villa-condrieu-suspendu-2018   \n",
       "\n",
       "          post_modified   post_modified_gmt  \\\n",
       "448 2019-11-02 13:24:15 2019-11-02 12:24:15   \n",
       "449 2019-11-02 13:24:01 2019-11-02 12:24:01   \n",
       "\n",
       "                                                  guid post_type  \\\n",
       "448  https://www.bottle-neck.fr/?post_type=product&...   product   \n",
       "449  https://www.bottle-neck.fr/?post_type=product&...   product   \n",
       "\n",
       "    post_mime_type  product_id  \n",
       "448            NaN        5070  \n",
       "449            NaN        5075  "
      ]
     },
     "execution_count": 258,
     "metadata": {},
     "output_type": "execute_result"
    }
   ],
   "source": [
    "# Verification on web_id == NaN\n",
    "df_web_product.loc[df_web[\"id_web\"].isnull(),:]"
   ]
  },
  {
   "cell_type": "markdown",
   "id": "ca7091e7",
   "metadata": {},
   "source": [
    "### <font color = #9f343e>**Conclusion :** </font>\n",
    "\n",
    "We found a way to get the **product_id** of the **id_web** nulls of our web_product dataframe.\n",
    "\n",
    "So we will perform a final join, to have only one database."
   ]
  },
  {
   "cell_type": "markdown",
   "id": "09bb3e14",
   "metadata": {},
   "source": [
    "# <font color = #9f343e>2.3 | Merge : erp_liaison & df_web_product </font> <a class=\"anchor\" id=\"section2.3\"></a>\n",
    "We now perform the final join between the first join and the **web_product** dataframe \n",
    "\n",
    "***Notes:***\n",
    "- we will take the sub-dataframe of df_web that corresponds only to products, i.e. df_web_product*.\n",
    "- the join will be done on the variable **'product_id'** that we have created thanks to the correspondence found previously*.\n"
   ]
  },
  {
   "cell_type": "code",
   "execution_count": 259,
   "id": "2cdb864e",
   "metadata": {},
   "outputs": [
    {
     "data": {
      "text/html": [
       "<div><div id=67517730-3375-40d9-a18d-28538c9dad86 style=\"display:none; background-color:#9D6CFF; color:white; width:200px; height:30px; padding-left:5px; border-radius:4px; flex-direction:row; justify-content:space-around; align-items:center;\" onmouseover=\"this.style.backgroundColor='#BA9BF8'\" onmouseout=\"this.style.backgroundColor='#9D6CFF'\" onclick=\"window.commands?.execute('create-mitosheet-from-dataframe-output');\">See Full Dataframe in Mito</div> <script> if (window.commands.hasCommand('create-mitosheet-from-dataframe-output')) document.getElementById('67517730-3375-40d9-a18d-28538c9dad86').style.display = 'flex' </script> <table border=\"1\" class=\"dataframe\">\n",
       "  <thead>\n",
       "    <tr style=\"text-align: right;\">\n",
       "      <th></th>\n",
       "      <th>id_web</th>\n",
       "      <th>total_sales</th>\n",
       "      <th>tax_status</th>\n",
       "      <th>post_author</th>\n",
       "      <th>post_date</th>\n",
       "      <th>post_date_gmt</th>\n",
       "      <th>post_title</th>\n",
       "      <th>post_excerpt</th>\n",
       "      <th>post_status</th>\n",
       "      <th>comment_status</th>\n",
       "      <th>ping_status</th>\n",
       "      <th>post_name</th>\n",
       "      <th>post_modified</th>\n",
       "      <th>post_modified_gmt</th>\n",
       "      <th>guid</th>\n",
       "      <th>post_type</th>\n",
       "      <th>post_mime_type</th>\n",
       "      <th>product_id</th>\n",
       "    </tr>\n",
       "  </thead>\n",
       "  <tbody>\n",
       "    <tr>\n",
       "      <th>0</th>\n",
       "      <td>bon-cadeau-25-euros</td>\n",
       "      <td>10.0</td>\n",
       "      <td>taxable</td>\n",
       "      <td>1.0</td>\n",
       "      <td>2018-06-01 13:53:46</td>\n",
       "      <td>2018-06-01 11:53:46</td>\n",
       "      <td>Bon cadeau de 25€</td>\n",
       "      <td>&lt;span style=\"color: #a85253;\"&gt;&lt;strong&gt;Parlons peu, parlons vin.&lt;/strong&gt;\\n&lt;strong&gt;Parlons cadeau !&lt;/strong&gt;&lt;/span&gt;\\n\\nUn bon cadeau à offrir à vos proches... sans modération !</td>\n",
       "      <td>publish</td>\n",
       "      <td>closed</td>\n",
       "      <td>closed</td>\n",
       "      <td>bon-cadeau-de-25-euros</td>\n",
       "      <td>2018-06-01 14:13:57</td>\n",
       "      <td>2018-06-01 12:13:57</td>\n",
       "      <td>https://www.bottle-neck.fr/?post_type=product&amp;#038;p=4954</td>\n",
       "      <td>product</td>\n",
       "      <td>NaN</td>\n",
       "      <td>4954</td>\n",
       "    </tr>\n",
       "    <tr>\n",
       "      <th>1</th>\n",
       "      <td>15298</td>\n",
       "      <td>6.0</td>\n",
       "      <td>taxable</td>\n",
       "      <td>2.0</td>\n",
       "      <td>2018-02-08 12:58:52</td>\n",
       "      <td>2018-02-08 11:58:52</td>\n",
       "      <td>Pierre Jean Villa Saint-Joseph Préface 2018</td>\n",
       "      <td>Il exhale un nez subtil, racé avec du poivre fin et de la tourbe. La bouche est une caresse grâce à des tanins élégants. De la haute couture.</td>\n",
       "      <td>publish</td>\n",
       "      <td>closed</td>\n",
       "      <td>closed</td>\n",
       "      <td>pierre-jean-villa-saint-joseph-preface-2018</td>\n",
       "      <td>2019-12-30 09:30:29</td>\n",
       "      <td>2019-12-30 08:30:29</td>\n",
       "      <td>https://www.bottle-neck.fr/?post_type=product&amp;#038;p=3847</td>\n",
       "      <td>product</td>\n",
       "      <td>NaN</td>\n",
       "      <td>3847</td>\n",
       "    </tr>\n",
       "    <tr>\n",
       "      <th>2</th>\n",
       "      <td>15296</td>\n",
       "      <td>0.0</td>\n",
       "      <td>taxable</td>\n",
       "      <td>2.0</td>\n",
       "      <td>2018-02-08 13:49:41</td>\n",
       "      <td>2018-02-08 12:49:41</td>\n",
       "      <td>Pierre Jean Villa Saint-Joseph Rouge Tildé 2017</td>\n",
       "      <td>Les vieilles vignes lui apportent une rare profondeur. L’attaque affiche de l’élégance. La bouche est portée par un minéral saisissant et des tanins de belle qualité. Grande bouteille !</td>\n",
       "      <td>publish</td>\n",
       "      <td>closed</td>\n",
       "      <td>closed</td>\n",
       "      <td>pierre-jean-villa-saint-joseph-tilde-2017</td>\n",
       "      <td>2019-12-21 09:00:17</td>\n",
       "      <td>2019-12-21 08:00:17</td>\n",
       "      <td>https://www.bottle-neck.fr/?post_type=product&amp;#038;p=3849</td>\n",
       "      <td>product</td>\n",
       "      <td>NaN</td>\n",
       "      <td>3849</td>\n",
       "    </tr>\n",
       "    <tr>\n",
       "      <th>3</th>\n",
       "      <td>15300</td>\n",
       "      <td>0.0</td>\n",
       "      <td>taxable</td>\n",
       "      <td>2.0</td>\n",
       "      <td>2018-02-08 14:08:36</td>\n",
       "      <td>2018-02-08 13:08:36</td>\n",
       "      <td>Pierre Jean Villa Crozes-Hermitage Accroche Coeur 2018</td>\n",
       "      <td>Dentelle de fruit de jeunes syrah, aux tanins légers et épicés. Hyper digeste. Un délice.</td>\n",
       "      <td>publish</td>\n",
       "      <td>closed</td>\n",
       "      <td>closed</td>\n",
       "      <td>pierre-jean-villa-croze-hermitage-accroche-coeur-2018</td>\n",
       "      <td>2020-06-26 18:15:03</td>\n",
       "      <td>2020-06-26 16:15:03</td>\n",
       "      <td>https://www.bottle-neck.fr/?post_type=product&amp;#038;p=3850</td>\n",
       "      <td>product</td>\n",
       "      <td>NaN</td>\n",
       "      <td>3850</td>\n",
       "    </tr>\n",
       "    <tr>\n",
       "      <th>4</th>\n",
       "      <td>19814</td>\n",
       "      <td>3.0</td>\n",
       "      <td>taxable</td>\n",
       "      <td>2.0</td>\n",
       "      <td>2018-02-09 14:01:05</td>\n",
       "      <td>2018-02-09 13:01:05</td>\n",
       "      <td>Pierre Jean Villa IGP Collines Rhodaniennes Gamine 2018</td>\n",
       "      <td>Gamine représente tout le fruité et la gourmandise de la syrah. Une touche épicée et des tanins fondus lui apportent une belle complexité.</td>\n",
       "      <td>publish</td>\n",
       "      <td>closed</td>\n",
       "      <td>closed</td>\n",
       "      <td>pierre-jean-villa-igp-gamine-2018</td>\n",
       "      <td>2020-01-04 16:36:01</td>\n",
       "      <td>2020-01-04 15:36:01</td>\n",
       "      <td>https://www.bottle-neck.fr/?post_type=product&amp;#038;p=4032</td>\n",
       "      <td>product</td>\n",
       "      <td>NaN</td>\n",
       "      <td>4032</td>\n",
       "    </tr>\n",
       "  </tbody>\n",
       "</table></div>"
      ],
      "text/plain": [
       "                id_web  total_sales tax_status  post_author  \\\n",
       "0  bon-cadeau-25-euros         10.0    taxable          1.0   \n",
       "1                15298          6.0    taxable          2.0   \n",
       "2                15296          0.0    taxable          2.0   \n",
       "3                15300          0.0    taxable          2.0   \n",
       "4                19814          3.0    taxable          2.0   \n",
       "\n",
       "            post_date       post_date_gmt  \\\n",
       "0 2018-06-01 13:53:46 2018-06-01 11:53:46   \n",
       "1 2018-02-08 12:58:52 2018-02-08 11:58:52   \n",
       "2 2018-02-08 13:49:41 2018-02-08 12:49:41   \n",
       "3 2018-02-08 14:08:36 2018-02-08 13:08:36   \n",
       "4 2018-02-09 14:01:05 2018-02-09 13:01:05   \n",
       "\n",
       "                                          post_title  \\\n",
       "0                                  Bon cadeau de 25€   \n",
       "1        Pierre Jean Villa Saint-Joseph Préface 2018   \n",
       "2    Pierre Jean Villa Saint-Joseph Rouge Tildé 2017   \n",
       "3  Pierre Jean Villa Crozes-Hermitage Accroche Co...   \n",
       "4  Pierre Jean Villa IGP Collines Rhodaniennes Ga...   \n",
       "\n",
       "                                        post_excerpt post_status  \\\n",
       "0  <span style=\"color: #a85253;\"><strong>Parlons ...     publish   \n",
       "1  Il exhale un nez subtil, racé avec du poivre f...     publish   \n",
       "2  Les vieilles vignes lui apportent une rare pro...     publish   \n",
       "3  Dentelle de fruit de jeunes syrah, aux tanins ...     publish   \n",
       "4  Gamine représente tout le fruité et la gourman...     publish   \n",
       "\n",
       "  comment_status ping_status  \\\n",
       "0         closed      closed   \n",
       "1         closed      closed   \n",
       "2         closed      closed   \n",
       "3         closed      closed   \n",
       "4         closed      closed   \n",
       "\n",
       "                                           post_name       post_modified  \\\n",
       "0                             bon-cadeau-de-25-euros 2018-06-01 14:13:57   \n",
       "1        pierre-jean-villa-saint-joseph-preface-2018 2019-12-30 09:30:29   \n",
       "2          pierre-jean-villa-saint-joseph-tilde-2017 2019-12-21 09:00:17   \n",
       "3  pierre-jean-villa-croze-hermitage-accroche-coe... 2020-06-26 18:15:03   \n",
       "4                  pierre-jean-villa-igp-gamine-2018 2020-01-04 16:36:01   \n",
       "\n",
       "    post_modified_gmt                                               guid  \\\n",
       "0 2018-06-01 12:13:57  https://www.bottle-neck.fr/?post_type=product&...   \n",
       "1 2019-12-30 08:30:29  https://www.bottle-neck.fr/?post_type=product&...   \n",
       "2 2019-12-21 08:00:17  https://www.bottle-neck.fr/?post_type=product&...   \n",
       "3 2020-06-26 16:15:03  https://www.bottle-neck.fr/?post_type=product&...   \n",
       "4 2020-01-04 15:36:01  https://www.bottle-neck.fr/?post_type=product&...   \n",
       "\n",
       "  post_type post_mime_type  product_id  \n",
       "0   product            NaN        4954  \n",
       "1   product            NaN        3847  \n",
       "2   product            NaN        3849  \n",
       "3   product            NaN        3850  \n",
       "4   product            NaN        4032  "
      ]
     },
     "execution_count": 259,
     "metadata": {},
     "output_type": "execute_result"
    }
   ],
   "source": [
    "df_web_product.head()"
   ]
  },
  {
   "cell_type": "code",
   "execution_count": 260,
   "id": "374610ca",
   "metadata": {
    "scrolled": false
   },
   "outputs": [
    {
     "data": {
      "text/html": [
       "<div><div id=6cdc1855-d3cf-48bd-857d-3158cc1254a7 style=\"display:none; background-color:#9D6CFF; color:white; width:200px; height:30px; padding-left:5px; border-radius:4px; flex-direction:row; justify-content:space-around; align-items:center;\" onmouseover=\"this.style.backgroundColor='#BA9BF8'\" onmouseout=\"this.style.backgroundColor='#9D6CFF'\" onclick=\"window.commands?.execute('create-mitosheet-from-dataframe-output');\">See Full Dataframe in Mito</div> <script> if (window.commands.hasCommand('create-mitosheet-from-dataframe-output')) document.getElementById('6cdc1855-d3cf-48bd-857d-3158cc1254a7').style.display = 'flex' </script> <table border=\"1\" class=\"dataframe\">\n",
       "  <thead>\n",
       "    <tr style=\"text-align: right;\">\n",
       "      <th></th>\n",
       "      <th>id_web_x</th>\n",
       "      <th>total_sales</th>\n",
       "      <th>tax_status</th>\n",
       "      <th>post_author</th>\n",
       "      <th>post_date</th>\n",
       "      <th>post_date_gmt</th>\n",
       "      <th>post_title</th>\n",
       "      <th>post_excerpt</th>\n",
       "      <th>post_status</th>\n",
       "      <th>comment_status</th>\n",
       "      <th>...</th>\n",
       "      <th>post_modified_gmt</th>\n",
       "      <th>guid</th>\n",
       "      <th>post_type</th>\n",
       "      <th>post_mime_type</th>\n",
       "      <th>product_id</th>\n",
       "      <th>onsale_web</th>\n",
       "      <th>price</th>\n",
       "      <th>stock_quantity</th>\n",
       "      <th>stock_status</th>\n",
       "      <th>id_web_y</th>\n",
       "    </tr>\n",
       "  </thead>\n",
       "  <tbody>\n",
       "    <tr>\n",
       "      <th>0</th>\n",
       "      <td>bon-cadeau-25-euros</td>\n",
       "      <td>10.0</td>\n",
       "      <td>taxable</td>\n",
       "      <td>1.0</td>\n",
       "      <td>2018-06-01 13:53:46</td>\n",
       "      <td>2018-06-01 11:53:46</td>\n",
       "      <td>Bon cadeau de 25€</td>\n",
       "      <td>&lt;span style=\"color: #a85253;\"&gt;&lt;strong&gt;Parlons peu, parlons vin.&lt;/strong&gt;\\n&lt;strong&gt;Parlons cadeau !&lt;/strong&gt;&lt;/span&gt;\\n\\nUn bon cadeau à offrir à vos proches... sans modération !</td>\n",
       "      <td>publish</td>\n",
       "      <td>closed</td>\n",
       "      <td>...</td>\n",
       "      <td>2018-06-01 12:13:57</td>\n",
       "      <td>https://www.bottle-neck.fr/?post_type=product&amp;#038;p=4954</td>\n",
       "      <td>product</td>\n",
       "      <td>NaN</td>\n",
       "      <td>4954</td>\n",
       "      <td>1</td>\n",
       "      <td>25.0</td>\n",
       "      <td>0</td>\n",
       "      <td>instock</td>\n",
       "      <td>bon-cadeau-25-euros</td>\n",
       "    </tr>\n",
       "    <tr>\n",
       "      <th>1</th>\n",
       "      <td>15298</td>\n",
       "      <td>6.0</td>\n",
       "      <td>taxable</td>\n",
       "      <td>2.0</td>\n",
       "      <td>2018-02-08 12:58:52</td>\n",
       "      <td>2018-02-08 11:58:52</td>\n",
       "      <td>Pierre Jean Villa Saint-Joseph Préface 2018</td>\n",
       "      <td>Il exhale un nez subtil, racé avec du poivre fin et de la tourbe. La bouche est une caresse grâce à des tanins élégants. De la haute couture.</td>\n",
       "      <td>publish</td>\n",
       "      <td>closed</td>\n",
       "      <td>...</td>\n",
       "      <td>2019-12-30 08:30:29</td>\n",
       "      <td>https://www.bottle-neck.fr/?post_type=product&amp;#038;p=3847</td>\n",
       "      <td>product</td>\n",
       "      <td>NaN</td>\n",
       "      <td>3847</td>\n",
       "      <td>1</td>\n",
       "      <td>24.2</td>\n",
       "      <td>0</td>\n",
       "      <td>outofstock</td>\n",
       "      <td>15298</td>\n",
       "    </tr>\n",
       "    <tr>\n",
       "      <th>2</th>\n",
       "      <td>15296</td>\n",
       "      <td>0.0</td>\n",
       "      <td>taxable</td>\n",
       "      <td>2.0</td>\n",
       "      <td>2018-02-08 13:49:41</td>\n",
       "      <td>2018-02-08 12:49:41</td>\n",
       "      <td>Pierre Jean Villa Saint-Joseph Rouge Tildé 2017</td>\n",
       "      <td>Les vieilles vignes lui apportent une rare profondeur. L’attaque affiche de l’élégance. La bouche est portée par un minéral saisissant et des tanins de belle qualité. Grande bouteille !</td>\n",
       "      <td>publish</td>\n",
       "      <td>closed</td>\n",
       "      <td>...</td>\n",
       "      <td>2019-12-21 08:00:17</td>\n",
       "      <td>https://www.bottle-neck.fr/?post_type=product&amp;#038;p=3849</td>\n",
       "      <td>product</td>\n",
       "      <td>NaN</td>\n",
       "      <td>3849</td>\n",
       "      <td>1</td>\n",
       "      <td>34.3</td>\n",
       "      <td>0</td>\n",
       "      <td>outofstock</td>\n",
       "      <td>15296</td>\n",
       "    </tr>\n",
       "    <tr>\n",
       "      <th>3</th>\n",
       "      <td>15300</td>\n",
       "      <td>0.0</td>\n",
       "      <td>taxable</td>\n",
       "      <td>2.0</td>\n",
       "      <td>2018-02-08 14:08:36</td>\n",
       "      <td>2018-02-08 13:08:36</td>\n",
       "      <td>Pierre Jean Villa Crozes-Hermitage Accroche Coeur 2018</td>\n",
       "      <td>Dentelle de fruit de jeunes syrah, aux tanins légers et épicés. Hyper digeste. Un délice.</td>\n",
       "      <td>publish</td>\n",
       "      <td>closed</td>\n",
       "      <td>...</td>\n",
       "      <td>2020-06-26 16:15:03</td>\n",
       "      <td>https://www.bottle-neck.fr/?post_type=product&amp;#038;p=3850</td>\n",
       "      <td>product</td>\n",
       "      <td>NaN</td>\n",
       "      <td>3850</td>\n",
       "      <td>1</td>\n",
       "      <td>20.8</td>\n",
       "      <td>0</td>\n",
       "      <td>outofstock</td>\n",
       "      <td>15300</td>\n",
       "    </tr>\n",
       "    <tr>\n",
       "      <th>4</th>\n",
       "      <td>19814</td>\n",
       "      <td>3.0</td>\n",
       "      <td>taxable</td>\n",
       "      <td>2.0</td>\n",
       "      <td>2018-02-09 14:01:05</td>\n",
       "      <td>2018-02-09 13:01:05</td>\n",
       "      <td>Pierre Jean Villa IGP Collines Rhodaniennes Gamine 2018</td>\n",
       "      <td>Gamine représente tout le fruité et la gourmandise de la syrah. Une touche épicée et des tanins fondus lui apportent une belle complexité.</td>\n",
       "      <td>publish</td>\n",
       "      <td>closed</td>\n",
       "      <td>...</td>\n",
       "      <td>2020-01-04 15:36:01</td>\n",
       "      <td>https://www.bottle-neck.fr/?post_type=product&amp;#038;p=4032</td>\n",
       "      <td>product</td>\n",
       "      <td>NaN</td>\n",
       "      <td>4032</td>\n",
       "      <td>1</td>\n",
       "      <td>14.1</td>\n",
       "      <td>0</td>\n",
       "      <td>outofstock</td>\n",
       "      <td>19814</td>\n",
       "    </tr>\n",
       "  </tbody>\n",
       "</table></div>"
      ],
      "text/plain": [
       "              id_web_x  total_sales tax_status  post_author  \\\n",
       "0  bon-cadeau-25-euros         10.0    taxable          1.0   \n",
       "1                15298          6.0    taxable          2.0   \n",
       "2                15296          0.0    taxable          2.0   \n",
       "3                15300          0.0    taxable          2.0   \n",
       "4                19814          3.0    taxable          2.0   \n",
       "\n",
       "            post_date       post_date_gmt  \\\n",
       "0 2018-06-01 13:53:46 2018-06-01 11:53:46   \n",
       "1 2018-02-08 12:58:52 2018-02-08 11:58:52   \n",
       "2 2018-02-08 13:49:41 2018-02-08 12:49:41   \n",
       "3 2018-02-08 14:08:36 2018-02-08 13:08:36   \n",
       "4 2018-02-09 14:01:05 2018-02-09 13:01:05   \n",
       "\n",
       "                                          post_title  \\\n",
       "0                                  Bon cadeau de 25€   \n",
       "1        Pierre Jean Villa Saint-Joseph Préface 2018   \n",
       "2    Pierre Jean Villa Saint-Joseph Rouge Tildé 2017   \n",
       "3  Pierre Jean Villa Crozes-Hermitage Accroche Co...   \n",
       "4  Pierre Jean Villa IGP Collines Rhodaniennes Ga...   \n",
       "\n",
       "                                        post_excerpt post_status  \\\n",
       "0  <span style=\"color: #a85253;\"><strong>Parlons ...     publish   \n",
       "1  Il exhale un nez subtil, racé avec du poivre f...     publish   \n",
       "2  Les vieilles vignes lui apportent une rare pro...     publish   \n",
       "3  Dentelle de fruit de jeunes syrah, aux tanins ...     publish   \n",
       "4  Gamine représente tout le fruité et la gourman...     publish   \n",
       "\n",
       "  comment_status  ...   post_modified_gmt  \\\n",
       "0         closed  ... 2018-06-01 12:13:57   \n",
       "1         closed  ... 2019-12-30 08:30:29   \n",
       "2         closed  ... 2019-12-21 08:00:17   \n",
       "3         closed  ... 2020-06-26 16:15:03   \n",
       "4         closed  ... 2020-01-04 15:36:01   \n",
       "\n",
       "                                                guid post_type post_mime_type  \\\n",
       "0  https://www.bottle-neck.fr/?post_type=product&...   product            NaN   \n",
       "1  https://www.bottle-neck.fr/?post_type=product&...   product            NaN   \n",
       "2  https://www.bottle-neck.fr/?post_type=product&...   product            NaN   \n",
       "3  https://www.bottle-neck.fr/?post_type=product&...   product            NaN   \n",
       "4  https://www.bottle-neck.fr/?post_type=product&...   product            NaN   \n",
       "\n",
       "  product_id onsale_web price  stock_quantity  stock_status  \\\n",
       "0       4954          1  25.0               0       instock   \n",
       "1       3847          1  24.2               0    outofstock   \n",
       "2       3849          1  34.3               0    outofstock   \n",
       "3       3850          1  20.8               0    outofstock   \n",
       "4       4032          1  14.1               0    outofstock   \n",
       "\n",
       "              id_web_y  \n",
       "0  bon-cadeau-25-euros  \n",
       "1                15298  \n",
       "2                15296  \n",
       "3                15300  \n",
       "4                19814  \n",
       "\n",
       "[5 rows x 23 columns]"
      ]
     },
     "execution_count": 260,
     "metadata": {},
     "output_type": "execute_result"
    }
   ],
   "source": [
    "# Final Merge :\n",
    "df_final = pd.merge(df_web_product,j_erp_liaison,on='product_id',how='inner') \n",
    "df_final.head()"
   ]
  },
  {
   "cell_type": "code",
   "execution_count": 261,
   "id": "0feafe32",
   "metadata": {},
   "outputs": [
    {
     "name": "stdout",
     "output_type": "stream",
     "text": [
      "(716, 23)\n",
      "(716, 18)\n"
     ]
    }
   ],
   "source": [
    "print(df_final.shape)\n",
    "print(df_web_product.shape)"
   ]
  },
  {
   "cell_type": "markdown",
   "id": "908c800e",
   "metadata": {},
   "source": [
    "We don't loose any product"
   ]
  },
  {
   "cell_type": "code",
   "execution_count": 262,
   "id": "25613ed0",
   "metadata": {},
   "outputs": [
    {
     "name": "stdout",
     "output_type": "stream",
     "text": [
      "True\n"
     ]
    }
   ],
   "source": [
    "# Vérification que les 2 variables id_web (x & y ) sont identiques :\n",
    "print(df_final[\"id_web_x\"].equals(df_final[\"id_web_y\"]))\n",
    "\n",
    "# On supprime donc une des deux colonnes \n",
    "df_final.drop(columns='id_web_y',inplace=True)\n",
    "df_final.rename(columns={'id_web_x':'id_web'},inplace=True)"
   ]
  },
  {
   "cell_type": "markdown",
   "id": "31267efa",
   "metadata": {},
   "source": [
    "The 2 variables **id_web** are identical.\n",
    "\n",
    "### <font color = #9f343e>**Conclusion :** </font>\n",
    "We did an internal join to have an exact match with the **product_id** variable of the website.\n",
    "\n",
    "<font color = #9f343e>**We have just finished \"Part 2: Data Merge\", we will move on to the last part concerning data analysis**. </font>"
   ]
  },
  {
   "cell_type": "markdown",
   "id": "a5024450",
   "metadata": {},
   "source": [
    "---\n",
    "# Part 3 | Univariate Data Analysis <a class=\"anchor\" id=\"chapter3\"></a>\n",
    "---\n",
    "\n",
    "We received several assignments from our manager on the management of resources, customers etc..\n",
    "\n",
    "The missions were : \n",
    "\n",
    "- [x] *Connect the different bases, in order to have a single base*\n",
    "- [ ] Turnover per product + total turnover realized online\n",
    "- [ ] Inspect for input errors in some product prices. "
   ]
  },
  {
   "cell_type": "markdown",
   "id": "5a2c7b57",
   "metadata": {},
   "source": [
    "# <font color = #9f343e>3.1 | Sales by product & total sales </font> <a class=\"anchor\" id=\"section3.1\"></a>\n"
   ]
  },
  {
   "cell_type": "code",
   "execution_count": 263,
   "id": "60305330",
   "metadata": {},
   "outputs": [
    {
     "data": {
      "text/html": [
       "<div><div id=0014ac08-c913-4d1b-ab58-949701e31684 style=\"display:none; background-color:#9D6CFF; color:white; width:200px; height:30px; padding-left:5px; border-radius:4px; flex-direction:row; justify-content:space-around; align-items:center;\" onmouseover=\"this.style.backgroundColor='#BA9BF8'\" onmouseout=\"this.style.backgroundColor='#9D6CFF'\" onclick=\"window.commands?.execute('create-mitosheet-from-dataframe-output');\">See Full Dataframe in Mito</div> <script> if (window.commands.hasCommand('create-mitosheet-from-dataframe-output')) document.getElementById('0014ac08-c913-4d1b-ab58-949701e31684').style.display = 'flex' </script> <table border=\"1\" class=\"dataframe\">\n",
       "  <thead>\n",
       "    <tr style=\"text-align: right;\">\n",
       "      <th></th>\n",
       "      <th>post_name</th>\n",
       "      <th>id_web</th>\n",
       "      <th>product_id</th>\n",
       "      <th>onsale_web</th>\n",
       "      <th>total_sales</th>\n",
       "      <th>price</th>\n",
       "      <th>stock_quantity</th>\n",
       "      <th>stock_status</th>\n",
       "      <th>chiffre_affaire</th>\n",
       "    </tr>\n",
       "  </thead>\n",
       "  <tbody>\n",
       "    <tr>\n",
       "      <th>0</th>\n",
       "      <td>bon-cadeau-de-25-euros</td>\n",
       "      <td>bon-cadeau-25-euros</td>\n",
       "      <td>4954</td>\n",
       "      <td>1</td>\n",
       "      <td>10.0</td>\n",
       "      <td>25.0</td>\n",
       "      <td>0</td>\n",
       "      <td>instock</td>\n",
       "      <td>250.0</td>\n",
       "    </tr>\n",
       "    <tr>\n",
       "      <th>1</th>\n",
       "      <td>pierre-jean-villa-saint-joseph-preface-2018</td>\n",
       "      <td>15298</td>\n",
       "      <td>3847</td>\n",
       "      <td>1</td>\n",
       "      <td>6.0</td>\n",
       "      <td>24.2</td>\n",
       "      <td>0</td>\n",
       "      <td>outofstock</td>\n",
       "      <td>145.2</td>\n",
       "    </tr>\n",
       "    <tr>\n",
       "      <th>2</th>\n",
       "      <td>pierre-jean-villa-saint-joseph-tilde-2017</td>\n",
       "      <td>15296</td>\n",
       "      <td>3849</td>\n",
       "      <td>1</td>\n",
       "      <td>0.0</td>\n",
       "      <td>34.3</td>\n",
       "      <td>0</td>\n",
       "      <td>outofstock</td>\n",
       "      <td>0.0</td>\n",
       "    </tr>\n",
       "    <tr>\n",
       "      <th>3</th>\n",
       "      <td>pierre-jean-villa-croze-hermitage-accroche-coeur-2018</td>\n",
       "      <td>15300</td>\n",
       "      <td>3850</td>\n",
       "      <td>1</td>\n",
       "      <td>0.0</td>\n",
       "      <td>20.8</td>\n",
       "      <td>0</td>\n",
       "      <td>outofstock</td>\n",
       "      <td>0.0</td>\n",
       "    </tr>\n",
       "    <tr>\n",
       "      <th>4</th>\n",
       "      <td>pierre-jean-villa-igp-gamine-2018</td>\n",
       "      <td>19814</td>\n",
       "      <td>4032</td>\n",
       "      <td>1</td>\n",
       "      <td>3.0</td>\n",
       "      <td>14.1</td>\n",
       "      <td>0</td>\n",
       "      <td>outofstock</td>\n",
       "      <td>42.3</td>\n",
       "    </tr>\n",
       "    <tr>\n",
       "      <th>...</th>\n",
       "      <td>...</td>\n",
       "      <td>...</td>\n",
       "      <td>...</td>\n",
       "      <td>...</td>\n",
       "      <td>...</td>\n",
       "      <td>...</td>\n",
       "      <td>...</td>\n",
       "      <td>...</td>\n",
       "      <td>...</td>\n",
       "    </tr>\n",
       "    <tr>\n",
       "      <th>711</th>\n",
       "      <td>mouthes-le-bihan-aime-chai-2015</td>\n",
       "      <td>16135</td>\n",
       "      <td>6930</td>\n",
       "      <td>1</td>\n",
       "      <td>5.0</td>\n",
       "      <td>8.4</td>\n",
       "      <td>83</td>\n",
       "      <td>instock</td>\n",
       "      <td>42.0</td>\n",
       "    </tr>\n",
       "    <tr>\n",
       "      <th>712</th>\n",
       "      <td>camin-larredya-jurancon-sec-la-virada-2018</td>\n",
       "      <td>15891</td>\n",
       "      <td>7023</td>\n",
       "      <td>1</td>\n",
       "      <td>0.0</td>\n",
       "      <td>27.5</td>\n",
       "      <td>15</td>\n",
       "      <td>instock</td>\n",
       "      <td>0.0</td>\n",
       "    </tr>\n",
       "    <tr>\n",
       "      <th>713</th>\n",
       "      <td>jamet-cote-rotie-fructus-voluptas-2018</td>\n",
       "      <td>15887</td>\n",
       "      <td>7025</td>\n",
       "      <td>1</td>\n",
       "      <td>0.0</td>\n",
       "      <td>69.0</td>\n",
       "      <td>2</td>\n",
       "      <td>instock</td>\n",
       "      <td>0.0</td>\n",
       "    </tr>\n",
       "    <tr>\n",
       "      <th>714</th>\n",
       "      <td>clos-du-mont-olivet-chateauneuf-du-pape-2007-2</td>\n",
       "      <td>13127-1</td>\n",
       "      <td>7247</td>\n",
       "      <td>1</td>\n",
       "      <td>0.0</td>\n",
       "      <td>54.8</td>\n",
       "      <td>23</td>\n",
       "      <td>instock</td>\n",
       "      <td>0.0</td>\n",
       "    </tr>\n",
       "    <tr>\n",
       "      <th>715</th>\n",
       "      <td>domaine-saint-nicolas-fiefs-vendeens-blanc-les-clous-2019</td>\n",
       "      <td>16230</td>\n",
       "      <td>7338</td>\n",
       "      <td>1</td>\n",
       "      <td>0.0</td>\n",
       "      <td>16.3</td>\n",
       "      <td>45</td>\n",
       "      <td>instock</td>\n",
       "      <td>0.0</td>\n",
       "    </tr>\n",
       "  </tbody>\n",
       "</table></div>"
      ],
      "text/plain": [
       "                                             post_name               id_web  \\\n",
       "0                               bon-cadeau-de-25-euros  bon-cadeau-25-euros   \n",
       "1          pierre-jean-villa-saint-joseph-preface-2018                15298   \n",
       "2            pierre-jean-villa-saint-joseph-tilde-2017                15296   \n",
       "3    pierre-jean-villa-croze-hermitage-accroche-coe...                15300   \n",
       "4                    pierre-jean-villa-igp-gamine-2018                19814   \n",
       "..                                                 ...                  ...   \n",
       "711                    mouthes-le-bihan-aime-chai-2015                16135   \n",
       "712         camin-larredya-jurancon-sec-la-virada-2018                15891   \n",
       "713             jamet-cote-rotie-fructus-voluptas-2018                15887   \n",
       "714     clos-du-mont-olivet-chateauneuf-du-pape-2007-2              13127-1   \n",
       "715  domaine-saint-nicolas-fiefs-vendeens-blanc-les...                16230   \n",
       "\n",
       "     product_id  onsale_web  total_sales  price  stock_quantity stock_status  \\\n",
       "0          4954           1         10.0   25.0               0      instock   \n",
       "1          3847           1          6.0   24.2               0   outofstock   \n",
       "2          3849           1          0.0   34.3               0   outofstock   \n",
       "3          3850           1          0.0   20.8               0   outofstock   \n",
       "4          4032           1          3.0   14.1               0   outofstock   \n",
       "..          ...         ...          ...    ...             ...          ...   \n",
       "711        6930           1          5.0    8.4              83      instock   \n",
       "712        7023           1          0.0   27.5              15      instock   \n",
       "713        7025           1          0.0   69.0               2      instock   \n",
       "714        7247           1          0.0   54.8              23      instock   \n",
       "715        7338           1          0.0   16.3              45      instock   \n",
       "\n",
       "     chiffre_affaire  \n",
       "0              250.0  \n",
       "1              145.2  \n",
       "2                0.0  \n",
       "3                0.0  \n",
       "4               42.3  \n",
       "..               ...  \n",
       "711             42.0  \n",
       "712              0.0  \n",
       "713              0.0  \n",
       "714              0.0  \n",
       "715              0.0  \n",
       "\n",
       "[716 rows x 9 columns]"
      ]
     },
     "execution_count": 263,
     "metadata": {},
     "output_type": "execute_result"
    }
   ],
   "source": [
    "# Creation of a sub-dataframe for the calculation of the turnover\n",
    "chiffre_affaire = df_final.copy()\n",
    "chiffre_affaire['chiffre_affaire'] = chiffre_affaire['price']*chiffre_affaire['total_sales']\n",
    "\n",
    "# Result\n",
    "list_analyse = ['post_name','id_web','product_id','onsale_web','total_sales','price','stock_quantity','stock_status','chiffre_affaire']\n",
    "\n",
    "# Display\n",
    "chiffre_affaire[list_analyse]"
   ]
  },
  {
   "cell_type": "code",
   "execution_count": 290,
   "id": "aa186ac7",
   "metadata": {},
   "outputs": [
    {
     "name": "stdout",
     "output_type": "stream",
     "text": [
      "The total online turnover is 70 568.60 €\n"
     ]
    }
   ],
   "source": [
    "chiffre_affaire_total = chiffre_affaire['chiffre_affaire'].sum()\n",
    "print(\"The total online turnover is\",'{:,.2f}'\n",
    "      .format(chiffre_affaire_total).replace(',',' '),\"€\")"
   ]
  },
  {
   "cell_type": "markdown",
   "id": "4b02abc9",
   "metadata": {},
   "source": [
    "### <font color = #9f343e>**Conclusion :** </font>\n",
    "The total online turnover realized since the opening of the site is <font size = 5> **70 568.60 €**</font>"
   ]
  },
  {
   "cell_type": "markdown",
   "id": "1e0175c9",
   "metadata": {},
   "source": [
    "## <font color = #34749f> 3.1.1 | Analysis of the turnover according to the status of the stocks </font> <a class=\"anchor\" id=\"section3.1.1\"></a>"
   ]
  },
  {
   "cell_type": "code",
   "execution_count": 291,
   "id": "d7310a84",
   "metadata": {},
   "outputs": [
    {
     "data": {
      "application/vnd.plotly.v1+json": {
       "config": {
        "plotlyServerURL": "https://plot.ly"
       },
       "data": [
        {
         "domain": {
          "x": [
           0,
           1
          ],
          "y": [
           0,
           1
          ]
         },
         "hovertemplate": "stock_status=%{label}<extra></extra>",
         "labels": [
          "instock",
          "outofstock",
          "outofstock",
          "outofstock",
          "outofstock",
          "outofstock",
          "outofstock",
          "instock",
          "instock",
          "instock",
          "instock",
          "outofstock",
          "instock",
          "instock",
          "instock",
          "outofstock",
          "instock",
          "instock",
          "instock",
          "outofstock",
          "outofstock",
          "instock",
          "instock",
          "instock",
          "instock",
          "instock",
          "instock",
          "instock",
          "instock",
          "instock",
          "instock",
          "instock",
          "outofstock",
          "instock",
          "instock",
          "instock",
          "instock",
          "instock",
          "instock",
          "instock",
          "instock",
          "instock",
          "outofstock",
          "outofstock",
          "outofstock",
          "instock",
          "instock",
          "instock",
          "instock",
          "instock",
          "instock",
          "instock",
          "instock",
          "instock",
          "instock",
          "instock",
          "instock",
          "instock",
          "instock",
          "instock",
          "instock",
          "instock",
          "instock",
          "outofstock",
          "instock",
          "outofstock",
          "instock",
          "outofstock",
          "outofstock",
          "instock",
          "instock",
          "instock",
          "instock",
          "instock",
          "instock",
          "instock",
          "instock",
          "instock",
          "outofstock",
          "instock",
          "outofstock",
          "instock",
          "instock",
          "instock",
          "instock",
          "outofstock",
          "outofstock",
          "outofstock",
          "outofstock",
          "instock",
          "instock",
          "instock",
          "instock",
          "instock",
          "instock",
          "instock",
          "instock",
          "instock",
          "instock",
          "instock",
          "instock",
          "instock",
          "instock",
          "instock",
          "instock",
          "instock",
          "instock",
          "instock",
          "instock",
          "outofstock",
          "instock",
          "instock",
          "outofstock",
          "instock",
          "instock",
          "instock",
          "instock",
          "instock",
          "instock",
          "instock",
          "instock",
          "instock",
          "instock",
          "instock",
          "instock",
          "outofstock",
          "instock",
          "instock",
          "outofstock",
          "outofstock",
          "instock",
          "instock",
          "outofstock",
          "instock",
          "instock",
          "outofstock",
          "instock",
          "instock",
          "instock",
          "instock",
          "instock",
          "instock",
          "instock",
          "instock",
          "instock",
          "outofstock",
          "instock",
          "outofstock",
          "instock",
          "instock",
          "instock",
          "instock",
          "instock",
          "instock",
          "instock",
          "instock",
          "instock",
          "instock",
          "instock",
          "outofstock",
          "outofstock",
          "outofstock",
          "outofstock",
          "instock",
          "instock",
          "instock",
          "instock",
          "instock",
          "instock",
          "instock",
          "instock",
          "instock",
          "instock",
          "instock",
          "instock",
          "outofstock",
          "instock",
          "instock",
          "outofstock",
          "instock",
          "instock",
          "instock",
          "instock",
          "instock",
          "instock",
          "instock",
          "instock",
          "instock",
          "instock",
          "instock",
          "instock",
          "outofstock",
          "instock",
          "instock",
          "outofstock",
          "outofstock",
          "instock",
          "instock",
          "instock",
          "instock",
          "outofstock",
          "instock",
          "instock",
          "instock",
          "outofstock",
          "outofstock",
          "outofstock",
          "instock",
          "instock",
          "instock",
          "instock",
          "outofstock",
          "instock",
          "instock",
          "instock",
          "outofstock",
          "instock",
          "outofstock",
          "instock",
          "instock",
          "instock",
          "instock",
          "instock",
          "instock",
          "instock",
          "instock",
          "instock",
          "instock",
          "instock",
          "outofstock",
          "outofstock",
          "instock",
          "outofstock",
          "instock",
          "instock",
          "instock",
          "instock",
          "instock",
          "instock",
          "outofstock",
          "instock",
          "instock",
          "instock",
          "instock",
          "instock",
          "instock",
          "instock",
          "instock",
          "instock",
          "instock",
          "instock",
          "instock",
          "instock",
          "instock",
          "instock",
          "instock",
          "instock",
          "instock",
          "instock",
          "instock",
          "instock",
          "instock",
          "instock",
          "instock",
          "instock",
          "instock",
          "instock",
          "instock",
          "instock",
          "instock",
          "instock",
          "instock",
          "outofstock",
          "instock",
          "instock",
          "instock",
          "instock",
          "instock",
          "instock",
          "instock",
          "instock",
          "instock",
          "instock",
          "instock",
          "instock",
          "instock",
          "instock",
          "instock",
          "instock",
          "instock",
          "instock",
          "instock",
          "instock",
          "instock",
          "instock",
          "instock",
          "instock",
          "instock",
          "instock",
          "instock",
          "instock",
          "instock",
          "instock",
          "outofstock",
          "instock",
          "instock",
          "instock",
          "instock",
          "outofstock",
          "instock",
          "outofstock",
          "instock",
          "instock",
          "instock",
          "instock",
          "outofstock",
          "instock",
          "instock",
          "instock",
          "outofstock",
          "instock",
          "instock",
          "outofstock",
          "instock",
          "instock",
          "instock",
          "instock",
          "instock",
          "instock",
          "instock",
          "instock",
          "instock",
          "instock",
          "instock",
          "instock",
          "instock",
          "instock",
          "instock",
          "instock",
          "instock",
          "instock",
          "instock",
          "outofstock",
          "instock",
          "instock",
          "instock",
          "instock",
          "instock",
          "instock",
          "instock",
          "instock",
          "instock",
          "instock",
          "instock",
          "instock",
          "instock",
          "outofstock",
          "instock",
          "outofstock",
          "instock",
          "instock",
          "instock",
          "instock",
          "instock",
          "outofstock",
          "instock",
          "outofstock",
          "outofstock",
          "instock",
          "instock",
          "instock",
          "instock",
          "outofstock",
          "instock",
          "outofstock",
          "instock",
          "outofstock",
          "instock",
          "instock",
          "instock",
          "instock",
          "instock",
          "instock",
          "instock",
          "instock",
          "instock",
          "outofstock",
          "instock",
          "instock",
          "instock",
          "instock",
          "outofstock",
          "outofstock",
          "instock",
          "instock",
          "outofstock",
          "outofstock",
          "instock",
          "outofstock",
          "instock",
          "instock",
          "instock",
          "instock",
          "outofstock",
          "instock",
          "instock",
          "instock",
          "instock",
          "outofstock",
          "outofstock",
          "instock",
          "instock",
          "instock",
          "instock",
          "instock",
          "outofstock",
          "instock",
          "instock",
          "instock",
          "instock",
          "outofstock",
          "instock",
          "instock",
          "outofstock",
          "instock",
          "outofstock",
          "instock",
          "instock",
          "instock",
          "instock",
          "outofstock",
          "instock",
          "instock",
          "instock",
          "instock",
          "outofstock",
          "outofstock",
          "outofstock",
          "instock",
          "outofstock",
          "instock",
          "instock",
          "instock",
          "instock",
          "outofstock",
          "outofstock",
          "instock",
          "instock",
          "outofstock",
          "outofstock",
          "outofstock",
          "instock",
          "instock",
          "instock",
          "instock",
          "instock",
          "outofstock",
          "instock",
          "instock",
          "instock",
          "instock",
          "instock",
          "instock",
          "instock",
          "instock",
          "outofstock",
          "instock",
          "instock",
          "instock",
          "instock",
          "outofstock",
          "instock",
          "outofstock",
          "instock",
          "instock",
          "instock",
          "instock",
          "instock",
          "outofstock",
          "instock",
          "instock",
          "instock",
          "instock",
          "instock",
          "instock",
          "instock",
          "instock",
          "instock",
          "instock",
          "instock",
          "outofstock",
          "outofstock",
          "outofstock",
          "outofstock",
          "instock",
          "instock",
          "instock",
          "outofstock",
          "instock",
          "instock",
          "instock",
          "outofstock",
          "outofstock",
          "instock",
          "outofstock",
          "instock",
          "instock",
          "instock",
          "instock",
          "instock",
          "instock",
          "instock",
          "instock",
          "instock",
          "instock",
          "instock",
          "instock",
          "instock",
          "instock",
          "instock",
          "instock",
          "instock",
          "instock",
          "instock",
          "instock",
          "instock",
          "instock",
          "instock",
          "instock",
          "instock",
          "outofstock",
          "instock",
          "instock",
          "instock",
          "instock",
          "instock",
          "outofstock",
          "instock",
          "outofstock",
          "instock",
          "instock",
          "instock",
          "instock",
          "instock",
          "instock",
          "outofstock",
          "outofstock",
          "outofstock",
          "instock",
          "instock",
          "instock",
          "instock",
          "outofstock",
          "instock",
          "instock",
          "instock",
          "outofstock",
          "outofstock",
          "instock",
          "instock",
          "instock",
          "instock",
          "instock",
          "instock",
          "instock",
          "instock",
          "instock",
          "instock",
          "instock",
          "outofstock",
          "instock",
          "instock",
          "instock",
          "outofstock",
          "outofstock",
          "instock",
          "outofstock",
          "instock",
          "instock",
          "instock",
          "instock",
          "instock",
          "instock",
          "instock",
          "outofstock",
          "instock",
          "instock",
          "instock",
          "instock",
          "instock",
          "instock",
          "instock",
          "instock",
          "outofstock",
          "outofstock",
          "instock",
          "instock",
          "instock",
          "outofstock",
          "outofstock",
          "instock",
          "instock",
          "instock",
          "instock",
          "instock",
          "instock",
          "instock",
          "outofstock",
          "instock",
          "instock",
          "instock",
          "outofstock",
          "instock",
          "instock",
          "instock",
          "instock",
          "instock",
          "instock",
          "instock",
          "instock",
          "instock",
          "instock",
          "outofstock",
          "instock",
          "instock",
          "instock",
          "outofstock",
          "instock",
          "instock",
          "outofstock",
          "instock",
          "instock",
          "instock",
          "outofstock",
          "instock",
          "instock",
          "instock",
          "outofstock",
          "outofstock",
          "instock",
          "instock",
          "instock",
          "outofstock",
          "outofstock",
          "instock",
          "instock",
          "instock",
          "instock",
          "outofstock",
          "instock",
          "instock",
          "instock",
          "instock",
          "instock",
          "instock",
          "instock",
          "instock",
          "instock",
          "instock",
          "instock",
          "instock",
          "instock",
          "instock",
          "outofstock",
          "outofstock",
          "instock",
          "instock",
          "instock",
          "outofstock",
          "instock",
          "instock",
          "instock",
          "instock",
          "instock",
          "instock",
          "instock",
          "outofstock",
          "outofstock",
          "instock",
          "instock",
          "outofstock",
          "instock",
          "instock",
          "instock",
          "instock",
          "instock",
          "instock",
          "instock",
          "instock",
          "instock",
          "instock",
          "instock",
          "instock",
          "instock",
          "instock",
          "instock",
          "instock",
          "instock",
          "instock",
          "instock",
          "instock",
          "instock",
          "instock",
          "outofstock",
          "instock",
          "instock",
          "outofstock",
          "instock",
          "instock",
          "instock",
          "instock",
          "instock",
          "instock",
          "instock",
          "instock",
          "instock"
         ],
         "legendgroup": "",
         "name": "",
         "showlegend": true,
         "textinfo": "value+percent",
         "texttemplate": "Product number : %{value:.i}<br>Share : %{percent}",
         "type": "pie"
        }
       ],
       "layout": {
        "legend": {
         "title": {
          "text": "Stock status"
         },
         "tracegroupgap": 0
        },
        "margin": {
         "t": 60
        },
        "template": {
         "data": {
          "bar": [
           {
            "error_x": {
             "color": "#2a3f5f"
            },
            "error_y": {
             "color": "#2a3f5f"
            },
            "marker": {
             "line": {
              "color": "white",
              "width": 0.5
             },
             "pattern": {
              "fillmode": "overlay",
              "size": 10,
              "solidity": 0.2
             }
            },
            "type": "bar"
           }
          ],
          "barpolar": [
           {
            "marker": {
             "line": {
              "color": "white",
              "width": 0.5
             },
             "pattern": {
              "fillmode": "overlay",
              "size": 10,
              "solidity": 0.2
             }
            },
            "type": "barpolar"
           }
          ],
          "carpet": [
           {
            "aaxis": {
             "endlinecolor": "#2a3f5f",
             "gridcolor": "#C8D4E3",
             "linecolor": "#C8D4E3",
             "minorgridcolor": "#C8D4E3",
             "startlinecolor": "#2a3f5f"
            },
            "baxis": {
             "endlinecolor": "#2a3f5f",
             "gridcolor": "#C8D4E3",
             "linecolor": "#C8D4E3",
             "minorgridcolor": "#C8D4E3",
             "startlinecolor": "#2a3f5f"
            },
            "type": "carpet"
           }
          ],
          "choropleth": [
           {
            "colorbar": {
             "outlinewidth": 0,
             "ticks": ""
            },
            "type": "choropleth"
           }
          ],
          "contour": [
           {
            "colorbar": {
             "outlinewidth": 0,
             "ticks": ""
            },
            "colorscale": [
             [
              0,
              "#0d0887"
             ],
             [
              0.1111111111111111,
              "#46039f"
             ],
             [
              0.2222222222222222,
              "#7201a8"
             ],
             [
              0.3333333333333333,
              "#9c179e"
             ],
             [
              0.4444444444444444,
              "#bd3786"
             ],
             [
              0.5555555555555556,
              "#d8576b"
             ],
             [
              0.6666666666666666,
              "#ed7953"
             ],
             [
              0.7777777777777778,
              "#fb9f3a"
             ],
             [
              0.8888888888888888,
              "#fdca26"
             ],
             [
              1,
              "#f0f921"
             ]
            ],
            "type": "contour"
           }
          ],
          "contourcarpet": [
           {
            "colorbar": {
             "outlinewidth": 0,
             "ticks": ""
            },
            "type": "contourcarpet"
           }
          ],
          "heatmap": [
           {
            "colorbar": {
             "outlinewidth": 0,
             "ticks": ""
            },
            "colorscale": [
             [
              0,
              "#0d0887"
             ],
             [
              0.1111111111111111,
              "#46039f"
             ],
             [
              0.2222222222222222,
              "#7201a8"
             ],
             [
              0.3333333333333333,
              "#9c179e"
             ],
             [
              0.4444444444444444,
              "#bd3786"
             ],
             [
              0.5555555555555556,
              "#d8576b"
             ],
             [
              0.6666666666666666,
              "#ed7953"
             ],
             [
              0.7777777777777778,
              "#fb9f3a"
             ],
             [
              0.8888888888888888,
              "#fdca26"
             ],
             [
              1,
              "#f0f921"
             ]
            ],
            "type": "heatmap"
           }
          ],
          "heatmapgl": [
           {
            "colorbar": {
             "outlinewidth": 0,
             "ticks": ""
            },
            "colorscale": [
             [
              0,
              "#0d0887"
             ],
             [
              0.1111111111111111,
              "#46039f"
             ],
             [
              0.2222222222222222,
              "#7201a8"
             ],
             [
              0.3333333333333333,
              "#9c179e"
             ],
             [
              0.4444444444444444,
              "#bd3786"
             ],
             [
              0.5555555555555556,
              "#d8576b"
             ],
             [
              0.6666666666666666,
              "#ed7953"
             ],
             [
              0.7777777777777778,
              "#fb9f3a"
             ],
             [
              0.8888888888888888,
              "#fdca26"
             ],
             [
              1,
              "#f0f921"
             ]
            ],
            "type": "heatmapgl"
           }
          ],
          "histogram": [
           {
            "marker": {
             "pattern": {
              "fillmode": "overlay",
              "size": 10,
              "solidity": 0.2
             }
            },
            "type": "histogram"
           }
          ],
          "histogram2d": [
           {
            "colorbar": {
             "outlinewidth": 0,
             "ticks": ""
            },
            "colorscale": [
             [
              0,
              "#0d0887"
             ],
             [
              0.1111111111111111,
              "#46039f"
             ],
             [
              0.2222222222222222,
              "#7201a8"
             ],
             [
              0.3333333333333333,
              "#9c179e"
             ],
             [
              0.4444444444444444,
              "#bd3786"
             ],
             [
              0.5555555555555556,
              "#d8576b"
             ],
             [
              0.6666666666666666,
              "#ed7953"
             ],
             [
              0.7777777777777778,
              "#fb9f3a"
             ],
             [
              0.8888888888888888,
              "#fdca26"
             ],
             [
              1,
              "#f0f921"
             ]
            ],
            "type": "histogram2d"
           }
          ],
          "histogram2dcontour": [
           {
            "colorbar": {
             "outlinewidth": 0,
             "ticks": ""
            },
            "colorscale": [
             [
              0,
              "#0d0887"
             ],
             [
              0.1111111111111111,
              "#46039f"
             ],
             [
              0.2222222222222222,
              "#7201a8"
             ],
             [
              0.3333333333333333,
              "#9c179e"
             ],
             [
              0.4444444444444444,
              "#bd3786"
             ],
             [
              0.5555555555555556,
              "#d8576b"
             ],
             [
              0.6666666666666666,
              "#ed7953"
             ],
             [
              0.7777777777777778,
              "#fb9f3a"
             ],
             [
              0.8888888888888888,
              "#fdca26"
             ],
             [
              1,
              "#f0f921"
             ]
            ],
            "type": "histogram2dcontour"
           }
          ],
          "mesh3d": [
           {
            "colorbar": {
             "outlinewidth": 0,
             "ticks": ""
            },
            "type": "mesh3d"
           }
          ],
          "parcoords": [
           {
            "line": {
             "colorbar": {
              "outlinewidth": 0,
              "ticks": ""
             }
            },
            "type": "parcoords"
           }
          ],
          "pie": [
           {
            "automargin": true,
            "type": "pie"
           }
          ],
          "scatter": [
           {
            "marker": {
             "colorbar": {
              "outlinewidth": 0,
              "ticks": ""
             }
            },
            "type": "scatter"
           }
          ],
          "scatter3d": [
           {
            "line": {
             "colorbar": {
              "outlinewidth": 0,
              "ticks": ""
             }
            },
            "marker": {
             "colorbar": {
              "outlinewidth": 0,
              "ticks": ""
             }
            },
            "type": "scatter3d"
           }
          ],
          "scattercarpet": [
           {
            "marker": {
             "colorbar": {
              "outlinewidth": 0,
              "ticks": ""
             }
            },
            "type": "scattercarpet"
           }
          ],
          "scattergeo": [
           {
            "marker": {
             "colorbar": {
              "outlinewidth": 0,
              "ticks": ""
             }
            },
            "type": "scattergeo"
           }
          ],
          "scattergl": [
           {
            "marker": {
             "colorbar": {
              "outlinewidth": 0,
              "ticks": ""
             }
            },
            "type": "scattergl"
           }
          ],
          "scattermapbox": [
           {
            "marker": {
             "colorbar": {
              "outlinewidth": 0,
              "ticks": ""
             }
            },
            "type": "scattermapbox"
           }
          ],
          "scatterpolar": [
           {
            "marker": {
             "colorbar": {
              "outlinewidth": 0,
              "ticks": ""
             }
            },
            "type": "scatterpolar"
           }
          ],
          "scatterpolargl": [
           {
            "marker": {
             "colorbar": {
              "outlinewidth": 0,
              "ticks": ""
             }
            },
            "type": "scatterpolargl"
           }
          ],
          "scatterternary": [
           {
            "marker": {
             "colorbar": {
              "outlinewidth": 0,
              "ticks": ""
             }
            },
            "type": "scatterternary"
           }
          ],
          "surface": [
           {
            "colorbar": {
             "outlinewidth": 0,
             "ticks": ""
            },
            "colorscale": [
             [
              0,
              "#0d0887"
             ],
             [
              0.1111111111111111,
              "#46039f"
             ],
             [
              0.2222222222222222,
              "#7201a8"
             ],
             [
              0.3333333333333333,
              "#9c179e"
             ],
             [
              0.4444444444444444,
              "#bd3786"
             ],
             [
              0.5555555555555556,
              "#d8576b"
             ],
             [
              0.6666666666666666,
              "#ed7953"
             ],
             [
              0.7777777777777778,
              "#fb9f3a"
             ],
             [
              0.8888888888888888,
              "#fdca26"
             ],
             [
              1,
              "#f0f921"
             ]
            ],
            "type": "surface"
           }
          ],
          "table": [
           {
            "cells": {
             "fill": {
              "color": "#EBF0F8"
             },
             "line": {
              "color": "white"
             }
            },
            "header": {
             "fill": {
              "color": "#C8D4E3"
             },
             "line": {
              "color": "white"
             }
            },
            "type": "table"
           }
          ]
         },
         "layout": {
          "annotationdefaults": {
           "arrowcolor": "#2a3f5f",
           "arrowhead": 0,
           "arrowwidth": 1
          },
          "autotypenumbers": "strict",
          "coloraxis": {
           "colorbar": {
            "outlinewidth": 0,
            "ticks": ""
           }
          },
          "colorscale": {
           "diverging": [
            [
             0,
             "#8e0152"
            ],
            [
             0.1,
             "#c51b7d"
            ],
            [
             0.2,
             "#de77ae"
            ],
            [
             0.3,
             "#f1b6da"
            ],
            [
             0.4,
             "#fde0ef"
            ],
            [
             0.5,
             "#f7f7f7"
            ],
            [
             0.6,
             "#e6f5d0"
            ],
            [
             0.7,
             "#b8e186"
            ],
            [
             0.8,
             "#7fbc41"
            ],
            [
             0.9,
             "#4d9221"
            ],
            [
             1,
             "#276419"
            ]
           ],
           "sequential": [
            [
             0,
             "#0d0887"
            ],
            [
             0.1111111111111111,
             "#46039f"
            ],
            [
             0.2222222222222222,
             "#7201a8"
            ],
            [
             0.3333333333333333,
             "#9c179e"
            ],
            [
             0.4444444444444444,
             "#bd3786"
            ],
            [
             0.5555555555555556,
             "#d8576b"
            ],
            [
             0.6666666666666666,
             "#ed7953"
            ],
            [
             0.7777777777777778,
             "#fb9f3a"
            ],
            [
             0.8888888888888888,
             "#fdca26"
            ],
            [
             1,
             "#f0f921"
            ]
           ],
           "sequentialminus": [
            [
             0,
             "#0d0887"
            ],
            [
             0.1111111111111111,
             "#46039f"
            ],
            [
             0.2222222222222222,
             "#7201a8"
            ],
            [
             0.3333333333333333,
             "#9c179e"
            ],
            [
             0.4444444444444444,
             "#bd3786"
            ],
            [
             0.5555555555555556,
             "#d8576b"
            ],
            [
             0.6666666666666666,
             "#ed7953"
            ],
            [
             0.7777777777777778,
             "#fb9f3a"
            ],
            [
             0.8888888888888888,
             "#fdca26"
            ],
            [
             1,
             "#f0f921"
            ]
           ]
          },
          "colorway": [
           "#636efa",
           "#EF553B",
           "#00cc96",
           "#ab63fa",
           "#FFA15A",
           "#19d3f3",
           "#FF6692",
           "#B6E880",
           "#FF97FF",
           "#FECB52"
          ],
          "font": {
           "color": "#2a3f5f"
          },
          "geo": {
           "bgcolor": "white",
           "lakecolor": "white",
           "landcolor": "white",
           "showlakes": true,
           "showland": true,
           "subunitcolor": "#C8D4E3"
          },
          "hoverlabel": {
           "align": "left"
          },
          "hovermode": "closest",
          "mapbox": {
           "style": "light"
          },
          "paper_bgcolor": "white",
          "plot_bgcolor": "white",
          "polar": {
           "angularaxis": {
            "gridcolor": "#EBF0F8",
            "linecolor": "#EBF0F8",
            "ticks": ""
           },
           "bgcolor": "white",
           "radialaxis": {
            "gridcolor": "#EBF0F8",
            "linecolor": "#EBF0F8",
            "ticks": ""
           }
          },
          "scene": {
           "xaxis": {
            "backgroundcolor": "white",
            "gridcolor": "#DFE8F3",
            "gridwidth": 2,
            "linecolor": "#EBF0F8",
            "showbackground": true,
            "ticks": "",
            "zerolinecolor": "#EBF0F8"
           },
           "yaxis": {
            "backgroundcolor": "white",
            "gridcolor": "#DFE8F3",
            "gridwidth": 2,
            "linecolor": "#EBF0F8",
            "showbackground": true,
            "ticks": "",
            "zerolinecolor": "#EBF0F8"
           },
           "zaxis": {
            "backgroundcolor": "white",
            "gridcolor": "#DFE8F3",
            "gridwidth": 2,
            "linecolor": "#EBF0F8",
            "showbackground": true,
            "ticks": "",
            "zerolinecolor": "#EBF0F8"
           }
          },
          "shapedefaults": {
           "line": {
            "color": "#2a3f5f"
           }
          },
          "ternary": {
           "aaxis": {
            "gridcolor": "#DFE8F3",
            "linecolor": "#A2B1C6",
            "ticks": ""
           },
           "baxis": {
            "gridcolor": "#DFE8F3",
            "linecolor": "#A2B1C6",
            "ticks": ""
           },
           "bgcolor": "white",
           "caxis": {
            "gridcolor": "#DFE8F3",
            "linecolor": "#A2B1C6",
            "ticks": ""
           }
          },
          "title": {
           "x": 0.05
          },
          "xaxis": {
           "automargin": true,
           "gridcolor": "#EBF0F8",
           "linecolor": "#EBF0F8",
           "ticks": "",
           "title": {
            "standoff": 15
           },
           "zerolinecolor": "#EBF0F8",
           "zerolinewidth": 2
          },
          "yaxis": {
           "automargin": true,
           "gridcolor": "#EBF0F8",
           "linecolor": "#EBF0F8",
           "ticks": "",
           "title": {
            "standoff": 15
           },
           "zerolinecolor": "#EBF0F8",
           "zerolinewidth": 2
          }
         }
        },
        "title": {
         "text": "Stock status of the website products"
        }
       }
      }
     },
     "metadata": {},
     "output_type": "display_data"
    }
   ],
   "source": [
    "fig = px.pie(chiffre_affaire,\n",
    "             names=\"stock_status\"\n",
    ")\n",
    "fig.update_layout(\n",
    "    title = \"Stock status of the website products\",\n",
    "    legend_title=\"Stock status\"\n",
    ")\n",
    "fig.update_traces(\n",
    "    textinfo='value+percent',\n",
    "    texttemplate = \"<br>\".join([\n",
    "        \"Product number : %{value:.i}\",\n",
    "        \"Share : %{percent}\"\n",
    "])\n",
    ")\n",
    "fig.show()"
   ]
  },
  {
   "cell_type": "code",
   "execution_count": 266,
   "id": "0a291426",
   "metadata": {},
   "outputs": [],
   "source": [
    "# Creation of 2 variables : in stock | out of stock\n",
    "ca_instock = chiffre_affaire['stock_status']=='instock'\n",
    "ca_outofstock = chiffre_affaire['stock_status']=='outofstock'"
   ]
  },
  {
   "cell_type": "code",
   "execution_count": 267,
   "id": "564d5627",
   "metadata": {},
   "outputs": [
    {
     "data": {
      "text/html": [
       "<div><div id=0cbde876-1c28-49e7-a281-bfe4bf7927c7 style=\"display:none; background-color:#9D6CFF; color:white; width:200px; height:30px; padding-left:5px; border-radius:4px; flex-direction:row; justify-content:space-around; align-items:center;\" onmouseover=\"this.style.backgroundColor='#BA9BF8'\" onmouseout=\"this.style.backgroundColor='#9D6CFF'\" onclick=\"window.commands?.execute('create-mitosheet-from-dataframe-output');\">See Full Dataframe in Mito</div> <script> if (window.commands.hasCommand('create-mitosheet-from-dataframe-output')) document.getElementById('0cbde876-1c28-49e7-a281-bfe4bf7927c7').style.display = 'flex' </script> <table border=\"1\" class=\"dataframe\">\n",
       "  <thead>\n",
       "    <tr style=\"text-align: right;\">\n",
       "      <th></th>\n",
       "      <th>post_name</th>\n",
       "      <th>id_web</th>\n",
       "      <th>product_id</th>\n",
       "      <th>onsale_web</th>\n",
       "      <th>total_sales</th>\n",
       "      <th>price</th>\n",
       "      <th>stock_quantity</th>\n",
       "      <th>stock_status</th>\n",
       "      <th>chiffre_affaire</th>\n",
       "    </tr>\n",
       "  </thead>\n",
       "  <tbody>\n",
       "    <tr>\n",
       "      <th>195</th>\n",
       "      <td>champagne-gosset-grand-blanc-de-blanc</td>\n",
       "      <td>7818</td>\n",
       "      <td>4334</td>\n",
       "      <td>1</td>\n",
       "      <td>96.0</td>\n",
       "      <td>49.0</td>\n",
       "      <td>0</td>\n",
       "      <td>outofstock</td>\n",
       "      <td>4704.0</td>\n",
       "    </tr>\n",
       "    <tr>\n",
       "      <th>72</th>\n",
       "      <td>champagne-gosset-grand-rose</td>\n",
       "      <td>1662</td>\n",
       "      <td>4144</td>\n",
       "      <td>1</td>\n",
       "      <td>87.0</td>\n",
       "      <td>49.0</td>\n",
       "      <td>11</td>\n",
       "      <td>instock</td>\n",
       "      <td>4263.0</td>\n",
       "    </tr>\n",
       "    <tr>\n",
       "      <th>219</th>\n",
       "      <td>cognac-frapin-vip-xo</td>\n",
       "      <td>3510</td>\n",
       "      <td>4402</td>\n",
       "      <td>1</td>\n",
       "      <td>13.0</td>\n",
       "      <td>176.0</td>\n",
       "      <td>8</td>\n",
       "      <td>instock</td>\n",
       "      <td>2288.0</td>\n",
       "    </tr>\n",
       "    <tr>\n",
       "      <th>71</th>\n",
       "      <td>champagne-gosset-grand-millesime-2006</td>\n",
       "      <td>11641</td>\n",
       "      <td>4142</td>\n",
       "      <td>1</td>\n",
       "      <td>30.0</td>\n",
       "      <td>53.0</td>\n",
       "      <td>8</td>\n",
       "      <td>instock</td>\n",
       "      <td>1590.0</td>\n",
       "    </tr>\n",
       "    <tr>\n",
       "      <th>70</th>\n",
       "      <td>gosset-champagne-grande-reserve</td>\n",
       "      <td>304</td>\n",
       "      <td>4141</td>\n",
       "      <td>1</td>\n",
       "      <td>40.0</td>\n",
       "      <td>39.0</td>\n",
       "      <td>1</td>\n",
       "      <td>instock</td>\n",
       "      <td>1560.0</td>\n",
       "    </tr>\n",
       "    <tr>\n",
       "      <th>202</th>\n",
       "      <td>champagne-egly-ouriet-grand-cru-brut-blanc-de-noirs</td>\n",
       "      <td>12589</td>\n",
       "      <td>4355</td>\n",
       "      <td>1</td>\n",
       "      <td>11.0</td>\n",
       "      <td>126.5</td>\n",
       "      <td>2</td>\n",
       "      <td>instock</td>\n",
       "      <td>1391.5</td>\n",
       "    </tr>\n",
       "    <tr>\n",
       "      <th>200</th>\n",
       "      <td>champagne-egly-ouriet-grand-cru-millesime-2008</td>\n",
       "      <td>15940</td>\n",
       "      <td>4352</td>\n",
       "      <td>1</td>\n",
       "      <td>5.0</td>\n",
       "      <td>225.0</td>\n",
       "      <td>0</td>\n",
       "      <td>outofstock</td>\n",
       "      <td>1125.0</td>\n",
       "    </tr>\n",
       "    <tr>\n",
       "      <th>80</th>\n",
       "      <td>elian-daros-cotes-du-marmandais-clos-baquey-2015</td>\n",
       "      <td>16237</td>\n",
       "      <td>4153</td>\n",
       "      <td>1</td>\n",
       "      <td>36.0</td>\n",
       "      <td>29.0</td>\n",
       "      <td>0</td>\n",
       "      <td>outofstock</td>\n",
       "      <td>1044.0</td>\n",
       "    </tr>\n",
       "    <tr>\n",
       "      <th>653</th>\n",
       "      <td>domaine-giudicelli-patrimonio-blanc-2019</td>\n",
       "      <td>16580</td>\n",
       "      <td>6206</td>\n",
       "      <td>1</td>\n",
       "      <td>41.0</td>\n",
       "      <td>25.2</td>\n",
       "      <td>120</td>\n",
       "      <td>instock</td>\n",
       "      <td>1033.2</td>\n",
       "    </tr>\n",
       "    <tr>\n",
       "      <th>31</th>\n",
       "      <td>gilles-robin-crozes-hermitage-papillon-2019</td>\n",
       "      <td>16416</td>\n",
       "      <td>4068</td>\n",
       "      <td>1</td>\n",
       "      <td>62.0</td>\n",
       "      <td>16.6</td>\n",
       "      <td>157</td>\n",
       "      <td>instock</td>\n",
       "      <td>1029.2</td>\n",
       "    </tr>\n",
       "  </tbody>\n",
       "</table></div>"
      ],
      "text/plain": [
       "                                             post_name id_web  product_id  \\\n",
       "195              champagne-gosset-grand-blanc-de-blanc   7818        4334   \n",
       "72                         champagne-gosset-grand-rose   1662        4144   \n",
       "219                               cognac-frapin-vip-xo   3510        4402   \n",
       "71               champagne-gosset-grand-millesime-2006  11641        4142   \n",
       "70                     gosset-champagne-grande-reserve    304        4141   \n",
       "202  champagne-egly-ouriet-grand-cru-brut-blanc-de-...  12589        4355   \n",
       "200     champagne-egly-ouriet-grand-cru-millesime-2008  15940        4352   \n",
       "80    elian-daros-cotes-du-marmandais-clos-baquey-2015  16237        4153   \n",
       "653           domaine-giudicelli-patrimonio-blanc-2019  16580        6206   \n",
       "31         gilles-robin-crozes-hermitage-papillon-2019  16416        4068   \n",
       "\n",
       "     onsale_web  total_sales  price  stock_quantity stock_status  \\\n",
       "195           1         96.0   49.0               0   outofstock   \n",
       "72            1         87.0   49.0              11      instock   \n",
       "219           1         13.0  176.0               8      instock   \n",
       "71            1         30.0   53.0               8      instock   \n",
       "70            1         40.0   39.0               1      instock   \n",
       "202           1         11.0  126.5               2      instock   \n",
       "200           1          5.0  225.0               0   outofstock   \n",
       "80            1         36.0   29.0               0   outofstock   \n",
       "653           1         41.0   25.2             120      instock   \n",
       "31            1         62.0   16.6             157      instock   \n",
       "\n",
       "     chiffre_affaire  \n",
       "195           4704.0  \n",
       "72            4263.0  \n",
       "219           2288.0  \n",
       "71            1590.0  \n",
       "70            1560.0  \n",
       "202           1391.5  \n",
       "200           1125.0  \n",
       "80            1044.0  \n",
       "653           1033.2  \n",
       "31            1029.2  "
      ]
     },
     "metadata": {},
     "output_type": "display_data"
    },
    {
     "data": {
      "text/html": [
       "<div><div id=91e3dfe8-afa5-4bfb-a2c7-5c8225797a04 style=\"display:none; background-color:#9D6CFF; color:white; width:200px; height:30px; padding-left:5px; border-radius:4px; flex-direction:row; justify-content:space-around; align-items:center;\" onmouseover=\"this.style.backgroundColor='#BA9BF8'\" onmouseout=\"this.style.backgroundColor='#9D6CFF'\" onclick=\"window.commands?.execute('create-mitosheet-from-dataframe-output');\">See Full Dataframe in Mito</div> <script> if (window.commands.hasCommand('create-mitosheet-from-dataframe-output')) document.getElementById('91e3dfe8-afa5-4bfb-a2c7-5c8225797a04').style.display = 'flex' </script> <table border=\"1\" class=\"dataframe\">\n",
       "  <thead>\n",
       "    <tr style=\"text-align: right;\">\n",
       "      <th></th>\n",
       "      <th>post_name</th>\n",
       "      <th>id_web</th>\n",
       "      <th>product_id</th>\n",
       "      <th>onsale_web</th>\n",
       "      <th>total_sales</th>\n",
       "      <th>price</th>\n",
       "      <th>stock_quantity</th>\n",
       "      <th>stock_status</th>\n",
       "      <th>chiffre_affaire</th>\n",
       "    </tr>\n",
       "  </thead>\n",
       "  <tbody>\n",
       "    <tr>\n",
       "      <th>195</th>\n",
       "      <td>champagne-gosset-grand-blanc-de-blanc</td>\n",
       "      <td>7818</td>\n",
       "      <td>4334</td>\n",
       "      <td>1</td>\n",
       "      <td>96.0</td>\n",
       "      <td>49.0</td>\n",
       "      <td>0</td>\n",
       "      <td>outofstock</td>\n",
       "      <td>4704.0</td>\n",
       "    </tr>\n",
       "    <tr>\n",
       "      <th>200</th>\n",
       "      <td>champagne-egly-ouriet-grand-cru-millesime-2008</td>\n",
       "      <td>15940</td>\n",
       "      <td>4352</td>\n",
       "      <td>1</td>\n",
       "      <td>5.0</td>\n",
       "      <td>225.0</td>\n",
       "      <td>0</td>\n",
       "      <td>outofstock</td>\n",
       "      <td>1125.0</td>\n",
       "    </tr>\n",
       "    <tr>\n",
       "      <th>80</th>\n",
       "      <td>elian-daros-cotes-du-marmandais-clos-baquey-2015</td>\n",
       "      <td>16237</td>\n",
       "      <td>4153</td>\n",
       "      <td>1</td>\n",
       "      <td>36.0</td>\n",
       "      <td>29.0</td>\n",
       "      <td>0</td>\n",
       "      <td>outofstock</td>\n",
       "      <td>1044.0</td>\n",
       "    </tr>\n",
       "    <tr>\n",
       "      <th>229</th>\n",
       "      <td>marc-colin-et-fils-chassagne-montrachet-blanc-margot-2017</td>\n",
       "      <td>15476</td>\n",
       "      <td>4596</td>\n",
       "      <td>1</td>\n",
       "      <td>23.0</td>\n",
       "      <td>43.9</td>\n",
       "      <td>0</td>\n",
       "      <td>outofstock</td>\n",
       "      <td>1009.7</td>\n",
       "    </tr>\n",
       "    <tr>\n",
       "      <th>374</th>\n",
       "      <td>jacqueson-rully-blanc-1er-cru-la-pucelle-2018</td>\n",
       "      <td>15807</td>\n",
       "      <td>4891</td>\n",
       "      <td>1</td>\n",
       "      <td>36.0</td>\n",
       "      <td>27.9</td>\n",
       "      <td>0</td>\n",
       "      <td>outofstock</td>\n",
       "      <td>1004.4</td>\n",
       "    </tr>\n",
       "    <tr>\n",
       "      <th>445</th>\n",
       "      <td>albert-mann-pinot-noir-grand-h-2017</td>\n",
       "      <td>15346</td>\n",
       "      <td>5067</td>\n",
       "      <td>1</td>\n",
       "      <td>16.0</td>\n",
       "      <td>59.9</td>\n",
       "      <td>0</td>\n",
       "      <td>outofstock</td>\n",
       "      <td>958.4</td>\n",
       "    </tr>\n",
       "    <tr>\n",
       "      <th>391</th>\n",
       "      <td>alain-graillot-crozes-hermitage-rouge-la-guiraude-2016</td>\n",
       "      <td>15533</td>\n",
       "      <td>4918</td>\n",
       "      <td>1</td>\n",
       "      <td>24.0</td>\n",
       "      <td>37.2</td>\n",
       "      <td>0</td>\n",
       "      <td>outofstock</td>\n",
       "      <td>892.8</td>\n",
       "    </tr>\n",
       "    <tr>\n",
       "      <th>607</th>\n",
       "      <td>albert-mann-pinot-noir-clos-de-la-faille-2017</td>\n",
       "      <td>15343</td>\n",
       "      <td>5922</td>\n",
       "      <td>1</td>\n",
       "      <td>17.0</td>\n",
       "      <td>48.5</td>\n",
       "      <td>0</td>\n",
       "      <td>outofstock</td>\n",
       "      <td>824.5</td>\n",
       "    </tr>\n",
       "    <tr>\n",
       "      <th>19</th>\n",
       "      <td>clos-du-mont-olivet-chateauneuf-du-pape-papet-2018</td>\n",
       "      <td>19816</td>\n",
       "      <td>4054</td>\n",
       "      <td>1</td>\n",
       "      <td>10.0</td>\n",
       "      <td>71.6</td>\n",
       "      <td>0</td>\n",
       "      <td>outofstock</td>\n",
       "      <td>716.0</td>\n",
       "    </tr>\n",
       "    <tr>\n",
       "      <th>11</th>\n",
       "      <td>pierre-gaillard-cote-rotie-rose-pourpre-2017</td>\n",
       "      <td>15269</td>\n",
       "      <td>4046</td>\n",
       "      <td>1</td>\n",
       "      <td>6.0</td>\n",
       "      <td>80.0</td>\n",
       "      <td>0</td>\n",
       "      <td>outofstock</td>\n",
       "      <td>480.0</td>\n",
       "    </tr>\n",
       "  </tbody>\n",
       "</table></div>"
      ],
      "text/plain": [
       "                                             post_name id_web  product_id  \\\n",
       "195              champagne-gosset-grand-blanc-de-blanc   7818        4334   \n",
       "200     champagne-egly-ouriet-grand-cru-millesime-2008  15940        4352   \n",
       "80    elian-daros-cotes-du-marmandais-clos-baquey-2015  16237        4153   \n",
       "229  marc-colin-et-fils-chassagne-montrachet-blanc-...  15476        4596   \n",
       "374      jacqueson-rully-blanc-1er-cru-la-pucelle-2018  15807        4891   \n",
       "445                albert-mann-pinot-noir-grand-h-2017  15346        5067   \n",
       "391  alain-graillot-crozes-hermitage-rouge-la-guira...  15533        4918   \n",
       "607      albert-mann-pinot-noir-clos-de-la-faille-2017  15343        5922   \n",
       "19   clos-du-mont-olivet-chateauneuf-du-pape-papet-...  19816        4054   \n",
       "11        pierre-gaillard-cote-rotie-rose-pourpre-2017  15269        4046   \n",
       "\n",
       "     onsale_web  total_sales  price  stock_quantity stock_status  \\\n",
       "195           1         96.0   49.0               0   outofstock   \n",
       "200           1          5.0  225.0               0   outofstock   \n",
       "80            1         36.0   29.0               0   outofstock   \n",
       "229           1         23.0   43.9               0   outofstock   \n",
       "374           1         36.0   27.9               0   outofstock   \n",
       "445           1         16.0   59.9               0   outofstock   \n",
       "391           1         24.0   37.2               0   outofstock   \n",
       "607           1         17.0   48.5               0   outofstock   \n",
       "19            1         10.0   71.6               0   outofstock   \n",
       "11            1          6.0   80.0               0   outofstock   \n",
       "\n",
       "     chiffre_affaire  \n",
       "195           4704.0  \n",
       "200           1125.0  \n",
       "80            1044.0  \n",
       "229           1009.7  \n",
       "374           1004.4  \n",
       "445            958.4  \n",
       "391            892.8  \n",
       "607            824.5  \n",
       "19             716.0  \n",
       "11             480.0  "
      ]
     },
     "metadata": {},
     "output_type": "display_data"
    },
    {
     "data": {
      "text/html": [
       "<div><div id=c762f4fe-cf59-4b15-bea0-0e41ceff2dcd style=\"display:none; background-color:#9D6CFF; color:white; width:200px; height:30px; padding-left:5px; border-radius:4px; flex-direction:row; justify-content:space-around; align-items:center;\" onmouseover=\"this.style.backgroundColor='#BA9BF8'\" onmouseout=\"this.style.backgroundColor='#9D6CFF'\" onclick=\"window.commands?.execute('create-mitosheet-from-dataframe-output');\">See Full Dataframe in Mito</div> <script> if (window.commands.hasCommand('create-mitosheet-from-dataframe-output')) document.getElementById('c762f4fe-cf59-4b15-bea0-0e41ceff2dcd').style.display = 'flex' </script> <table border=\"1\" class=\"dataframe\">\n",
       "  <thead>\n",
       "    <tr style=\"text-align: right;\">\n",
       "      <th></th>\n",
       "      <th>post_name</th>\n",
       "      <th>id_web</th>\n",
       "      <th>product_id</th>\n",
       "      <th>onsale_web</th>\n",
       "      <th>total_sales</th>\n",
       "      <th>price</th>\n",
       "      <th>stock_quantity</th>\n",
       "      <th>stock_status</th>\n",
       "      <th>chiffre_affaire</th>\n",
       "    </tr>\n",
       "  </thead>\n",
       "  <tbody>\n",
       "    <tr>\n",
       "      <th>72</th>\n",
       "      <td>champagne-gosset-grand-rose</td>\n",
       "      <td>1662</td>\n",
       "      <td>4144</td>\n",
       "      <td>1</td>\n",
       "      <td>87.0</td>\n",
       "      <td>49.0</td>\n",
       "      <td>11</td>\n",
       "      <td>instock</td>\n",
       "      <td>4263.0</td>\n",
       "    </tr>\n",
       "    <tr>\n",
       "      <th>219</th>\n",
       "      <td>cognac-frapin-vip-xo</td>\n",
       "      <td>3510</td>\n",
       "      <td>4402</td>\n",
       "      <td>1</td>\n",
       "      <td>13.0</td>\n",
       "      <td>176.0</td>\n",
       "      <td>8</td>\n",
       "      <td>instock</td>\n",
       "      <td>2288.0</td>\n",
       "    </tr>\n",
       "    <tr>\n",
       "      <th>71</th>\n",
       "      <td>champagne-gosset-grand-millesime-2006</td>\n",
       "      <td>11641</td>\n",
       "      <td>4142</td>\n",
       "      <td>1</td>\n",
       "      <td>30.0</td>\n",
       "      <td>53.0</td>\n",
       "      <td>8</td>\n",
       "      <td>instock</td>\n",
       "      <td>1590.0</td>\n",
       "    </tr>\n",
       "    <tr>\n",
       "      <th>70</th>\n",
       "      <td>gosset-champagne-grande-reserve</td>\n",
       "      <td>304</td>\n",
       "      <td>4141</td>\n",
       "      <td>1</td>\n",
       "      <td>40.0</td>\n",
       "      <td>39.0</td>\n",
       "      <td>1</td>\n",
       "      <td>instock</td>\n",
       "      <td>1560.0</td>\n",
       "    </tr>\n",
       "    <tr>\n",
       "      <th>202</th>\n",
       "      <td>champagne-egly-ouriet-grand-cru-brut-blanc-de-noirs</td>\n",
       "      <td>12589</td>\n",
       "      <td>4355</td>\n",
       "      <td>1</td>\n",
       "      <td>11.0</td>\n",
       "      <td>126.5</td>\n",
       "      <td>2</td>\n",
       "      <td>instock</td>\n",
       "      <td>1391.5</td>\n",
       "    </tr>\n",
       "    <tr>\n",
       "      <th>653</th>\n",
       "      <td>domaine-giudicelli-patrimonio-blanc-2019</td>\n",
       "      <td>16580</td>\n",
       "      <td>6206</td>\n",
       "      <td>1</td>\n",
       "      <td>41.0</td>\n",
       "      <td>25.2</td>\n",
       "      <td>120</td>\n",
       "      <td>instock</td>\n",
       "      <td>1033.2</td>\n",
       "    </tr>\n",
       "    <tr>\n",
       "      <th>31</th>\n",
       "      <td>gilles-robin-crozes-hermitage-papillon-2019</td>\n",
       "      <td>16416</td>\n",
       "      <td>4068</td>\n",
       "      <td>1</td>\n",
       "      <td>62.0</td>\n",
       "      <td>16.6</td>\n",
       "      <td>157</td>\n",
       "      <td>instock</td>\n",
       "      <td>1029.2</td>\n",
       "    </tr>\n",
       "    <tr>\n",
       "      <th>18</th>\n",
       "      <td>clos-du-mont-olivet-chateauneuf-du-pape-2012</td>\n",
       "      <td>13127</td>\n",
       "      <td>4053</td>\n",
       "      <td>1</td>\n",
       "      <td>23.0</td>\n",
       "      <td>44.3</td>\n",
       "      <td>16</td>\n",
       "      <td>instock</td>\n",
       "      <td>1018.9</td>\n",
       "    </tr>\n",
       "    <tr>\n",
       "      <th>654</th>\n",
       "      <td>domaine-giudicelli-patrimonio-rouge-2016</td>\n",
       "      <td>16077</td>\n",
       "      <td>6207</td>\n",
       "      <td>1</td>\n",
       "      <td>37.0</td>\n",
       "      <td>25.2</td>\n",
       "      <td>363</td>\n",
       "      <td>instock</td>\n",
       "      <td>932.4</td>\n",
       "    </tr>\n",
       "    <tr>\n",
       "      <th>183</th>\n",
       "      <td>hauvette-baux-provence-amethyste-2017</td>\n",
       "      <td>16066</td>\n",
       "      <td>4286</td>\n",
       "      <td>1</td>\n",
       "      <td>10.0</td>\n",
       "      <td>69.8</td>\n",
       "      <td>4</td>\n",
       "      <td>instock</td>\n",
       "      <td>698.0</td>\n",
       "    </tr>\n",
       "  </tbody>\n",
       "</table></div>"
      ],
      "text/plain": [
       "                                             post_name id_web  product_id  \\\n",
       "72                         champagne-gosset-grand-rose   1662        4144   \n",
       "219                               cognac-frapin-vip-xo   3510        4402   \n",
       "71               champagne-gosset-grand-millesime-2006  11641        4142   \n",
       "70                     gosset-champagne-grande-reserve    304        4141   \n",
       "202  champagne-egly-ouriet-grand-cru-brut-blanc-de-...  12589        4355   \n",
       "653           domaine-giudicelli-patrimonio-blanc-2019  16580        6206   \n",
       "31         gilles-robin-crozes-hermitage-papillon-2019  16416        4068   \n",
       "18        clos-du-mont-olivet-chateauneuf-du-pape-2012  13127        4053   \n",
       "654           domaine-giudicelli-patrimonio-rouge-2016  16077        6207   \n",
       "183              hauvette-baux-provence-amethyste-2017  16066        4286   \n",
       "\n",
       "     onsale_web  total_sales  price  stock_quantity stock_status  \\\n",
       "72            1         87.0   49.0              11      instock   \n",
       "219           1         13.0  176.0               8      instock   \n",
       "71            1         30.0   53.0               8      instock   \n",
       "70            1         40.0   39.0               1      instock   \n",
       "202           1         11.0  126.5               2      instock   \n",
       "653           1         41.0   25.2             120      instock   \n",
       "31            1         62.0   16.6             157      instock   \n",
       "18            1         23.0   44.3              16      instock   \n",
       "654           1         37.0   25.2             363      instock   \n",
       "183           1         10.0   69.8               4      instock   \n",
       "\n",
       "     chiffre_affaire  \n",
       "72            4263.0  \n",
       "219           2288.0  \n",
       "71            1590.0  \n",
       "70            1560.0  \n",
       "202           1391.5  \n",
       "653           1033.2  \n",
       "31            1029.2  \n",
       "18            1018.9  \n",
       "654            932.4  \n",
       "183            698.0  "
      ]
     },
     "metadata": {},
     "output_type": "display_data"
    }
   ],
   "source": [
    "display(chiffre_affaire[list_analyse].sort_values('chiffre_affaire',ascending=False).head(10))\n",
    "\n",
    "display(chiffre_affaire[list_analyse].loc[ca_outofstock].sort_values('chiffre_affaire',ascending=False).head(10))\n",
    "\n",
    "display(chiffre_affaire[list_analyse].loc[ca_instock].sort_values('chiffre_affaire',ascending=False).head(10))"
   ]
  },
  {
   "cell_type": "code",
   "execution_count": 293,
   "id": "68e2e597",
   "metadata": {},
   "outputs": [
    {
     "data": {
      "application/vnd.plotly.v1+json": {
       "config": {
        "plotlyServerURL": "https://plot.ly"
       },
       "data": [
        {
         "alignmentgroup": "True",
         "hovertemplate": "stock_status=outofstock<br>chiffre_affaire=%{text}<br>post_name=%{y}<extra></extra>",
         "legendgroup": "outofstock",
         "marker": {
          "color": "rgb(229, 134, 6)",
          "pattern": {
           "shape": ""
          }
         },
         "name": "outofstock",
         "offsetgroup": "outofstock",
         "orientation": "h",
         "showlegend": true,
         "text": [
          4704,
          1125,
          1044
         ],
         "textposition": "outside",
         "texttemplate": "%{text:.2s}",
         "type": "bar",
         "x": [
          4704,
          1125,
          1044
         ],
         "xaxis": "x",
         "y": [
          "champagne-gosset-grand-blanc-de-blanc",
          "champagne-egly-ouriet-grand-cru-millesime-2008",
          "elian-daros-cotes-du-marmandais-clos-baquey-2015"
         ],
         "yaxis": "y"
        },
        {
         "alignmentgroup": "True",
         "hovertemplate": "stock_status=instock<br>chiffre_affaire=%{text}<br>post_name=%{y}<extra></extra>",
         "legendgroup": "instock",
         "marker": {
          "color": "rgb(93, 105, 177)",
          "pattern": {
           "shape": ""
          }
         },
         "name": "instock",
         "offsetgroup": "instock",
         "orientation": "h",
         "showlegend": true,
         "text": [
          4263,
          2288,
          1590,
          1560,
          1391.5,
          1033.2,
          1029.2
         ],
         "textposition": "outside",
         "texttemplate": "%{text:.2s}",
         "type": "bar",
         "x": [
          4263,
          2288,
          1590,
          1560,
          1391.5,
          1033.2,
          1029.2
         ],
         "xaxis": "x",
         "y": [
          "champagne-gosset-grand-rose",
          "cognac-frapin-vip-xo",
          "champagne-gosset-grand-millesime-2006",
          "gosset-champagne-grande-reserve",
          "champagne-egly-ouriet-grand-cru-brut-blanc-de-noirs",
          "domaine-giudicelli-patrimonio-blanc-2019",
          "gilles-robin-crozes-hermitage-papillon-2019"
         ],
         "yaxis": "y"
        }
       ],
       "layout": {
        "barmode": "relative",
        "legend": {
         "title": {
          "text": "Stock status"
         },
         "tracegroupgap": 0
        },
        "margin": {
         "t": 60
        },
        "template": {
         "data": {
          "bar": [
           {
            "error_x": {
             "color": "#2a3f5f"
            },
            "error_y": {
             "color": "#2a3f5f"
            },
            "marker": {
             "line": {
              "color": "white",
              "width": 0.5
             },
             "pattern": {
              "fillmode": "overlay",
              "size": 10,
              "solidity": 0.2
             }
            },
            "type": "bar"
           }
          ],
          "barpolar": [
           {
            "marker": {
             "line": {
              "color": "white",
              "width": 0.5
             },
             "pattern": {
              "fillmode": "overlay",
              "size": 10,
              "solidity": 0.2
             }
            },
            "type": "barpolar"
           }
          ],
          "carpet": [
           {
            "aaxis": {
             "endlinecolor": "#2a3f5f",
             "gridcolor": "#C8D4E3",
             "linecolor": "#C8D4E3",
             "minorgridcolor": "#C8D4E3",
             "startlinecolor": "#2a3f5f"
            },
            "baxis": {
             "endlinecolor": "#2a3f5f",
             "gridcolor": "#C8D4E3",
             "linecolor": "#C8D4E3",
             "minorgridcolor": "#C8D4E3",
             "startlinecolor": "#2a3f5f"
            },
            "type": "carpet"
           }
          ],
          "choropleth": [
           {
            "colorbar": {
             "outlinewidth": 0,
             "ticks": ""
            },
            "type": "choropleth"
           }
          ],
          "contour": [
           {
            "colorbar": {
             "outlinewidth": 0,
             "ticks": ""
            },
            "colorscale": [
             [
              0,
              "#0d0887"
             ],
             [
              0.1111111111111111,
              "#46039f"
             ],
             [
              0.2222222222222222,
              "#7201a8"
             ],
             [
              0.3333333333333333,
              "#9c179e"
             ],
             [
              0.4444444444444444,
              "#bd3786"
             ],
             [
              0.5555555555555556,
              "#d8576b"
             ],
             [
              0.6666666666666666,
              "#ed7953"
             ],
             [
              0.7777777777777778,
              "#fb9f3a"
             ],
             [
              0.8888888888888888,
              "#fdca26"
             ],
             [
              1,
              "#f0f921"
             ]
            ],
            "type": "contour"
           }
          ],
          "contourcarpet": [
           {
            "colorbar": {
             "outlinewidth": 0,
             "ticks": ""
            },
            "type": "contourcarpet"
           }
          ],
          "heatmap": [
           {
            "colorbar": {
             "outlinewidth": 0,
             "ticks": ""
            },
            "colorscale": [
             [
              0,
              "#0d0887"
             ],
             [
              0.1111111111111111,
              "#46039f"
             ],
             [
              0.2222222222222222,
              "#7201a8"
             ],
             [
              0.3333333333333333,
              "#9c179e"
             ],
             [
              0.4444444444444444,
              "#bd3786"
             ],
             [
              0.5555555555555556,
              "#d8576b"
             ],
             [
              0.6666666666666666,
              "#ed7953"
             ],
             [
              0.7777777777777778,
              "#fb9f3a"
             ],
             [
              0.8888888888888888,
              "#fdca26"
             ],
             [
              1,
              "#f0f921"
             ]
            ],
            "type": "heatmap"
           }
          ],
          "heatmapgl": [
           {
            "colorbar": {
             "outlinewidth": 0,
             "ticks": ""
            },
            "colorscale": [
             [
              0,
              "#0d0887"
             ],
             [
              0.1111111111111111,
              "#46039f"
             ],
             [
              0.2222222222222222,
              "#7201a8"
             ],
             [
              0.3333333333333333,
              "#9c179e"
             ],
             [
              0.4444444444444444,
              "#bd3786"
             ],
             [
              0.5555555555555556,
              "#d8576b"
             ],
             [
              0.6666666666666666,
              "#ed7953"
             ],
             [
              0.7777777777777778,
              "#fb9f3a"
             ],
             [
              0.8888888888888888,
              "#fdca26"
             ],
             [
              1,
              "#f0f921"
             ]
            ],
            "type": "heatmapgl"
           }
          ],
          "histogram": [
           {
            "marker": {
             "pattern": {
              "fillmode": "overlay",
              "size": 10,
              "solidity": 0.2
             }
            },
            "type": "histogram"
           }
          ],
          "histogram2d": [
           {
            "colorbar": {
             "outlinewidth": 0,
             "ticks": ""
            },
            "colorscale": [
             [
              0,
              "#0d0887"
             ],
             [
              0.1111111111111111,
              "#46039f"
             ],
             [
              0.2222222222222222,
              "#7201a8"
             ],
             [
              0.3333333333333333,
              "#9c179e"
             ],
             [
              0.4444444444444444,
              "#bd3786"
             ],
             [
              0.5555555555555556,
              "#d8576b"
             ],
             [
              0.6666666666666666,
              "#ed7953"
             ],
             [
              0.7777777777777778,
              "#fb9f3a"
             ],
             [
              0.8888888888888888,
              "#fdca26"
             ],
             [
              1,
              "#f0f921"
             ]
            ],
            "type": "histogram2d"
           }
          ],
          "histogram2dcontour": [
           {
            "colorbar": {
             "outlinewidth": 0,
             "ticks": ""
            },
            "colorscale": [
             [
              0,
              "#0d0887"
             ],
             [
              0.1111111111111111,
              "#46039f"
             ],
             [
              0.2222222222222222,
              "#7201a8"
             ],
             [
              0.3333333333333333,
              "#9c179e"
             ],
             [
              0.4444444444444444,
              "#bd3786"
             ],
             [
              0.5555555555555556,
              "#d8576b"
             ],
             [
              0.6666666666666666,
              "#ed7953"
             ],
             [
              0.7777777777777778,
              "#fb9f3a"
             ],
             [
              0.8888888888888888,
              "#fdca26"
             ],
             [
              1,
              "#f0f921"
             ]
            ],
            "type": "histogram2dcontour"
           }
          ],
          "mesh3d": [
           {
            "colorbar": {
             "outlinewidth": 0,
             "ticks": ""
            },
            "type": "mesh3d"
           }
          ],
          "parcoords": [
           {
            "line": {
             "colorbar": {
              "outlinewidth": 0,
              "ticks": ""
             }
            },
            "type": "parcoords"
           }
          ],
          "pie": [
           {
            "automargin": true,
            "type": "pie"
           }
          ],
          "scatter": [
           {
            "marker": {
             "colorbar": {
              "outlinewidth": 0,
              "ticks": ""
             }
            },
            "type": "scatter"
           }
          ],
          "scatter3d": [
           {
            "line": {
             "colorbar": {
              "outlinewidth": 0,
              "ticks": ""
             }
            },
            "marker": {
             "colorbar": {
              "outlinewidth": 0,
              "ticks": ""
             }
            },
            "type": "scatter3d"
           }
          ],
          "scattercarpet": [
           {
            "marker": {
             "colorbar": {
              "outlinewidth": 0,
              "ticks": ""
             }
            },
            "type": "scattercarpet"
           }
          ],
          "scattergeo": [
           {
            "marker": {
             "colorbar": {
              "outlinewidth": 0,
              "ticks": ""
             }
            },
            "type": "scattergeo"
           }
          ],
          "scattergl": [
           {
            "marker": {
             "colorbar": {
              "outlinewidth": 0,
              "ticks": ""
             }
            },
            "type": "scattergl"
           }
          ],
          "scattermapbox": [
           {
            "marker": {
             "colorbar": {
              "outlinewidth": 0,
              "ticks": ""
             }
            },
            "type": "scattermapbox"
           }
          ],
          "scatterpolar": [
           {
            "marker": {
             "colorbar": {
              "outlinewidth": 0,
              "ticks": ""
             }
            },
            "type": "scatterpolar"
           }
          ],
          "scatterpolargl": [
           {
            "marker": {
             "colorbar": {
              "outlinewidth": 0,
              "ticks": ""
             }
            },
            "type": "scatterpolargl"
           }
          ],
          "scatterternary": [
           {
            "marker": {
             "colorbar": {
              "outlinewidth": 0,
              "ticks": ""
             }
            },
            "type": "scatterternary"
           }
          ],
          "surface": [
           {
            "colorbar": {
             "outlinewidth": 0,
             "ticks": ""
            },
            "colorscale": [
             [
              0,
              "#0d0887"
             ],
             [
              0.1111111111111111,
              "#46039f"
             ],
             [
              0.2222222222222222,
              "#7201a8"
             ],
             [
              0.3333333333333333,
              "#9c179e"
             ],
             [
              0.4444444444444444,
              "#bd3786"
             ],
             [
              0.5555555555555556,
              "#d8576b"
             ],
             [
              0.6666666666666666,
              "#ed7953"
             ],
             [
              0.7777777777777778,
              "#fb9f3a"
             ],
             [
              0.8888888888888888,
              "#fdca26"
             ],
             [
              1,
              "#f0f921"
             ]
            ],
            "type": "surface"
           }
          ],
          "table": [
           {
            "cells": {
             "fill": {
              "color": "#EBF0F8"
             },
             "line": {
              "color": "white"
             }
            },
            "header": {
             "fill": {
              "color": "#C8D4E3"
             },
             "line": {
              "color": "white"
             }
            },
            "type": "table"
           }
          ]
         },
         "layout": {
          "annotationdefaults": {
           "arrowcolor": "#2a3f5f",
           "arrowhead": 0,
           "arrowwidth": 1
          },
          "autotypenumbers": "strict",
          "coloraxis": {
           "colorbar": {
            "outlinewidth": 0,
            "ticks": ""
           }
          },
          "colorscale": {
           "diverging": [
            [
             0,
             "#8e0152"
            ],
            [
             0.1,
             "#c51b7d"
            ],
            [
             0.2,
             "#de77ae"
            ],
            [
             0.3,
             "#f1b6da"
            ],
            [
             0.4,
             "#fde0ef"
            ],
            [
             0.5,
             "#f7f7f7"
            ],
            [
             0.6,
             "#e6f5d0"
            ],
            [
             0.7,
             "#b8e186"
            ],
            [
             0.8,
             "#7fbc41"
            ],
            [
             0.9,
             "#4d9221"
            ],
            [
             1,
             "#276419"
            ]
           ],
           "sequential": [
            [
             0,
             "#0d0887"
            ],
            [
             0.1111111111111111,
             "#46039f"
            ],
            [
             0.2222222222222222,
             "#7201a8"
            ],
            [
             0.3333333333333333,
             "#9c179e"
            ],
            [
             0.4444444444444444,
             "#bd3786"
            ],
            [
             0.5555555555555556,
             "#d8576b"
            ],
            [
             0.6666666666666666,
             "#ed7953"
            ],
            [
             0.7777777777777778,
             "#fb9f3a"
            ],
            [
             0.8888888888888888,
             "#fdca26"
            ],
            [
             1,
             "#f0f921"
            ]
           ],
           "sequentialminus": [
            [
             0,
             "#0d0887"
            ],
            [
             0.1111111111111111,
             "#46039f"
            ],
            [
             0.2222222222222222,
             "#7201a8"
            ],
            [
             0.3333333333333333,
             "#9c179e"
            ],
            [
             0.4444444444444444,
             "#bd3786"
            ],
            [
             0.5555555555555556,
             "#d8576b"
            ],
            [
             0.6666666666666666,
             "#ed7953"
            ],
            [
             0.7777777777777778,
             "#fb9f3a"
            ],
            [
             0.8888888888888888,
             "#fdca26"
            ],
            [
             1,
             "#f0f921"
            ]
           ]
          },
          "colorway": [
           "#636efa",
           "#EF553B",
           "#00cc96",
           "#ab63fa",
           "#FFA15A",
           "#19d3f3",
           "#FF6692",
           "#B6E880",
           "#FF97FF",
           "#FECB52"
          ],
          "font": {
           "color": "#2a3f5f"
          },
          "geo": {
           "bgcolor": "white",
           "lakecolor": "white",
           "landcolor": "white",
           "showlakes": true,
           "showland": true,
           "subunitcolor": "#C8D4E3"
          },
          "hoverlabel": {
           "align": "left"
          },
          "hovermode": "closest",
          "mapbox": {
           "style": "light"
          },
          "paper_bgcolor": "white",
          "plot_bgcolor": "white",
          "polar": {
           "angularaxis": {
            "gridcolor": "#EBF0F8",
            "linecolor": "#EBF0F8",
            "ticks": ""
           },
           "bgcolor": "white",
           "radialaxis": {
            "gridcolor": "#EBF0F8",
            "linecolor": "#EBF0F8",
            "ticks": ""
           }
          },
          "scene": {
           "xaxis": {
            "backgroundcolor": "white",
            "gridcolor": "#DFE8F3",
            "gridwidth": 2,
            "linecolor": "#EBF0F8",
            "showbackground": true,
            "ticks": "",
            "zerolinecolor": "#EBF0F8"
           },
           "yaxis": {
            "backgroundcolor": "white",
            "gridcolor": "#DFE8F3",
            "gridwidth": 2,
            "linecolor": "#EBF0F8",
            "showbackground": true,
            "ticks": "",
            "zerolinecolor": "#EBF0F8"
           },
           "zaxis": {
            "backgroundcolor": "white",
            "gridcolor": "#DFE8F3",
            "gridwidth": 2,
            "linecolor": "#EBF0F8",
            "showbackground": true,
            "ticks": "",
            "zerolinecolor": "#EBF0F8"
           }
          },
          "shapedefaults": {
           "line": {
            "color": "#2a3f5f"
           }
          },
          "ternary": {
           "aaxis": {
            "gridcolor": "#DFE8F3",
            "linecolor": "#A2B1C6",
            "ticks": ""
           },
           "baxis": {
            "gridcolor": "#DFE8F3",
            "linecolor": "#A2B1C6",
            "ticks": ""
           },
           "bgcolor": "white",
           "caxis": {
            "gridcolor": "#DFE8F3",
            "linecolor": "#A2B1C6",
            "ticks": ""
           }
          },
          "title": {
           "x": 0.05
          },
          "xaxis": {
           "automargin": true,
           "gridcolor": "#EBF0F8",
           "linecolor": "#EBF0F8",
           "ticks": "",
           "title": {
            "standoff": 15
           },
           "zerolinecolor": "#EBF0F8",
           "zerolinewidth": 2
          },
          "yaxis": {
           "automargin": true,
           "gridcolor": "#EBF0F8",
           "linecolor": "#EBF0F8",
           "ticks": "",
           "title": {
            "standoff": 15
           },
           "zerolinecolor": "#EBF0F8",
           "zerolinewidth": 2
          }
         }
        },
        "title": {
         "text": "Top 10 - Turnover (global)"
        },
        "uniformtext": {
         "minsize": 7
        },
        "xaxis": {
         "anchor": "y",
         "domain": [
          0,
          1
         ],
         "range": [
          0,
          5004
         ],
         "title": {
          "text": "Turnover (€)"
         }
        },
        "yaxis": {
         "anchor": "x",
         "categoryorder": "total ascending",
         "domain": [
          0,
          1
         ],
         "title": {
          "text": "Product name"
         }
        }
       }
      }
     },
     "metadata": {},
     "output_type": "display_data"
    }
   ],
   "source": [
    "fig = px.bar(chiffre_affaire.sort_values('chiffre_affaire',ascending=False).head(10), \n",
    "             x = 'chiffre_affaire', \n",
    "             y = 'post_name',\n",
    "             color = \"stock_status\",\n",
    "             text = \"chiffre_affaire\",\n",
    "             color_discrete_sequence = px.colors.qualitative.Vivid,\n",
    "             orientation=\"h\")\n",
    "fig.update_traces(texttemplate='%{text:.2s}', textposition='outside')\n",
    "fig.update_layout(\n",
    "    uniformtext_minsize=7,\n",
    "    xaxis_title=\"Turnover (€)\",\n",
    "    yaxis_title=\"Product name\",\n",
    "    title = \"Top 10 - Turnover (global)\",\n",
    "    legend_title=\"Stock status\"\n",
    ")\n",
    "fig.update_xaxes(range = [0,chiffre_affaire[\"chiffre_affaire\"].max()+300])\n",
    "fig.update_yaxes(categoryorder='total ascending')\n",
    "fig.show()"
   ]
  },
  {
   "cell_type": "code",
   "execution_count": 294,
   "id": "ce7e7544",
   "metadata": {},
   "outputs": [
    {
     "data": {
      "application/vnd.plotly.v1+json": {
       "config": {
        "plotlyServerURL": "https://plot.ly"
       },
       "data": [
        {
         "alignmentgroup": "True",
         "hovertemplate": "stock_status=outofstock<br>chiffre_affaire=%{text}<br>post_name=%{y}<extra></extra>",
         "legendgroup": "outofstock",
         "marker": {
          "color": "rgb(229, 134, 6)",
          "pattern": {
           "shape": ""
          }
         },
         "name": "outofstock",
         "offsetgroup": "outofstock",
         "orientation": "h",
         "showlegend": true,
         "text": [
          4704,
          1125,
          1044,
          1009.6999999999999,
          1004.4,
          958.4,
          892.8000000000001,
          824.5,
          716,
          480
         ],
         "textposition": "outside",
         "texttemplate": "%{text:.2s}",
         "type": "bar",
         "x": [
          4704,
          1125,
          1044,
          1009.6999999999999,
          1004.4,
          958.4,
          892.8000000000001,
          824.5,
          716,
          480
         ],
         "xaxis": "x",
         "y": [
          "champagne-gosset-grand-blanc-de-blanc",
          "champagne-egly-ouriet-grand-cru-millesime-2008",
          "elian-daros-cotes-du-marmandais-clos-baquey-2015",
          "marc-colin-et-fils-chassagne-montrachet-blanc-margot-2017",
          "jacqueson-rully-blanc-1er-cru-la-pucelle-2018",
          "albert-mann-pinot-noir-grand-h-2017",
          "alain-graillot-crozes-hermitage-rouge-la-guiraude-2016",
          "albert-mann-pinot-noir-clos-de-la-faille-2017",
          "clos-du-mont-olivet-chateauneuf-du-pape-papet-2018",
          "pierre-gaillard-cote-rotie-rose-pourpre-2017"
         ],
         "yaxis": "y"
        }
       ],
       "layout": {
        "barmode": "relative",
        "legend": {
         "title": {
          "text": "Stock status"
         },
         "tracegroupgap": 0
        },
        "margin": {
         "t": 60
        },
        "template": {
         "data": {
          "bar": [
           {
            "error_x": {
             "color": "#2a3f5f"
            },
            "error_y": {
             "color": "#2a3f5f"
            },
            "marker": {
             "line": {
              "color": "white",
              "width": 0.5
             },
             "pattern": {
              "fillmode": "overlay",
              "size": 10,
              "solidity": 0.2
             }
            },
            "type": "bar"
           }
          ],
          "barpolar": [
           {
            "marker": {
             "line": {
              "color": "white",
              "width": 0.5
             },
             "pattern": {
              "fillmode": "overlay",
              "size": 10,
              "solidity": 0.2
             }
            },
            "type": "barpolar"
           }
          ],
          "carpet": [
           {
            "aaxis": {
             "endlinecolor": "#2a3f5f",
             "gridcolor": "#C8D4E3",
             "linecolor": "#C8D4E3",
             "minorgridcolor": "#C8D4E3",
             "startlinecolor": "#2a3f5f"
            },
            "baxis": {
             "endlinecolor": "#2a3f5f",
             "gridcolor": "#C8D4E3",
             "linecolor": "#C8D4E3",
             "minorgridcolor": "#C8D4E3",
             "startlinecolor": "#2a3f5f"
            },
            "type": "carpet"
           }
          ],
          "choropleth": [
           {
            "colorbar": {
             "outlinewidth": 0,
             "ticks": ""
            },
            "type": "choropleth"
           }
          ],
          "contour": [
           {
            "colorbar": {
             "outlinewidth": 0,
             "ticks": ""
            },
            "colorscale": [
             [
              0,
              "#0d0887"
             ],
             [
              0.1111111111111111,
              "#46039f"
             ],
             [
              0.2222222222222222,
              "#7201a8"
             ],
             [
              0.3333333333333333,
              "#9c179e"
             ],
             [
              0.4444444444444444,
              "#bd3786"
             ],
             [
              0.5555555555555556,
              "#d8576b"
             ],
             [
              0.6666666666666666,
              "#ed7953"
             ],
             [
              0.7777777777777778,
              "#fb9f3a"
             ],
             [
              0.8888888888888888,
              "#fdca26"
             ],
             [
              1,
              "#f0f921"
             ]
            ],
            "type": "contour"
           }
          ],
          "contourcarpet": [
           {
            "colorbar": {
             "outlinewidth": 0,
             "ticks": ""
            },
            "type": "contourcarpet"
           }
          ],
          "heatmap": [
           {
            "colorbar": {
             "outlinewidth": 0,
             "ticks": ""
            },
            "colorscale": [
             [
              0,
              "#0d0887"
             ],
             [
              0.1111111111111111,
              "#46039f"
             ],
             [
              0.2222222222222222,
              "#7201a8"
             ],
             [
              0.3333333333333333,
              "#9c179e"
             ],
             [
              0.4444444444444444,
              "#bd3786"
             ],
             [
              0.5555555555555556,
              "#d8576b"
             ],
             [
              0.6666666666666666,
              "#ed7953"
             ],
             [
              0.7777777777777778,
              "#fb9f3a"
             ],
             [
              0.8888888888888888,
              "#fdca26"
             ],
             [
              1,
              "#f0f921"
             ]
            ],
            "type": "heatmap"
           }
          ],
          "heatmapgl": [
           {
            "colorbar": {
             "outlinewidth": 0,
             "ticks": ""
            },
            "colorscale": [
             [
              0,
              "#0d0887"
             ],
             [
              0.1111111111111111,
              "#46039f"
             ],
             [
              0.2222222222222222,
              "#7201a8"
             ],
             [
              0.3333333333333333,
              "#9c179e"
             ],
             [
              0.4444444444444444,
              "#bd3786"
             ],
             [
              0.5555555555555556,
              "#d8576b"
             ],
             [
              0.6666666666666666,
              "#ed7953"
             ],
             [
              0.7777777777777778,
              "#fb9f3a"
             ],
             [
              0.8888888888888888,
              "#fdca26"
             ],
             [
              1,
              "#f0f921"
             ]
            ],
            "type": "heatmapgl"
           }
          ],
          "histogram": [
           {
            "marker": {
             "pattern": {
              "fillmode": "overlay",
              "size": 10,
              "solidity": 0.2
             }
            },
            "type": "histogram"
           }
          ],
          "histogram2d": [
           {
            "colorbar": {
             "outlinewidth": 0,
             "ticks": ""
            },
            "colorscale": [
             [
              0,
              "#0d0887"
             ],
             [
              0.1111111111111111,
              "#46039f"
             ],
             [
              0.2222222222222222,
              "#7201a8"
             ],
             [
              0.3333333333333333,
              "#9c179e"
             ],
             [
              0.4444444444444444,
              "#bd3786"
             ],
             [
              0.5555555555555556,
              "#d8576b"
             ],
             [
              0.6666666666666666,
              "#ed7953"
             ],
             [
              0.7777777777777778,
              "#fb9f3a"
             ],
             [
              0.8888888888888888,
              "#fdca26"
             ],
             [
              1,
              "#f0f921"
             ]
            ],
            "type": "histogram2d"
           }
          ],
          "histogram2dcontour": [
           {
            "colorbar": {
             "outlinewidth": 0,
             "ticks": ""
            },
            "colorscale": [
             [
              0,
              "#0d0887"
             ],
             [
              0.1111111111111111,
              "#46039f"
             ],
             [
              0.2222222222222222,
              "#7201a8"
             ],
             [
              0.3333333333333333,
              "#9c179e"
             ],
             [
              0.4444444444444444,
              "#bd3786"
             ],
             [
              0.5555555555555556,
              "#d8576b"
             ],
             [
              0.6666666666666666,
              "#ed7953"
             ],
             [
              0.7777777777777778,
              "#fb9f3a"
             ],
             [
              0.8888888888888888,
              "#fdca26"
             ],
             [
              1,
              "#f0f921"
             ]
            ],
            "type": "histogram2dcontour"
           }
          ],
          "mesh3d": [
           {
            "colorbar": {
             "outlinewidth": 0,
             "ticks": ""
            },
            "type": "mesh3d"
           }
          ],
          "parcoords": [
           {
            "line": {
             "colorbar": {
              "outlinewidth": 0,
              "ticks": ""
             }
            },
            "type": "parcoords"
           }
          ],
          "pie": [
           {
            "automargin": true,
            "type": "pie"
           }
          ],
          "scatter": [
           {
            "marker": {
             "colorbar": {
              "outlinewidth": 0,
              "ticks": ""
             }
            },
            "type": "scatter"
           }
          ],
          "scatter3d": [
           {
            "line": {
             "colorbar": {
              "outlinewidth": 0,
              "ticks": ""
             }
            },
            "marker": {
             "colorbar": {
              "outlinewidth": 0,
              "ticks": ""
             }
            },
            "type": "scatter3d"
           }
          ],
          "scattercarpet": [
           {
            "marker": {
             "colorbar": {
              "outlinewidth": 0,
              "ticks": ""
             }
            },
            "type": "scattercarpet"
           }
          ],
          "scattergeo": [
           {
            "marker": {
             "colorbar": {
              "outlinewidth": 0,
              "ticks": ""
             }
            },
            "type": "scattergeo"
           }
          ],
          "scattergl": [
           {
            "marker": {
             "colorbar": {
              "outlinewidth": 0,
              "ticks": ""
             }
            },
            "type": "scattergl"
           }
          ],
          "scattermapbox": [
           {
            "marker": {
             "colorbar": {
              "outlinewidth": 0,
              "ticks": ""
             }
            },
            "type": "scattermapbox"
           }
          ],
          "scatterpolar": [
           {
            "marker": {
             "colorbar": {
              "outlinewidth": 0,
              "ticks": ""
             }
            },
            "type": "scatterpolar"
           }
          ],
          "scatterpolargl": [
           {
            "marker": {
             "colorbar": {
              "outlinewidth": 0,
              "ticks": ""
             }
            },
            "type": "scatterpolargl"
           }
          ],
          "scatterternary": [
           {
            "marker": {
             "colorbar": {
              "outlinewidth": 0,
              "ticks": ""
             }
            },
            "type": "scatterternary"
           }
          ],
          "surface": [
           {
            "colorbar": {
             "outlinewidth": 0,
             "ticks": ""
            },
            "colorscale": [
             [
              0,
              "#0d0887"
             ],
             [
              0.1111111111111111,
              "#46039f"
             ],
             [
              0.2222222222222222,
              "#7201a8"
             ],
             [
              0.3333333333333333,
              "#9c179e"
             ],
             [
              0.4444444444444444,
              "#bd3786"
             ],
             [
              0.5555555555555556,
              "#d8576b"
             ],
             [
              0.6666666666666666,
              "#ed7953"
             ],
             [
              0.7777777777777778,
              "#fb9f3a"
             ],
             [
              0.8888888888888888,
              "#fdca26"
             ],
             [
              1,
              "#f0f921"
             ]
            ],
            "type": "surface"
           }
          ],
          "table": [
           {
            "cells": {
             "fill": {
              "color": "#EBF0F8"
             },
             "line": {
              "color": "white"
             }
            },
            "header": {
             "fill": {
              "color": "#C8D4E3"
             },
             "line": {
              "color": "white"
             }
            },
            "type": "table"
           }
          ]
         },
         "layout": {
          "annotationdefaults": {
           "arrowcolor": "#2a3f5f",
           "arrowhead": 0,
           "arrowwidth": 1
          },
          "autotypenumbers": "strict",
          "coloraxis": {
           "colorbar": {
            "outlinewidth": 0,
            "ticks": ""
           }
          },
          "colorscale": {
           "diverging": [
            [
             0,
             "#8e0152"
            ],
            [
             0.1,
             "#c51b7d"
            ],
            [
             0.2,
             "#de77ae"
            ],
            [
             0.3,
             "#f1b6da"
            ],
            [
             0.4,
             "#fde0ef"
            ],
            [
             0.5,
             "#f7f7f7"
            ],
            [
             0.6,
             "#e6f5d0"
            ],
            [
             0.7,
             "#b8e186"
            ],
            [
             0.8,
             "#7fbc41"
            ],
            [
             0.9,
             "#4d9221"
            ],
            [
             1,
             "#276419"
            ]
           ],
           "sequential": [
            [
             0,
             "#0d0887"
            ],
            [
             0.1111111111111111,
             "#46039f"
            ],
            [
             0.2222222222222222,
             "#7201a8"
            ],
            [
             0.3333333333333333,
             "#9c179e"
            ],
            [
             0.4444444444444444,
             "#bd3786"
            ],
            [
             0.5555555555555556,
             "#d8576b"
            ],
            [
             0.6666666666666666,
             "#ed7953"
            ],
            [
             0.7777777777777778,
             "#fb9f3a"
            ],
            [
             0.8888888888888888,
             "#fdca26"
            ],
            [
             1,
             "#f0f921"
            ]
           ],
           "sequentialminus": [
            [
             0,
             "#0d0887"
            ],
            [
             0.1111111111111111,
             "#46039f"
            ],
            [
             0.2222222222222222,
             "#7201a8"
            ],
            [
             0.3333333333333333,
             "#9c179e"
            ],
            [
             0.4444444444444444,
             "#bd3786"
            ],
            [
             0.5555555555555556,
             "#d8576b"
            ],
            [
             0.6666666666666666,
             "#ed7953"
            ],
            [
             0.7777777777777778,
             "#fb9f3a"
            ],
            [
             0.8888888888888888,
             "#fdca26"
            ],
            [
             1,
             "#f0f921"
            ]
           ]
          },
          "colorway": [
           "#636efa",
           "#EF553B",
           "#00cc96",
           "#ab63fa",
           "#FFA15A",
           "#19d3f3",
           "#FF6692",
           "#B6E880",
           "#FF97FF",
           "#FECB52"
          ],
          "font": {
           "color": "#2a3f5f"
          },
          "geo": {
           "bgcolor": "white",
           "lakecolor": "white",
           "landcolor": "white",
           "showlakes": true,
           "showland": true,
           "subunitcolor": "#C8D4E3"
          },
          "hoverlabel": {
           "align": "left"
          },
          "hovermode": "closest",
          "mapbox": {
           "style": "light"
          },
          "paper_bgcolor": "white",
          "plot_bgcolor": "white",
          "polar": {
           "angularaxis": {
            "gridcolor": "#EBF0F8",
            "linecolor": "#EBF0F8",
            "ticks": ""
           },
           "bgcolor": "white",
           "radialaxis": {
            "gridcolor": "#EBF0F8",
            "linecolor": "#EBF0F8",
            "ticks": ""
           }
          },
          "scene": {
           "xaxis": {
            "backgroundcolor": "white",
            "gridcolor": "#DFE8F3",
            "gridwidth": 2,
            "linecolor": "#EBF0F8",
            "showbackground": true,
            "ticks": "",
            "zerolinecolor": "#EBF0F8"
           },
           "yaxis": {
            "backgroundcolor": "white",
            "gridcolor": "#DFE8F3",
            "gridwidth": 2,
            "linecolor": "#EBF0F8",
            "showbackground": true,
            "ticks": "",
            "zerolinecolor": "#EBF0F8"
           },
           "zaxis": {
            "backgroundcolor": "white",
            "gridcolor": "#DFE8F3",
            "gridwidth": 2,
            "linecolor": "#EBF0F8",
            "showbackground": true,
            "ticks": "",
            "zerolinecolor": "#EBF0F8"
           }
          },
          "shapedefaults": {
           "line": {
            "color": "#2a3f5f"
           }
          },
          "ternary": {
           "aaxis": {
            "gridcolor": "#DFE8F3",
            "linecolor": "#A2B1C6",
            "ticks": ""
           },
           "baxis": {
            "gridcolor": "#DFE8F3",
            "linecolor": "#A2B1C6",
            "ticks": ""
           },
           "bgcolor": "white",
           "caxis": {
            "gridcolor": "#DFE8F3",
            "linecolor": "#A2B1C6",
            "ticks": ""
           }
          },
          "title": {
           "x": 0.05
          },
          "xaxis": {
           "automargin": true,
           "gridcolor": "#EBF0F8",
           "linecolor": "#EBF0F8",
           "ticks": "",
           "title": {
            "standoff": 15
           },
           "zerolinecolor": "#EBF0F8",
           "zerolinewidth": 2
          },
          "yaxis": {
           "automargin": true,
           "gridcolor": "#EBF0F8",
           "linecolor": "#EBF0F8",
           "ticks": "",
           "title": {
            "standoff": 15
           },
           "zerolinecolor": "#EBF0F8",
           "zerolinewidth": 2
          }
         }
        },
        "title": {
         "text": "Top 10 - Turnover of out of stock products"
        },
        "uniformtext": {
         "minsize": 7
        },
        "xaxis": {
         "anchor": "y",
         "domain": [
          0,
          1
         ],
         "range": [
          0,
          5004
         ],
         "title": {
          "text": "Turnover (€)"
         }
        },
        "yaxis": {
         "anchor": "x",
         "categoryorder": "total ascending",
         "domain": [
          0,
          1
         ],
         "title": {
          "text": "Product name"
         }
        }
       }
      }
     },
     "metadata": {},
     "output_type": "display_data"
    }
   ],
   "source": [
    "fig = px.bar(chiffre_affaire[list_analyse].loc[ca_outofstock].sort_values('chiffre_affaire',ascending=False).head(10), \n",
    "             x = 'chiffre_affaire', \n",
    "             y = 'post_name',\n",
    "             color = \"stock_status\",\n",
    "             text = \"chiffre_affaire\",\n",
    "             color_discrete_sequence = px.colors.qualitative.Vivid,\n",
    "            orientation=\"h\")\n",
    "fig.update_traces(texttemplate='%{text:.2s}', textposition='outside')\n",
    "fig.update_layout(\n",
    "    uniformtext_minsize=7,\n",
    "    xaxis_title=\"Turnover (€)\",\n",
    "    yaxis_title=\"Product name\",\n",
    "    title=\"Top 10 - Turnover of out of stock products\",\n",
    "    legend_title=\"Stock status\"\n",
    ")\n",
    "fig.update_xaxes(range = [0,chiffre_affaire[\"chiffre_affaire\"].max()+300])\n",
    "fig.update_yaxes(categoryorder='total ascending')\n",
    "fig.show()"
   ]
  },
  {
   "cell_type": "code",
   "execution_count": 296,
   "id": "2f380833",
   "metadata": {},
   "outputs": [
    {
     "data": {
      "application/vnd.plotly.v1+json": {
       "config": {
        "plotlyServerURL": "https://plot.ly"
       },
       "data": [
        {
         "alignmentgroup": "True",
         "hovertemplate": "stock_status=instock<br>chiffre_affaire=%{text}<br>post_name=%{y}<extra></extra>",
         "legendgroup": "instock",
         "marker": {
          "color": "rgb(93, 105, 177)",
          "pattern": {
           "shape": ""
          }
         },
         "name": "instock",
         "offsetgroup": "instock",
         "orientation": "h",
         "showlegend": true,
         "text": [
          4263,
          2288,
          1590,
          1560,
          1391.5,
          1033.2,
          1029.2,
          1018.9,
          932.4,
          698
         ],
         "textposition": "outside",
         "texttemplate": "%{text:.2s}",
         "type": "bar",
         "x": [
          4263,
          2288,
          1590,
          1560,
          1391.5,
          1033.2,
          1029.2,
          1018.9,
          932.4,
          698
         ],
         "xaxis": "x",
         "y": [
          "champagne-gosset-grand-rose",
          "cognac-frapin-vip-xo",
          "champagne-gosset-grand-millesime-2006",
          "gosset-champagne-grande-reserve",
          "champagne-egly-ouriet-grand-cru-brut-blanc-de-noirs",
          "domaine-giudicelli-patrimonio-blanc-2019",
          "gilles-robin-crozes-hermitage-papillon-2019",
          "clos-du-mont-olivet-chateauneuf-du-pape-2012",
          "domaine-giudicelli-patrimonio-rouge-2016",
          "hauvette-baux-provence-amethyste-2017"
         ],
         "yaxis": "y"
        }
       ],
       "layout": {
        "barmode": "relative",
        "legend": {
         "title": {
          "text": "Stock status"
         },
         "tracegroupgap": 0
        },
        "margin": {
         "t": 60
        },
        "template": {
         "data": {
          "bar": [
           {
            "error_x": {
             "color": "#2a3f5f"
            },
            "error_y": {
             "color": "#2a3f5f"
            },
            "marker": {
             "line": {
              "color": "white",
              "width": 0.5
             },
             "pattern": {
              "fillmode": "overlay",
              "size": 10,
              "solidity": 0.2
             }
            },
            "type": "bar"
           }
          ],
          "barpolar": [
           {
            "marker": {
             "line": {
              "color": "white",
              "width": 0.5
             },
             "pattern": {
              "fillmode": "overlay",
              "size": 10,
              "solidity": 0.2
             }
            },
            "type": "barpolar"
           }
          ],
          "carpet": [
           {
            "aaxis": {
             "endlinecolor": "#2a3f5f",
             "gridcolor": "#C8D4E3",
             "linecolor": "#C8D4E3",
             "minorgridcolor": "#C8D4E3",
             "startlinecolor": "#2a3f5f"
            },
            "baxis": {
             "endlinecolor": "#2a3f5f",
             "gridcolor": "#C8D4E3",
             "linecolor": "#C8D4E3",
             "minorgridcolor": "#C8D4E3",
             "startlinecolor": "#2a3f5f"
            },
            "type": "carpet"
           }
          ],
          "choropleth": [
           {
            "colorbar": {
             "outlinewidth": 0,
             "ticks": ""
            },
            "type": "choropleth"
           }
          ],
          "contour": [
           {
            "colorbar": {
             "outlinewidth": 0,
             "ticks": ""
            },
            "colorscale": [
             [
              0,
              "#0d0887"
             ],
             [
              0.1111111111111111,
              "#46039f"
             ],
             [
              0.2222222222222222,
              "#7201a8"
             ],
             [
              0.3333333333333333,
              "#9c179e"
             ],
             [
              0.4444444444444444,
              "#bd3786"
             ],
             [
              0.5555555555555556,
              "#d8576b"
             ],
             [
              0.6666666666666666,
              "#ed7953"
             ],
             [
              0.7777777777777778,
              "#fb9f3a"
             ],
             [
              0.8888888888888888,
              "#fdca26"
             ],
             [
              1,
              "#f0f921"
             ]
            ],
            "type": "contour"
           }
          ],
          "contourcarpet": [
           {
            "colorbar": {
             "outlinewidth": 0,
             "ticks": ""
            },
            "type": "contourcarpet"
           }
          ],
          "heatmap": [
           {
            "colorbar": {
             "outlinewidth": 0,
             "ticks": ""
            },
            "colorscale": [
             [
              0,
              "#0d0887"
             ],
             [
              0.1111111111111111,
              "#46039f"
             ],
             [
              0.2222222222222222,
              "#7201a8"
             ],
             [
              0.3333333333333333,
              "#9c179e"
             ],
             [
              0.4444444444444444,
              "#bd3786"
             ],
             [
              0.5555555555555556,
              "#d8576b"
             ],
             [
              0.6666666666666666,
              "#ed7953"
             ],
             [
              0.7777777777777778,
              "#fb9f3a"
             ],
             [
              0.8888888888888888,
              "#fdca26"
             ],
             [
              1,
              "#f0f921"
             ]
            ],
            "type": "heatmap"
           }
          ],
          "heatmapgl": [
           {
            "colorbar": {
             "outlinewidth": 0,
             "ticks": ""
            },
            "colorscale": [
             [
              0,
              "#0d0887"
             ],
             [
              0.1111111111111111,
              "#46039f"
             ],
             [
              0.2222222222222222,
              "#7201a8"
             ],
             [
              0.3333333333333333,
              "#9c179e"
             ],
             [
              0.4444444444444444,
              "#bd3786"
             ],
             [
              0.5555555555555556,
              "#d8576b"
             ],
             [
              0.6666666666666666,
              "#ed7953"
             ],
             [
              0.7777777777777778,
              "#fb9f3a"
             ],
             [
              0.8888888888888888,
              "#fdca26"
             ],
             [
              1,
              "#f0f921"
             ]
            ],
            "type": "heatmapgl"
           }
          ],
          "histogram": [
           {
            "marker": {
             "pattern": {
              "fillmode": "overlay",
              "size": 10,
              "solidity": 0.2
             }
            },
            "type": "histogram"
           }
          ],
          "histogram2d": [
           {
            "colorbar": {
             "outlinewidth": 0,
             "ticks": ""
            },
            "colorscale": [
             [
              0,
              "#0d0887"
             ],
             [
              0.1111111111111111,
              "#46039f"
             ],
             [
              0.2222222222222222,
              "#7201a8"
             ],
             [
              0.3333333333333333,
              "#9c179e"
             ],
             [
              0.4444444444444444,
              "#bd3786"
             ],
             [
              0.5555555555555556,
              "#d8576b"
             ],
             [
              0.6666666666666666,
              "#ed7953"
             ],
             [
              0.7777777777777778,
              "#fb9f3a"
             ],
             [
              0.8888888888888888,
              "#fdca26"
             ],
             [
              1,
              "#f0f921"
             ]
            ],
            "type": "histogram2d"
           }
          ],
          "histogram2dcontour": [
           {
            "colorbar": {
             "outlinewidth": 0,
             "ticks": ""
            },
            "colorscale": [
             [
              0,
              "#0d0887"
             ],
             [
              0.1111111111111111,
              "#46039f"
             ],
             [
              0.2222222222222222,
              "#7201a8"
             ],
             [
              0.3333333333333333,
              "#9c179e"
             ],
             [
              0.4444444444444444,
              "#bd3786"
             ],
             [
              0.5555555555555556,
              "#d8576b"
             ],
             [
              0.6666666666666666,
              "#ed7953"
             ],
             [
              0.7777777777777778,
              "#fb9f3a"
             ],
             [
              0.8888888888888888,
              "#fdca26"
             ],
             [
              1,
              "#f0f921"
             ]
            ],
            "type": "histogram2dcontour"
           }
          ],
          "mesh3d": [
           {
            "colorbar": {
             "outlinewidth": 0,
             "ticks": ""
            },
            "type": "mesh3d"
           }
          ],
          "parcoords": [
           {
            "line": {
             "colorbar": {
              "outlinewidth": 0,
              "ticks": ""
             }
            },
            "type": "parcoords"
           }
          ],
          "pie": [
           {
            "automargin": true,
            "type": "pie"
           }
          ],
          "scatter": [
           {
            "marker": {
             "colorbar": {
              "outlinewidth": 0,
              "ticks": ""
             }
            },
            "type": "scatter"
           }
          ],
          "scatter3d": [
           {
            "line": {
             "colorbar": {
              "outlinewidth": 0,
              "ticks": ""
             }
            },
            "marker": {
             "colorbar": {
              "outlinewidth": 0,
              "ticks": ""
             }
            },
            "type": "scatter3d"
           }
          ],
          "scattercarpet": [
           {
            "marker": {
             "colorbar": {
              "outlinewidth": 0,
              "ticks": ""
             }
            },
            "type": "scattercarpet"
           }
          ],
          "scattergeo": [
           {
            "marker": {
             "colorbar": {
              "outlinewidth": 0,
              "ticks": ""
             }
            },
            "type": "scattergeo"
           }
          ],
          "scattergl": [
           {
            "marker": {
             "colorbar": {
              "outlinewidth": 0,
              "ticks": ""
             }
            },
            "type": "scattergl"
           }
          ],
          "scattermapbox": [
           {
            "marker": {
             "colorbar": {
              "outlinewidth": 0,
              "ticks": ""
             }
            },
            "type": "scattermapbox"
           }
          ],
          "scatterpolar": [
           {
            "marker": {
             "colorbar": {
              "outlinewidth": 0,
              "ticks": ""
             }
            },
            "type": "scatterpolar"
           }
          ],
          "scatterpolargl": [
           {
            "marker": {
             "colorbar": {
              "outlinewidth": 0,
              "ticks": ""
             }
            },
            "type": "scatterpolargl"
           }
          ],
          "scatterternary": [
           {
            "marker": {
             "colorbar": {
              "outlinewidth": 0,
              "ticks": ""
             }
            },
            "type": "scatterternary"
           }
          ],
          "surface": [
           {
            "colorbar": {
             "outlinewidth": 0,
             "ticks": ""
            },
            "colorscale": [
             [
              0,
              "#0d0887"
             ],
             [
              0.1111111111111111,
              "#46039f"
             ],
             [
              0.2222222222222222,
              "#7201a8"
             ],
             [
              0.3333333333333333,
              "#9c179e"
             ],
             [
              0.4444444444444444,
              "#bd3786"
             ],
             [
              0.5555555555555556,
              "#d8576b"
             ],
             [
              0.6666666666666666,
              "#ed7953"
             ],
             [
              0.7777777777777778,
              "#fb9f3a"
             ],
             [
              0.8888888888888888,
              "#fdca26"
             ],
             [
              1,
              "#f0f921"
             ]
            ],
            "type": "surface"
           }
          ],
          "table": [
           {
            "cells": {
             "fill": {
              "color": "#EBF0F8"
             },
             "line": {
              "color": "white"
             }
            },
            "header": {
             "fill": {
              "color": "#C8D4E3"
             },
             "line": {
              "color": "white"
             }
            },
            "type": "table"
           }
          ]
         },
         "layout": {
          "annotationdefaults": {
           "arrowcolor": "#2a3f5f",
           "arrowhead": 0,
           "arrowwidth": 1
          },
          "autotypenumbers": "strict",
          "coloraxis": {
           "colorbar": {
            "outlinewidth": 0,
            "ticks": ""
           }
          },
          "colorscale": {
           "diverging": [
            [
             0,
             "#8e0152"
            ],
            [
             0.1,
             "#c51b7d"
            ],
            [
             0.2,
             "#de77ae"
            ],
            [
             0.3,
             "#f1b6da"
            ],
            [
             0.4,
             "#fde0ef"
            ],
            [
             0.5,
             "#f7f7f7"
            ],
            [
             0.6,
             "#e6f5d0"
            ],
            [
             0.7,
             "#b8e186"
            ],
            [
             0.8,
             "#7fbc41"
            ],
            [
             0.9,
             "#4d9221"
            ],
            [
             1,
             "#276419"
            ]
           ],
           "sequential": [
            [
             0,
             "#0d0887"
            ],
            [
             0.1111111111111111,
             "#46039f"
            ],
            [
             0.2222222222222222,
             "#7201a8"
            ],
            [
             0.3333333333333333,
             "#9c179e"
            ],
            [
             0.4444444444444444,
             "#bd3786"
            ],
            [
             0.5555555555555556,
             "#d8576b"
            ],
            [
             0.6666666666666666,
             "#ed7953"
            ],
            [
             0.7777777777777778,
             "#fb9f3a"
            ],
            [
             0.8888888888888888,
             "#fdca26"
            ],
            [
             1,
             "#f0f921"
            ]
           ],
           "sequentialminus": [
            [
             0,
             "#0d0887"
            ],
            [
             0.1111111111111111,
             "#46039f"
            ],
            [
             0.2222222222222222,
             "#7201a8"
            ],
            [
             0.3333333333333333,
             "#9c179e"
            ],
            [
             0.4444444444444444,
             "#bd3786"
            ],
            [
             0.5555555555555556,
             "#d8576b"
            ],
            [
             0.6666666666666666,
             "#ed7953"
            ],
            [
             0.7777777777777778,
             "#fb9f3a"
            ],
            [
             0.8888888888888888,
             "#fdca26"
            ],
            [
             1,
             "#f0f921"
            ]
           ]
          },
          "colorway": [
           "#636efa",
           "#EF553B",
           "#00cc96",
           "#ab63fa",
           "#FFA15A",
           "#19d3f3",
           "#FF6692",
           "#B6E880",
           "#FF97FF",
           "#FECB52"
          ],
          "font": {
           "color": "#2a3f5f"
          },
          "geo": {
           "bgcolor": "white",
           "lakecolor": "white",
           "landcolor": "white",
           "showlakes": true,
           "showland": true,
           "subunitcolor": "#C8D4E3"
          },
          "hoverlabel": {
           "align": "left"
          },
          "hovermode": "closest",
          "mapbox": {
           "style": "light"
          },
          "paper_bgcolor": "white",
          "plot_bgcolor": "white",
          "polar": {
           "angularaxis": {
            "gridcolor": "#EBF0F8",
            "linecolor": "#EBF0F8",
            "ticks": ""
           },
           "bgcolor": "white",
           "radialaxis": {
            "gridcolor": "#EBF0F8",
            "linecolor": "#EBF0F8",
            "ticks": ""
           }
          },
          "scene": {
           "xaxis": {
            "backgroundcolor": "white",
            "gridcolor": "#DFE8F3",
            "gridwidth": 2,
            "linecolor": "#EBF0F8",
            "showbackground": true,
            "ticks": "",
            "zerolinecolor": "#EBF0F8"
           },
           "yaxis": {
            "backgroundcolor": "white",
            "gridcolor": "#DFE8F3",
            "gridwidth": 2,
            "linecolor": "#EBF0F8",
            "showbackground": true,
            "ticks": "",
            "zerolinecolor": "#EBF0F8"
           },
           "zaxis": {
            "backgroundcolor": "white",
            "gridcolor": "#DFE8F3",
            "gridwidth": 2,
            "linecolor": "#EBF0F8",
            "showbackground": true,
            "ticks": "",
            "zerolinecolor": "#EBF0F8"
           }
          },
          "shapedefaults": {
           "line": {
            "color": "#2a3f5f"
           }
          },
          "ternary": {
           "aaxis": {
            "gridcolor": "#DFE8F3",
            "linecolor": "#A2B1C6",
            "ticks": ""
           },
           "baxis": {
            "gridcolor": "#DFE8F3",
            "linecolor": "#A2B1C6",
            "ticks": ""
           },
           "bgcolor": "white",
           "caxis": {
            "gridcolor": "#DFE8F3",
            "linecolor": "#A2B1C6",
            "ticks": ""
           }
          },
          "title": {
           "x": 0.05
          },
          "xaxis": {
           "automargin": true,
           "gridcolor": "#EBF0F8",
           "linecolor": "#EBF0F8",
           "ticks": "",
           "title": {
            "standoff": 15
           },
           "zerolinecolor": "#EBF0F8",
           "zerolinewidth": 2
          },
          "yaxis": {
           "automargin": true,
           "gridcolor": "#EBF0F8",
           "linecolor": "#EBF0F8",
           "ticks": "",
           "title": {
            "standoff": 15
           },
           "zerolinecolor": "#EBF0F8",
           "zerolinewidth": 2
          }
         }
        },
        "title": {
         "text": "Top 10 - Turnover of the products in stock"
        },
        "uniformtext": {
         "minsize": 7
        },
        "xaxis": {
         "anchor": "y",
         "domain": [
          0,
          1
         ],
         "range": [
          0,
          5004
         ],
         "title": {
          "text": "Turnover (€)"
         }
        },
        "yaxis": {
         "anchor": "x",
         "categoryorder": "total ascending",
         "domain": [
          0,
          1
         ],
         "title": {
          "text": "Product name"
         }
        }
       }
      }
     },
     "metadata": {},
     "output_type": "display_data"
    }
   ],
   "source": [
    "fig = px.bar(chiffre_affaire[list_analyse].loc[ca_instock].sort_values('chiffre_affaire',ascending=False).head(10),\n",
    "             x = 'chiffre_affaire', \n",
    "             y = 'post_name',\n",
    "             color = \"stock_status\",\n",
    "             text = \"chiffre_affaire\",\n",
    "             color_discrete_sequence = [px.colors.qualitative.Vivid[1]],\n",
    "            orientation=\"h\")\n",
    "fig.update_traces(texttemplate='%{text:.2s}', textposition='outside')\n",
    "fig.update_layout(\n",
    "    uniformtext_minsize=7,\n",
    "    xaxis_title=\"Turnover (€)\",\n",
    "    yaxis_title=\"Product name\",\n",
    "    title = \"Top 10 - Turnover of the products in stock\",\n",
    "    legend_title=\"Stock status\"\n",
    ")\n",
    "fig.update_xaxes(range = [0,chiffre_affaire[\"chiffre_affaire\"].max()+300])\n",
    "fig.update_yaxes(categoryorder='total ascending')\n",
    "fig.show()"
   ]
  },
  {
   "cell_type": "markdown",
   "id": "55cb4b08",
   "metadata": {},
   "source": [
    "## <font color = #34749f> 3.1.2 | Analysis of the number of sales by product </font> <a class=\"anchor\" id=\"section3.1.2\"></a>"
   ]
  },
  {
   "cell_type": "code",
   "execution_count": 297,
   "id": "cb18b68a",
   "metadata": {},
   "outputs": [
    {
     "data": {
      "application/vnd.plotly.v1+json": {
       "config": {
        "plotlyServerURL": "https://plot.ly"
       },
       "data": [
        {
         "alignmentgroup": "True",
         "bingroup": "x",
         "hovertemplate": "total_sales=%{x}<br>count=%{y}<extra></extra>",
         "legendgroup": "",
         "marker": {
          "color": "#636efa",
          "pattern": {
           "shape": ""
          }
         },
         "name": "",
         "nbinsx": 97,
         "offsetgroup": "",
         "orientation": "v",
         "showlegend": false,
         "type": "histogram",
         "x": [
          10,
          6,
          0,
          0,
          3,
          0,
          0,
          0,
          7,
          3,
          14,
          6,
          0,
          7,
          1,
          6,
          6,
          6,
          23,
          10,
          10,
          18,
          11,
          7,
          9,
          3,
          3,
          3,
          0,
          20,
          19,
          62,
          0,
          7,
          19,
          1,
          0,
          4,
          0,
          4,
          0,
          10,
          0,
          4,
          0,
          0,
          7,
          4,
          18,
          0,
          4,
          0,
          1,
          1,
          0,
          0,
          0,
          1,
          12,
          12,
          5,
          6,
          0,
          2,
          0,
          0,
          0,
          0,
          6,
          0,
          40,
          30,
          87,
          0,
          3,
          0,
          0,
          1,
          12,
          7,
          36,
          18,
          3,
          6,
          0,
          0,
          3,
          7,
          0,
          1,
          3,
          20,
          3,
          6,
          3,
          12,
          4,
          1,
          43,
          13,
          6,
          9,
          0,
          17,
          7,
          0,
          9,
          3,
          0,
          1,
          42,
          8,
          5,
          12,
          5,
          8,
          9,
          2,
          8,
          0,
          46,
          0,
          0,
          6,
          3,
          12,
          5,
          16,
          0,
          1,
          2,
          0,
          0,
          1,
          0,
          1,
          12,
          15,
          4,
          3,
          2,
          13,
          6,
          0,
          0,
          1,
          2,
          1,
          0,
          0,
          1,
          14,
          5,
          1,
          7,
          12,
          30,
          8,
          0,
          0,
          0,
          0,
          5,
          2,
          1,
          3,
          0,
          2,
          3,
          2,
          1,
          0,
          4,
          0,
          1,
          0,
          12,
          0,
          3,
          0,
          0,
          4,
          8,
          10,
          1,
          1,
          0,
          1,
          0,
          1,
          3,
          0,
          0,
          1,
          0,
          96,
          1,
          0,
          0,
          0,
          5,
          3,
          11,
          12,
          0,
          0,
          1,
          1,
          0,
          0,
          0,
          0,
          0,
          0,
          0,
          0,
          1,
          0,
          1,
          13,
          2,
          0,
          0,
          1,
          3,
          19,
          0,
          0,
          0,
          23,
          2,
          1,
          0,
          4,
          7,
          1,
          1,
          0,
          1,
          0,
          0,
          0,
          15,
          10,
          9,
          11,
          7,
          0,
          0,
          0,
          0,
          6,
          9,
          0,
          0,
          4,
          0,
          2,
          4,
          0,
          0,
          3,
          0,
          0,
          1,
          1,
          8,
          2,
          1,
          5,
          0,
          0,
          0,
          0,
          0,
          0,
          0,
          0,
          0,
          2,
          0,
          3,
          1,
          2,
          0,
          0,
          0,
          7,
          0,
          0,
          1,
          0,
          0,
          2,
          12,
          6,
          1,
          3,
          2,
          0,
          1,
          0,
          7,
          3,
          8,
          32,
          13,
          8,
          0,
          1,
          1,
          12,
          3,
          0,
          0,
          6,
          0,
          15,
          15,
          1,
          3,
          0,
          4,
          2,
          2,
          38,
          0,
          18,
          0,
          1,
          0,
          0,
          0,
          0,
          2,
          0,
          7,
          0,
          6,
          0,
          0,
          7,
          0,
          18,
          1,
          3,
          0,
          0,
          1,
          0,
          3,
          2,
          0,
          0,
          19,
          0,
          0,
          10,
          0,
          3,
          1,
          11,
          29,
          12,
          4,
          13,
          1,
          33,
          22,
          0,
          5,
          0,
          0,
          6,
          36,
          3,
          3,
          9,
          1,
          0,
          0,
          0,
          5,
          0,
          4,
          0,
          4,
          6,
          0,
          2,
          8,
          24,
          6,
          10,
          10,
          0,
          12,
          0,
          4,
          5,
          2,
          5,
          0,
          4,
          0,
          2,
          11,
          4,
          0,
          0,
          2,
          14,
          2,
          6,
          26,
          0,
          5,
          4,
          4,
          3,
          0,
          0,
          0,
          0,
          0,
          6,
          0,
          0,
          0,
          2,
          0,
          0,
          0,
          0,
          3,
          0,
          0,
          0,
          0,
          0,
          13,
          1,
          0,
          2,
          0,
          16,
          0,
          0,
          0,
          0,
          1,
          0,
          0,
          0,
          0,
          0,
          0,
          0,
          1,
          0,
          0,
          0,
          0,
          0,
          1,
          18,
          5,
          1,
          0,
          0,
          0,
          3,
          4,
          4,
          3,
          1,
          0,
          0,
          1,
          3,
          9,
          3,
          0,
          0,
          3,
          0,
          22,
          2,
          1,
          1,
          1,
          0,
          0,
          7,
          6,
          1,
          0,
          0,
          0,
          0,
          0,
          0,
          0,
          3,
          0,
          0,
          0,
          0,
          0,
          2,
          2,
          0,
          1,
          0,
          6,
          3,
          0,
          2,
          3,
          0,
          0,
          0,
          0,
          1,
          0,
          11,
          5,
          14,
          0,
          0,
          1,
          0,
          0,
          2,
          0,
          10,
          0,
          5,
          1,
          0,
          19,
          5,
          9,
          11,
          1,
          0,
          0,
          0,
          21,
          4,
          4,
          2,
          0,
          12,
          0,
          0,
          1,
          0,
          4,
          0,
          1,
          3,
          0,
          24,
          8,
          0,
          0,
          0,
          0,
          0,
          0,
          0,
          3,
          1,
          2,
          4,
          0,
          0,
          1,
          0,
          0,
          0,
          1,
          0,
          4,
          3,
          3,
          0,
          1,
          3,
          5,
          5,
          0,
          4,
          0,
          0,
          0,
          0,
          2,
          0,
          0,
          0,
          0,
          1,
          0,
          0,
          0,
          17,
          2,
          1,
          0,
          5,
          0,
          0,
          0,
          0,
          0,
          0,
          0,
          3,
          0,
          0,
          0,
          1,
          0,
          0,
          18,
          38,
          3,
          0,
          1,
          9,
          0,
          1,
          0,
          0,
          0,
          0,
          0,
          7,
          0,
          0,
          0,
          1,
          2,
          0,
          3,
          0,
          2,
          0,
          0,
          7,
          0,
          41,
          37,
          2,
          0,
          0,
          0,
          0,
          0,
          0,
          6,
          4,
          0,
          1,
          5,
          0,
          0,
          0,
          0,
          0,
          0,
          0,
          0,
          3,
          0,
          0,
          1,
          0,
          7,
          0,
          0,
          0,
          0,
          1,
          6,
          0,
          0,
          3,
          0,
          0,
          1,
          0,
          1,
          0,
          1,
          1,
          0,
          0,
          1,
          0,
          3,
          0,
          0,
          0,
          0,
          0,
          0,
          1,
          2,
          5,
          0,
          0,
          0,
          0
         ],
         "xaxis": "x",
         "yaxis": "y"
        }
       ],
       "layout": {
        "bargap": 0.3,
        "barmode": "relative",
        "legend": {
         "tracegroupgap": 0
        },
        "margin": {
         "t": 60
        },
        "template": {
         "data": {
          "bar": [
           {
            "error_x": {
             "color": "#2a3f5f"
            },
            "error_y": {
             "color": "#2a3f5f"
            },
            "marker": {
             "line": {
              "color": "white",
              "width": 0.5
             },
             "pattern": {
              "fillmode": "overlay",
              "size": 10,
              "solidity": 0.2
             }
            },
            "type": "bar"
           }
          ],
          "barpolar": [
           {
            "marker": {
             "line": {
              "color": "white",
              "width": 0.5
             },
             "pattern": {
              "fillmode": "overlay",
              "size": 10,
              "solidity": 0.2
             }
            },
            "type": "barpolar"
           }
          ],
          "carpet": [
           {
            "aaxis": {
             "endlinecolor": "#2a3f5f",
             "gridcolor": "#C8D4E3",
             "linecolor": "#C8D4E3",
             "minorgridcolor": "#C8D4E3",
             "startlinecolor": "#2a3f5f"
            },
            "baxis": {
             "endlinecolor": "#2a3f5f",
             "gridcolor": "#C8D4E3",
             "linecolor": "#C8D4E3",
             "minorgridcolor": "#C8D4E3",
             "startlinecolor": "#2a3f5f"
            },
            "type": "carpet"
           }
          ],
          "choropleth": [
           {
            "colorbar": {
             "outlinewidth": 0,
             "ticks": ""
            },
            "type": "choropleth"
           }
          ],
          "contour": [
           {
            "colorbar": {
             "outlinewidth": 0,
             "ticks": ""
            },
            "colorscale": [
             [
              0,
              "#0d0887"
             ],
             [
              0.1111111111111111,
              "#46039f"
             ],
             [
              0.2222222222222222,
              "#7201a8"
             ],
             [
              0.3333333333333333,
              "#9c179e"
             ],
             [
              0.4444444444444444,
              "#bd3786"
             ],
             [
              0.5555555555555556,
              "#d8576b"
             ],
             [
              0.6666666666666666,
              "#ed7953"
             ],
             [
              0.7777777777777778,
              "#fb9f3a"
             ],
             [
              0.8888888888888888,
              "#fdca26"
             ],
             [
              1,
              "#f0f921"
             ]
            ],
            "type": "contour"
           }
          ],
          "contourcarpet": [
           {
            "colorbar": {
             "outlinewidth": 0,
             "ticks": ""
            },
            "type": "contourcarpet"
           }
          ],
          "heatmap": [
           {
            "colorbar": {
             "outlinewidth": 0,
             "ticks": ""
            },
            "colorscale": [
             [
              0,
              "#0d0887"
             ],
             [
              0.1111111111111111,
              "#46039f"
             ],
             [
              0.2222222222222222,
              "#7201a8"
             ],
             [
              0.3333333333333333,
              "#9c179e"
             ],
             [
              0.4444444444444444,
              "#bd3786"
             ],
             [
              0.5555555555555556,
              "#d8576b"
             ],
             [
              0.6666666666666666,
              "#ed7953"
             ],
             [
              0.7777777777777778,
              "#fb9f3a"
             ],
             [
              0.8888888888888888,
              "#fdca26"
             ],
             [
              1,
              "#f0f921"
             ]
            ],
            "type": "heatmap"
           }
          ],
          "heatmapgl": [
           {
            "colorbar": {
             "outlinewidth": 0,
             "ticks": ""
            },
            "colorscale": [
             [
              0,
              "#0d0887"
             ],
             [
              0.1111111111111111,
              "#46039f"
             ],
             [
              0.2222222222222222,
              "#7201a8"
             ],
             [
              0.3333333333333333,
              "#9c179e"
             ],
             [
              0.4444444444444444,
              "#bd3786"
             ],
             [
              0.5555555555555556,
              "#d8576b"
             ],
             [
              0.6666666666666666,
              "#ed7953"
             ],
             [
              0.7777777777777778,
              "#fb9f3a"
             ],
             [
              0.8888888888888888,
              "#fdca26"
             ],
             [
              1,
              "#f0f921"
             ]
            ],
            "type": "heatmapgl"
           }
          ],
          "histogram": [
           {
            "marker": {
             "pattern": {
              "fillmode": "overlay",
              "size": 10,
              "solidity": 0.2
             }
            },
            "type": "histogram"
           }
          ],
          "histogram2d": [
           {
            "colorbar": {
             "outlinewidth": 0,
             "ticks": ""
            },
            "colorscale": [
             [
              0,
              "#0d0887"
             ],
             [
              0.1111111111111111,
              "#46039f"
             ],
             [
              0.2222222222222222,
              "#7201a8"
             ],
             [
              0.3333333333333333,
              "#9c179e"
             ],
             [
              0.4444444444444444,
              "#bd3786"
             ],
             [
              0.5555555555555556,
              "#d8576b"
             ],
             [
              0.6666666666666666,
              "#ed7953"
             ],
             [
              0.7777777777777778,
              "#fb9f3a"
             ],
             [
              0.8888888888888888,
              "#fdca26"
             ],
             [
              1,
              "#f0f921"
             ]
            ],
            "type": "histogram2d"
           }
          ],
          "histogram2dcontour": [
           {
            "colorbar": {
             "outlinewidth": 0,
             "ticks": ""
            },
            "colorscale": [
             [
              0,
              "#0d0887"
             ],
             [
              0.1111111111111111,
              "#46039f"
             ],
             [
              0.2222222222222222,
              "#7201a8"
             ],
             [
              0.3333333333333333,
              "#9c179e"
             ],
             [
              0.4444444444444444,
              "#bd3786"
             ],
             [
              0.5555555555555556,
              "#d8576b"
             ],
             [
              0.6666666666666666,
              "#ed7953"
             ],
             [
              0.7777777777777778,
              "#fb9f3a"
             ],
             [
              0.8888888888888888,
              "#fdca26"
             ],
             [
              1,
              "#f0f921"
             ]
            ],
            "type": "histogram2dcontour"
           }
          ],
          "mesh3d": [
           {
            "colorbar": {
             "outlinewidth": 0,
             "ticks": ""
            },
            "type": "mesh3d"
           }
          ],
          "parcoords": [
           {
            "line": {
             "colorbar": {
              "outlinewidth": 0,
              "ticks": ""
             }
            },
            "type": "parcoords"
           }
          ],
          "pie": [
           {
            "automargin": true,
            "type": "pie"
           }
          ],
          "scatter": [
           {
            "marker": {
             "colorbar": {
              "outlinewidth": 0,
              "ticks": ""
             }
            },
            "type": "scatter"
           }
          ],
          "scatter3d": [
           {
            "line": {
             "colorbar": {
              "outlinewidth": 0,
              "ticks": ""
             }
            },
            "marker": {
             "colorbar": {
              "outlinewidth": 0,
              "ticks": ""
             }
            },
            "type": "scatter3d"
           }
          ],
          "scattercarpet": [
           {
            "marker": {
             "colorbar": {
              "outlinewidth": 0,
              "ticks": ""
             }
            },
            "type": "scattercarpet"
           }
          ],
          "scattergeo": [
           {
            "marker": {
             "colorbar": {
              "outlinewidth": 0,
              "ticks": ""
             }
            },
            "type": "scattergeo"
           }
          ],
          "scattergl": [
           {
            "marker": {
             "colorbar": {
              "outlinewidth": 0,
              "ticks": ""
             }
            },
            "type": "scattergl"
           }
          ],
          "scattermapbox": [
           {
            "marker": {
             "colorbar": {
              "outlinewidth": 0,
              "ticks": ""
             }
            },
            "type": "scattermapbox"
           }
          ],
          "scatterpolar": [
           {
            "marker": {
             "colorbar": {
              "outlinewidth": 0,
              "ticks": ""
             }
            },
            "type": "scatterpolar"
           }
          ],
          "scatterpolargl": [
           {
            "marker": {
             "colorbar": {
              "outlinewidth": 0,
              "ticks": ""
             }
            },
            "type": "scatterpolargl"
           }
          ],
          "scatterternary": [
           {
            "marker": {
             "colorbar": {
              "outlinewidth": 0,
              "ticks": ""
             }
            },
            "type": "scatterternary"
           }
          ],
          "surface": [
           {
            "colorbar": {
             "outlinewidth": 0,
             "ticks": ""
            },
            "colorscale": [
             [
              0,
              "#0d0887"
             ],
             [
              0.1111111111111111,
              "#46039f"
             ],
             [
              0.2222222222222222,
              "#7201a8"
             ],
             [
              0.3333333333333333,
              "#9c179e"
             ],
             [
              0.4444444444444444,
              "#bd3786"
             ],
             [
              0.5555555555555556,
              "#d8576b"
             ],
             [
              0.6666666666666666,
              "#ed7953"
             ],
             [
              0.7777777777777778,
              "#fb9f3a"
             ],
             [
              0.8888888888888888,
              "#fdca26"
             ],
             [
              1,
              "#f0f921"
             ]
            ],
            "type": "surface"
           }
          ],
          "table": [
           {
            "cells": {
             "fill": {
              "color": "#EBF0F8"
             },
             "line": {
              "color": "white"
             }
            },
            "header": {
             "fill": {
              "color": "#C8D4E3"
             },
             "line": {
              "color": "white"
             }
            },
            "type": "table"
           }
          ]
         },
         "layout": {
          "annotationdefaults": {
           "arrowcolor": "#2a3f5f",
           "arrowhead": 0,
           "arrowwidth": 1
          },
          "autotypenumbers": "strict",
          "coloraxis": {
           "colorbar": {
            "outlinewidth": 0,
            "ticks": ""
           }
          },
          "colorscale": {
           "diverging": [
            [
             0,
             "#8e0152"
            ],
            [
             0.1,
             "#c51b7d"
            ],
            [
             0.2,
             "#de77ae"
            ],
            [
             0.3,
             "#f1b6da"
            ],
            [
             0.4,
             "#fde0ef"
            ],
            [
             0.5,
             "#f7f7f7"
            ],
            [
             0.6,
             "#e6f5d0"
            ],
            [
             0.7,
             "#b8e186"
            ],
            [
             0.8,
             "#7fbc41"
            ],
            [
             0.9,
             "#4d9221"
            ],
            [
             1,
             "#276419"
            ]
           ],
           "sequential": [
            [
             0,
             "#0d0887"
            ],
            [
             0.1111111111111111,
             "#46039f"
            ],
            [
             0.2222222222222222,
             "#7201a8"
            ],
            [
             0.3333333333333333,
             "#9c179e"
            ],
            [
             0.4444444444444444,
             "#bd3786"
            ],
            [
             0.5555555555555556,
             "#d8576b"
            ],
            [
             0.6666666666666666,
             "#ed7953"
            ],
            [
             0.7777777777777778,
             "#fb9f3a"
            ],
            [
             0.8888888888888888,
             "#fdca26"
            ],
            [
             1,
             "#f0f921"
            ]
           ],
           "sequentialminus": [
            [
             0,
             "#0d0887"
            ],
            [
             0.1111111111111111,
             "#46039f"
            ],
            [
             0.2222222222222222,
             "#7201a8"
            ],
            [
             0.3333333333333333,
             "#9c179e"
            ],
            [
             0.4444444444444444,
             "#bd3786"
            ],
            [
             0.5555555555555556,
             "#d8576b"
            ],
            [
             0.6666666666666666,
             "#ed7953"
            ],
            [
             0.7777777777777778,
             "#fb9f3a"
            ],
            [
             0.8888888888888888,
             "#fdca26"
            ],
            [
             1,
             "#f0f921"
            ]
           ]
          },
          "colorway": [
           "#636efa",
           "#EF553B",
           "#00cc96",
           "#ab63fa",
           "#FFA15A",
           "#19d3f3",
           "#FF6692",
           "#B6E880",
           "#FF97FF",
           "#FECB52"
          ],
          "font": {
           "color": "#2a3f5f"
          },
          "geo": {
           "bgcolor": "white",
           "lakecolor": "white",
           "landcolor": "white",
           "showlakes": true,
           "showland": true,
           "subunitcolor": "#C8D4E3"
          },
          "hoverlabel": {
           "align": "left"
          },
          "hovermode": "closest",
          "mapbox": {
           "style": "light"
          },
          "paper_bgcolor": "white",
          "plot_bgcolor": "white",
          "polar": {
           "angularaxis": {
            "gridcolor": "#EBF0F8",
            "linecolor": "#EBF0F8",
            "ticks": ""
           },
           "bgcolor": "white",
           "radialaxis": {
            "gridcolor": "#EBF0F8",
            "linecolor": "#EBF0F8",
            "ticks": ""
           }
          },
          "scene": {
           "xaxis": {
            "backgroundcolor": "white",
            "gridcolor": "#DFE8F3",
            "gridwidth": 2,
            "linecolor": "#EBF0F8",
            "showbackground": true,
            "ticks": "",
            "zerolinecolor": "#EBF0F8"
           },
           "yaxis": {
            "backgroundcolor": "white",
            "gridcolor": "#DFE8F3",
            "gridwidth": 2,
            "linecolor": "#EBF0F8",
            "showbackground": true,
            "ticks": "",
            "zerolinecolor": "#EBF0F8"
           },
           "zaxis": {
            "backgroundcolor": "white",
            "gridcolor": "#DFE8F3",
            "gridwidth": 2,
            "linecolor": "#EBF0F8",
            "showbackground": true,
            "ticks": "",
            "zerolinecolor": "#EBF0F8"
           }
          },
          "shapedefaults": {
           "line": {
            "color": "#2a3f5f"
           }
          },
          "ternary": {
           "aaxis": {
            "gridcolor": "#DFE8F3",
            "linecolor": "#A2B1C6",
            "ticks": ""
           },
           "baxis": {
            "gridcolor": "#DFE8F3",
            "linecolor": "#A2B1C6",
            "ticks": ""
           },
           "bgcolor": "white",
           "caxis": {
            "gridcolor": "#DFE8F3",
            "linecolor": "#A2B1C6",
            "ticks": ""
           }
          },
          "title": {
           "x": 0.05
          },
          "xaxis": {
           "automargin": true,
           "gridcolor": "#EBF0F8",
           "linecolor": "#EBF0F8",
           "ticks": "",
           "title": {
            "standoff": 15
           },
           "zerolinecolor": "#EBF0F8",
           "zerolinewidth": 2
          },
          "yaxis": {
           "automargin": true,
           "gridcolor": "#EBF0F8",
           "linecolor": "#EBF0F8",
           "ticks": "",
           "title": {
            "standoff": 15
           },
           "zerolinecolor": "#EBF0F8",
           "zerolinewidth": 2
          }
         }
        },
        "title": {
         "text": "Count - Number of sales by product"
        },
        "xaxis": {
         "anchor": "y",
         "domain": [
          0,
          1
         ],
         "title": {
          "text": "Number of sales per product (unique)"
         }
        },
        "yaxis": {
         "anchor": "x",
         "domain": [
          0,
          1
         ],
         "title": {
          "text": "Count"
         }
        }
       }
      }
     },
     "metadata": {},
     "output_type": "display_data"
    }
   ],
   "source": [
    "fig = px.histogram(chiffre_affaire, \n",
    "                   x=\"total_sales\", \n",
    "                   nbins=int(chiffre_affaire[\"total_sales\"].max())+1\n",
    "                  )\n",
    "fig.update_layout(\n",
    "    xaxis_title=\"Number of sales per product (unique)\",\n",
    "    yaxis_title=\"Count\",\n",
    "    title = \"Count - Number of sales by product\",\n",
    "    bargap=0.3\n",
    ")\n",
    "fig.show()"
   ]
  },
  {
   "cell_type": "code",
   "execution_count": 298,
   "id": "7f242a78",
   "metadata": {},
   "outputs": [
    {
     "data": {
      "application/vnd.plotly.v1+json": {
       "config": {
        "plotlyServerURL": "https://plot.ly"
       },
       "data": [
        {
         "alignmentgroup": "True",
         "bingroup": "x",
         "hovertemplate": "total_sales=%{x}<br>count=%{y}<extra></extra>",
         "legendgroup": "",
         "marker": {
          "color": "#636efa",
          "pattern": {
           "shape": ""
          }
         },
         "name": "",
         "nbinsx": 97,
         "offsetgroup": "",
         "orientation": "v",
         "showlegend": false,
         "type": "histogram",
         "x": [
          10,
          6,
          3,
          7,
          3,
          14,
          6,
          7,
          1,
          6,
          6,
          6,
          23,
          10,
          10,
          18,
          11,
          7,
          9,
          3,
          3,
          3,
          20,
          19,
          62,
          7,
          19,
          1,
          4,
          4,
          10,
          4,
          7,
          4,
          18,
          4,
          1,
          1,
          1,
          12,
          12,
          5,
          6,
          2,
          6,
          40,
          30,
          87,
          3,
          1,
          12,
          7,
          36,
          18,
          3,
          6,
          3,
          7,
          1,
          3,
          20,
          3,
          6,
          3,
          12,
          4,
          1,
          43,
          13,
          6,
          9,
          17,
          7,
          9,
          3,
          1,
          42,
          8,
          5,
          12,
          5,
          8,
          9,
          2,
          8,
          46,
          6,
          3,
          12,
          5,
          16,
          1,
          2,
          1,
          1,
          12,
          15,
          4,
          3,
          2,
          13,
          6,
          1,
          2,
          1,
          1,
          14,
          5,
          1,
          7,
          12,
          30,
          8,
          5,
          2,
          1,
          3,
          2,
          3,
          2,
          1,
          4,
          1,
          12,
          3,
          4,
          8,
          10,
          1,
          1,
          1,
          1,
          3,
          1,
          96,
          1,
          5,
          3,
          11,
          12,
          1,
          1,
          1,
          1,
          13,
          2,
          1,
          3,
          19,
          23,
          2,
          1,
          4,
          7,
          1,
          1,
          1,
          15,
          10,
          9,
          11,
          7,
          6,
          9,
          4,
          2,
          4,
          3,
          1,
          1,
          8,
          2,
          1,
          5,
          2,
          3,
          1,
          2,
          7,
          1,
          2,
          12,
          6,
          1,
          3,
          2,
          1,
          7,
          3,
          8,
          32,
          13,
          8,
          1,
          1,
          12,
          3,
          6,
          15,
          15,
          1,
          3,
          4,
          2,
          2,
          38,
          18,
          1,
          2,
          7,
          6,
          7,
          18,
          1,
          3,
          1,
          3,
          2,
          19,
          10,
          3,
          1,
          11,
          29,
          12,
          4,
          13,
          1,
          33,
          22,
          5,
          6,
          36,
          3,
          3,
          9,
          1,
          5,
          4,
          4,
          6,
          2,
          8,
          24,
          6,
          10,
          10,
          12,
          4,
          5,
          2,
          5,
          4,
          2,
          11,
          4,
          2,
          14,
          2,
          6,
          26,
          5,
          4,
          4,
          3,
          6,
          2,
          3,
          13,
          1,
          2,
          16,
          1,
          1,
          1,
          18,
          5,
          1,
          3,
          4,
          4,
          3,
          1,
          1,
          3,
          9,
          3,
          3,
          22,
          2,
          1,
          1,
          1,
          7,
          6,
          1,
          3,
          2,
          2,
          1,
          6,
          3,
          2,
          3,
          1,
          11,
          5,
          14,
          1,
          2,
          10,
          5,
          1,
          19,
          5,
          9,
          11,
          1,
          21,
          4,
          4,
          2,
          12,
          1,
          4,
          1,
          3,
          24,
          8,
          3,
          1,
          2,
          4,
          1,
          1,
          4,
          3,
          3,
          1,
          3,
          5,
          5,
          4,
          2,
          1,
          17,
          2,
          1,
          5,
          3,
          1,
          18,
          38,
          3,
          1,
          9,
          1,
          7,
          1,
          2,
          3,
          2,
          7,
          41,
          37,
          2,
          6,
          4,
          1,
          5,
          3,
          1,
          7,
          1,
          6,
          3,
          1,
          1,
          1,
          1,
          1,
          3,
          1,
          2,
          5
         ],
         "xaxis": "x",
         "yaxis": "y"
        }
       ],
       "layout": {
        "bargap": 0.3,
        "barmode": "relative",
        "legend": {
         "tracegroupgap": 0
        },
        "margin": {
         "t": 60
        },
        "template": {
         "data": {
          "bar": [
           {
            "error_x": {
             "color": "#2a3f5f"
            },
            "error_y": {
             "color": "#2a3f5f"
            },
            "marker": {
             "line": {
              "color": "white",
              "width": 0.5
             },
             "pattern": {
              "fillmode": "overlay",
              "size": 10,
              "solidity": 0.2
             }
            },
            "type": "bar"
           }
          ],
          "barpolar": [
           {
            "marker": {
             "line": {
              "color": "white",
              "width": 0.5
             },
             "pattern": {
              "fillmode": "overlay",
              "size": 10,
              "solidity": 0.2
             }
            },
            "type": "barpolar"
           }
          ],
          "carpet": [
           {
            "aaxis": {
             "endlinecolor": "#2a3f5f",
             "gridcolor": "#C8D4E3",
             "linecolor": "#C8D4E3",
             "minorgridcolor": "#C8D4E3",
             "startlinecolor": "#2a3f5f"
            },
            "baxis": {
             "endlinecolor": "#2a3f5f",
             "gridcolor": "#C8D4E3",
             "linecolor": "#C8D4E3",
             "minorgridcolor": "#C8D4E3",
             "startlinecolor": "#2a3f5f"
            },
            "type": "carpet"
           }
          ],
          "choropleth": [
           {
            "colorbar": {
             "outlinewidth": 0,
             "ticks": ""
            },
            "type": "choropleth"
           }
          ],
          "contour": [
           {
            "colorbar": {
             "outlinewidth": 0,
             "ticks": ""
            },
            "colorscale": [
             [
              0,
              "#0d0887"
             ],
             [
              0.1111111111111111,
              "#46039f"
             ],
             [
              0.2222222222222222,
              "#7201a8"
             ],
             [
              0.3333333333333333,
              "#9c179e"
             ],
             [
              0.4444444444444444,
              "#bd3786"
             ],
             [
              0.5555555555555556,
              "#d8576b"
             ],
             [
              0.6666666666666666,
              "#ed7953"
             ],
             [
              0.7777777777777778,
              "#fb9f3a"
             ],
             [
              0.8888888888888888,
              "#fdca26"
             ],
             [
              1,
              "#f0f921"
             ]
            ],
            "type": "contour"
           }
          ],
          "contourcarpet": [
           {
            "colorbar": {
             "outlinewidth": 0,
             "ticks": ""
            },
            "type": "contourcarpet"
           }
          ],
          "heatmap": [
           {
            "colorbar": {
             "outlinewidth": 0,
             "ticks": ""
            },
            "colorscale": [
             [
              0,
              "#0d0887"
             ],
             [
              0.1111111111111111,
              "#46039f"
             ],
             [
              0.2222222222222222,
              "#7201a8"
             ],
             [
              0.3333333333333333,
              "#9c179e"
             ],
             [
              0.4444444444444444,
              "#bd3786"
             ],
             [
              0.5555555555555556,
              "#d8576b"
             ],
             [
              0.6666666666666666,
              "#ed7953"
             ],
             [
              0.7777777777777778,
              "#fb9f3a"
             ],
             [
              0.8888888888888888,
              "#fdca26"
             ],
             [
              1,
              "#f0f921"
             ]
            ],
            "type": "heatmap"
           }
          ],
          "heatmapgl": [
           {
            "colorbar": {
             "outlinewidth": 0,
             "ticks": ""
            },
            "colorscale": [
             [
              0,
              "#0d0887"
             ],
             [
              0.1111111111111111,
              "#46039f"
             ],
             [
              0.2222222222222222,
              "#7201a8"
             ],
             [
              0.3333333333333333,
              "#9c179e"
             ],
             [
              0.4444444444444444,
              "#bd3786"
             ],
             [
              0.5555555555555556,
              "#d8576b"
             ],
             [
              0.6666666666666666,
              "#ed7953"
             ],
             [
              0.7777777777777778,
              "#fb9f3a"
             ],
             [
              0.8888888888888888,
              "#fdca26"
             ],
             [
              1,
              "#f0f921"
             ]
            ],
            "type": "heatmapgl"
           }
          ],
          "histogram": [
           {
            "marker": {
             "pattern": {
              "fillmode": "overlay",
              "size": 10,
              "solidity": 0.2
             }
            },
            "type": "histogram"
           }
          ],
          "histogram2d": [
           {
            "colorbar": {
             "outlinewidth": 0,
             "ticks": ""
            },
            "colorscale": [
             [
              0,
              "#0d0887"
             ],
             [
              0.1111111111111111,
              "#46039f"
             ],
             [
              0.2222222222222222,
              "#7201a8"
             ],
             [
              0.3333333333333333,
              "#9c179e"
             ],
             [
              0.4444444444444444,
              "#bd3786"
             ],
             [
              0.5555555555555556,
              "#d8576b"
             ],
             [
              0.6666666666666666,
              "#ed7953"
             ],
             [
              0.7777777777777778,
              "#fb9f3a"
             ],
             [
              0.8888888888888888,
              "#fdca26"
             ],
             [
              1,
              "#f0f921"
             ]
            ],
            "type": "histogram2d"
           }
          ],
          "histogram2dcontour": [
           {
            "colorbar": {
             "outlinewidth": 0,
             "ticks": ""
            },
            "colorscale": [
             [
              0,
              "#0d0887"
             ],
             [
              0.1111111111111111,
              "#46039f"
             ],
             [
              0.2222222222222222,
              "#7201a8"
             ],
             [
              0.3333333333333333,
              "#9c179e"
             ],
             [
              0.4444444444444444,
              "#bd3786"
             ],
             [
              0.5555555555555556,
              "#d8576b"
             ],
             [
              0.6666666666666666,
              "#ed7953"
             ],
             [
              0.7777777777777778,
              "#fb9f3a"
             ],
             [
              0.8888888888888888,
              "#fdca26"
             ],
             [
              1,
              "#f0f921"
             ]
            ],
            "type": "histogram2dcontour"
           }
          ],
          "mesh3d": [
           {
            "colorbar": {
             "outlinewidth": 0,
             "ticks": ""
            },
            "type": "mesh3d"
           }
          ],
          "parcoords": [
           {
            "line": {
             "colorbar": {
              "outlinewidth": 0,
              "ticks": ""
             }
            },
            "type": "parcoords"
           }
          ],
          "pie": [
           {
            "automargin": true,
            "type": "pie"
           }
          ],
          "scatter": [
           {
            "marker": {
             "colorbar": {
              "outlinewidth": 0,
              "ticks": ""
             }
            },
            "type": "scatter"
           }
          ],
          "scatter3d": [
           {
            "line": {
             "colorbar": {
              "outlinewidth": 0,
              "ticks": ""
             }
            },
            "marker": {
             "colorbar": {
              "outlinewidth": 0,
              "ticks": ""
             }
            },
            "type": "scatter3d"
           }
          ],
          "scattercarpet": [
           {
            "marker": {
             "colorbar": {
              "outlinewidth": 0,
              "ticks": ""
             }
            },
            "type": "scattercarpet"
           }
          ],
          "scattergeo": [
           {
            "marker": {
             "colorbar": {
              "outlinewidth": 0,
              "ticks": ""
             }
            },
            "type": "scattergeo"
           }
          ],
          "scattergl": [
           {
            "marker": {
             "colorbar": {
              "outlinewidth": 0,
              "ticks": ""
             }
            },
            "type": "scattergl"
           }
          ],
          "scattermapbox": [
           {
            "marker": {
             "colorbar": {
              "outlinewidth": 0,
              "ticks": ""
             }
            },
            "type": "scattermapbox"
           }
          ],
          "scatterpolar": [
           {
            "marker": {
             "colorbar": {
              "outlinewidth": 0,
              "ticks": ""
             }
            },
            "type": "scatterpolar"
           }
          ],
          "scatterpolargl": [
           {
            "marker": {
             "colorbar": {
              "outlinewidth": 0,
              "ticks": ""
             }
            },
            "type": "scatterpolargl"
           }
          ],
          "scatterternary": [
           {
            "marker": {
             "colorbar": {
              "outlinewidth": 0,
              "ticks": ""
             }
            },
            "type": "scatterternary"
           }
          ],
          "surface": [
           {
            "colorbar": {
             "outlinewidth": 0,
             "ticks": ""
            },
            "colorscale": [
             [
              0,
              "#0d0887"
             ],
             [
              0.1111111111111111,
              "#46039f"
             ],
             [
              0.2222222222222222,
              "#7201a8"
             ],
             [
              0.3333333333333333,
              "#9c179e"
             ],
             [
              0.4444444444444444,
              "#bd3786"
             ],
             [
              0.5555555555555556,
              "#d8576b"
             ],
             [
              0.6666666666666666,
              "#ed7953"
             ],
             [
              0.7777777777777778,
              "#fb9f3a"
             ],
             [
              0.8888888888888888,
              "#fdca26"
             ],
             [
              1,
              "#f0f921"
             ]
            ],
            "type": "surface"
           }
          ],
          "table": [
           {
            "cells": {
             "fill": {
              "color": "#EBF0F8"
             },
             "line": {
              "color": "white"
             }
            },
            "header": {
             "fill": {
              "color": "#C8D4E3"
             },
             "line": {
              "color": "white"
             }
            },
            "type": "table"
           }
          ]
         },
         "layout": {
          "annotationdefaults": {
           "arrowcolor": "#2a3f5f",
           "arrowhead": 0,
           "arrowwidth": 1
          },
          "autotypenumbers": "strict",
          "coloraxis": {
           "colorbar": {
            "outlinewidth": 0,
            "ticks": ""
           }
          },
          "colorscale": {
           "diverging": [
            [
             0,
             "#8e0152"
            ],
            [
             0.1,
             "#c51b7d"
            ],
            [
             0.2,
             "#de77ae"
            ],
            [
             0.3,
             "#f1b6da"
            ],
            [
             0.4,
             "#fde0ef"
            ],
            [
             0.5,
             "#f7f7f7"
            ],
            [
             0.6,
             "#e6f5d0"
            ],
            [
             0.7,
             "#b8e186"
            ],
            [
             0.8,
             "#7fbc41"
            ],
            [
             0.9,
             "#4d9221"
            ],
            [
             1,
             "#276419"
            ]
           ],
           "sequential": [
            [
             0,
             "#0d0887"
            ],
            [
             0.1111111111111111,
             "#46039f"
            ],
            [
             0.2222222222222222,
             "#7201a8"
            ],
            [
             0.3333333333333333,
             "#9c179e"
            ],
            [
             0.4444444444444444,
             "#bd3786"
            ],
            [
             0.5555555555555556,
             "#d8576b"
            ],
            [
             0.6666666666666666,
             "#ed7953"
            ],
            [
             0.7777777777777778,
             "#fb9f3a"
            ],
            [
             0.8888888888888888,
             "#fdca26"
            ],
            [
             1,
             "#f0f921"
            ]
           ],
           "sequentialminus": [
            [
             0,
             "#0d0887"
            ],
            [
             0.1111111111111111,
             "#46039f"
            ],
            [
             0.2222222222222222,
             "#7201a8"
            ],
            [
             0.3333333333333333,
             "#9c179e"
            ],
            [
             0.4444444444444444,
             "#bd3786"
            ],
            [
             0.5555555555555556,
             "#d8576b"
            ],
            [
             0.6666666666666666,
             "#ed7953"
            ],
            [
             0.7777777777777778,
             "#fb9f3a"
            ],
            [
             0.8888888888888888,
             "#fdca26"
            ],
            [
             1,
             "#f0f921"
            ]
           ]
          },
          "colorway": [
           "#636efa",
           "#EF553B",
           "#00cc96",
           "#ab63fa",
           "#FFA15A",
           "#19d3f3",
           "#FF6692",
           "#B6E880",
           "#FF97FF",
           "#FECB52"
          ],
          "font": {
           "color": "#2a3f5f"
          },
          "geo": {
           "bgcolor": "white",
           "lakecolor": "white",
           "landcolor": "white",
           "showlakes": true,
           "showland": true,
           "subunitcolor": "#C8D4E3"
          },
          "hoverlabel": {
           "align": "left"
          },
          "hovermode": "closest",
          "mapbox": {
           "style": "light"
          },
          "paper_bgcolor": "white",
          "plot_bgcolor": "white",
          "polar": {
           "angularaxis": {
            "gridcolor": "#EBF0F8",
            "linecolor": "#EBF0F8",
            "ticks": ""
           },
           "bgcolor": "white",
           "radialaxis": {
            "gridcolor": "#EBF0F8",
            "linecolor": "#EBF0F8",
            "ticks": ""
           }
          },
          "scene": {
           "xaxis": {
            "backgroundcolor": "white",
            "gridcolor": "#DFE8F3",
            "gridwidth": 2,
            "linecolor": "#EBF0F8",
            "showbackground": true,
            "ticks": "",
            "zerolinecolor": "#EBF0F8"
           },
           "yaxis": {
            "backgroundcolor": "white",
            "gridcolor": "#DFE8F3",
            "gridwidth": 2,
            "linecolor": "#EBF0F8",
            "showbackground": true,
            "ticks": "",
            "zerolinecolor": "#EBF0F8"
           },
           "zaxis": {
            "backgroundcolor": "white",
            "gridcolor": "#DFE8F3",
            "gridwidth": 2,
            "linecolor": "#EBF0F8",
            "showbackground": true,
            "ticks": "",
            "zerolinecolor": "#EBF0F8"
           }
          },
          "shapedefaults": {
           "line": {
            "color": "#2a3f5f"
           }
          },
          "ternary": {
           "aaxis": {
            "gridcolor": "#DFE8F3",
            "linecolor": "#A2B1C6",
            "ticks": ""
           },
           "baxis": {
            "gridcolor": "#DFE8F3",
            "linecolor": "#A2B1C6",
            "ticks": ""
           },
           "bgcolor": "white",
           "caxis": {
            "gridcolor": "#DFE8F3",
            "linecolor": "#A2B1C6",
            "ticks": ""
           }
          },
          "title": {
           "x": 0.05
          },
          "xaxis": {
           "automargin": true,
           "gridcolor": "#EBF0F8",
           "linecolor": "#EBF0F8",
           "ticks": "",
           "title": {
            "standoff": 15
           },
           "zerolinecolor": "#EBF0F8",
           "zerolinewidth": 2
          },
          "yaxis": {
           "automargin": true,
           "gridcolor": "#EBF0F8",
           "linecolor": "#EBF0F8",
           "ticks": "",
           "title": {
            "standoff": 15
           },
           "zerolinecolor": "#EBF0F8",
           "zerolinewidth": 2
          }
         }
        },
        "title": {
         "text": "Count - Number of sales by product (without sales = 0)"
        },
        "xaxis": {
         "anchor": "y",
         "domain": [
          0,
          1
         ],
         "title": {
          "text": "Number of sales per product (unique)"
         }
        },
        "yaxis": {
         "anchor": "x",
         "domain": [
          0,
          1
         ],
         "title": {
          "text": "Count"
         }
        }
       }
      }
     },
     "metadata": {},
     "output_type": "display_data"
    }
   ],
   "source": [
    "fig = px.histogram(chiffre_affaire[chiffre_affaire[\"total_sales\"] != 0], \n",
    "                   x=\"total_sales\", \n",
    "                   nbins=int(chiffre_affaire[\"total_sales\"].max())+1\n",
    "                  )\n",
    "fig.update_layout(\n",
    "    xaxis_title=\"Number of sales per product (unique)\",\n",
    "    yaxis_title=\"Count\",\n",
    "    title = \"Count - Number of sales by product (without sales = 0)\",\n",
    "    bargap=0.3\n",
    ")\n",
    "fig.show()"
   ]
  },
  {
   "cell_type": "markdown",
   "id": "a6c63d76",
   "metadata": {},
   "source": [
    "# <font color = #9f343e>3.2 | Analysis of the \"price\" variable </font> <a class=\"anchor\" id=\"section3.2\"></a>\n",
    "## <font color = #34749f> 3.2.1 | Outlier detection </font> <a class=\"anchor\" id=\"section3.2.1\"></a>"
   ]
  },
  {
   "cell_type": "code",
   "execution_count": 273,
   "id": "fdb8307a",
   "metadata": {},
   "outputs": [
    {
     "data": {
      "text/plain": [
       "count    716.000000\n",
       "mean      32.581145\n",
       "std       27.842942\n",
       "min        5.200000\n",
       "25%       14.100000\n",
       "50%       23.650000\n",
       "75%       42.300000\n",
       "max      225.000000\n",
       "Name: price, dtype: float64"
      ]
     },
     "execution_count": 273,
     "metadata": {},
     "output_type": "execute_result"
    }
   ],
   "source": [
    "import scipy.stats as stats\n",
    "chiffre_affaire['price'].describe()"
   ]
  },
  {
   "cell_type": "code",
   "execution_count": 299,
   "id": "81252d9e",
   "metadata": {},
   "outputs": [
    {
     "data": {
      "application/vnd.plotly.v1+json": {
       "config": {
        "plotlyServerURL": "https://plot.ly"
       },
       "data": [
        {
         "alignmentgroup": "True",
         "hovertemplate": "price=%{x}<extra></extra>",
         "legendgroup": "",
         "marker": {
          "color": "#636efa"
         },
         "name": "",
         "notched": false,
         "offsetgroup": "",
         "orientation": "h",
         "showlegend": false,
         "type": "box",
         "x": [
          25,
          24.2,
          34.3,
          20.8,
          14.1,
          46,
          34.3,
          32.7,
          31.2,
          60,
          42.6,
          80,
          18.3,
          22.8,
          19.3,
          21.8,
          7.7,
          33.7,
          44.3,
          71.6,
          12.7,
          8.7,
          8.7,
          8.7,
          11.9,
          11.9,
          14.5,
          14.4,
          19.5,
          20.8,
          22,
          16.6,
          60,
          23.4,
          33.2,
          32,
          77.8,
          12.7,
          14.7,
          14.05,
          22.9,
          44,
          37,
          39,
          17,
          23.2,
          19,
          16.4,
          14.4,
          13.7,
          12.6,
          22.8,
          12.8,
          22.1,
          12.8,
          15.8,
          15.8,
          16.3,
          16.3,
          9.7,
          6.8,
          12.6,
          35,
          31.7,
          100,
          23,
          88.4,
          29.8,
          25.7,
          77.4,
          39,
          53,
          49,
          29.5,
          33,
          37.5,
          69,
          59,
          13.7,
          19.2,
          29,
          9.8,
          14.5,
          20.35,
          12,
          18.5,
          9.3,
          9.3,
          11.6,
          14.3,
          10.8,
          7.6,
          12,
          20.5,
          14.3,
          18.2,
          9,
          7.8,
          5.7,
          5.7,
          5.7,
          13.5,
          13.5,
          11.5,
          24,
          24,
          11.9,
          16.7,
          21.4,
          16.6,
          13.3,
          9.5,
          12.1,
          9.3,
          17.8,
          13.5,
          10.8,
          27.2,
          9.4,
          5.8,
          5.8,
          38,
          38,
          9.9,
          11.3,
          23,
          6.7,
          7.6,
          79.8,
          48.5,
          39.8,
          58.8,
          26.5,
          13.4,
          17.1,
          16.7,
          11.6,
          12.8,
          8.9,
          9.7,
          17.2,
          16.9,
          12.6,
          29.9,
          9.6,
          11.1,
          11.1,
          17.1,
          28,
          28,
          8.9,
          8.6,
          13.5,
          8.9,
          15.3,
          14.8,
          19.5,
          14.1,
          59.6,
          26.9,
          24.4,
          31.7,
          32.1,
          12.2,
          9.9,
          15.8,
          15.8,
          17.8,
          9.6,
          19,
          15.2,
          10.2,
          15.5,
          16.6,
          9.2,
          12.9,
          14.9,
          17.6,
          24.8,
          18.9,
          11.6,
          27,
          41,
          69.8,
          38.6,
          26.7,
          19,
          23.2,
          39.1,
          44,
          17.5,
          30,
          8.1,
          10.7,
          10.9,
          49,
          35.5,
          83,
          59,
          79.5,
          225,
          79.5,
          126.5,
          51.6,
          39,
          77,
          85.6,
          49.5,
          49.5,
          49.5,
          57,
          59.8,
          27.5,
          62,
          59,
          59,
          59,
          44,
          62.5,
          176,
          108.5,
          68.1,
          157,
          104,
          28.1,
          21.7,
          28.5,
          67.2,
          109.6,
          43.9,
          61.6,
          41.8,
          26.5,
          16.1,
          31.5,
          31.5,
          49,
          32.2,
          50.1,
          13.4,
          11.8,
          13.1,
          26.2,
          20.6,
          16.9,
          19,
          24,
          57,
          67.5,
          30.6,
          59,
          11.9,
          16.5,
          52.4,
          52.9,
          58.3,
          39.6,
          52.4,
          62.4,
          76.8,
          50,
          52.4,
          41,
          62.4,
          50,
          21.5,
          28.5,
          24.3,
          16.5,
          25.3,
          49,
          36.2,
          33.4,
          40.2,
          43,
          43,
          48.8,
          20.8,
          16.4,
          14.4,
          21,
          12.3,
          20.2,
          17,
          21.9,
          17.8,
          19.8,
          19,
          10.7,
          12.9,
          9.5,
          29.8,
          13.2,
          6.3,
          7.1,
          9.1,
          9.1,
          18.1,
          14,
          30.1,
          12.8,
          12.8,
          19.8,
          18.2,
          31.6,
          16.8,
          22.8,
          32.6,
          44,
          55.4,
          15.8,
          18.4,
          13.3,
          11.1,
          18.6,
          23.4,
          18.2,
          12.5,
          15.9,
          13.7,
          29,
          23.4,
          12.7,
          26,
          29.5,
          8.6,
          14.3,
          22,
          16.8,
          15.3,
          7.4,
          9.7,
          14.5,
          11.9,
          16.4,
          27.9,
          12,
          7.4,
          26.5,
          24.3,
          16.9,
          6.8,
          13.9,
          7.8,
          13.7,
          9.8,
          29.5,
          28.5,
          10.1,
          12.1,
          12.3,
          11.1,
          11.1,
          13.6,
          21,
          18.7,
          41.6,
          12,
          78,
          14.9,
          6.5,
          8.7,
          8.5,
          9.9,
          8.2,
          9.8,
          9.9,
          9.3,
          22.8,
          18.7,
          28.4,
          27.9,
          25.3,
          17,
          27.9,
          20.1,
          27.9,
          21.2,
          20.8,
          41,
          46,
          102.3,
          137,
          22.9,
          53.2,
          25.9,
          17.3,
          25.9,
          28,
          25.9,
          25.9,
          37.2,
          24.4,
          24.4,
          7,
          12.8,
          23.2,
          7.9,
          6.5,
          7.9,
          16.7,
          17.5,
          27.8,
          25.7,
          18.4,
          22.2,
          11.1,
          9.9,
          12.5,
          12.9,
          20.5,
          11.3,
          7,
          12.1,
          7.1,
          49.5,
          23,
          23.7,
          16.45,
          16.3,
          18.5,
          26.5,
          78,
          78,
          78,
          27.3,
          217.5,
          64.9,
          48.7,
          59.4,
          48.7,
          105,
          105,
          55.6,
          9.3,
          19.8,
          45,
          112,
          86.8,
          62.1,
          22.5,
          7.5,
          52.6,
          45,
          67,
          59.9,
          59.9,
          65,
          84.7,
          43.3,
          15.2,
          19,
          11.1,
          18,
          22.8,
          19.5,
          28.8,
          16.1,
          24.2,
          35.3,
          10.7,
          12.7,
          17.1,
          24,
          39,
          13.2,
          23.6,
          15.5,
          16.3,
          16.2,
          7.2,
          54.8,
          42,
          19.8,
          10.2,
          10.4,
          11.5,
          17.9,
          21.6,
          33.4,
          49.5,
          43.5,
          43.5,
          26.5,
          13.8,
          18.2,
          12.9,
          38.6,
          48.4,
          60.4,
          38.6,
          12,
          61.6,
          65.9,
          15.2,
          24.6,
          48.8,
          34.3,
          36.3,
          57.7,
          38,
          58,
          58,
          30.8,
          92,
          27.5,
          34.7,
          59.6,
          83.7,
          30.5,
          38.6,
          18,
          63.4,
          124.8,
          19.2,
          19.2,
          56.4,
          38.4,
          27.8,
          71.3,
          71.3,
          25,
          10.3,
          28,
          44.6,
          13,
          12.7,
          6.5,
          17.5,
          29.9,
          44.5,
          29.4,
          16.9,
          19.8,
          10.3,
          10.8,
          31.7,
          25,
          57.6,
          13.7,
          7.1,
          14.9,
          11,
          14.6,
          10.7,
          73.3,
          42.1,
          57,
          24.5,
          10.1,
          42.2,
          13.1,
          19.5,
          12.9,
          35.6,
          175,
          35.6,
          33.6,
          34.4,
          38.4,
          29.7,
          32.8,
          5.7,
          5.8,
          5.8,
          21.7,
          23,
          12.5,
          17.2,
          40.2,
          24,
          23.8,
          17.1,
          25,
          17.4,
          27.3,
          17.9,
          24,
          16.6,
          16.9,
          57.6,
          63.5,
          56,
          63.5,
          41.2,
          55,
          57,
          19.3,
          19,
          191.3,
          26.6,
          15.4,
          24.7,
          28.1,
          18.25,
          35.1,
          27.3,
          18.8,
          43.9,
          19.8,
          17.7,
          57,
          36,
          36,
          93,
          122,
          114,
          48.5,
          49.5,
          14.1,
          59.9,
          46,
          74.5,
          17.2,
          8.7,
          15.4,
          12.7,
          30,
          13.5,
          16.3,
          56.3,
          71.5,
          69,
          17.9,
          48.5,
          71.7,
          8.5,
          10.9,
          21.8,
          38.5,
          9.3,
          13.6,
          24.5,
          12.6,
          13.4,
          29.8,
          36.9,
          40.7,
          33.2,
          34.8,
          74.8,
          62.4,
          46,
          39.2,
          135,
          10.6,
          10.6,
          5.2,
          46,
          105.6,
          116.4,
          31,
          20.2,
          25.2,
          25.2,
          115,
          121,
          99,
          115,
          121,
          23.5,
          26.4,
          26.7,
          20.4,
          20.4,
          40.2,
          9,
          45.9,
          10.4,
          78,
          40.5,
          27.9,
          22.4,
          28.4,
          72,
          29,
          29.2,
          44,
          68.3,
          41.8,
          40,
          13.5,
          19,
          24.4,
          32.8,
          15.4,
          9.9,
          13.5,
          51,
          35.2,
          42.2,
          33.2,
          41.8,
          32.2,
          37.7,
          47.2,
          52.7,
          22.4,
          50.4,
          35.6,
          27.7,
          48.5,
          15.4,
          46.5,
          46.5,
          46.5,
          42,
          21.8,
          50.5,
          49.9,
          19,
          8.4,
          27.5,
          69,
          54.8,
          16.3
         ],
         "x0": " ",
         "xaxis": "x",
         "y0": " ",
         "yaxis": "y"
        }
       ],
       "layout": {
        "boxmode": "group",
        "legend": {
         "tracegroupgap": 0
        },
        "template": {
         "data": {
          "bar": [
           {
            "error_x": {
             "color": "#2a3f5f"
            },
            "error_y": {
             "color": "#2a3f5f"
            },
            "marker": {
             "line": {
              "color": "white",
              "width": 0.5
             },
             "pattern": {
              "fillmode": "overlay",
              "size": 10,
              "solidity": 0.2
             }
            },
            "type": "bar"
           }
          ],
          "barpolar": [
           {
            "marker": {
             "line": {
              "color": "white",
              "width": 0.5
             },
             "pattern": {
              "fillmode": "overlay",
              "size": 10,
              "solidity": 0.2
             }
            },
            "type": "barpolar"
           }
          ],
          "carpet": [
           {
            "aaxis": {
             "endlinecolor": "#2a3f5f",
             "gridcolor": "#C8D4E3",
             "linecolor": "#C8D4E3",
             "minorgridcolor": "#C8D4E3",
             "startlinecolor": "#2a3f5f"
            },
            "baxis": {
             "endlinecolor": "#2a3f5f",
             "gridcolor": "#C8D4E3",
             "linecolor": "#C8D4E3",
             "minorgridcolor": "#C8D4E3",
             "startlinecolor": "#2a3f5f"
            },
            "type": "carpet"
           }
          ],
          "choropleth": [
           {
            "colorbar": {
             "outlinewidth": 0,
             "ticks": ""
            },
            "type": "choropleth"
           }
          ],
          "contour": [
           {
            "colorbar": {
             "outlinewidth": 0,
             "ticks": ""
            },
            "colorscale": [
             [
              0,
              "#0d0887"
             ],
             [
              0.1111111111111111,
              "#46039f"
             ],
             [
              0.2222222222222222,
              "#7201a8"
             ],
             [
              0.3333333333333333,
              "#9c179e"
             ],
             [
              0.4444444444444444,
              "#bd3786"
             ],
             [
              0.5555555555555556,
              "#d8576b"
             ],
             [
              0.6666666666666666,
              "#ed7953"
             ],
             [
              0.7777777777777778,
              "#fb9f3a"
             ],
             [
              0.8888888888888888,
              "#fdca26"
             ],
             [
              1,
              "#f0f921"
             ]
            ],
            "type": "contour"
           }
          ],
          "contourcarpet": [
           {
            "colorbar": {
             "outlinewidth": 0,
             "ticks": ""
            },
            "type": "contourcarpet"
           }
          ],
          "heatmap": [
           {
            "colorbar": {
             "outlinewidth": 0,
             "ticks": ""
            },
            "colorscale": [
             [
              0,
              "#0d0887"
             ],
             [
              0.1111111111111111,
              "#46039f"
             ],
             [
              0.2222222222222222,
              "#7201a8"
             ],
             [
              0.3333333333333333,
              "#9c179e"
             ],
             [
              0.4444444444444444,
              "#bd3786"
             ],
             [
              0.5555555555555556,
              "#d8576b"
             ],
             [
              0.6666666666666666,
              "#ed7953"
             ],
             [
              0.7777777777777778,
              "#fb9f3a"
             ],
             [
              0.8888888888888888,
              "#fdca26"
             ],
             [
              1,
              "#f0f921"
             ]
            ],
            "type": "heatmap"
           }
          ],
          "heatmapgl": [
           {
            "colorbar": {
             "outlinewidth": 0,
             "ticks": ""
            },
            "colorscale": [
             [
              0,
              "#0d0887"
             ],
             [
              0.1111111111111111,
              "#46039f"
             ],
             [
              0.2222222222222222,
              "#7201a8"
             ],
             [
              0.3333333333333333,
              "#9c179e"
             ],
             [
              0.4444444444444444,
              "#bd3786"
             ],
             [
              0.5555555555555556,
              "#d8576b"
             ],
             [
              0.6666666666666666,
              "#ed7953"
             ],
             [
              0.7777777777777778,
              "#fb9f3a"
             ],
             [
              0.8888888888888888,
              "#fdca26"
             ],
             [
              1,
              "#f0f921"
             ]
            ],
            "type": "heatmapgl"
           }
          ],
          "histogram": [
           {
            "marker": {
             "pattern": {
              "fillmode": "overlay",
              "size": 10,
              "solidity": 0.2
             }
            },
            "type": "histogram"
           }
          ],
          "histogram2d": [
           {
            "colorbar": {
             "outlinewidth": 0,
             "ticks": ""
            },
            "colorscale": [
             [
              0,
              "#0d0887"
             ],
             [
              0.1111111111111111,
              "#46039f"
             ],
             [
              0.2222222222222222,
              "#7201a8"
             ],
             [
              0.3333333333333333,
              "#9c179e"
             ],
             [
              0.4444444444444444,
              "#bd3786"
             ],
             [
              0.5555555555555556,
              "#d8576b"
             ],
             [
              0.6666666666666666,
              "#ed7953"
             ],
             [
              0.7777777777777778,
              "#fb9f3a"
             ],
             [
              0.8888888888888888,
              "#fdca26"
             ],
             [
              1,
              "#f0f921"
             ]
            ],
            "type": "histogram2d"
           }
          ],
          "histogram2dcontour": [
           {
            "colorbar": {
             "outlinewidth": 0,
             "ticks": ""
            },
            "colorscale": [
             [
              0,
              "#0d0887"
             ],
             [
              0.1111111111111111,
              "#46039f"
             ],
             [
              0.2222222222222222,
              "#7201a8"
             ],
             [
              0.3333333333333333,
              "#9c179e"
             ],
             [
              0.4444444444444444,
              "#bd3786"
             ],
             [
              0.5555555555555556,
              "#d8576b"
             ],
             [
              0.6666666666666666,
              "#ed7953"
             ],
             [
              0.7777777777777778,
              "#fb9f3a"
             ],
             [
              0.8888888888888888,
              "#fdca26"
             ],
             [
              1,
              "#f0f921"
             ]
            ],
            "type": "histogram2dcontour"
           }
          ],
          "mesh3d": [
           {
            "colorbar": {
             "outlinewidth": 0,
             "ticks": ""
            },
            "type": "mesh3d"
           }
          ],
          "parcoords": [
           {
            "line": {
             "colorbar": {
              "outlinewidth": 0,
              "ticks": ""
             }
            },
            "type": "parcoords"
           }
          ],
          "pie": [
           {
            "automargin": true,
            "type": "pie"
           }
          ],
          "scatter": [
           {
            "marker": {
             "colorbar": {
              "outlinewidth": 0,
              "ticks": ""
             }
            },
            "type": "scatter"
           }
          ],
          "scatter3d": [
           {
            "line": {
             "colorbar": {
              "outlinewidth": 0,
              "ticks": ""
             }
            },
            "marker": {
             "colorbar": {
              "outlinewidth": 0,
              "ticks": ""
             }
            },
            "type": "scatter3d"
           }
          ],
          "scattercarpet": [
           {
            "marker": {
             "colorbar": {
              "outlinewidth": 0,
              "ticks": ""
             }
            },
            "type": "scattercarpet"
           }
          ],
          "scattergeo": [
           {
            "marker": {
             "colorbar": {
              "outlinewidth": 0,
              "ticks": ""
             }
            },
            "type": "scattergeo"
           }
          ],
          "scattergl": [
           {
            "marker": {
             "colorbar": {
              "outlinewidth": 0,
              "ticks": ""
             }
            },
            "type": "scattergl"
           }
          ],
          "scattermapbox": [
           {
            "marker": {
             "colorbar": {
              "outlinewidth": 0,
              "ticks": ""
             }
            },
            "type": "scattermapbox"
           }
          ],
          "scatterpolar": [
           {
            "marker": {
             "colorbar": {
              "outlinewidth": 0,
              "ticks": ""
             }
            },
            "type": "scatterpolar"
           }
          ],
          "scatterpolargl": [
           {
            "marker": {
             "colorbar": {
              "outlinewidth": 0,
              "ticks": ""
             }
            },
            "type": "scatterpolargl"
           }
          ],
          "scatterternary": [
           {
            "marker": {
             "colorbar": {
              "outlinewidth": 0,
              "ticks": ""
             }
            },
            "type": "scatterternary"
           }
          ],
          "surface": [
           {
            "colorbar": {
             "outlinewidth": 0,
             "ticks": ""
            },
            "colorscale": [
             [
              0,
              "#0d0887"
             ],
             [
              0.1111111111111111,
              "#46039f"
             ],
             [
              0.2222222222222222,
              "#7201a8"
             ],
             [
              0.3333333333333333,
              "#9c179e"
             ],
             [
              0.4444444444444444,
              "#bd3786"
             ],
             [
              0.5555555555555556,
              "#d8576b"
             ],
             [
              0.6666666666666666,
              "#ed7953"
             ],
             [
              0.7777777777777778,
              "#fb9f3a"
             ],
             [
              0.8888888888888888,
              "#fdca26"
             ],
             [
              1,
              "#f0f921"
             ]
            ],
            "type": "surface"
           }
          ],
          "table": [
           {
            "cells": {
             "fill": {
              "color": "#EBF0F8"
             },
             "line": {
              "color": "white"
             }
            },
            "header": {
             "fill": {
              "color": "#C8D4E3"
             },
             "line": {
              "color": "white"
             }
            },
            "type": "table"
           }
          ]
         },
         "layout": {
          "annotationdefaults": {
           "arrowcolor": "#2a3f5f",
           "arrowhead": 0,
           "arrowwidth": 1
          },
          "autotypenumbers": "strict",
          "coloraxis": {
           "colorbar": {
            "outlinewidth": 0,
            "ticks": ""
           }
          },
          "colorscale": {
           "diverging": [
            [
             0,
             "#8e0152"
            ],
            [
             0.1,
             "#c51b7d"
            ],
            [
             0.2,
             "#de77ae"
            ],
            [
             0.3,
             "#f1b6da"
            ],
            [
             0.4,
             "#fde0ef"
            ],
            [
             0.5,
             "#f7f7f7"
            ],
            [
             0.6,
             "#e6f5d0"
            ],
            [
             0.7,
             "#b8e186"
            ],
            [
             0.8,
             "#7fbc41"
            ],
            [
             0.9,
             "#4d9221"
            ],
            [
             1,
             "#276419"
            ]
           ],
           "sequential": [
            [
             0,
             "#0d0887"
            ],
            [
             0.1111111111111111,
             "#46039f"
            ],
            [
             0.2222222222222222,
             "#7201a8"
            ],
            [
             0.3333333333333333,
             "#9c179e"
            ],
            [
             0.4444444444444444,
             "#bd3786"
            ],
            [
             0.5555555555555556,
             "#d8576b"
            ],
            [
             0.6666666666666666,
             "#ed7953"
            ],
            [
             0.7777777777777778,
             "#fb9f3a"
            ],
            [
             0.8888888888888888,
             "#fdca26"
            ],
            [
             1,
             "#f0f921"
            ]
           ],
           "sequentialminus": [
            [
             0,
             "#0d0887"
            ],
            [
             0.1111111111111111,
             "#46039f"
            ],
            [
             0.2222222222222222,
             "#7201a8"
            ],
            [
             0.3333333333333333,
             "#9c179e"
            ],
            [
             0.4444444444444444,
             "#bd3786"
            ],
            [
             0.5555555555555556,
             "#d8576b"
            ],
            [
             0.6666666666666666,
             "#ed7953"
            ],
            [
             0.7777777777777778,
             "#fb9f3a"
            ],
            [
             0.8888888888888888,
             "#fdca26"
            ],
            [
             1,
             "#f0f921"
            ]
           ]
          },
          "colorway": [
           "#636efa",
           "#EF553B",
           "#00cc96",
           "#ab63fa",
           "#FFA15A",
           "#19d3f3",
           "#FF6692",
           "#B6E880",
           "#FF97FF",
           "#FECB52"
          ],
          "font": {
           "color": "#2a3f5f"
          },
          "geo": {
           "bgcolor": "white",
           "lakecolor": "white",
           "landcolor": "white",
           "showlakes": true,
           "showland": true,
           "subunitcolor": "#C8D4E3"
          },
          "hoverlabel": {
           "align": "left"
          },
          "hovermode": "closest",
          "mapbox": {
           "style": "light"
          },
          "paper_bgcolor": "white",
          "plot_bgcolor": "white",
          "polar": {
           "angularaxis": {
            "gridcolor": "#EBF0F8",
            "linecolor": "#EBF0F8",
            "ticks": ""
           },
           "bgcolor": "white",
           "radialaxis": {
            "gridcolor": "#EBF0F8",
            "linecolor": "#EBF0F8",
            "ticks": ""
           }
          },
          "scene": {
           "xaxis": {
            "backgroundcolor": "white",
            "gridcolor": "#DFE8F3",
            "gridwidth": 2,
            "linecolor": "#EBF0F8",
            "showbackground": true,
            "ticks": "",
            "zerolinecolor": "#EBF0F8"
           },
           "yaxis": {
            "backgroundcolor": "white",
            "gridcolor": "#DFE8F3",
            "gridwidth": 2,
            "linecolor": "#EBF0F8",
            "showbackground": true,
            "ticks": "",
            "zerolinecolor": "#EBF0F8"
           },
           "zaxis": {
            "backgroundcolor": "white",
            "gridcolor": "#DFE8F3",
            "gridwidth": 2,
            "linecolor": "#EBF0F8",
            "showbackground": true,
            "ticks": "",
            "zerolinecolor": "#EBF0F8"
           }
          },
          "shapedefaults": {
           "line": {
            "color": "#2a3f5f"
           }
          },
          "ternary": {
           "aaxis": {
            "gridcolor": "#DFE8F3",
            "linecolor": "#A2B1C6",
            "ticks": ""
           },
           "baxis": {
            "gridcolor": "#DFE8F3",
            "linecolor": "#A2B1C6",
            "ticks": ""
           },
           "bgcolor": "white",
           "caxis": {
            "gridcolor": "#DFE8F3",
            "linecolor": "#A2B1C6",
            "ticks": ""
           }
          },
          "title": {
           "x": 0.05
          },
          "xaxis": {
           "automargin": true,
           "gridcolor": "#EBF0F8",
           "linecolor": "#EBF0F8",
           "ticks": "",
           "title": {
            "standoff": 15
           },
           "zerolinecolor": "#EBF0F8",
           "zerolinewidth": 2
          },
          "yaxis": {
           "automargin": true,
           "gridcolor": "#EBF0F8",
           "linecolor": "#EBF0F8",
           "ticks": "",
           "title": {
            "standoff": 15
           },
           "zerolinecolor": "#EBF0F8",
           "zerolinewidth": 2
          }
         }
        },
        "title": {
         "text": "Boxplot - variable : price"
        },
        "xaxis": {
         "anchor": "y",
         "domain": [
          0,
          1
         ],
         "title": {
          "text": "price"
         }
        },
        "yaxis": {
         "anchor": "x",
         "domain": [
          0,
          1
         ]
        }
       }
      }
     },
     "metadata": {},
     "output_type": "display_data"
    }
   ],
   "source": [
    "fig = px.box(chiffre_affaire,\n",
    "             x=\"price\",\n",
    "            title= \"Boxplot - variable : price\")\n",
    "fig.show()"
   ]
  },
  {
   "cell_type": "markdown",
   "id": "d372c3b5",
   "metadata": {},
   "source": [
    "## <font color = #34749f> 3.2.2 | Z-score Method </font> <a class=\"anchor\" id=\"section3.2.2\"></a>"
   ]
  },
  {
   "cell_type": "code",
   "execution_count": 310,
   "id": "f54c050d",
   "metadata": {
    "scrolled": true
   },
   "outputs": [
    {
     "data": {
      "text/plain": [
       "array([15382, 11668, 15940, 12589, 3510, 3507, 7819, 3509, 12857, 14805,\n",
       "       14220, 14581, 12791, 11602, 13914, 19822, 14915, 15185, 14983,\n",
       "       14774, 14775, 14773, 14923, 14596, 15126, 13996, 15072, 11601,\n",
       "       12790, 15070], dtype=object)"
      ]
     },
     "execution_count": 310,
     "metadata": {},
     "output_type": "execute_result"
    }
   ],
   "source": [
    "# Calculation of the z-score\n",
    "chiffre_affaire[\"z_score_price\"]=stats.zscore(chiffre_affaire[\"price\"])\n",
    "\n",
    "# List of products for which the z-score of the varible 'price' has a difference higher than 2 (or lower than -2):\n",
    "chiffre_affaire[(chiffre_affaire[\"z_score_price\"]<-2) | (chiffre_affaire[\"z_score_price\"]>2)][\"id_web\"].unique()"
   ]
  },
  {
   "cell_type": "code",
   "execution_count": 276,
   "id": "6ba79f3d",
   "metadata": {},
   "outputs": [
    {
     "name": "stdout",
     "output_type": "stream",
     "text": [
      "Nombre de produits (z-score ->  <-2 | >2): 30\n"
     ]
    }
   ],
   "source": [
    "print(\"Number of products(z-score ->  <-2 | >2):\",len(chiffre_affaire[(chiffre_affaire[\"z_score_price\"]<=-2) | (chiffre_affaire[\"z_score_price\"]>=2)]))"
   ]
  },
  {
   "cell_type": "markdown",
   "id": "8ce75eb9",
   "metadata": {},
   "source": [
    "## <font color = #34749f> 3.2.3 | Quartile Method </font> <a class=\"anchor\" id=\"section3.2.3\"></a>"
   ]
  },
  {
   "cell_type": "code",
   "execution_count": 311,
   "id": "1ff3ce9f",
   "metadata": {
    "scrolled": true
   },
   "outputs": [
    {
     "data": {
      "text/plain": [
       "array([15382, 11668, 15940, 12589, 13853, 3510, 3507, 7819, 3509, 12857,\n",
       "       14805, 14220, 14581, 12791, 11602, 13914, 13913, nan, 19822, 14915,\n",
       "       15185, 14983, 14774, 14775, 14773, 14923, 14596, 15126, 13996,\n",
       "       15072, 11601, 12790, 15070], dtype=object)"
      ]
     },
     "execution_count": 311,
     "metadata": {},
     "output_type": "execute_result"
    }
   ],
   "source": [
    "# Calculation of quartiles + interquartiles\n",
    "Q1_price = np.percentile(chiffre_affaire[\"price\"],25)\n",
    "Q3_price = np.percentile(chiffre_affaire[\"price\"],75)\n",
    "IQ_price = Q3_price - Q1_price\n",
    "\n",
    "# List of products that are greater than Q3 + 1.5IQ :\n",
    "chiffre_affaire[chiffre_affaire[\"price\"] > Q3_price + 1.5*IQ_price][\"id_web\"].unique()"
   ]
  },
  {
   "cell_type": "code",
   "execution_count": 306,
   "id": "77eca6df",
   "metadata": {},
   "outputs": [
    {
     "name": "stdout",
     "output_type": "stream",
     "text": [
      "Number of product > Q3 * 1.5IQ : 33\n"
     ]
    }
   ],
   "source": [
    "print(\"Number of product > Q3 * 1.5IQ :\",len(chiffre_affaire[chiffre_affaire[\"price\"] > Q3_price + 1.5*IQ_price]))"
   ]
  },
  {
   "cell_type": "markdown",
   "id": "6f74c213",
   "metadata": {},
   "source": [
    "## <font color = #34749f> 3.2.4 | Difference between the 2 methods</font> <a class=\"anchor\" id=\"section3.2.4\"></a>"
   ]
  },
  {
   "cell_type": "code",
   "execution_count": 312,
   "id": "47359ba5",
   "metadata": {},
   "outputs": [
    {
     "data": {
      "text/html": [
       "<div><div id=6d2a701b-d0a4-4b1f-aa99-21ecbde36686 style=\"display:none; background-color:#9D6CFF; color:white; width:200px; height:30px; padding-left:5px; border-radius:4px; flex-direction:row; justify-content:space-around; align-items:center;\" onmouseover=\"this.style.backgroundColor='#BA9BF8'\" onmouseout=\"this.style.backgroundColor='#9D6CFF'\" onclick=\"window.commands?.execute('create-mitosheet-from-dataframe-output');\">See Full Dataframe in Mito</div> <script> if (window.commands.hasCommand('create-mitosheet-from-dataframe-output')) document.getElementById('6d2a701b-d0a4-4b1f-aa99-21ecbde36686').style.display = 'flex' </script> <table border=\"1\" class=\"dataframe\">\n",
       "  <thead>\n",
       "    <tr style=\"text-align: right;\">\n",
       "      <th></th>\n",
       "      <th>id_web</th>\n",
       "      <th>total_sales</th>\n",
       "      <th>tax_status</th>\n",
       "      <th>post_author</th>\n",
       "      <th>post_date</th>\n",
       "      <th>post_date_gmt</th>\n",
       "      <th>post_title</th>\n",
       "      <th>post_excerpt</th>\n",
       "      <th>post_status</th>\n",
       "      <th>comment_status</th>\n",
       "      <th>...</th>\n",
       "      <th>post_type</th>\n",
       "      <th>post_mime_type</th>\n",
       "      <th>product_id</th>\n",
       "      <th>onsale_web</th>\n",
       "      <th>price</th>\n",
       "      <th>stock_quantity</th>\n",
       "      <th>stock_status</th>\n",
       "      <th>chiffre_affaire</th>\n",
       "      <th>z_score_price</th>\n",
       "      <th>_merge</th>\n",
       "    </tr>\n",
       "  </thead>\n",
       "  <tbody>\n",
       "    <tr>\n",
       "      <th>0</th>\n",
       "      <td>15382</td>\n",
       "      <td>0.0</td>\n",
       "      <td>taxable</td>\n",
       "      <td>2.0</td>\n",
       "      <td>2018-02-13 11:08:45</td>\n",
       "      <td>2018-02-13 10:08:45</td>\n",
       "      <td>Zind-Humbrecht Riesling Grand Cru Rangen De Thann Clos Saint-Urbain 2017</td>\n",
       "      <td>Le nez est puissant, dominant, riche, sur la fumée et la pierre. Il s’ouvre très doucement à l’ouverture sur plus de fruit et aussi un caractère presque médicinal, mais il faut être patient dans la jeunesse et lui donner du temps. La structure est serrée, dense, complexe et se construit principalement sur la minéralité au goût salé indéniable et la structure tannique bien présente dans ce vin. L’acidité apporte de la fraîcheur, mais est au second plan par rapport aux autres constituants du vin. Ce Rangen est encore à la fois sévère et enthousiasmant.</td>\n",
       "      <td>publish</td>\n",
       "      <td>closed</td>\n",
       "      <td>...</td>\n",
       "      <td>product</td>\n",
       "      <td>NaN</td>\n",
       "      <td>4115</td>\n",
       "      <td>1</td>\n",
       "      <td>100.0</td>\n",
       "      <td>11</td>\n",
       "      <td>instock</td>\n",
       "      <td>0.0</td>\n",
       "      <td>2.423091</td>\n",
       "      <td>both</td>\n",
       "    </tr>\n",
       "    <tr>\n",
       "      <th>1</th>\n",
       "      <td>11668</td>\n",
       "      <td>0.0</td>\n",
       "      <td>taxable</td>\n",
       "      <td>2.0</td>\n",
       "      <td>2018-02-13 11:43:55</td>\n",
       "      <td>2018-02-13 10:43:55</td>\n",
       "      <td>Zind-Humbrecht Pinot Gris Grand Cru Rangen De Thann Clos Saint-Urbain 2012</td>\n",
       "      <td>Le nez dévoile déjà une belle intensité de fruit. Il est facile de ressentir le besoin de ce vin de continuer à évoluer, mais le verre déborde littéralement d’arômes propres au Rangen (fumée légère, fruits blancs, tourbe, pierre à fusil…). Ce vin dégage une sensation de sérénité et d’achèvement, confirmé par une bouche ample et délicate. La finale est très longue mais ce vin aura besoin de quelques années de vieillissement en bouteille et bénéficiera d’un passage à l’air avant le service.</td>\n",
       "      <td>publish</td>\n",
       "      <td>closed</td>\n",
       "      <td>...</td>\n",
       "      <td>product</td>\n",
       "      <td>NaN</td>\n",
       "      <td>4132</td>\n",
       "      <td>1</td>\n",
       "      <td>88.4</td>\n",
       "      <td>5</td>\n",
       "      <td>instock</td>\n",
       "      <td>0.0</td>\n",
       "      <td>2.006177</td>\n",
       "      <td>both</td>\n",
       "    </tr>\n",
       "    <tr>\n",
       "      <th>2</th>\n",
       "      <td>15940</td>\n",
       "      <td>5.0</td>\n",
       "      <td>taxable</td>\n",
       "      <td>2.0</td>\n",
       "      <td>2018-03-02 10:30:04</td>\n",
       "      <td>2018-03-02 09:30:04</td>\n",
       "      <td>Champagne Egly-Ouriet Grand Cru Millésimé 2008</td>\n",
       "      <td>Issu d’un assemblage de 70% de Pinot Noir du grand cru d’Ambonnay et de 30% de Chardonnay, ce vin de champagne est une très belle expression du superbe millésime 2008. Élevage en barriques avec jusqu'à 10 années de vieillissement en cave. Le dosage est assez faible afin d’exprimer toute la vinosité de cette bulle singulière. Le nez se montre moins ouvert qu’à son habitude cependant, après quelques minutes dans le verre, on trouve une pureté aromatique redoutable où le minéral et l’iodé s’expriment tout en subtilité. Le deuxième révèle la vinosité habituelle qu’on aime chez Egly-Ouriet. La bouche droite et épurée montre beaucoup d’allonge et un équilibre formidable. Très joli vin !!</td>\n",
       "      <td>publish</td>\n",
       "      <td>closed</td>\n",
       "      <td>...</td>\n",
       "      <td>product</td>\n",
       "      <td>NaN</td>\n",
       "      <td>4352</td>\n",
       "      <td>1</td>\n",
       "      <td>225.0</td>\n",
       "      <td>0</td>\n",
       "      <td>outofstock</td>\n",
       "      <td>1125.0</td>\n",
       "      <td>6.915698</td>\n",
       "      <td>both</td>\n",
       "    </tr>\n",
       "    <tr>\n",
       "      <th>3</th>\n",
       "      <td>12589</td>\n",
       "      <td>11.0</td>\n",
       "      <td>taxable</td>\n",
       "      <td>2.0</td>\n",
       "      <td>2018-03-02 10:46:10</td>\n",
       "      <td>2018-03-02 09:46:10</td>\n",
       "      <td>Champagne Egly-Ouriet Grand Cru Blanc de Noirs</td>\n",
       "      <td>Le Blanc de Noirs représente le meilleur du savoir-faire de la maison Egly-Ouriet. C’est une cuvée d’une grande finesse. Ce champagne est élevé en fût de chêne et la fermentation malolactique est volontairement bloquée afin de conserver une grande tension. Il possède une robe vieil or, et des bulles d’une très grande finesse. Au nez, c’est une cuvée qui s’ouvre sur des arômes gourmands de fruits compotés, de fruits jaunes, et une touche d’épices. La bouche est superbe, mêlant à la fois fraîcheur, rondeur, tension. Une immense cuvée !</td>\n",
       "      <td>publish</td>\n",
       "      <td>closed</td>\n",
       "      <td>...</td>\n",
       "      <td>product</td>\n",
       "      <td>NaN</td>\n",
       "      <td>4355</td>\n",
       "      <td>1</td>\n",
       "      <td>126.5</td>\n",
       "      <td>2</td>\n",
       "      <td>instock</td>\n",
       "      <td>1391.5</td>\n",
       "      <td>3.375524</td>\n",
       "      <td>both</td>\n",
       "    </tr>\n",
       "    <tr>\n",
       "      <th>4</th>\n",
       "      <td>13853</td>\n",
       "      <td>1.0</td>\n",
       "      <td>taxable</td>\n",
       "      <td>2.0</td>\n",
       "      <td>2018-03-02 11:11:48</td>\n",
       "      <td>2018-03-02 10:11:48</td>\n",
       "      <td>Champagne Larmandier-Bernier Grand Cru Les Chemins d'Avize 2011</td>\n",
       "      <td>Belle maîtrise de ce millésime compliqué en Champagne, on retrouve la concentration élancée d’Avize avec la rondeur accessible de l’année. Larmandier-Bernier élabore cette cuvée depuis 2009 en provenance exclusive du terroir d'Avize. Le &lt;b&gt;C&lt;/b&gt;hemin d'Avize 2011 se distingue par son style crayeux et délicat, ainsi que ses arômes raffinés de fruits blancs. La finale est saline et intense.</td>\n",
       "      <td>publish</td>\n",
       "      <td>closed</td>\n",
       "      <td>...</td>\n",
       "      <td>product</td>\n",
       "      <td>NaN</td>\n",
       "      <td>4359</td>\n",
       "      <td>1</td>\n",
       "      <td>85.6</td>\n",
       "      <td>0</td>\n",
       "      <td>outofstock</td>\n",
       "      <td>85.6</td>\n",
       "      <td>1.905543</td>\n",
       "      <td>left_only</td>\n",
       "    </tr>\n",
       "  </tbody>\n",
       "</table></div>"
      ],
      "text/plain": [
       "  id_web  total_sales tax_status  post_author           post_date  \\\n",
       "0  15382          0.0    taxable          2.0 2018-02-13 11:08:45   \n",
       "1  11668          0.0    taxable          2.0 2018-02-13 11:43:55   \n",
       "2  15940          5.0    taxable          2.0 2018-03-02 10:30:04   \n",
       "3  12589         11.0    taxable          2.0 2018-03-02 10:46:10   \n",
       "4  13853          1.0    taxable          2.0 2018-03-02 11:11:48   \n",
       "\n",
       "        post_date_gmt                                         post_title  \\\n",
       "0 2018-02-13 10:08:45  Zind-Humbrecht Riesling Grand Cru Rangen De Th...   \n",
       "1 2018-02-13 10:43:55  Zind-Humbrecht Pinot Gris Grand Cru Rangen De ...   \n",
       "2 2018-03-02 09:30:04     Champagne Egly-Ouriet Grand Cru Millésimé 2008   \n",
       "3 2018-03-02 09:46:10     Champagne Egly-Ouriet Grand Cru Blanc de Noirs   \n",
       "4 2018-03-02 10:11:48  Champagne Larmandier-Bernier Grand Cru Les Che...   \n",
       "\n",
       "                                        post_excerpt post_status  \\\n",
       "0  Le nez est puissant, dominant, riche, sur la f...     publish   \n",
       "1  Le nez dévoile déjà une belle intensité de fru...     publish   \n",
       "2  Issu d’un assemblage de 70% de Pinot Noir du g...     publish   \n",
       "3  Le Blanc de Noirs représente le meilleur du sa...     publish   \n",
       "4  Belle maîtrise de ce millésime compliqué en Ch...     publish   \n",
       "\n",
       "  comment_status  ... post_type post_mime_type product_id onsale_web  price  \\\n",
       "0         closed  ...   product            NaN       4115          1  100.0   \n",
       "1         closed  ...   product            NaN       4132          1   88.4   \n",
       "2         closed  ...   product            NaN       4352          1  225.0   \n",
       "3         closed  ...   product            NaN       4355          1  126.5   \n",
       "4         closed  ...   product            NaN       4359          1   85.6   \n",
       "\n",
       "  stock_quantity stock_status  chiffre_affaire  z_score_price     _merge  \n",
       "0             11      instock              0.0       2.423091       both  \n",
       "1              5      instock              0.0       2.006177       both  \n",
       "2              0   outofstock           1125.0       6.915698       both  \n",
       "3              2      instock           1391.5       3.375524       both  \n",
       "4              0   outofstock             85.6       1.905543  left_only  \n",
       "\n",
       "[5 rows x 25 columns]"
      ]
     },
     "execution_count": 312,
     "metadata": {},
     "output_type": "execute_result"
    }
   ],
   "source": [
    "# Use the 'indicator' parameter that I pass to the join that will tell me if the rows are only present on the left, on the right or in both tables.\n",
    "merged_diff = chiffre_affaire[chiffre_affaire[\"price\"] > Q3_price + 1.5*IQ_price].merge(chiffre_affaire[(chiffre_affaire[\"z_score_price\"]<-2) | (chiffre_affaire[\"z_score_price\"]>2)], how='left', indicator=True)\n",
    "merged_diff.head()"
   ]
  },
  {
   "cell_type": "code",
   "execution_count": 313,
   "id": "cd74bffc",
   "metadata": {},
   "outputs": [
    {
     "data": {
      "text/html": [
       "<div><div id=5b7a7d14-a319-4dec-b8eb-9e82c7f1512b style=\"display:none; background-color:#9D6CFF; color:white; width:200px; height:30px; padding-left:5px; border-radius:4px; flex-direction:row; justify-content:space-around; align-items:center;\" onmouseover=\"this.style.backgroundColor='#BA9BF8'\" onmouseout=\"this.style.backgroundColor='#9D6CFF'\" onclick=\"window.commands?.execute('create-mitosheet-from-dataframe-output');\">See Full Dataframe in Mito</div> <script> if (window.commands.hasCommand('create-mitosheet-from-dataframe-output')) document.getElementById('5b7a7d14-a319-4dec-b8eb-9e82c7f1512b').style.display = 'flex' </script> <table border=\"1\" class=\"dataframe\">\n",
       "  <thead>\n",
       "    <tr style=\"text-align: right;\">\n",
       "      <th></th>\n",
       "      <th>id_web</th>\n",
       "      <th>total_sales</th>\n",
       "      <th>tax_status</th>\n",
       "      <th>post_author</th>\n",
       "      <th>post_date</th>\n",
       "      <th>post_date_gmt</th>\n",
       "      <th>post_title</th>\n",
       "      <th>post_excerpt</th>\n",
       "      <th>post_status</th>\n",
       "      <th>comment_status</th>\n",
       "      <th>...</th>\n",
       "      <th>post_type</th>\n",
       "      <th>post_mime_type</th>\n",
       "      <th>product_id</th>\n",
       "      <th>onsale_web</th>\n",
       "      <th>price</th>\n",
       "      <th>stock_quantity</th>\n",
       "      <th>stock_status</th>\n",
       "      <th>chiffre_affaire</th>\n",
       "      <th>z_score_price</th>\n",
       "      <th>_merge</th>\n",
       "    </tr>\n",
       "  </thead>\n",
       "  <tbody>\n",
       "    <tr>\n",
       "      <th>4</th>\n",
       "      <td>13853</td>\n",
       "      <td>1.0</td>\n",
       "      <td>taxable</td>\n",
       "      <td>2.0</td>\n",
       "      <td>2018-03-02 11:11:48</td>\n",
       "      <td>2018-03-02 10:11:48</td>\n",
       "      <td>Champagne Larmandier-Bernier Grand Cru Les Chemins d'Avize 2011</td>\n",
       "      <td>Belle maîtrise de ce millésime compliqué en Champagne, on retrouve la concentration élancée d’Avize avec la rondeur accessible de l’année. Larmandier-Bernier élabore cette cuvée depuis 2009 en provenance exclusive du terroir d'Avize. Le &lt;b&gt;C&lt;/b&gt;hemin d'Avize 2011 se distingue par son style crayeux et délicat, ainsi que ses arômes raffinés de fruits blancs. La finale est saline et intense.</td>\n",
       "      <td>publish</td>\n",
       "      <td>closed</td>\n",
       "      <td>...</td>\n",
       "      <td>product</td>\n",
       "      <td>NaN</td>\n",
       "      <td>4359</td>\n",
       "      <td>1</td>\n",
       "      <td>85.6</td>\n",
       "      <td>0</td>\n",
       "      <td>outofstock</td>\n",
       "      <td>85.6</td>\n",
       "      <td>1.905543</td>\n",
       "      <td>left_only</td>\n",
       "    </tr>\n",
       "    <tr>\n",
       "      <th>16</th>\n",
       "      <td>13913</td>\n",
       "      <td>0.0</td>\n",
       "      <td>taxable</td>\n",
       "      <td>2.0</td>\n",
       "      <td>2018-07-18 10:46:30</td>\n",
       "      <td>2018-07-18 08:46:30</td>\n",
       "      <td>Champagne Agrapart &amp;amp; Fils Minéral Extra Brut Blanc de Blancs Grand Cru 2012</td>\n",
       "      <td>Légèrement praliné au nez, nerveux, frais, inconditionnellement extra-brut, énergique mais ne présentant qu'une seule facette. Le Minéral est tout en nuances, doté d'une allonge \"jus de craie\" remarquable.</td>\n",
       "      <td>publish</td>\n",
       "      <td>closed</td>\n",
       "      <td>...</td>\n",
       "      <td>product</td>\n",
       "      <td>NaN</td>\n",
       "      <td>5026</td>\n",
       "      <td>1</td>\n",
       "      <td>86.8</td>\n",
       "      <td>2</td>\n",
       "      <td>instock</td>\n",
       "      <td>0.0</td>\n",
       "      <td>1.948672</td>\n",
       "      <td>left_only</td>\n",
       "    </tr>\n",
       "    <tr>\n",
       "      <th>17</th>\n",
       "      <td>NaN</td>\n",
       "      <td>0.0</td>\n",
       "      <td>taxable</td>\n",
       "      <td>2.0</td>\n",
       "      <td>2018-07-31 12:07:23</td>\n",
       "      <td>2018-07-31 10:07:23</td>\n",
       "      <td>Pierre Jean Villa Côte Rôtie Fongeant 2017</td>\n",
       "      <td>Fongeant 2017 explose sur un fruit brillant, préserve par un élevage fin. C'est la démonstration qu'une cuvée bâtie pour la garde peut exprimer de la finesse dès sa jeunesse.</td>\n",
       "      <td>publish</td>\n",
       "      <td>closed</td>\n",
       "      <td>...</td>\n",
       "      <td>product</td>\n",
       "      <td>NaN</td>\n",
       "      <td>5070</td>\n",
       "      <td>1</td>\n",
       "      <td>84.7</td>\n",
       "      <td>0</td>\n",
       "      <td>outofstock</td>\n",
       "      <td>0.0</td>\n",
       "      <td>1.873196</td>\n",
       "      <td>left_only</td>\n",
       "    </tr>\n",
       "  </tbody>\n",
       "</table></div>"
      ],
      "text/plain": [
       "   id_web  total_sales tax_status  post_author           post_date  \\\n",
       "4   13853          1.0    taxable          2.0 2018-03-02 11:11:48   \n",
       "16  13913          0.0    taxable          2.0 2018-07-18 10:46:30   \n",
       "17    NaN          0.0    taxable          2.0 2018-07-31 12:07:23   \n",
       "\n",
       "         post_date_gmt                                         post_title  \\\n",
       "4  2018-03-02 10:11:48  Champagne Larmandier-Bernier Grand Cru Les Che...   \n",
       "16 2018-07-18 08:46:30  Champagne Agrapart &amp; Fils Minéral Extra Br...   \n",
       "17 2018-07-31 10:07:23         Pierre Jean Villa Côte Rôtie Fongeant 2017   \n",
       "\n",
       "                                         post_excerpt post_status  \\\n",
       "4   Belle maîtrise de ce millésime compliqué en Ch...     publish   \n",
       "16  Légèrement praliné au nez, nerveux, frais, inc...     publish   \n",
       "17  Fongeant 2017 explose sur un fruit brillant, p...     publish   \n",
       "\n",
       "   comment_status  ... post_type post_mime_type product_id onsale_web price  \\\n",
       "4          closed  ...   product            NaN       4359          1  85.6   \n",
       "16         closed  ...   product            NaN       5026          1  86.8   \n",
       "17         closed  ...   product            NaN       5070          1  84.7   \n",
       "\n",
       "   stock_quantity stock_status  chiffre_affaire  z_score_price     _merge  \n",
       "4               0   outofstock             85.6       1.905543  left_only  \n",
       "16              2      instock              0.0       1.948672  left_only  \n",
       "17              0   outofstock              0.0       1.873196  left_only  \n",
       "\n",
       "[3 rows x 25 columns]"
      ]
     },
     "execution_count": 313,
     "metadata": {},
     "output_type": "execute_result"
    }
   ],
   "source": [
    "# Filter the merged df by selecting only 'left_only' (or righ_only depending) to find unique rows in the database.\n",
    "\n",
    "# Product present in the interquartile method but not in the z-score method\n",
    "merged_diff[merged_diff['_merge']==\"left_only\"]"
   ]
  },
  {
   "cell_type": "code",
   "execution_count": 281,
   "id": "9f1cbf66",
   "metadata": {},
   "outputs": [
    {
     "name": "stdout",
     "output_type": "stream",
     "text": [
      "4     Champagne Larmandier-Bernier Grand Cru Les Che...\n",
      "16    Champagne Agrapart &amp; Fils Minéral Extra Br...\n",
      "17           Pierre Jean Villa Côte Rôtie Fongeant 2017\n",
      "Name: post_title, dtype: object\n"
     ]
    }
   ],
   "source": [
    "# Name of the 3 different products\n",
    "print(merged_diff['post_title'][merged_diff['_merge']==\"left_only\"])"
   ]
  },
  {
   "cell_type": "markdown",
   "id": "86f420fe",
   "metadata": {},
   "source": [
    "### <font color = #9f343e>**Conclusion :** </font>\n",
    "We **did not obtain the same number of outliers depending on the method used.**\n",
    "\n",
    "Nevertheless, we found the 3 products that are different between the two methods.\n",
    "\n",
    "### Statistical analysis: price"
   ]
  },
  {
   "cell_type": "code",
   "execution_count": 282,
   "id": "7e5e8b50",
   "metadata": {},
   "outputs": [],
   "source": [
    "def var_summary(df,columns):\n",
    "    print(\"-\"*20)\n",
    "    print(columns)\n",
    "    print(\"moy:\\n\",df[columns].mean())\n",
    "    print(\"med:\\n\",df[columns].median())\n",
    "    print(\"mod:\\n\",df[columns].mode())\n",
    "    print(\"var:\\n\",df[columns].var(ddof=0))\n",
    "    print(\"STD:\\n\",df[columns].std())\n",
    "    print(\"CV:\\n\",df[columns].std(ddof=0))\n",
    "    print(\"skw:\\n\",df[columns].skew())\n",
    "    print(\"kur:\\n\",df[columns].kurtosis())\n",
    "    df[columns].hist()\n",
    "    plt.show()\n",
    "    sns.boxplot(x=df[columns])\n",
    "    plt.show()"
   ]
  },
  {
   "cell_type": "code",
   "execution_count": 283,
   "id": "59c646d3",
   "metadata": {},
   "outputs": [
    {
     "name": "stdout",
     "output_type": "stream",
     "text": [
      "--------------------\n",
      "price\n",
      "moy:\n",
      " 32.581145251396656\n",
      "med:\n",
      " 23.65\n",
      "mod:\n",
      " 0    19.0\n",
      "dtype: float64\n",
      "var:\n",
      " 774.1466975710802\n",
      "STD:\n",
      " 27.842942018131374\n",
      "CV:\n",
      " 27.823491829227333\n",
      "skw:\n",
      " 2.5645014397027484\n",
      "kur:\n",
      " 9.975537689742186\n"
     ]
    },
    {
     "data": {
      "image/png": "[encoded data removed]",
      "text/plain": [
       "<Figure size 640x480 with 1 Axes>"
      ]
     },
     "metadata": {},
     "output_type": "display_data"
    },
    {
     "data": {
      "image/png": "[encoded data removed]",
      "text/plain": [
       "<Figure size 640x480 with 1 Axes>"
      ]
     },
     "metadata": {},
     "output_type": "display_data"
    }
   ],
   "source": [
    "var_summary(chiffre_affaire,'price')"
   ]
  },
  {
   "cell_type": "markdown",
   "id": "a7f572c5",
   "metadata": {},
   "source": [
    "# <font color = #9f343e>3.3 | Bonus</font> <a class=\"anchor\" id=\"section3.3\"></a>\n",
    "## <font color = #34749f> 3.3.1 | Number of products by price range</font> <a class=\"anchor\" id=\"section3.3.1\"></a>"
   ]
  },
  {
   "cell_type": "code",
   "execution_count": 314,
   "id": "48404e17",
   "metadata": {
    "scrolled": true
   },
   "outputs": [
    {
     "data": {
      "text/html": [
       "<div><div id=bfd1f775-c2c6-4586-a8ac-b9d7069132b9 style=\"display:none; background-color:#9D6CFF; color:white; width:200px; height:30px; padding-left:5px; border-radius:4px; flex-direction:row; justify-content:space-around; align-items:center;\" onmouseover=\"this.style.backgroundColor='#BA9BF8'\" onmouseout=\"this.style.backgroundColor='#9D6CFF'\" onclick=\"window.commands?.execute('create-mitosheet-from-dataframe-output');\">See Full Dataframe in Mito</div> <script> if (window.commands.hasCommand('create-mitosheet-from-dataframe-output')) document.getElementById('bfd1f775-c2c6-4586-a8ac-b9d7069132b9').style.display = 'flex' </script> <table border=\"1\" class=\"dataframe\">\n",
       "  <thead>\n",
       "    <tr style=\"text-align: right;\">\n",
       "      <th></th>\n",
       "      <th>post_name</th>\n",
       "      <th>id_web</th>\n",
       "      <th>product_id</th>\n",
       "      <th>onsale_web</th>\n",
       "      <th>total_sales</th>\n",
       "      <th>price</th>\n",
       "      <th>stock_quantity</th>\n",
       "      <th>stock_status</th>\n",
       "      <th>chiffre_affaire</th>\n",
       "    </tr>\n",
       "  </thead>\n",
       "  <tbody>\n",
       "    <tr>\n",
       "      <th>200</th>\n",
       "      <td>champagne-egly-ouriet-grand-cru-millesime-2008</td>\n",
       "      <td>15940</td>\n",
       "      <td>4352</td>\n",
       "      <td>1</td>\n",
       "      <td>5.0</td>\n",
       "      <td>225.0</td>\n",
       "      <td>0</td>\n",
       "      <td>outofstock</td>\n",
       "      <td>1125.0</td>\n",
       "    </tr>\n",
       "    <tr>\n",
       "      <th>426</th>\n",
       "      <td>david-duband-charmes-chambertin-grand-cru-2014</td>\n",
       "      <td>14581</td>\n",
       "      <td>5001</td>\n",
       "      <td>1</td>\n",
       "      <td>0.0</td>\n",
       "      <td>217.5</td>\n",
       "      <td>20</td>\n",
       "      <td>instock</td>\n",
       "      <td>0.0</td>\n",
       "    </tr>\n",
       "    <tr>\n",
       "      <th>589</th>\n",
       "      <td>coteaux-champenois-egly-ouriet-ambonnay-rouge-2016</td>\n",
       "      <td>14983</td>\n",
       "      <td>5892</td>\n",
       "      <td>1</td>\n",
       "      <td>3.0</td>\n",
       "      <td>191.3</td>\n",
       "      <td>10</td>\n",
       "      <td>instock</td>\n",
       "      <td>573.9</td>\n",
       "    </tr>\n",
       "    <tr>\n",
       "      <th>219</th>\n",
       "      <td>cognac-frapin-vip-xo</td>\n",
       "      <td>3510</td>\n",
       "      <td>4402</td>\n",
       "      <td>1</td>\n",
       "      <td>13.0</td>\n",
       "      <td>176.0</td>\n",
       "      <td>8</td>\n",
       "      <td>instock</td>\n",
       "      <td>2288.0</td>\n",
       "    </tr>\n",
       "    <tr>\n",
       "      <th>555</th>\n",
       "      <td>camille-giroud-clos-de-vougeot-2016</td>\n",
       "      <td>15185</td>\n",
       "      <td>5767</td>\n",
       "      <td>1</td>\n",
       "      <td>0.0</td>\n",
       "      <td>175.0</td>\n",
       "      <td>12</td>\n",
       "      <td>instock</td>\n",
       "      <td>0.0</td>\n",
       "    </tr>\n",
       "    <tr>\n",
       "      <th>...</th>\n",
       "      <td>...</td>\n",
       "      <td>...</td>\n",
       "      <td>...</td>\n",
       "      <td>...</td>\n",
       "      <td>...</td>\n",
       "      <td>...</td>\n",
       "      <td>...</td>\n",
       "      <td>...</td>\n",
       "      <td>...</td>\n",
       "    </tr>\n",
       "    <tr>\n",
       "      <th>99</th>\n",
       "      <td>maurel-pays-doc-chenin-colombard-2019</td>\n",
       "      <td>16211</td>\n",
       "      <td>4173</td>\n",
       "      <td>1</td>\n",
       "      <td>13.0</td>\n",
       "      <td>5.7</td>\n",
       "      <td>100</td>\n",
       "      <td>instock</td>\n",
       "      <td>74.1</td>\n",
       "    </tr>\n",
       "    <tr>\n",
       "      <th>100</th>\n",
       "      <td>maurel-cabardes-tradition-2017</td>\n",
       "      <td>16209</td>\n",
       "      <td>4174</td>\n",
       "      <td>1</td>\n",
       "      <td>6.0</td>\n",
       "      <td>5.7</td>\n",
       "      <td>94</td>\n",
       "      <td>instock</td>\n",
       "      <td>34.2</td>\n",
       "    </tr>\n",
       "    <tr>\n",
       "      <th>562</th>\n",
       "      <td>maurel-pays-d-oc-cabernet-sauvignon-2017</td>\n",
       "      <td>14338</td>\n",
       "      <td>5777</td>\n",
       "      <td>1</td>\n",
       "      <td>0.0</td>\n",
       "      <td>5.7</td>\n",
       "      <td>132</td>\n",
       "      <td>instock</td>\n",
       "      <td>0.0</td>\n",
       "    </tr>\n",
       "    <tr>\n",
       "      <th>98</th>\n",
       "      <td>maurel-pays-oc-chardonnay-2019</td>\n",
       "      <td>16210</td>\n",
       "      <td>4172</td>\n",
       "      <td>1</td>\n",
       "      <td>43.0</td>\n",
       "      <td>5.7</td>\n",
       "      <td>167</td>\n",
       "      <td>instock</td>\n",
       "      <td>245.1</td>\n",
       "    </tr>\n",
       "    <tr>\n",
       "      <th>647</th>\n",
       "      <td>moulin-de-gassac-igp-pays-dherault-guilhem-blanc-2017</td>\n",
       "      <td>14570</td>\n",
       "      <td>6129</td>\n",
       "      <td>1</td>\n",
       "      <td>0.0</td>\n",
       "      <td>5.2</td>\n",
       "      <td>30</td>\n",
       "      <td>instock</td>\n",
       "      <td>0.0</td>\n",
       "    </tr>\n",
       "  </tbody>\n",
       "</table></div>"
      ],
      "text/plain": [
       "                                             post_name id_web  product_id  \\\n",
       "200     champagne-egly-ouriet-grand-cru-millesime-2008  15940        4352   \n",
       "426     david-duband-charmes-chambertin-grand-cru-2014  14581        5001   \n",
       "589  coteaux-champenois-egly-ouriet-ambonnay-rouge-...  14983        5892   \n",
       "219                               cognac-frapin-vip-xo   3510        4402   \n",
       "555                camille-giroud-clos-de-vougeot-2016  15185        5767   \n",
       "..                                                 ...    ...         ...   \n",
       "99               maurel-pays-doc-chenin-colombard-2019  16211        4173   \n",
       "100                     maurel-cabardes-tradition-2017  16209        4174   \n",
       "562           maurel-pays-d-oc-cabernet-sauvignon-2017  14338        5777   \n",
       "98                      maurel-pays-oc-chardonnay-2019  16210        4172   \n",
       "647  moulin-de-gassac-igp-pays-dherault-guilhem-bla...  14570        6129   \n",
       "\n",
       "     onsale_web  total_sales  price  stock_quantity stock_status  \\\n",
       "200           1          5.0  225.0               0   outofstock   \n",
       "426           1          0.0  217.5              20      instock   \n",
       "589           1          3.0  191.3              10      instock   \n",
       "219           1         13.0  176.0               8      instock   \n",
       "555           1          0.0  175.0              12      instock   \n",
       "..          ...          ...    ...             ...          ...   \n",
       "99            1         13.0    5.7             100      instock   \n",
       "100           1          6.0    5.7              94      instock   \n",
       "562           1          0.0    5.7             132      instock   \n",
       "98            1         43.0    5.7             167      instock   \n",
       "647           1          0.0    5.2              30      instock   \n",
       "\n",
       "     chiffre_affaire  \n",
       "200           1125.0  \n",
       "426              0.0  \n",
       "589            573.9  \n",
       "219           2288.0  \n",
       "555              0.0  \n",
       "..               ...  \n",
       "99              74.1  \n",
       "100             34.2  \n",
       "562              0.0  \n",
       "98             245.1  \n",
       "647              0.0  \n",
       "\n",
       "[716 rows x 9 columns]"
      ]
     },
     "execution_count": 314,
     "metadata": {},
     "output_type": "execute_result"
    }
   ],
   "source": [
    "# Product - Price descending\n",
    "chiffre_affaire[list_analyse].sort_values('price',ascending=False)"
   ]
  },
  {
   "cell_type": "code",
   "execution_count": 315,
   "id": "8e48e515",
   "metadata": {
    "scrolled": false
   },
   "outputs": [
    {
     "data": {
      "application/vnd.plotly.v1+json": {
       "config": {
        "plotlyServerURL": "https://plot.ly"
       },
       "data": [
        {
         "alignmentgroup": "True",
         "bingroup": "x",
         "hovertemplate": "price=%{x}<br>count=%{y}<extra></extra>",
         "legendgroup": "",
         "marker": {
          "color": "#636efa",
          "pattern": {
           "shape": ""
          }
         },
         "name": "",
         "nbinsx": 36,
         "offsetgroup": "",
         "orientation": "v",
         "showlegend": false,
         "type": "histogram",
         "x": [
          25,
          24.2,
          34.3,
          20.8,
          14.1,
          46,
          34.3,
          32.7,
          31.2,
          60,
          42.6,
          80,
          18.3,
          22.8,
          19.3,
          21.8,
          7.7,
          33.7,
          44.3,
          71.6,
          12.7,
          8.7,
          8.7,
          8.7,
          11.9,
          11.9,
          14.5,
          14.4,
          19.5,
          20.8,
          22,
          16.6,
          60,
          23.4,
          33.2,
          32,
          77.8,
          12.7,
          14.7,
          14.05,
          22.9,
          44,
          37,
          39,
          17,
          23.2,
          19,
          16.4,
          14.4,
          13.7,
          12.6,
          22.8,
          12.8,
          22.1,
          12.8,
          15.8,
          15.8,
          16.3,
          16.3,
          9.7,
          6.8,
          12.6,
          35,
          31.7,
          100,
          23,
          88.4,
          29.8,
          25.7,
          77.4,
          39,
          53,
          49,
          29.5,
          33,
          37.5,
          69,
          59,
          13.7,
          19.2,
          29,
          9.8,
          14.5,
          20.35,
          12,
          18.5,
          9.3,
          9.3,
          11.6,
          14.3,
          10.8,
          7.6,
          12,
          20.5,
          14.3,
          18.2,
          9,
          7.8,
          5.7,
          5.7,
          5.7,
          13.5,
          13.5,
          11.5,
          24,
          24,
          11.9,
          16.7,
          21.4,
          16.6,
          13.3,
          9.5,
          12.1,
          9.3,
          17.8,
          13.5,
          10.8,
          27.2,
          9.4,
          5.8,
          5.8,
          38,
          38,
          9.9,
          11.3,
          23,
          6.7,
          7.6,
          79.8,
          48.5,
          39.8,
          58.8,
          26.5,
          13.4,
          17.1,
          16.7,
          11.6,
          12.8,
          8.9,
          9.7,
          17.2,
          16.9,
          12.6,
          29.9,
          9.6,
          11.1,
          11.1,
          17.1,
          28,
          28,
          8.9,
          8.6,
          13.5,
          8.9,
          15.3,
          14.8,
          19.5,
          14.1,
          59.6,
          26.9,
          24.4,
          31.7,
          32.1,
          12.2,
          9.9,
          15.8,
          15.8,
          17.8,
          9.6,
          19,
          15.2,
          10.2,
          15.5,
          16.6,
          9.2,
          12.9,
          14.9,
          17.6,
          24.8,
          18.9,
          11.6,
          27,
          41,
          69.8,
          38.6,
          26.7,
          19,
          23.2,
          39.1,
          44,
          17.5,
          30,
          8.1,
          10.7,
          10.9,
          49,
          35.5,
          83,
          59,
          79.5,
          225,
          79.5,
          126.5,
          51.6,
          39,
          77,
          85.6,
          49.5,
          49.5,
          49.5,
          57,
          59.8,
          27.5,
          62,
          59,
          59,
          59,
          44,
          62.5,
          176,
          108.5,
          68.1,
          157,
          104,
          28.1,
          21.7,
          28.5,
          67.2,
          109.6,
          43.9,
          61.6,
          41.8,
          26.5,
          16.1,
          31.5,
          31.5,
          49,
          32.2,
          50.1,
          13.4,
          11.8,
          13.1,
          26.2,
          20.6,
          16.9,
          19,
          24,
          57,
          67.5,
          30.6,
          59,
          11.9,
          16.5,
          52.4,
          52.9,
          58.3,
          39.6,
          52.4,
          62.4,
          76.8,
          50,
          52.4,
          41,
          62.4,
          50,
          21.5,
          28.5,
          24.3,
          16.5,
          25.3,
          49,
          36.2,
          33.4,
          40.2,
          43,
          43,
          48.8,
          20.8,
          16.4,
          14.4,
          21,
          12.3,
          20.2,
          17,
          21.9,
          17.8,
          19.8,
          19,
          10.7,
          12.9,
          9.5,
          29.8,
          13.2,
          6.3,
          7.1,
          9.1,
          9.1,
          18.1,
          14,
          30.1,
          12.8,
          12.8,
          19.8,
          18.2,
          31.6,
          16.8,
          22.8,
          32.6,
          44,
          55.4,
          15.8,
          18.4,
          13.3,
          11.1,
          18.6,
          23.4,
          18.2,
          12.5,
          15.9,
          13.7,
          29,
          23.4,
          12.7,
          26,
          29.5,
          8.6,
          14.3,
          22,
          16.8,
          15.3,
          7.4,
          9.7,
          14.5,
          11.9,
          16.4,
          27.9,
          12,
          7.4,
          26.5,
          24.3,
          16.9,
          6.8,
          13.9,
          7.8,
          13.7,
          9.8,
          29.5,
          28.5,
          10.1,
          12.1,
          12.3,
          11.1,
          11.1,
          13.6,
          21,
          18.7,
          41.6,
          12,
          78,
          14.9,
          6.5,
          8.7,
          8.5,
          9.9,
          8.2,
          9.8,
          9.9,
          9.3,
          22.8,
          18.7,
          28.4,
          27.9,
          25.3,
          17,
          27.9,
          20.1,
          27.9,
          21.2,
          20.8,
          41,
          46,
          102.3,
          137,
          22.9,
          53.2,
          25.9,
          17.3,
          25.9,
          28,
          25.9,
          25.9,
          37.2,
          24.4,
          24.4,
          7,
          12.8,
          23.2,
          7.9,
          6.5,
          7.9,
          16.7,
          17.5,
          27.8,
          25.7,
          18.4,
          22.2,
          11.1,
          9.9,
          12.5,
          12.9,
          20.5,
          11.3,
          7,
          12.1,
          7.1,
          49.5,
          23,
          23.7,
          16.45,
          16.3,
          18.5,
          26.5,
          78,
          78,
          78,
          27.3,
          217.5,
          64.9,
          48.7,
          59.4,
          48.7,
          105,
          105,
          55.6,
          9.3,
          19.8,
          45,
          112,
          86.8,
          62.1,
          22.5,
          7.5,
          52.6,
          45,
          67,
          59.9,
          59.9,
          65,
          84.7,
          43.3,
          15.2,
          19,
          11.1,
          18,
          22.8,
          19.5,
          28.8,
          16.1,
          24.2,
          35.3,
          10.7,
          12.7,
          17.1,
          24,
          39,
          13.2,
          23.6,
          15.5,
          16.3,
          16.2,
          7.2,
          54.8,
          42,
          19.8,
          10.2,
          10.4,
          11.5,
          17.9,
          21.6,
          33.4,
          49.5,
          43.5,
          43.5,
          26.5,
          13.8,
          18.2,
          12.9,
          38.6,
          48.4,
          60.4,
          38.6,
          12,
          61.6,
          65.9,
          15.2,
          24.6,
          48.8,
          34.3,
          36.3,
          57.7,
          38,
          58,
          58,
          30.8,
          92,
          27.5,
          34.7,
          59.6,
          83.7,
          30.5,
          38.6,
          18,
          63.4,
          124.8,
          19.2,
          19.2,
          56.4,
          38.4,
          27.8,
          71.3,
          71.3,
          25,
          10.3,
          28,
          44.6,
          13,
          12.7,
          6.5,
          17.5,
          29.9,
          44.5,
          29.4,
          16.9,
          19.8,
          10.3,
          10.8,
          31.7,
          25,
          57.6,
          13.7,
          7.1,
          14.9,
          11,
          14.6,
          10.7,
          73.3,
          42.1,
          57,
          24.5,
          10.1,
          42.2,
          13.1,
          19.5,
          12.9,
          35.6,
          175,
          35.6,
          33.6,
          34.4,
          38.4,
          29.7,
          32.8,
          5.7,
          5.8,
          5.8,
          21.7,
          23,
          12.5,
          17.2,
          40.2,
          24,
          23.8,
          17.1,
          25,
          17.4,
          27.3,
          17.9,
          24,
          16.6,
          16.9,
          57.6,
          63.5,
          56,
          63.5,
          41.2,
          55,
          57,
          19.3,
          19,
          191.3,
          26.6,
          15.4,
          24.7,
          28.1,
          18.25,
          35.1,
          27.3,
          18.8,
          43.9,
          19.8,
          17.7,
          57,
          36,
          36,
          93,
          122,
          114,
          48.5,
          49.5,
          14.1,
          59.9,
          46,
          74.5,
          17.2,
          8.7,
          15.4,
          12.7,
          30,
          13.5,
          16.3,
          56.3,
          71.5,
          69,
          17.9,
          48.5,
          71.7,
          8.5,
          10.9,
          21.8,
          38.5,
          9.3,
          13.6,
          24.5,
          12.6,
          13.4,
          29.8,
          36.9,
          40.7,
          33.2,
          34.8,
          74.8,
          62.4,
          46,
          39.2,
          135,
          10.6,
          10.6,
          5.2,
          46,
          105.6,
          116.4,
          31,
          20.2,
          25.2,
          25.2,
          115,
          121,
          99,
          115,
          121,
          23.5,
          26.4,
          26.7,
          20.4,
          20.4,
          40.2,
          9,
          45.9,
          10.4,
          78,
          40.5,
          27.9,
          22.4,
          28.4,
          72,
          29,
          29.2,
          44,
          68.3,
          41.8,
          40,
          13.5,
          19,
          24.4,
          32.8,
          15.4,
          9.9,
          13.5,
          51,
          35.2,
          42.2,
          33.2,
          41.8,
          32.2,
          37.7,
          47.2,
          52.7,
          22.4,
          50.4,
          35.6,
          27.7,
          48.5,
          15.4,
          46.5,
          46.5,
          46.5,
          42,
          21.8,
          50.5,
          49.9,
          19,
          8.4,
          27.5,
          69,
          54.8,
          16.3
         ],
         "xaxis": "x",
         "yaxis": "y"
        }
       ],
       "layout": {
        "bargap": 0.05,
        "barmode": "relative",
        "legend": {
         "tracegroupgap": 0
        },
        "margin": {
         "t": 60
        },
        "template": {
         "data": {
          "bar": [
           {
            "error_x": {
             "color": "#2a3f5f"
            },
            "error_y": {
             "color": "#2a3f5f"
            },
            "marker": {
             "line": {
              "color": "white",
              "width": 0.5
             },
             "pattern": {
              "fillmode": "overlay",
              "size": 10,
              "solidity": 0.2
             }
            },
            "type": "bar"
           }
          ],
          "barpolar": [
           {
            "marker": {
             "line": {
              "color": "white",
              "width": 0.5
             },
             "pattern": {
              "fillmode": "overlay",
              "size": 10,
              "solidity": 0.2
             }
            },
            "type": "barpolar"
           }
          ],
          "carpet": [
           {
            "aaxis": {
             "endlinecolor": "#2a3f5f",
             "gridcolor": "#C8D4E3",
             "linecolor": "#C8D4E3",
             "minorgridcolor": "#C8D4E3",
             "startlinecolor": "#2a3f5f"
            },
            "baxis": {
             "endlinecolor": "#2a3f5f",
             "gridcolor": "#C8D4E3",
             "linecolor": "#C8D4E3",
             "minorgridcolor": "#C8D4E3",
             "startlinecolor": "#2a3f5f"
            },
            "type": "carpet"
           }
          ],
          "choropleth": [
           {
            "colorbar": {
             "outlinewidth": 0,
             "ticks": ""
            },
            "type": "choropleth"
           }
          ],
          "contour": [
           {
            "colorbar": {
             "outlinewidth": 0,
             "ticks": ""
            },
            "colorscale": [
             [
              0,
              "#0d0887"
             ],
             [
              0.1111111111111111,
              "#46039f"
             ],
             [
              0.2222222222222222,
              "#7201a8"
             ],
             [
              0.3333333333333333,
              "#9c179e"
             ],
             [
              0.4444444444444444,
              "#bd3786"
             ],
             [
              0.5555555555555556,
              "#d8576b"
             ],
             [
              0.6666666666666666,
              "#ed7953"
             ],
             [
              0.7777777777777778,
              "#fb9f3a"
             ],
             [
              0.8888888888888888,
              "#fdca26"
             ],
             [
              1,
              "#f0f921"
             ]
            ],
            "type": "contour"
           }
          ],
          "contourcarpet": [
           {
            "colorbar": {
             "outlinewidth": 0,
             "ticks": ""
            },
            "type": "contourcarpet"
           }
          ],
          "heatmap": [
           {
            "colorbar": {
             "outlinewidth": 0,
             "ticks": ""
            },
            "colorscale": [
             [
              0,
              "#0d0887"
             ],
             [
              0.1111111111111111,
              "#46039f"
             ],
             [
              0.2222222222222222,
              "#7201a8"
             ],
             [
              0.3333333333333333,
              "#9c179e"
             ],
             [
              0.4444444444444444,
              "#bd3786"
             ],
             [
              0.5555555555555556,
              "#d8576b"
             ],
             [
              0.6666666666666666,
              "#ed7953"
             ],
             [
              0.7777777777777778,
              "#fb9f3a"
             ],
             [
              0.8888888888888888,
              "#fdca26"
             ],
             [
              1,
              "#f0f921"
             ]
            ],
            "type": "heatmap"
           }
          ],
          "heatmapgl": [
           {
            "colorbar": {
             "outlinewidth": 0,
             "ticks": ""
            },
            "colorscale": [
             [
              0,
              "#0d0887"
             ],
             [
              0.1111111111111111,
              "#46039f"
             ],
             [
              0.2222222222222222,
              "#7201a8"
             ],
             [
              0.3333333333333333,
              "#9c179e"
             ],
             [
              0.4444444444444444,
              "#bd3786"
             ],
             [
              0.5555555555555556,
              "#d8576b"
             ],
             [
              0.6666666666666666,
              "#ed7953"
             ],
             [
              0.7777777777777778,
              "#fb9f3a"
             ],
             [
              0.8888888888888888,
              "#fdca26"
             ],
             [
              1,
              "#f0f921"
             ]
            ],
            "type": "heatmapgl"
           }
          ],
          "histogram": [
           {
            "marker": {
             "pattern": {
              "fillmode": "overlay",
              "size": 10,
              "solidity": 0.2
             }
            },
            "type": "histogram"
           }
          ],
          "histogram2d": [
           {
            "colorbar": {
             "outlinewidth": 0,
             "ticks": ""
            },
            "colorscale": [
             [
              0,
              "#0d0887"
             ],
             [
              0.1111111111111111,
              "#46039f"
             ],
             [
              0.2222222222222222,
              "#7201a8"
             ],
             [
              0.3333333333333333,
              "#9c179e"
             ],
             [
              0.4444444444444444,
              "#bd3786"
             ],
             [
              0.5555555555555556,
              "#d8576b"
             ],
             [
              0.6666666666666666,
              "#ed7953"
             ],
             [
              0.7777777777777778,
              "#fb9f3a"
             ],
             [
              0.8888888888888888,
              "#fdca26"
             ],
             [
              1,
              "#f0f921"
             ]
            ],
            "type": "histogram2d"
           }
          ],
          "histogram2dcontour": [
           {
            "colorbar": {
             "outlinewidth": 0,
             "ticks": ""
            },
            "colorscale": [
             [
              0,
              "#0d0887"
             ],
             [
              0.1111111111111111,
              "#46039f"
             ],
             [
              0.2222222222222222,
              "#7201a8"
             ],
             [
              0.3333333333333333,
              "#9c179e"
             ],
             [
              0.4444444444444444,
              "#bd3786"
             ],
             [
              0.5555555555555556,
              "#d8576b"
             ],
             [
              0.6666666666666666,
              "#ed7953"
             ],
             [
              0.7777777777777778,
              "#fb9f3a"
             ],
             [
              0.8888888888888888,
              "#fdca26"
             ],
             [
              1,
              "#f0f921"
             ]
            ],
            "type": "histogram2dcontour"
           }
          ],
          "mesh3d": [
           {
            "colorbar": {
             "outlinewidth": 0,
             "ticks": ""
            },
            "type": "mesh3d"
           }
          ],
          "parcoords": [
           {
            "line": {
             "colorbar": {
              "outlinewidth": 0,
              "ticks": ""
             }
            },
            "type": "parcoords"
           }
          ],
          "pie": [
           {
            "automargin": true,
            "type": "pie"
           }
          ],
          "scatter": [
           {
            "marker": {
             "colorbar": {
              "outlinewidth": 0,
              "ticks": ""
             }
            },
            "type": "scatter"
           }
          ],
          "scatter3d": [
           {
            "line": {
             "colorbar": {
              "outlinewidth": 0,
              "ticks": ""
             }
            },
            "marker": {
             "colorbar": {
              "outlinewidth": 0,
              "ticks": ""
             }
            },
            "type": "scatter3d"
           }
          ],
          "scattercarpet": [
           {
            "marker": {
             "colorbar": {
              "outlinewidth": 0,
              "ticks": ""
             }
            },
            "type": "scattercarpet"
           }
          ],
          "scattergeo": [
           {
            "marker": {
             "colorbar": {
              "outlinewidth": 0,
              "ticks": ""
             }
            },
            "type": "scattergeo"
           }
          ],
          "scattergl": [
           {
            "marker": {
             "colorbar": {
              "outlinewidth": 0,
              "ticks": ""
             }
            },
            "type": "scattergl"
           }
          ],
          "scattermapbox": [
           {
            "marker": {
             "colorbar": {
              "outlinewidth": 0,
              "ticks": ""
             }
            },
            "type": "scattermapbox"
           }
          ],
          "scatterpolar": [
           {
            "marker": {
             "colorbar": {
              "outlinewidth": 0,
              "ticks": ""
             }
            },
            "type": "scatterpolar"
           }
          ],
          "scatterpolargl": [
           {
            "marker": {
             "colorbar": {
              "outlinewidth": 0,
              "ticks": ""
             }
            },
            "type": "scatterpolargl"
           }
          ],
          "scatterternary": [
           {
            "marker": {
             "colorbar": {
              "outlinewidth": 0,
              "ticks": ""
             }
            },
            "type": "scatterternary"
           }
          ],
          "surface": [
           {
            "colorbar": {
             "outlinewidth": 0,
             "ticks": ""
            },
            "colorscale": [
             [
              0,
              "#0d0887"
             ],
             [
              0.1111111111111111,
              "#46039f"
             ],
             [
              0.2222222222222222,
              "#7201a8"
             ],
             [
              0.3333333333333333,
              "#9c179e"
             ],
             [
              0.4444444444444444,
              "#bd3786"
             ],
             [
              0.5555555555555556,
              "#d8576b"
             ],
             [
              0.6666666666666666,
              "#ed7953"
             ],
             [
              0.7777777777777778,
              "#fb9f3a"
             ],
             [
              0.8888888888888888,
              "#fdca26"
             ],
             [
              1,
              "#f0f921"
             ]
            ],
            "type": "surface"
           }
          ],
          "table": [
           {
            "cells": {
             "fill": {
              "color": "#EBF0F8"
             },
             "line": {
              "color": "white"
             }
            },
            "header": {
             "fill": {
              "color": "#C8D4E3"
             },
             "line": {
              "color": "white"
             }
            },
            "type": "table"
           }
          ]
         },
         "layout": {
          "annotationdefaults": {
           "arrowcolor": "#2a3f5f",
           "arrowhead": 0,
           "arrowwidth": 1
          },
          "autotypenumbers": "strict",
          "coloraxis": {
           "colorbar": {
            "outlinewidth": 0,
            "ticks": ""
           }
          },
          "colorscale": {
           "diverging": [
            [
             0,
             "#8e0152"
            ],
            [
             0.1,
             "#c51b7d"
            ],
            [
             0.2,
             "#de77ae"
            ],
            [
             0.3,
             "#f1b6da"
            ],
            [
             0.4,
             "#fde0ef"
            ],
            [
             0.5,
             "#f7f7f7"
            ],
            [
             0.6,
             "#e6f5d0"
            ],
            [
             0.7,
             "#b8e186"
            ],
            [
             0.8,
             "#7fbc41"
            ],
            [
             0.9,
             "#4d9221"
            ],
            [
             1,
             "#276419"
            ]
           ],
           "sequential": [
            [
             0,
             "#0d0887"
            ],
            [
             0.1111111111111111,
             "#46039f"
            ],
            [
             0.2222222222222222,
             "#7201a8"
            ],
            [
             0.3333333333333333,
             "#9c179e"
            ],
            [
             0.4444444444444444,
             "#bd3786"
            ],
            [
             0.5555555555555556,
             "#d8576b"
            ],
            [
             0.6666666666666666,
             "#ed7953"
            ],
            [
             0.7777777777777778,
             "#fb9f3a"
            ],
            [
             0.8888888888888888,
             "#fdca26"
            ],
            [
             1,
             "#f0f921"
            ]
           ],
           "sequentialminus": [
            [
             0,
             "#0d0887"
            ],
            [
             0.1111111111111111,
             "#46039f"
            ],
            [
             0.2222222222222222,
             "#7201a8"
            ],
            [
             0.3333333333333333,
             "#9c179e"
            ],
            [
             0.4444444444444444,
             "#bd3786"
            ],
            [
             0.5555555555555556,
             "#d8576b"
            ],
            [
             0.6666666666666666,
             "#ed7953"
            ],
            [
             0.7777777777777778,
             "#fb9f3a"
            ],
            [
             0.8888888888888888,
             "#fdca26"
            ],
            [
             1,
             "#f0f921"
            ]
           ]
          },
          "colorway": [
           "#636efa",
           "#EF553B",
           "#00cc96",
           "#ab63fa",
           "#FFA15A",
           "#19d3f3",
           "#FF6692",
           "#B6E880",
           "#FF97FF",
           "#FECB52"
          ],
          "font": {
           "color": "#2a3f5f"
          },
          "geo": {
           "bgcolor": "white",
           "lakecolor": "white",
           "landcolor": "white",
           "showlakes": true,
           "showland": true,
           "subunitcolor": "#C8D4E3"
          },
          "hoverlabel": {
           "align": "left"
          },
          "hovermode": "closest",
          "mapbox": {
           "style": "light"
          },
          "paper_bgcolor": "white",
          "plot_bgcolor": "white",
          "polar": {
           "angularaxis": {
            "gridcolor": "#EBF0F8",
            "linecolor": "#EBF0F8",
            "ticks": ""
           },
           "bgcolor": "white",
           "radialaxis": {
            "gridcolor": "#EBF0F8",
            "linecolor": "#EBF0F8",
            "ticks": ""
           }
          },
          "scene": {
           "xaxis": {
            "backgroundcolor": "white",
            "gridcolor": "#DFE8F3",
            "gridwidth": 2,
            "linecolor": "#EBF0F8",
            "showbackground": true,
            "ticks": "",
            "zerolinecolor": "#EBF0F8"
           },
           "yaxis": {
            "backgroundcolor": "white",
            "gridcolor": "#DFE8F3",
            "gridwidth": 2,
            "linecolor": "#EBF0F8",
            "showbackground": true,
            "ticks": "",
            "zerolinecolor": "#EBF0F8"
           },
           "zaxis": {
            "backgroundcolor": "white",
            "gridcolor": "#DFE8F3",
            "gridwidth": 2,
            "linecolor": "#EBF0F8",
            "showbackground": true,
            "ticks": "",
            "zerolinecolor": "#EBF0F8"
           }
          },
          "shapedefaults": {
           "line": {
            "color": "#2a3f5f"
           }
          },
          "ternary": {
           "aaxis": {
            "gridcolor": "#DFE8F3",
            "linecolor": "#A2B1C6",
            "ticks": ""
           },
           "baxis": {
            "gridcolor": "#DFE8F3",
            "linecolor": "#A2B1C6",
            "ticks": ""
           },
           "bgcolor": "white",
           "caxis": {
            "gridcolor": "#DFE8F3",
            "linecolor": "#A2B1C6",
            "ticks": ""
           }
          },
          "title": {
           "x": 0.05
          },
          "xaxis": {
           "automargin": true,
           "gridcolor": "#EBF0F8",
           "linecolor": "#EBF0F8",
           "ticks": "",
           "title": {
            "standoff": 15
           },
           "zerolinecolor": "#EBF0F8",
           "zerolinewidth": 2
          },
          "yaxis": {
           "automargin": true,
           "gridcolor": "#EBF0F8",
           "linecolor": "#EBF0F8",
           "ticks": "",
           "title": {
            "standoff": 15
           },
           "zerolinecolor": "#EBF0F8",
           "zerolinewidth": 2
          }
         }
        },
        "title": {
         "text": "Price range difference (range = 10€) on the website"
        },
        "xaxis": {
         "anchor": "y",
         "domain": [
          0,
          1
         ],
         "title": {
          "text": "Price range (per 10€)"
         }
        },
        "yaxis": {
         "anchor": "x",
         "domain": [
          0,
          1
         ],
         "title": {
          "text": "Count"
         }
        }
       }
      }
     },
     "metadata": {},
     "output_type": "display_data"
    }
   ],
   "source": [
    "fig = px.histogram(chiffre_affaire, \n",
    "                   x=\"price\",\n",
    "                  nbins=int(chiffre_affaire['price'].nunique()/10)\n",
    "                  )\n",
    "fig.update_layout(\n",
    "    xaxis_title=\"Price range (per 10€)\",\n",
    "    yaxis_title=\"Count\",\n",
    "    title=\"Price range difference (range = 10€) on the website\",\n",
    "    bargap=0.05\n",
    ")\n",
    "fig.show()"
   ]
  },
  {
   "cell_type": "markdown",
   "id": "907bcec8",
   "metadata": {},
   "source": [
    "## <font color = #34749f> 3.3.2 | Relationship between price and number of sales</font> <a class=\"anchor\" id=\"section3.3.2\"></a>"
   ]
  },
  {
   "cell_type": "code",
   "execution_count": 317,
   "id": "00c370a6",
   "metadata": {},
   "outputs": [
    {
     "data": {
      "application/vnd.plotly.v1+json": {
       "config": {
        "plotlyServerURL": "https://plot.ly"
       },
       "data": [
        {
         "hovertemplate": "price=%{x}<br>total_sales=%{y}<extra></extra>",
         "legendgroup": "",
         "marker": {
          "color": "#636efa",
          "symbol": "circle"
         },
         "mode": "markers",
         "name": "",
         "orientation": "v",
         "showlegend": false,
         "type": "scatter",
         "x": [
          25,
          24.2,
          14.1,
          31.2,
          60,
          42.6,
          80,
          22.8,
          19.3,
          21.8,
          7.7,
          33.7,
          44.3,
          71.6,
          12.7,
          8.7,
          8.7,
          8.7,
          11.9,
          11.9,
          14.5,
          14.4,
          20.8,
          22,
          16.6,
          23.4,
          33.2,
          32,
          12.7,
          14.05,
          44,
          39,
          19,
          16.4,
          14.4,
          12.6,
          12.8,
          22.1,
          16.3,
          16.3,
          9.7,
          6.8,
          12.6,
          31.7,
          25.7,
          39,
          53,
          49,
          33,
          59,
          13.7,
          19.2,
          29,
          9.8,
          14.5,
          20.35,
          9.3,
          9.3,
          14.3,
          10.8,
          7.6,
          12,
          20.5,
          14.3,
          18.2,
          9,
          7.8,
          5.7,
          5.7,
          5.7,
          13.5,
          11.5,
          24,
          11.9,
          16.7,
          16.6,
          13.3,
          9.5,
          12.1,
          9.3,
          17.8,
          13.5,
          10.8,
          27.2,
          9.4,
          5.8,
          9.9,
          11.3,
          23,
          6.7,
          7.6,
          48.5,
          39.8,
          13.4,
          16.7,
          11.6,
          12.8,
          8.9,
          9.7,
          17.2,
          16.9,
          12.6,
          11.1,
          11.1,
          17.1,
          8.9,
          8.6,
          13.5,
          8.9,
          15.3,
          14.8,
          19.5,
          14.1,
          32.1,
          12.2,
          9.9,
          15.8,
          17.8,
          9.6,
          19,
          15.2,
          15.5,
          9.2,
          14.9,
          24.8,
          27,
          41,
          69.8,
          38.6,
          26.7,
          23.2,
          44,
          17.5,
          10.7,
          49,
          35.5,
          225,
          79.5,
          126.5,
          51.6,
          85.6,
          49.5,
          59,
          62.5,
          176,
          108.5,
          104,
          28.1,
          21.7,
          43.9,
          61.6,
          41.8,
          16.1,
          31.5,
          31.5,
          49,
          50.1,
          26.2,
          20.6,
          16.9,
          19,
          24,
          11.9,
          16.5,
          58.3,
          52.4,
          62.4,
          52.4,
          50,
          21.5,
          28.5,
          24.3,
          16.5,
          25.3,
          14.4,
          12.3,
          20.2,
          17,
          19,
          9.5,
          6.3,
          7.1,
          9.1,
          9.1,
          18.1,
          14,
          12.8,
          19.8,
          18.2,
          31.6,
          16.8,
          22.8,
          32.6,
          55.4,
          15.8,
          18.4,
          13.3,
          23.4,
          12.5,
          15.9,
          13.7,
          29,
          12.7,
          26,
          29.5,
          8.6,
          22,
          15.3,
          16.4,
          12,
          26.5,
          6.8,
          7.8,
          13.7,
          9.8,
          10.1,
          12.3,
          11.1,
          21,
          12,
          14.9,
          6.5,
          8.7,
          8.5,
          9.9,
          8.2,
          9.8,
          9.9,
          9.3,
          22.8,
          28.4,
          17,
          27.9,
          20.1,
          27.9,
          21.2,
          20.8,
          137,
          53.2,
          17.3,
          25.9,
          25.9,
          25.9,
          37.2,
          24.4,
          24.4,
          7,
          23.2,
          6.5,
          7.9,
          16.7,
          17.5,
          25.7,
          22.2,
          11.1,
          9.9,
          20.5,
          11.3,
          7,
          12.1,
          7.1,
          23,
          23.7,
          16.45,
          16.3,
          27.3,
          59.4,
          9.3,
          22.5,
          7.5,
          45,
          59.9,
          15.2,
          24.2,
          39,
          13.2,
          23.6,
          15.5,
          54.8,
          42,
          19.8,
          10.2,
          10.4,
          21.6,
          33.4,
          49.5,
          43.5,
          13.8,
          12.9,
          38.6,
          48.4,
          60.4,
          38.6,
          65.9,
          15.2,
          24.6,
          30.8,
          30.5,
          38.6,
          63.4,
          19.2,
          19.2,
          38.4,
          27.8,
          28,
          13,
          12.7,
          6.5,
          44.5,
          19.8,
          10.8,
          25,
          57.6,
          7.1,
          14.9,
          11,
          14.6,
          10.7,
          24.5,
          10.1,
          42.2,
          13.1,
          12.9,
          35.6,
          34.4,
          29.7,
          32.8,
          5.8,
          5.8,
          17.1,
          25,
          17.4,
          27.3,
          16.6,
          56,
          41.2,
          55,
          57,
          19,
          191.3,
          26.6,
          15.4,
          28.1,
          43.9,
          36,
          48.5,
          49.5,
          14.1,
          46,
          16.3,
          17.9,
          8.5,
          10.9,
          21.8,
          9.3,
          13.6,
          12.6,
          34.8,
          39.2,
          135,
          10.6,
          46,
          31,
          25.2,
          25.2,
          115,
          26.7,
          20.4,
          40.2,
          9,
          29,
          68.3,
          40,
          15.4,
          9.9,
          35.2,
          41.8,
          37.7,
          52.7,
          22.4,
          27.7,
          15.4,
          49.9,
          19,
          8.4
         ],
         "xaxis": "x",
         "y": [
          10,
          6,
          3,
          7,
          3,
          14,
          6,
          7,
          1,
          6,
          6,
          6,
          23,
          10,
          10,
          18,
          11,
          7,
          9,
          3,
          3,
          3,
          20,
          19,
          62,
          7,
          19,
          1,
          4,
          4,
          10,
          4,
          7,
          4,
          18,
          4,
          1,
          1,
          1,
          12,
          12,
          5,
          6,
          2,
          6,
          40,
          30,
          87,
          3,
          1,
          12,
          7,
          36,
          18,
          3,
          6,
          3,
          7,
          1,
          3,
          20,
          3,
          6,
          3,
          12,
          4,
          1,
          43,
          13,
          6,
          9,
          17,
          7,
          9,
          3,
          1,
          42,
          8,
          5,
          12,
          5,
          8,
          9,
          2,
          8,
          46,
          6,
          3,
          12,
          5,
          16,
          1,
          2,
          1,
          1,
          12,
          15,
          4,
          3,
          2,
          13,
          6,
          1,
          2,
          1,
          1,
          14,
          5,
          1,
          7,
          12,
          30,
          8,
          5,
          2,
          1,
          3,
          2,
          3,
          2,
          1,
          4,
          1,
          12,
          3,
          4,
          8,
          10,
          1,
          1,
          1,
          1,
          3,
          1,
          96,
          1,
          5,
          3,
          11,
          12,
          1,
          1,
          1,
          1,
          13,
          2,
          1,
          3,
          19,
          23,
          2,
          1,
          4,
          7,
          1,
          1,
          1,
          15,
          10,
          9,
          11,
          7,
          6,
          9,
          4,
          2,
          4,
          3,
          1,
          1,
          8,
          2,
          1,
          5,
          2,
          3,
          1,
          2,
          7,
          1,
          2,
          12,
          6,
          1,
          3,
          2,
          1,
          7,
          3,
          8,
          32,
          13,
          8,
          1,
          1,
          12,
          3,
          6,
          15,
          15,
          1,
          3,
          4,
          2,
          2,
          38,
          18,
          1,
          2,
          7,
          6,
          7,
          18,
          1,
          3,
          1,
          3,
          2,
          19,
          10,
          3,
          1,
          11,
          29,
          12,
          4,
          13,
          1,
          33,
          22,
          5,
          6,
          36,
          3,
          3,
          9,
          1,
          5,
          4,
          4,
          6,
          2,
          8,
          24,
          6,
          10,
          10,
          12,
          4,
          5,
          2,
          5,
          4,
          2,
          11,
          4,
          2,
          14,
          2,
          6,
          26,
          5,
          4,
          4,
          3,
          6,
          2,
          3,
          13,
          1,
          2,
          16,
          1,
          1,
          1,
          18,
          5,
          1,
          3,
          4,
          4,
          3,
          1,
          1,
          3,
          9,
          3,
          3,
          22,
          2,
          1,
          1,
          1,
          7,
          6,
          1,
          3,
          2,
          2,
          1,
          6,
          3,
          2,
          3,
          1,
          11,
          5,
          14,
          1,
          2,
          10,
          5,
          1,
          19,
          5,
          9,
          11,
          1,
          21,
          4,
          4,
          2,
          12,
          1,
          4,
          1,
          3,
          24,
          8,
          3,
          1,
          2,
          4,
          1,
          1,
          4,
          3,
          3,
          1,
          3,
          5,
          5,
          4,
          2,
          1,
          17,
          2,
          1,
          5,
          3,
          1,
          18,
          38,
          3,
          1,
          9,
          1,
          7,
          1,
          2,
          3,
          2,
          7,
          41,
          37,
          2,
          6,
          4,
          1,
          5,
          3,
          1,
          7,
          1,
          6,
          3,
          1,
          1,
          1,
          1,
          1,
          3,
          1,
          2,
          5
         ],
         "yaxis": "y"
        }
       ],
       "layout": {
        "legend": {
         "tracegroupgap": 0
        },
        "margin": {
         "t": 60
        },
        "template": {
         "data": {
          "bar": [
           {
            "error_x": {
             "color": "#2a3f5f"
            },
            "error_y": {
             "color": "#2a3f5f"
            },
            "marker": {
             "line": {
              "color": "white",
              "width": 0.5
             },
             "pattern": {
              "fillmode": "overlay",
              "size": 10,
              "solidity": 0.2
             }
            },
            "type": "bar"
           }
          ],
          "barpolar": [
           {
            "marker": {
             "line": {
              "color": "white",
              "width": 0.5
             },
             "pattern": {
              "fillmode": "overlay",
              "size": 10,
              "solidity": 0.2
             }
            },
            "type": "barpolar"
           }
          ],
          "carpet": [
           {
            "aaxis": {
             "endlinecolor": "#2a3f5f",
             "gridcolor": "#C8D4E3",
             "linecolor": "#C8D4E3",
             "minorgridcolor": "#C8D4E3",
             "startlinecolor": "#2a3f5f"
            },
            "baxis": {
             "endlinecolor": "#2a3f5f",
             "gridcolor": "#C8D4E3",
             "linecolor": "#C8D4E3",
             "minorgridcolor": "#C8D4E3",
             "startlinecolor": "#2a3f5f"
            },
            "type": "carpet"
           }
          ],
          "choropleth": [
           {
            "colorbar": {
             "outlinewidth": 0,
             "ticks": ""
            },
            "type": "choropleth"
           }
          ],
          "contour": [
           {
            "colorbar": {
             "outlinewidth": 0,
             "ticks": ""
            },
            "colorscale": [
             [
              0,
              "#0d0887"
             ],
             [
              0.1111111111111111,
              "#46039f"
             ],
             [
              0.2222222222222222,
              "#7201a8"
             ],
             [
              0.3333333333333333,
              "#9c179e"
             ],
             [
              0.4444444444444444,
              "#bd3786"
             ],
             [
              0.5555555555555556,
              "#d8576b"
             ],
             [
              0.6666666666666666,
              "#ed7953"
             ],
             [
              0.7777777777777778,
              "#fb9f3a"
             ],
             [
              0.8888888888888888,
              "#fdca26"
             ],
             [
              1,
              "#f0f921"
             ]
            ],
            "type": "contour"
           }
          ],
          "contourcarpet": [
           {
            "colorbar": {
             "outlinewidth": 0,
             "ticks": ""
            },
            "type": "contourcarpet"
           }
          ],
          "heatmap": [
           {
            "colorbar": {
             "outlinewidth": 0,
             "ticks": ""
            },
            "colorscale": [
             [
              0,
              "#0d0887"
             ],
             [
              0.1111111111111111,
              "#46039f"
             ],
             [
              0.2222222222222222,
              "#7201a8"
             ],
             [
              0.3333333333333333,
              "#9c179e"
             ],
             [
              0.4444444444444444,
              "#bd3786"
             ],
             [
              0.5555555555555556,
              "#d8576b"
             ],
             [
              0.6666666666666666,
              "#ed7953"
             ],
             [
              0.7777777777777778,
              "#fb9f3a"
             ],
             [
              0.8888888888888888,
              "#fdca26"
             ],
             [
              1,
              "#f0f921"
             ]
            ],
            "type": "heatmap"
           }
          ],
          "heatmapgl": [
           {
            "colorbar": {
             "outlinewidth": 0,
             "ticks": ""
            },
            "colorscale": [
             [
              0,
              "#0d0887"
             ],
             [
              0.1111111111111111,
              "#46039f"
             ],
             [
              0.2222222222222222,
              "#7201a8"
             ],
             [
              0.3333333333333333,
              "#9c179e"
             ],
             [
              0.4444444444444444,
              "#bd3786"
             ],
             [
              0.5555555555555556,
              "#d8576b"
             ],
             [
              0.6666666666666666,
              "#ed7953"
             ],
             [
              0.7777777777777778,
              "#fb9f3a"
             ],
             [
              0.8888888888888888,
              "#fdca26"
             ],
             [
              1,
              "#f0f921"
             ]
            ],
            "type": "heatmapgl"
           }
          ],
          "histogram": [
           {
            "marker": {
             "pattern": {
              "fillmode": "overlay",
              "size": 10,
              "solidity": 0.2
             }
            },
            "type": "histogram"
           }
          ],
          "histogram2d": [
           {
            "colorbar": {
             "outlinewidth": 0,
             "ticks": ""
            },
            "colorscale": [
             [
              0,
              "#0d0887"
             ],
             [
              0.1111111111111111,
              "#46039f"
             ],
             [
              0.2222222222222222,
              "#7201a8"
             ],
             [
              0.3333333333333333,
              "#9c179e"
             ],
             [
              0.4444444444444444,
              "#bd3786"
             ],
             [
              0.5555555555555556,
              "#d8576b"
             ],
             [
              0.6666666666666666,
              "#ed7953"
             ],
             [
              0.7777777777777778,
              "#fb9f3a"
             ],
             [
              0.8888888888888888,
              "#fdca26"
             ],
             [
              1,
              "#f0f921"
             ]
            ],
            "type": "histogram2d"
           }
          ],
          "histogram2dcontour": [
           {
            "colorbar": {
             "outlinewidth": 0,
             "ticks": ""
            },
            "colorscale": [
             [
              0,
              "#0d0887"
             ],
             [
              0.1111111111111111,
              "#46039f"
             ],
             [
              0.2222222222222222,
              "#7201a8"
             ],
             [
              0.3333333333333333,
              "#9c179e"
             ],
             [
              0.4444444444444444,
              "#bd3786"
             ],
             [
              0.5555555555555556,
              "#d8576b"
             ],
             [
              0.6666666666666666,
              "#ed7953"
             ],
             [
              0.7777777777777778,
              "#fb9f3a"
             ],
             [
              0.8888888888888888,
              "#fdca26"
             ],
             [
              1,
              "#f0f921"
             ]
            ],
            "type": "histogram2dcontour"
           }
          ],
          "mesh3d": [
           {
            "colorbar": {
             "outlinewidth": 0,
             "ticks": ""
            },
            "type": "mesh3d"
           }
          ],
          "parcoords": [
           {
            "line": {
             "colorbar": {
              "outlinewidth": 0,
              "ticks": ""
             }
            },
            "type": "parcoords"
           }
          ],
          "pie": [
           {
            "automargin": true,
            "type": "pie"
           }
          ],
          "scatter": [
           {
            "marker": {
             "colorbar": {
              "outlinewidth": 0,
              "ticks": ""
             }
            },
            "type": "scatter"
           }
          ],
          "scatter3d": [
           {
            "line": {
             "colorbar": {
              "outlinewidth": 0,
              "ticks": ""
             }
            },
            "marker": {
             "colorbar": {
              "outlinewidth": 0,
              "ticks": ""
             }
            },
            "type": "scatter3d"
           }
          ],
          "scattercarpet": [
           {
            "marker": {
             "colorbar": {
              "outlinewidth": 0,
              "ticks": ""
             }
            },
            "type": "scattercarpet"
           }
          ],
          "scattergeo": [
           {
            "marker": {
             "colorbar": {
              "outlinewidth": 0,
              "ticks": ""
             }
            },
            "type": "scattergeo"
           }
          ],
          "scattergl": [
           {
            "marker": {
             "colorbar": {
              "outlinewidth": 0,
              "ticks": ""
             }
            },
            "type": "scattergl"
           }
          ],
          "scattermapbox": [
           {
            "marker": {
             "colorbar": {
              "outlinewidth": 0,
              "ticks": ""
             }
            },
            "type": "scattermapbox"
           }
          ],
          "scatterpolar": [
           {
            "marker": {
             "colorbar": {
              "outlinewidth": 0,
              "ticks": ""
             }
            },
            "type": "scatterpolar"
           }
          ],
          "scatterpolargl": [
           {
            "marker": {
             "colorbar": {
              "outlinewidth": 0,
              "ticks": ""
             }
            },
            "type": "scatterpolargl"
           }
          ],
          "scatterternary": [
           {
            "marker": {
             "colorbar": {
              "outlinewidth": 0,
              "ticks": ""
             }
            },
            "type": "scatterternary"
           }
          ],
          "surface": [
           {
            "colorbar": {
             "outlinewidth": 0,
             "ticks": ""
            },
            "colorscale": [
             [
              0,
              "#0d0887"
             ],
             [
              0.1111111111111111,
              "#46039f"
             ],
             [
              0.2222222222222222,
              "#7201a8"
             ],
             [
              0.3333333333333333,
              "#9c179e"
             ],
             [
              0.4444444444444444,
              "#bd3786"
             ],
             [
              0.5555555555555556,
              "#d8576b"
             ],
             [
              0.6666666666666666,
              "#ed7953"
             ],
             [
              0.7777777777777778,
              "#fb9f3a"
             ],
             [
              0.8888888888888888,
              "#fdca26"
             ],
             [
              1,
              "#f0f921"
             ]
            ],
            "type": "surface"
           }
          ],
          "table": [
           {
            "cells": {
             "fill": {
              "color": "#EBF0F8"
             },
             "line": {
              "color": "white"
             }
            },
            "header": {
             "fill": {
              "color": "#C8D4E3"
             },
             "line": {
              "color": "white"
             }
            },
            "type": "table"
           }
          ]
         },
         "layout": {
          "annotationdefaults": {
           "arrowcolor": "#2a3f5f",
           "arrowhead": 0,
           "arrowwidth": 1
          },
          "autotypenumbers": "strict",
          "coloraxis": {
           "colorbar": {
            "outlinewidth": 0,
            "ticks": ""
           }
          },
          "colorscale": {
           "diverging": [
            [
             0,
             "#8e0152"
            ],
            [
             0.1,
             "#c51b7d"
            ],
            [
             0.2,
             "#de77ae"
            ],
            [
             0.3,
             "#f1b6da"
            ],
            [
             0.4,
             "#fde0ef"
            ],
            [
             0.5,
             "#f7f7f7"
            ],
            [
             0.6,
             "#e6f5d0"
            ],
            [
             0.7,
             "#b8e186"
            ],
            [
             0.8,
             "#7fbc41"
            ],
            [
             0.9,
             "#4d9221"
            ],
            [
             1,
             "#276419"
            ]
           ],
           "sequential": [
            [
             0,
             "#0d0887"
            ],
            [
             0.1111111111111111,
             "#46039f"
            ],
            [
             0.2222222222222222,
             "#7201a8"
            ],
            [
             0.3333333333333333,
             "#9c179e"
            ],
            [
             0.4444444444444444,
             "#bd3786"
            ],
            [
             0.5555555555555556,
             "#d8576b"
            ],
            [
             0.6666666666666666,
             "#ed7953"
            ],
            [
             0.7777777777777778,
             "#fb9f3a"
            ],
            [
             0.8888888888888888,
             "#fdca26"
            ],
            [
             1,
             "#f0f921"
            ]
           ],
           "sequentialminus": [
            [
             0,
             "#0d0887"
            ],
            [
             0.1111111111111111,
             "#46039f"
            ],
            [
             0.2222222222222222,
             "#7201a8"
            ],
            [
             0.3333333333333333,
             "#9c179e"
            ],
            [
             0.4444444444444444,
             "#bd3786"
            ],
            [
             0.5555555555555556,
             "#d8576b"
            ],
            [
             0.6666666666666666,
             "#ed7953"
            ],
            [
             0.7777777777777778,
             "#fb9f3a"
            ],
            [
             0.8888888888888888,
             "#fdca26"
            ],
            [
             1,
             "#f0f921"
            ]
           ]
          },
          "colorway": [
           "#636efa",
           "#EF553B",
           "#00cc96",
           "#ab63fa",
           "#FFA15A",
           "#19d3f3",
           "#FF6692",
           "#B6E880",
           "#FF97FF",
           "#FECB52"
          ],
          "font": {
           "color": "#2a3f5f"
          },
          "geo": {
           "bgcolor": "white",
           "lakecolor": "white",
           "landcolor": "white",
           "showlakes": true,
           "showland": true,
           "subunitcolor": "#C8D4E3"
          },
          "hoverlabel": {
           "align": "left"
          },
          "hovermode": "closest",
          "mapbox": {
           "style": "light"
          },
          "paper_bgcolor": "white",
          "plot_bgcolor": "white",
          "polar": {
           "angularaxis": {
            "gridcolor": "#EBF0F8",
            "linecolor": "#EBF0F8",
            "ticks": ""
           },
           "bgcolor": "white",
           "radialaxis": {
            "gridcolor": "#EBF0F8",
            "linecolor": "#EBF0F8",
            "ticks": ""
           }
          },
          "scene": {
           "xaxis": {
            "backgroundcolor": "white",
            "gridcolor": "#DFE8F3",
            "gridwidth": 2,
            "linecolor": "#EBF0F8",
            "showbackground": true,
            "ticks": "",
            "zerolinecolor": "#EBF0F8"
           },
           "yaxis": {
            "backgroundcolor": "white",
            "gridcolor": "#DFE8F3",
            "gridwidth": 2,
            "linecolor": "#EBF0F8",
            "showbackground": true,
            "ticks": "",
            "zerolinecolor": "#EBF0F8"
           },
           "zaxis": {
            "backgroundcolor": "white",
            "gridcolor": "#DFE8F3",
            "gridwidth": 2,
            "linecolor": "#EBF0F8",
            "showbackground": true,
            "ticks": "",
            "zerolinecolor": "#EBF0F8"
           }
          },
          "shapedefaults": {
           "line": {
            "color": "#2a3f5f"
           }
          },
          "ternary": {
           "aaxis": {
            "gridcolor": "#DFE8F3",
            "linecolor": "#A2B1C6",
            "ticks": ""
           },
           "baxis": {
            "gridcolor": "#DFE8F3",
            "linecolor": "#A2B1C6",
            "ticks": ""
           },
           "bgcolor": "white",
           "caxis": {
            "gridcolor": "#DFE8F3",
            "linecolor": "#A2B1C6",
            "ticks": ""
           }
          },
          "title": {
           "x": 0.05
          },
          "xaxis": {
           "automargin": true,
           "gridcolor": "#EBF0F8",
           "linecolor": "#EBF0F8",
           "ticks": "",
           "title": {
            "standoff": 15
           },
           "zerolinecolor": "#EBF0F8",
           "zerolinewidth": 2
          },
          "yaxis": {
           "automargin": true,
           "gridcolor": "#EBF0F8",
           "linecolor": "#EBF0F8",
           "ticks": "",
           "title": {
            "standoff": 15
           },
           "zerolinecolor": "#EBF0F8",
           "zerolinewidth": 2
          }
         }
        },
        "title": {
         "text": "Relationship between the price and the number of sales per product"
        },
        "xaxis": {
         "anchor": "y",
         "domain": [
          0,
          1
         ],
         "title": {
          "text": "Price (€)"
         }
        },
        "yaxis": {
         "anchor": "x",
         "domain": [
          0,
          1
         ],
         "title": {
          "text": "Number of sales"
         }
        }
       }
      }
     },
     "metadata": {},
     "output_type": "display_data"
    }
   ],
   "source": [
    "fig = px.scatter(chiffre_affaire[chiffre_affaire[\"total_sales\"] != 0],\n",
    "                y=\"total_sales\",\n",
    "                x=\"price\",\n",
    ")\n",
    "fig.update_layout(\n",
    "    title=\"Relationship between the price and the number of sales per product\",\n",
    "    xaxis_title=\"Price (€)\",\n",
    "    yaxis_title=\"Number of sales\"\n",
    ")\n",
    "fig.show()"
   ]
  },
  {
   "cell_type": "markdown",
   "id": "f252be18",
   "metadata": {},
   "source": [
    "## <font color = #34749f> 3.3.3 | Segmentation of the turnover : Top 10, 20, 30, 40</font> <a class=\"anchor\" id=\"section3.3.3\"></a>\n",
    "\n",
    "Allows you to understand what's going on to identify product categories"
   ]
  },
  {
   "cell_type": "code",
   "execution_count": 318,
   "id": "d5f1c530",
   "metadata": {},
   "outputs": [],
   "source": [
    "# Creation of a dataframe that does not take into account the zero turnover + sorting turnover decreasing\n",
    "df = chiffre_affaire[chiffre_affaire[\"chiffre_affaire\"]!=0].sort_values('chiffre_affaire',ascending=False) \n",
    "\n",
    "# Split of the dataframe\n",
    "s_10, s_20, s_30, s_40 = np.split(df, [int(.1*len(df)), int(.3*len(df)), int(.6*len(df))])\n"
   ]
  },
  {
   "cell_type": "code",
   "execution_count": 319,
   "id": "9ba8edd2",
   "metadata": {},
   "outputs": [
    {
     "data": {
      "application/vnd.plotly.v1+json": {
       "config": {
        "plotlyServerURL": "https://plot.ly"
       },
       "data": [
        {
         "hole": 0.2,
         "labels": [
          "10%",
          "10-30%",
          "30-60%",
          "60-100%"
         ],
         "textinfo": "value+percent",
         "textposition": "inside",
         "texttemplate": "Sales : %{value:,.2f}€<br>Share : %{percent}",
         "type": "pie",
         "values": [
          37771.9,
          16489.199999999997,
          11359.099999999999,
          4948.4
         ]
        }
       ],
       "layout": {
        "autosize": true,
        "legend": {
         "title": {
          "text": "Product classification - Sales: "
         }
        },
        "template": {
         "data": {
          "bar": [
           {
            "error_x": {
             "color": "#2a3f5f"
            },
            "error_y": {
             "color": "#2a3f5f"
            },
            "marker": {
             "line": {
              "color": "white",
              "width": 0.5
             },
             "pattern": {
              "fillmode": "overlay",
              "size": 10,
              "solidity": 0.2
             }
            },
            "type": "bar"
           }
          ],
          "barpolar": [
           {
            "marker": {
             "line": {
              "color": "white",
              "width": 0.5
             },
             "pattern": {
              "fillmode": "overlay",
              "size": 10,
              "solidity": 0.2
             }
            },
            "type": "barpolar"
           }
          ],
          "carpet": [
           {
            "aaxis": {
             "endlinecolor": "#2a3f5f",
             "gridcolor": "#C8D4E3",
             "linecolor": "#C8D4E3",
             "minorgridcolor": "#C8D4E3",
             "startlinecolor": "#2a3f5f"
            },
            "baxis": {
             "endlinecolor": "#2a3f5f",
             "gridcolor": "#C8D4E3",
             "linecolor": "#C8D4E3",
             "minorgridcolor": "#C8D4E3",
             "startlinecolor": "#2a3f5f"
            },
            "type": "carpet"
           }
          ],
          "choropleth": [
           {
            "colorbar": {
             "outlinewidth": 0,
             "ticks": ""
            },
            "type": "choropleth"
           }
          ],
          "contour": [
           {
            "colorbar": {
             "outlinewidth": 0,
             "ticks": ""
            },
            "colorscale": [
             [
              0,
              "#0d0887"
             ],
             [
              0.1111111111111111,
              "#46039f"
             ],
             [
              0.2222222222222222,
              "#7201a8"
             ],
             [
              0.3333333333333333,
              "#9c179e"
             ],
             [
              0.4444444444444444,
              "#bd3786"
             ],
             [
              0.5555555555555556,
              "#d8576b"
             ],
             [
              0.6666666666666666,
              "#ed7953"
             ],
             [
              0.7777777777777778,
              "#fb9f3a"
             ],
             [
              0.8888888888888888,
              "#fdca26"
             ],
             [
              1,
              "#f0f921"
             ]
            ],
            "type": "contour"
           }
          ],
          "contourcarpet": [
           {
            "colorbar": {
             "outlinewidth": 0,
             "ticks": ""
            },
            "type": "contourcarpet"
           }
          ],
          "heatmap": [
           {
            "colorbar": {
             "outlinewidth": 0,
             "ticks": ""
            },
            "colorscale": [
             [
              0,
              "#0d0887"
             ],
             [
              0.1111111111111111,
              "#46039f"
             ],
             [
              0.2222222222222222,
              "#7201a8"
             ],
             [
              0.3333333333333333,
              "#9c179e"
             ],
             [
              0.4444444444444444,
              "#bd3786"
             ],
             [
              0.5555555555555556,
              "#d8576b"
             ],
             [
              0.6666666666666666,
              "#ed7953"
             ],
             [
              0.7777777777777778,
              "#fb9f3a"
             ],
             [
              0.8888888888888888,
              "#fdca26"
             ],
             [
              1,
              "#f0f921"
             ]
            ],
            "type": "heatmap"
           }
          ],
          "heatmapgl": [
           {
            "colorbar": {
             "outlinewidth": 0,
             "ticks": ""
            },
            "colorscale": [
             [
              0,
              "#0d0887"
             ],
             [
              0.1111111111111111,
              "#46039f"
             ],
             [
              0.2222222222222222,
              "#7201a8"
             ],
             [
              0.3333333333333333,
              "#9c179e"
             ],
             [
              0.4444444444444444,
              "#bd3786"
             ],
             [
              0.5555555555555556,
              "#d8576b"
             ],
             [
              0.6666666666666666,
              "#ed7953"
             ],
             [
              0.7777777777777778,
              "#fb9f3a"
             ],
             [
              0.8888888888888888,
              "#fdca26"
             ],
             [
              1,
              "#f0f921"
             ]
            ],
            "type": "heatmapgl"
           }
          ],
          "histogram": [
           {
            "marker": {
             "pattern": {
              "fillmode": "overlay",
              "size": 10,
              "solidity": 0.2
             }
            },
            "type": "histogram"
           }
          ],
          "histogram2d": [
           {
            "colorbar": {
             "outlinewidth": 0,
             "ticks": ""
            },
            "colorscale": [
             [
              0,
              "#0d0887"
             ],
             [
              0.1111111111111111,
              "#46039f"
             ],
             [
              0.2222222222222222,
              "#7201a8"
             ],
             [
              0.3333333333333333,
              "#9c179e"
             ],
             [
              0.4444444444444444,
              "#bd3786"
             ],
             [
              0.5555555555555556,
              "#d8576b"
             ],
             [
              0.6666666666666666,
              "#ed7953"
             ],
             [
              0.7777777777777778,
              "#fb9f3a"
             ],
             [
              0.8888888888888888,
              "#fdca26"
             ],
             [
              1,
              "#f0f921"
             ]
            ],
            "type": "histogram2d"
           }
          ],
          "histogram2dcontour": [
           {
            "colorbar": {
             "outlinewidth": 0,
             "ticks": ""
            },
            "colorscale": [
             [
              0,
              "#0d0887"
             ],
             [
              0.1111111111111111,
              "#46039f"
             ],
             [
              0.2222222222222222,
              "#7201a8"
             ],
             [
              0.3333333333333333,
              "#9c179e"
             ],
             [
              0.4444444444444444,
              "#bd3786"
             ],
             [
              0.5555555555555556,
              "#d8576b"
             ],
             [
              0.6666666666666666,
              "#ed7953"
             ],
             [
              0.7777777777777778,
              "#fb9f3a"
             ],
             [
              0.8888888888888888,
              "#fdca26"
             ],
             [
              1,
              "#f0f921"
             ]
            ],
            "type": "histogram2dcontour"
           }
          ],
          "mesh3d": [
           {
            "colorbar": {
             "outlinewidth": 0,
             "ticks": ""
            },
            "type": "mesh3d"
           }
          ],
          "parcoords": [
           {
            "line": {
             "colorbar": {
              "outlinewidth": 0,
              "ticks": ""
             }
            },
            "type": "parcoords"
           }
          ],
          "pie": [
           {
            "automargin": true,
            "type": "pie"
           }
          ],
          "scatter": [
           {
            "marker": {
             "colorbar": {
              "outlinewidth": 0,
              "ticks": ""
             }
            },
            "type": "scatter"
           }
          ],
          "scatter3d": [
           {
            "line": {
             "colorbar": {
              "outlinewidth": 0,
              "ticks": ""
             }
            },
            "marker": {
             "colorbar": {
              "outlinewidth": 0,
              "ticks": ""
             }
            },
            "type": "scatter3d"
           }
          ],
          "scattercarpet": [
           {
            "marker": {
             "colorbar": {
              "outlinewidth": 0,
              "ticks": ""
             }
            },
            "type": "scattercarpet"
           }
          ],
          "scattergeo": [
           {
            "marker": {
             "colorbar": {
              "outlinewidth": 0,
              "ticks": ""
             }
            },
            "type": "scattergeo"
           }
          ],
          "scattergl": [
           {
            "marker": {
             "colorbar": {
              "outlinewidth": 0,
              "ticks": ""
             }
            },
            "type": "scattergl"
           }
          ],
          "scattermapbox": [
           {
            "marker": {
             "colorbar": {
              "outlinewidth": 0,
              "ticks": ""
             }
            },
            "type": "scattermapbox"
           }
          ],
          "scatterpolar": [
           {
            "marker": {
             "colorbar": {
              "outlinewidth": 0,
              "ticks": ""
             }
            },
            "type": "scatterpolar"
           }
          ],
          "scatterpolargl": [
           {
            "marker": {
             "colorbar": {
              "outlinewidth": 0,
              "ticks": ""
             }
            },
            "type": "scatterpolargl"
           }
          ],
          "scatterternary": [
           {
            "marker": {
             "colorbar": {
              "outlinewidth": 0,
              "ticks": ""
             }
            },
            "type": "scatterternary"
           }
          ],
          "surface": [
           {
            "colorbar": {
             "outlinewidth": 0,
             "ticks": ""
            },
            "colorscale": [
             [
              0,
              "#0d0887"
             ],
             [
              0.1111111111111111,
              "#46039f"
             ],
             [
              0.2222222222222222,
              "#7201a8"
             ],
             [
              0.3333333333333333,
              "#9c179e"
             ],
             [
              0.4444444444444444,
              "#bd3786"
             ],
             [
              0.5555555555555556,
              "#d8576b"
             ],
             [
              0.6666666666666666,
              "#ed7953"
             ],
             [
              0.7777777777777778,
              "#fb9f3a"
             ],
             [
              0.8888888888888888,
              "#fdca26"
             ],
             [
              1,
              "#f0f921"
             ]
            ],
            "type": "surface"
           }
          ],
          "table": [
           {
            "cells": {
             "fill": {
              "color": "#EBF0F8"
             },
             "line": {
              "color": "white"
             }
            },
            "header": {
             "fill": {
              "color": "#C8D4E3"
             },
             "line": {
              "color": "white"
             }
            },
            "type": "table"
           }
          ]
         },
         "layout": {
          "annotationdefaults": {
           "arrowcolor": "#2a3f5f",
           "arrowhead": 0,
           "arrowwidth": 1
          },
          "autotypenumbers": "strict",
          "coloraxis": {
           "colorbar": {
            "outlinewidth": 0,
            "ticks": ""
           }
          },
          "colorscale": {
           "diverging": [
            [
             0,
             "#8e0152"
            ],
            [
             0.1,
             "#c51b7d"
            ],
            [
             0.2,
             "#de77ae"
            ],
            [
             0.3,
             "#f1b6da"
            ],
            [
             0.4,
             "#fde0ef"
            ],
            [
             0.5,
             "#f7f7f7"
            ],
            [
             0.6,
             "#e6f5d0"
            ],
            [
             0.7,
             "#b8e186"
            ],
            [
             0.8,
             "#7fbc41"
            ],
            [
             0.9,
             "#4d9221"
            ],
            [
             1,
             "#276419"
            ]
           ],
           "sequential": [
            [
             0,
             "#0d0887"
            ],
            [
             0.1111111111111111,
             "#46039f"
            ],
            [
             0.2222222222222222,
             "#7201a8"
            ],
            [
             0.3333333333333333,
             "#9c179e"
            ],
            [
             0.4444444444444444,
             "#bd3786"
            ],
            [
             0.5555555555555556,
             "#d8576b"
            ],
            [
             0.6666666666666666,
             "#ed7953"
            ],
            [
             0.7777777777777778,
             "#fb9f3a"
            ],
            [
             0.8888888888888888,
             "#fdca26"
            ],
            [
             1,
             "#f0f921"
            ]
           ],
           "sequentialminus": [
            [
             0,
             "#0d0887"
            ],
            [
             0.1111111111111111,
             "#46039f"
            ],
            [
             0.2222222222222222,
             "#7201a8"
            ],
            [
             0.3333333333333333,
             "#9c179e"
            ],
            [
             0.4444444444444444,
             "#bd3786"
            ],
            [
             0.5555555555555556,
             "#d8576b"
            ],
            [
             0.6666666666666666,
             "#ed7953"
            ],
            [
             0.7777777777777778,
             "#fb9f3a"
            ],
            [
             0.8888888888888888,
             "#fdca26"
            ],
            [
             1,
             "#f0f921"
            ]
           ]
          },
          "colorway": [
           "#636efa",
           "#EF553B",
           "#00cc96",
           "#ab63fa",
           "#FFA15A",
           "#19d3f3",
           "#FF6692",
           "#B6E880",
           "#FF97FF",
           "#FECB52"
          ],
          "font": {
           "color": "#2a3f5f"
          },
          "geo": {
           "bgcolor": "white",
           "lakecolor": "white",
           "landcolor": "white",
           "showlakes": true,
           "showland": true,
           "subunitcolor": "#C8D4E3"
          },
          "hoverlabel": {
           "align": "left"
          },
          "hovermode": "closest",
          "mapbox": {
           "style": "light"
          },
          "paper_bgcolor": "white",
          "plot_bgcolor": "white",
          "polar": {
           "angularaxis": {
            "gridcolor": "#EBF0F8",
            "linecolor": "#EBF0F8",
            "ticks": ""
           },
           "bgcolor": "white",
           "radialaxis": {
            "gridcolor": "#EBF0F8",
            "linecolor": "#EBF0F8",
            "ticks": ""
           }
          },
          "scene": {
           "xaxis": {
            "backgroundcolor": "white",
            "gridcolor": "#DFE8F3",
            "gridwidth": 2,
            "linecolor": "#EBF0F8",
            "showbackground": true,
            "ticks": "",
            "zerolinecolor": "#EBF0F8"
           },
           "yaxis": {
            "backgroundcolor": "white",
            "gridcolor": "#DFE8F3",
            "gridwidth": 2,
            "linecolor": "#EBF0F8",
            "showbackground": true,
            "ticks": "",
            "zerolinecolor": "#EBF0F8"
           },
           "zaxis": {
            "backgroundcolor": "white",
            "gridcolor": "#DFE8F3",
            "gridwidth": 2,
            "linecolor": "#EBF0F8",
            "showbackground": true,
            "ticks": "",
            "zerolinecolor": "#EBF0F8"
           }
          },
          "shapedefaults": {
           "line": {
            "color": "#2a3f5f"
           }
          },
          "ternary": {
           "aaxis": {
            "gridcolor": "#DFE8F3",
            "linecolor": "#A2B1C6",
            "ticks": ""
           },
           "baxis": {
            "gridcolor": "#DFE8F3",
            "linecolor": "#A2B1C6",
            "ticks": ""
           },
           "bgcolor": "white",
           "caxis": {
            "gridcolor": "#DFE8F3",
            "linecolor": "#A2B1C6",
            "ticks": ""
           }
          },
          "title": {
           "x": 0.05
          },
          "xaxis": {
           "automargin": true,
           "gridcolor": "#EBF0F8",
           "linecolor": "#EBF0F8",
           "ticks": "",
           "title": {
            "standoff": 15
           },
           "zerolinecolor": "#EBF0F8",
           "zerolinewidth": 2
          },
          "yaxis": {
           "automargin": true,
           "gridcolor": "#EBF0F8",
           "linecolor": "#EBF0F8",
           "ticks": "",
           "title": {
            "standoff": 15
           },
           "zerolinecolor": "#EBF0F8",
           "zerolinewidth": 2
          }
         }
        },
        "title": {
         "text": "Sales segmentation"
        }
       }
      }
     },
     "metadata": {},
     "output_type": "display_data"
    }
   ],
   "source": [
    "import plotly.graph_objects as go\n",
    "\n",
    "labels = [\"10%\",\"10-30%\",\"30-60%\",\"60-100%\"]\n",
    "values = [s_10['chiffre_affaire'].sum(),s_20['chiffre_affaire'].sum(),s_30['chiffre_affaire'].sum(),s_40['chiffre_affaire'].sum()]\n",
    "\n",
    "fig = go.Figure(data=[go.Pie(labels=labels, values=values, hole=.2)])\n",
    "fig.update_layout(\n",
    "    title = \"Sales segmentation\",\n",
    "    legend_title = \"Product classification - Sales: \",\n",
    "    autosize = True,\n",
    ")\n",
    "fig.update_traces(\n",
    "    textposition = 'inside',\n",
    "    textinfo=\"value+percent\",\n",
    "    texttemplate = \"<br>\".join([\n",
    "        \"Sales : %{value:,.2f}€\",\n",
    "        \"Share : %{percent}\"\n",
    "    ])\n",
    ")\n",
    "fig.show()"
   ]
  },
  {
   "cell_type": "markdown",
   "id": "1e95cf2a",
   "metadata": {},
   "source": [
    "### <font color = #9f343e>**Conclusion :** </font>\n",
    "The outliers are not really outliers... they are just more expensive products.\n",
    "# End of the notebook!"
   ]
  }
 ],
 "metadata": {
  "kernelspec": {
   "display_name": "Python 3",
   "language": "python",
   "name": "python3"
  },
  "language_info": {
   "codemirror_mode": {
    "name": "ipython",
    "version": 3
   },
   "file_extension": ".py",
   "mimetype": "text/x-python",
   "name": "python",
   "nbconvert_exporter": "python",
   "pygments_lexer": "ipython3",
   "version": "3.8.8"
  }
 },
 "nbformat": 4,
 "nbformat_minor": 5
}
